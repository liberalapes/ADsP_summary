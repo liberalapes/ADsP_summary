{
 "cells": [
  {
   "cell_type": "markdown",
   "metadata": {},
   "source": [
    "# 목차"
   ]
  },
  {
   "cell_type": "markdown",
   "metadata": {},
   "source": [
    "<table style=\"width:100%\">\n",
    "  <thead>\n",
    "    <tr>\n",
    "      <th rowspan=\"2\">구분</th>\n",
    "      <th rowspan=\"2\">과목명</th>\n",
    "      <th colspan=\"2\">문항수</th>\n",
    "      <th colspan=\"2\">배점</th>\n",
    "      <th rowspan=\"2\">시험시간</th>\n",
    "    </tr>\n",
    "    <tr>\n",
    "      <th>객관식</th>\n",
    "      <th>단답형</th>\n",
    "      <th>객관식</th>\n",
    "      <th>단답형</th>\n",
    "    </tr>\n",
    "  </thead>\n",
    "  <tbody>\n",
    "      <tr>\n",
    "          <td rowspan=\"4\", bgcolor=\"lightgrey\">필기</td>\n",
    "          <td>데이터 이해</td>\n",
    "          <td>8</td>\n",
    "          <td>2</td>\n",
    "          <td rowspan=\"3\">80 (각 2점)</td>\n",
    "          <td rowspan=\"3\">20 (각 2점)</td>\n",
    "          <td rowspan=\"4\" >90분 (1시간 30분)</td>\n",
    "      </tr>\n",
    "      <tr>\n",
    "          <td>데이터 분석 기획</td>\n",
    "          <td>8</td>\n",
    "          <td>2</td>\n",
    "      </tr>\n",
    "      <tr>\n",
    "          <td bgcolor=\"lightgrey\"><b>데이터 분석</b></td>\n",
    "          <td bgcolor=\"lightgrey\"><b>24</b></td>\n",
    "          <td bgcolor=\"lightgrey\"><b>6</b></td>\n",
    "      </tr>\n",
    "      <tr>\n",
    "          <td>계</td>\n",
    "          <td>40</td>\n",
    "          <td>10</td>\n",
    "          <td colspan=\"2\">100</td>\n",
    "      </tr>\n",
    "  </tbody>\n",
    "</table>"
   ]
  },
  {
   "cell_type": "markdown",
   "metadata": {},
   "source": [
    "<table  style=\"width:100%\">\n",
    "    <tbody>\n",
    "            <tr>\n",
    "              <th rowspan=\"11\", bgcolor=\"lightgrey\"><b>데이터 분석</b></th>\n",
    "              <td rowspan=\"3\">R기초와 데이터 마트</td>\n",
    "              <td>R기초</td>\n",
    "            </tr>\n",
    "            <tr>\n",
    "              <td>데이터 마트</td>\n",
    "            </tr>\n",
    "            <tr>\n",
    "              <td>결측값 처리와 이상값 검색</td>\n",
    "            </tr>\n",
    "            <tr>\n",
    "                <td rowspan=\"4\"  bgcolor=\"lightgrey\"><b>통계분석</b></td>\n",
    "                <td  bgcolor=\"lightgrey\"><b>통계학 개론</b></td>\n",
    "            </tr>\n",
    "            <tr>\n",
    "              <td>기초 통계분석</td>\n",
    "            </tr>\n",
    "            <tr>\n",
    "              <td>다변량 분석</td>\n",
    "            </tr>\n",
    "            <tr>\n",
    "              <td>시계열 예측</td>\n",
    "            </tr>\n",
    "            <tr>\n",
    "              <td rowspan=\"4\">정형 데이터 마이닝</td>\n",
    "              <td>데이터 마이닝 개요</td>\n",
    "            </tr>\n",
    "            <tr>\n",
    "              <td>분류분석(Classification)</td>\n",
    "            </tr>\n",
    "            <tr>\n",
    "              <td>군집분석(Clustering)</td>\n",
    "            </tr>\n",
    "            <tr>\n",
    "              <td>연관분석(Association Analysis)</td>\n",
    "            </tr>\n",
    "      </tbody>\n",
    "</table>"
   ]
  },
  {
   "cell_type": "markdown",
   "metadata": {},
   "source": [
    "# 과목 IV 데이터 분석"
   ]
  },
  {
   "cell_type": "markdown",
   "metadata": {},
   "source": [
    "## 제 2장 통계 분석"
   ]
  },
  {
   "cell_type": "markdown",
   "metadata": {},
   "source": [
    "### 제1절 통계학 개론"
   ]
  },
  {
   "cell_type": "markdown",
   "metadata": {},
   "source": [
    "#### 1. 통계 분석 개요"
   ]
  },
  {
   "cell_type": "markdown",
   "metadata": {},
   "source": [
    "##### 가. 통계학의 정의"
   ]
  },
  {
   "cell_type": "markdown",
   "metadata": {},
   "source": [
    "- 통계학 : 한마디로 정의하기는 어렵지만, 자료로 부터 유용한 정보를 이끌어 내는 학문, 자료의 수집과 정리, 그리고 이를 해석하는 방법 등을 모두 포함"
   ]
  },
  {
   "cell_type": "markdown",
   "metadata": {},
   "source": [
    "##### 나. 모집단과 표본"
   ]
  },
  {
   "cell_type": "markdown",
   "metadata": {},
   "source": [
    "- 자료로부터 유용한 정보를 이끌어 낼 때는 해당 정보에 대한 대상이 있음\n",
    "- 모집단 : 유용한 정보의 대상이 되는 것, 우리가 알고자 하는 전체를 의미 \n",
    "- 추출단위 혹은 원소 : 모집단을 구성하는 개체"
   ]
  },
  {
   "cell_type": "markdown",
   "metadata": {},
   "source": [
    "- 모집단에 대한 조사방법\n",
    "    - 총조사(census) : 모집단의 개체 모두를 조사하는 방법, 많은 비용과 시간이 소요되\n",
    "    - 표본조사 : 일부분만 조사하여 모집단에 대해 추론하는 것\n",
    "        - 표본(sample) : 조사하는 모집단의 일부분\n",
    "        - 모수(parameter) : 모집단에 대해 알고자 하는 값\n",
    "            - 모집단의 구분\n",
    "                - 유한 모집단 : 유한 개의 개체로 이루어진 모집단\n",
    "                - 무한 모집단 : 무한 개의 개체로 이루어진 모집단, 보통 개념적으로 상정된 모집단을 지칭"
   ]
  },
  {
   "cell_type": "markdown",
   "metadata": {},
   "source": [
    "##### 다. 표본추출의 방법"
   ]
  },
  {
   "cell_type": "markdown",
   "metadata": {},
   "source": [
    "- 표본 조사 시 확인 사항\n",
    "    - 모집단의 정의\n",
    "    - 표본의 크기\n",
    "    - 조사방법(면접 조사, 우편 조사, 전화 조사, 이메일 조사 등)\n",
    "    - 조사기간\n",
    "    - 표본추출 방법\n",
    "- 위 사항에 따라 분석결과의 해석 상 차이가 발생"
   ]
  },
  {
   "cell_type": "markdown",
   "metadata": {},
   "source": [
    "- 가장 중요한 것 : 모집단을 대표할 수 있는 표본 추출 \n",
    "    - 단순 랜덤 추출법(simple random sampling) : N개의 원소로 구성된 모집단에서 n개(n <= N) 의 표본을 추출할 때, 각 원소에 1,2,3, ...N 까지의 번호를 부여한다. 여기서 n개의 번호를 임의로 선택해 그 번호에 해당하는 원소를 표본으로 추출한다.\n",
    "    - 계통 추출법 (systematic sampling) : 모집단의 모든 원소들에게 1,2,3 ..., N의 일련번호를 부여하고 이를 순선대로 나열한 후에 K개(K=N/n)씩 n개의 구간으로 나눈다. 첫 구간(1,2,3 ... K)에서 하나를 임의로 선택한 후에 K개씩 띄어서 표본을 추출한다.\n",
    "    - 집락추출법 (cluster smapling) : 모집단에 몇 개의 집락(cluster)이 결합된 형태로 구성돼 있고, 각 집단에서 원소들에게 일련번호를 부여할 수 있는 경우에 이용된다. 일부 집락을 랜덤으로 선택하고 선택된 각 집락에서 표본을 임의로 선택한다.\n",
    "    - 층화추출법(stratified sampling) :  상당히 이질적인 원소들로 구성된 모집단에서 각 계층을 고루 대표할 수 있도록 표본을 추출하는 방법이다. 이질적인 모집단의 원소들을 서로 유사한 것끼리 몇 개의 층(stratum) 으로 나눈 후 , 각 층에서 표본을 랜덤하게 추출한다.\n",
    "    "
   ]
  },
  {
   "cell_type": "markdown",
   "metadata": {},
   "source": [
    "- 실험 : 표본조회 이외에 다료를 수집하는 방법\n",
    "    - 특정 목적하에서 실험 대상에게 처리를 가한 후에 그 결과를 관측해 자료를 수집하는 방법"
   ]
  },
  {
   "cell_type": "markdown",
   "metadata": {},
   "source": [
    "##### 라. 자료의 종류"
   ]
  },
  {
   "cell_type": "markdown",
   "metadata": {},
   "source": [
    "- 측정(measureament) : 표본 조사나 실험을 실시하는 과정에서 추출된 원소들이나 실험 단위로부터 주어진 목적에 적합하도록 관측해 자료를 얻는 것\n",
    "- 측정 방법\n",
    "    - 질적 자료(qualitative data)\n",
    "        - 명목척도(nomina scale) : 측정 대상이 어느 집단에 속하는지 분류할 때, 사용되는 척도로, 성별(남녀) 구분, 출생지 구분등이 명목적도에 해당한다.\n",
    "        - 순서척도(ordinal scale) : 측정 대상의 특정이 가지는 서열관계를 관측하는 척도로, 선택사항이 일정한 순서로 돼 있다. 특정 서비스의 선호도를 구분해 묻는 경우에 관측된 자료\n",
    "    - 양적 자료(quantitative data)\n",
    "        - 구간척도(interva scale) : 측정 대상이 갖고 있는 속성의 양을 측정하는 것으로 측정결과가 숫자로 표현되나 해당 속성이 전혀 없는 상태인 절대적인 원점이 없다. 따라서 두 관칙값 사이의 비율은 별 의미가 없게 되는 척도(온도, 지수 등)\n",
    "        - 비율척도(ratio scale) : 절대적 기준인 0 값이 존재하고 모든 사칙연산이 가능하며 제일 많은 정보를 가지고 있는 척도이다. 무게, 나이, 연간소득, 제품가격 등 숫자로 관측되는 일반적인 자료의 특성"
   ]
  },
  {
   "cell_type": "markdown",
   "metadata": {},
   "source": [
    "#### 2. 통계 분석"
   ]
  },
  {
   "cell_type": "markdown",
   "metadata": {},
   "source": [
    "- 통계 분석(statistical analysis) : 특정한 집단이나 불확실한 현상을 대상으로 자료를 수집해 대상 집단에 대한 정보를 구하고, 적절한 통계 분석 방법을 이용해 의사결정을 하는 과정\n",
    "- 통계적 추론(statistical inference)\n",
    "    - 대상 집단에 대한 정보 : 자료를 요약, 정리한 결과로 숫자 또는 그림으로 정리된 각종 통계\n",
    "    - 수집된 자료를 이용해 대상 집단(모집단)에 대해 의사결정을 하는 것\n",
    "        - 추정(estimation) : 대상 집단의 특성값(모수)이 무엇일까를 추측하는 것\n",
    "        - 가설검정(hypothesus test) : 대상 집단에 대해 특정한 가설을 설정한 후에 그 가설의 채택 여부를 결정하는 가설 검정\n",
    "        - 예측(forecasting) : 미래의 불확실성을 해결해 효율적인 의사결정을 하이 위해 수행하는 것\n",
    "- 기술통계(descriptve statistic) : 수집된 자료를 정리, 요약하기 위해 사용되는 기초적인 통계\n",
    "    - 평균, 표준편차, 중위수, 최빈값, %와 같이 숫자로 표현하는 방식\n",
    "    - 막대그래프, 그래프, 차트를 만드는 방식"
   ]
  },
  {
   "cell_type": "markdown",
   "metadata": {},
   "source": [
    "#### 3. 확률 및 확률분포"
   ]
  },
  {
   "cell_type": "markdown",
   "metadata": {},
   "source": [
    "##### 가. 확률의 정의"
   ]
  },
  {
   "cell_type": "markdown",
   "metadata": {},
   "source": [
    "- 확률 : '특정 사건이 일어날 가능성의 척도'\n",
    "    - 표본 공간(sample space) : 통계적 실험을 실시할 때 나타날 수 있는 모든 결과들의 집합 \n",
    "    - 사건(event) : 표본 공간의 부분 집합\n",
    "    - 근원 사건 : 사건 중에 오직 한 개의 원소로만 이루어진 사건"
   ]
  },
  {
   "cell_type": "markdown",
   "metadata": {},
   "source": [
    "- 사건 E의 확률 \n",
    "    - 표본 공간이 유한 개의 원소로 구성되어 있고, 근원 사건들이 일어날 가능성이 모두 같다면\n",
    "    - n(E) : 집합 E에 있는 원소의 수"
   ]
  },
  {
   "cell_type": "markdown",
   "metadata": {},
   "source": [
    "$$P(E) =\\frac{n(E)}{n(Ω)}$$"
   ]
  },
  {
   "cell_type": "markdown",
   "metadata": {},
   "source": [
    "- 일반적으로 확률은 표본공간의 부분집합에 실수값을 지정한 것으로 다음과 같은 세 가지 조건을 만족한다.<br>\n",
    "    1) 모든 사건 E의 확률값은 0과 1사이에 있다. \n",
    "    $$0 \\leqq P(E) \\leqq 1$$\n",
    "    2) 전체 집합 Ω의 확률은 1이다. \n",
    "    $$P(Ω) = 1$$\n",
    "    3) 서로 배반인 사건들, E1, E2, ... 의 합집합의 활률은 각 사건들의 확률의 합이다.\n",
    "    $$ P(\\cup E_n) = \\sum_{i=1}^\\infty P(E_n)$$"
   ]
  },
  {
   "cell_type": "markdown",
   "metadata": {},
   "source": []
  },
  {
   "cell_type": "markdown",
   "metadata": {},
   "source": [
    "- 위에서 배반사건이란, 교집합이 공집합인 사건을 말함"
   ]
  },
  {
   "cell_type": "markdown",
   "metadata": {},
   "source": [
    "##### 나. 조건부 확률과 독립사건"
   ]
  },
  {
   "cell_type": "markdown",
   "metadata": {},
   "source": [
    "- 조건부 확률(conditional probability) : 사건 A가 일어났다는 가정하의 사건 B의 확률\n",
    "    - 사건 A가 주어졌을 때 조건부 확률은 ```P(B|A)``` 와 같이 표시\n",
    "    $$P(B|A) = \\frac{P(A\\cap B)}{P(A)}$$"
   ]
  },
  {
   "cell_type": "markdown",
   "metadata": {},
   "source": [
    "- 위 확률은 ```P(A) > 0 ``` 일 때만 정의 된다.\n",
    "두 사건 A, B가 \n",
    "$$ P(A \\cup B) = P(A)P(B)$$\n",
    "을 만족하면, 서로 독립이다."
   ]
  },
  {
   "cell_type": "markdown",
   "metadata": {},
   "source": [
    "- 두 사건 A, B가 독립이라면,  ```P(B|A) = P(B)``` 가 된다.\n",
    "- 따라서 사건 B의 호가률은 A가 일어났다는 가정 하에서의 B의 조건부확률과 동일하다.\n",
    "- 사건 B의 확률은 사건 A가 일어났는지 여부와 상관 없이 동일하다."
   ]
  },
  {
   "cell_type": "markdown",
   "metadata": {},
   "source": [
    "##### 다. 확률변수와 확률분포"
   ]
  },
  {
   "cell_type": "markdown",
   "metadata": {},
   "source": [
    "- 특정 사건에 대해 실수값을 갖는 변수를 정의하면, 즉정 사건이 일어날 롹률은 그 변수가 특정값을 가질 확률로 표현할 수 있다.\n",
    "    - 확률변수(random varicale) : 특정값이 나타날 가능성이 롹률적으로 주어지는 변수\n",
    "    - 확률변수: 정의역(domain)이 표본공간이고 치역(range)이 실수값이 함수\n",
    "        - 이산형 확률변수(discrete random variable) : 사건의 확률이 그 사건들이 속한 점들의 확률의 합으로 표현할 수 있는 변수\n",
    "            $$ P(X = x_1) = p_i  ,  i = 1, 2, ... $$\n",
    "            - 확률질량함수(probablilty mass function) : 각 이산점에 있어서 확률의 크기를 표현하는 함수\n",
    "        - 연속형 확률변수(continuous random variable) : 사건의 확률이 그 사건 위에서 어떤 0보다 큰 값을 갖는 함수의 면적으로 표현될 수 있는 확률\n",
    "            - 확률밀도합수(probability density distribution)  : 이 때의 함수 f(x)\n",
    "            - 사건의 확률이 확률밀도함수의 면적으로 표현되므로 한 점에서의 확률은 0이 되고, 0보다 큰 값을 갖는 사건은 구간에서의 확률값이 된다.\n",
    "        - 결합확률분포(joint probability distribution) : 두 확률변후 X,Y의 결합확률분포는 이산형인 경우에 다음과 같이 정의 한다.\n",
    "        $$ P(X = x_i, Y=y_i) = {p_i}_j , i =1, 2, ..., n,  j = 1, 2, ..., m $$  \n",
    "                - 연속형인 경우에는 f(x,y)라고 정의하며, 각 결합확률질량함수(joint probability mass dunction)와 결합확률밀도함수(joint probabilty desity funcion)이라고 한다."
   ]
  },
  {
   "cell_type": "markdown",
   "metadata": {},
   "source": [
    "- 통계 분석에서 자료를 수집하고 그 수집된 자료로부터 어떤 정보를 얻고자 하는 경우에는 항상 수집된 자료가 특정한 확률분포를 따른다고 가정한다.\n",
    "    - 이산형 확률분포\n",
    "        - 베르투이 확률분포(Bernoulli distribution)\n",
    "        - 이항분포(binomial distribution)\n",
    "        - 기하분포(geometric distribution)\n",
    "        - 다항분포(multinomal distribution)\n",
    "        - 포아송분포(Poisson distribution)\n",
    "    - 연속형 확률변수\n",
    "        - 균일분포(uniform distribution)\n",
    "        - 정규분포(normal distribution)\n",
    "        - 지수분포(exponential distribution)\n",
    "            - 정규분포로 부터 유도된 분포\n",
    "                - t-분포(t-distribution)\n",
    "                - X2-분포(X2 distribution)\n",
    "                - F-분포(F-distribution)\n"
   ]
  },
  {
   "cell_type": "markdown",
   "metadata": {},
   "source": [
    "##### 라. 확률변수의 기댓값과 분산"
   ]
  },
  {
   "cell_type": "markdown",
   "metadata": {},
   "source": [
    "- 확률변수 X의 기대값 \n",
    "    - 확률변수 X가 확률질량함수 f(x)를 갖는 이산형 확률변수인 경우, 그 기대값은\n",
    "    $$E(X) = \\sum xf(x)$$\n",
    "    으로 정의, \n",
    "    X가 확률밀도 함수 f(x)를 갖는 연속형 확률변수인 경우\n",
    "    $$E(X) = \\int xf(x)dx $$\n",
    "    으로 정의,\n",
    "    확률변수의 흩어진 정보를 나타내는 분산과 표준편차는 X의 기대값을 μ라 할 때,\n",
    "    다음과 같이 정의한다.\n",
    "    $$Var(X) = E(X-μ)^2$$\n",
    "    $$sd(X) = \\sqrt Var(X)$$"
   ]
  },
  {
   "cell_type": "markdown",
   "metadata": {},
   "source": [
    "##### 백분위수"
   ]
  },
  {
   "cell_type": "markdown",
   "metadata": {},
   "source": [
    "- 연속형 확률변수 X의 제 q 백분위수 xq는 다음의 식을 만족하는 값으로 정의된다.\n",
    "$$ P(X <= x_q) = q/100 $$\n",
    "여기서 q는 0과 100 사이다"
   ]
  },
  {
   "cell_type": "markdown",
   "metadata": {},
   "source": [
    "#### 4. 추정과 가설검정"
   ]
  },
  {
   "cell_type": "markdown",
   "metadata": {},
   "source": [
    "##### 가. 점추정"
   ]
  },
  {
   "cell_type": "markdown",
   "metadata": {},
   "source": [
    "- 모수(parameter) : 모집단의 확률분포의 특징을 표현하는 값들\n",
    "- 대표적인 모수 : 모집단의 평균, 분산, 표준편차, 백분위수 등\n",
    "- 모집단에서 추출된 표본을 기반으로 모수들에 대한 통계적 추론\n",
    "- 통계적 추론\n",
    "    - 추정\n",
    "        - 점추정\n",
    "        - 구간추정\n",
    "    - 가설검정"
   ]
  },
  {
   "cell_type": "markdown",
   "metadata": {},
   "source": [
    "- 점추정(point estimation) : 가장 참값이라고 여겨지는 하나의 모수의 값을 택하는 것, 모수가 특정값이라고 추정하는 것\n",
    "- 모집단의 평균(모평균) μ 를 추정하기 위한 추정량(estimator)는 확률표분의 평균값인 표본평균(sample mean)이 대표적\n",
    "- 표본평균 : $$\\overline X = \\frac{1}{n} \\sum_{i=1}^n X_i $$"
   ]
  },
  {
   "cell_type": "markdown",
   "metadata": {},
   "source": [
    "- 모집단의 분산(모분산) s2를 추정하기 위한 추정량으로 표본분산(sample variance)이 대표적\n",
    "- 표본분산 : \n",
    "$$S^2 = \\frac{1}{n-1} \\sum_{i=1}^n(X_1-\\overline X)^2$$"
   ]
  },
  {
   "cell_type": "markdown",
   "metadata": {},
   "source": [
    "##### 나. 구간 추청"
   ]
  },
  {
   "cell_type": "markdown",
   "metadata": {},
   "source": [
    "- 구간추정 : 점추정의 정확성을 보완, 일정한 크기의 신뢰수준(confidence level)으로 모수가 특정 구간에 있을거라고 선언하는 것\n",
    "- 신뢰구간(confidence interval) : 구해진 구간\n",
    "- 일반적 신뢰수준 : 90%, 95%, 99% 확률"
   ]
  },
  {
   "cell_type": "markdown",
   "metadata": {},
   "source": [
    "- 신뢰수준 95% : 한 개의 모집단에서 동일한 방법으로 동일한 자료의 개수의 확률표본을 무한히 많이 추출하여 각 확률표본마다 신뢰구간을 구하면, 무한히 많은 신뢰구간 중에서 95%의 신뢰구간이 미지의 모수를 포함한다는 의미\n",
    "- 주어진 한 개의 신뢰구간 : 특정한 숫자들로 표현\n",
    "    - 모수도 미지의 특정한 값이므로 확률로 해석할 수 없음\n",
    "    - 주어진 한 개의 신뢰구간은  미지의 모수를 포함할 확률이 0.95라는 것과는 다름\n"
   ]
  },
  {
   "cell_type": "markdown",
   "metadata": {},
   "source": [
    "- 모집단의 확률분포를 정규분포라 가정, 95% 신뢰수준 하에서 모평균 μ의 신뢰구간은\n",
    "(1) 모분산 s2가 알려있는 경우\n",
    "$$ \\left( \\overline X - 1.96. \\frac {\\sigma}{\\sqrt n},\\overline X + 1.96. \\frac {\\sigma}{\\sqrt n}\\right) $$\n",
    "(2) 모분산 s2가 알려져있지 않은 경우\n",
    "모분산 대신 표본분산을 사용\n",
    "$$ \\left( \\overline X - t_{n-1.0.975} \\frac {S}{\\sqrt n}, \\overline X + t_{n-1.0.975} \\frac {S}{\\sqrt n} \\right) $$\n",
    "- 여기서 $$ t_{n-1.0.975}$$ 는 n-1 의 자유도를 가지는 t분포의 97.5 백분위 수이다."
   ]
  },
  {
   "cell_type": "markdown",
   "metadata": {},
   "source": [
    "##### 다. 가설검정"
   ]
  },
  {
   "cell_type": "markdown",
   "metadata": {},
   "source": [
    "- 가설검정 : 모집단에 대한 어떤 가설을 설정한 뒤에 표본관찰을 통해 그 사설의 채택여부를 결정하는 분석방법\n",
    "    - 검정하고자 하는 모집단의 모수에 대한 가설 설정이 중요\n",
    "- 가설(hypothesis) \n",
    "    - 귀무가설(null hypothesis, H0)과 대립가설(alternative hypothesis, H1) 두 가지를 설정\n",
    "    - 가설검정 : 표본 관찰 또는 실험을 통해 귀무가설(H0)과 대립가설(H1)중에서 하나를 선택하는 과정"
   ]
  },
  {
   "cell_type": "code",
   "execution_count": null,
   "metadata": {},
   "outputs": [],
   "source": []
  },
  {
   "cell_type": "markdown",
   "metadata": {},
   "source": [
    "#### 5. 비모수 검정"
   ]
  },
  {
   "cell_type": "markdown",
   "metadata": {},
   "source": []
  },
  {
   "cell_type": "markdown",
   "metadata": {},
   "source": [
    "https://math.meta.stackexchange.com/questions/5020/mathjax-basic-tutorial-and-quick-reference"
   ]
  },
  {
   "cell_type": "code",
   "execution_count": null,
   "metadata": {},
   "outputs": [],
   "source": []
  }
 ],
 "metadata": {
  "celltoolbar": "Raw Cell Format",
  "kernelspec": {
   "display_name": "R",
   "language": "R",
   "name": "ir"
  },
  "language_info": {
   "codemirror_mode": "r",
   "file_extension": ".r",
   "mimetype": "text/x-r-source",
   "name": "R",
   "pygments_lexer": "r",
   "version": "3.5.1"
  }
 },
 "nbformat": 4,
 "nbformat_minor": 2
}
