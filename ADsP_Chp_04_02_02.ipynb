{
 "cells": [
  {
   "cell_type": "markdown",
   "metadata": {},
   "source": [
    "# 목차"
   ]
  },
  {
   "cell_type": "markdown",
   "metadata": {},
   "source": [
    "<table style=\"width:100%\">\n",
    "  <thead>\n",
    "    <tr>\n",
    "      <th rowspan=\"2\">구분</th>\n",
    "      <th rowspan=\"2\">과목명</th>\n",
    "      <th colspan=\"2\">문항수</th>\n",
    "      <th colspan=\"2\">배점</th>\n",
    "      <th rowspan=\"2\">시험시간</th>\n",
    "    </tr>\n",
    "    <tr>\n",
    "      <th>객관식</th>\n",
    "      <th>단답형</th>\n",
    "      <th>객관식</th>\n",
    "      <th>단답형</th>\n",
    "    </tr>\n",
    "  </thead>\n",
    "  <tbody>\n",
    "      <tr>\n",
    "          <td rowspan=\"4\", bgcolor=\"lightgrey\">필기</td>\n",
    "          <td>데이터 이해</td>\n",
    "          <td>8</td>\n",
    "          <td>2</td>\n",
    "          <td rowspan=\"3\">80 (각 2점)</td>\n",
    "          <td rowspan=\"3\">20 (각 2점)</td>\n",
    "          <td rowspan=\"4\" >90분 (1시간 30분)</td>\n",
    "      </tr>\n",
    "      <tr>\n",
    "          <td>데이터 분석 기획</td>\n",
    "          <td>8</td>\n",
    "          <td>2</td>\n",
    "      </tr>\n",
    "      <tr>\n",
    "          <td bgcolor=\"lightgrey\"><b>데이터 분석</b></td>\n",
    "          <td bgcolor=\"lightgrey\"><b>24</b></td>\n",
    "          <td bgcolor=\"lightgrey\"><b>6</b></td>\n",
    "      </tr>\n",
    "      <tr>\n",
    "          <td>계</td>\n",
    "          <td>40</td>\n",
    "          <td>10</td>\n",
    "          <td colspan=\"2\">100</td>\n",
    "      </tr>\n",
    "  </tbody>\n",
    "</table>"
   ]
  },
  {
   "cell_type": "markdown",
   "metadata": {},
   "source": [
    "<table  style=\"width:100%\">\n",
    "    <tbody>\n",
    "            <tr>\n",
    "              <th rowspan=\"11\", bgcolor=\"lightgrey\"><b>데이터 분석</b></th>\n",
    "              <td rowspan=\"3\">R기초와 데이터 마트</td>\n",
    "              <td>R기초</td>\n",
    "            </tr>\n",
    "            <tr>\n",
    "              <td>데이터 마트</td>\n",
    "            </tr>\n",
    "            <tr>\n",
    "              <td>결측값 처리와 이상값 검색</td>\n",
    "            </tr>\n",
    "            <tr>\n",
    "                <td rowspan=\"4\"  bgcolor=\"lightgrey\"><b>통계분석</b></td>\n",
    "                <td> 통계학 개론</td>\n",
    "            </tr>\n",
    "            <tr>\n",
    "                <td bgcolor=\"lightgrey\"><b>기초 통계분석</b></td>\n",
    "            </tr>\n",
    "            <tr>\n",
    "              <td>다변량 분석</td>\n",
    "            </tr>\n",
    "            <tr>\n",
    "              <td>시계열 예측</td>\n",
    "            </tr>\n",
    "            <tr>\n",
    "              <td rowspan=\"4\">정형 데이터 마이닝</td>\n",
    "              <td>데이터 마이닝 개요</td>\n",
    "            </tr>\n",
    "            <tr>\n",
    "              <td>분류분석(Classification)</td>\n",
    "            </tr>\n",
    "            <tr>\n",
    "              <td>군집분석(Clustering)</td>\n",
    "            </tr>\n",
    "            <tr>\n",
    "              <td>연관분석(Association Analysis)</td>\n",
    "            </tr>\n",
    "      </tbody>\n",
    "</table>"
   ]
  },
  {
   "cell_type": "markdown",
   "metadata": {},
   "source": [
    "# 과목 IV 데이터 분석"
   ]
  },
  {
   "cell_type": "markdown",
   "metadata": {},
   "source": [
    "## 제 2장 통계 분석"
   ]
  },
  {
   "cell_type": "markdown",
   "metadata": {},
   "source": [
    "### 제2절 기초 통계 분석"
   ]
  },
  {
   "cell_type": "markdown",
   "metadata": {},
   "source": [
    "#### 1. 기술 통계"
   ]
  },
  {
   "cell_type": "markdown",
   "metadata": {},
   "source": [
    "- 기술통계(Descriprive Statistics) : 자료를 요약하는 기초적인 통계를 의미"
   ]
  },
  {
   "cell_type": "code",
   "execution_count": 1,
   "metadata": {},
   "outputs": [
    {
     "data": {
      "text/html": [
       "<table>\n",
       "<thead><tr><th scope=col>Sepal.Length</th><th scope=col>Sepal.Width</th><th scope=col>Petal.Length</th><th scope=col>Petal.Width</th><th scope=col>Species</th></tr></thead>\n",
       "<tbody>\n",
       "\t<tr><td>5.1   </td><td>3.5   </td><td>1.4   </td><td>0.2   </td><td>setosa</td></tr>\n",
       "\t<tr><td>4.9   </td><td>3.0   </td><td>1.4   </td><td>0.2   </td><td>setosa</td></tr>\n",
       "\t<tr><td>4.7   </td><td>3.2   </td><td>1.3   </td><td>0.2   </td><td>setosa</td></tr>\n",
       "\t<tr><td>4.6   </td><td>3.1   </td><td>1.5   </td><td>0.2   </td><td>setosa</td></tr>\n",
       "\t<tr><td>5.0   </td><td>3.6   </td><td>1.4   </td><td>0.2   </td><td>setosa</td></tr>\n",
       "\t<tr><td>5.4   </td><td>3.9   </td><td>1.7   </td><td>0.4   </td><td>setosa</td></tr>\n",
       "</tbody>\n",
       "</table>\n"
      ],
      "text/latex": [
       "\\begin{tabular}{r|lllll}\n",
       " Sepal.Length & Sepal.Width & Petal.Length & Petal.Width & Species\\\\\n",
       "\\hline\n",
       "\t 5.1    & 3.5    & 1.4    & 0.2    & setosa\\\\\n",
       "\t 4.9    & 3.0    & 1.4    & 0.2    & setosa\\\\\n",
       "\t 4.7    & 3.2    & 1.3    & 0.2    & setosa\\\\\n",
       "\t 4.6    & 3.1    & 1.5    & 0.2    & setosa\\\\\n",
       "\t 5.0    & 3.6    & 1.4    & 0.2    & setosa\\\\\n",
       "\t 5.4    & 3.9    & 1.7    & 0.4    & setosa\\\\\n",
       "\\end{tabular}\n"
      ],
      "text/markdown": [
       "\n",
       "Sepal.Length | Sepal.Width | Petal.Length | Petal.Width | Species | \n",
       "|---|---|---|---|---|---|\n",
       "| 5.1    | 3.5    | 1.4    | 0.2    | setosa | \n",
       "| 4.9    | 3.0    | 1.4    | 0.2    | setosa | \n",
       "| 4.7    | 3.2    | 1.3    | 0.2    | setosa | \n",
       "| 4.6    | 3.1    | 1.5    | 0.2    | setosa | \n",
       "| 5.0    | 3.6    | 1.4    | 0.2    | setosa | \n",
       "| 5.4    | 3.9    | 1.7    | 0.4    | setosa | \n",
       "\n",
       "\n"
      ],
      "text/plain": [
       "  Sepal.Length Sepal.Width Petal.Length Petal.Width Species\n",
       "1 5.1          3.5         1.4          0.2         setosa \n",
       "2 4.9          3.0         1.4          0.2         setosa \n",
       "3 4.7          3.2         1.3          0.2         setosa \n",
       "4 4.6          3.1         1.5          0.2         setosa \n",
       "5 5.0          3.6         1.4          0.2         setosa \n",
       "6 5.4          3.9         1.7          0.4         setosa "
      ]
     },
     "metadata": {},
     "output_type": "display_data"
    }
   ],
   "source": [
    "data(iris)\n",
    "head(iris)"
   ]
  },
  {
   "cell_type": "code",
   "execution_count": 2,
   "metadata": {},
   "outputs": [
    {
     "data": {
      "text/html": [
       "<table>\n",
       "<thead><tr><th scope=col>Sepal.Length</th><th scope=col>Sepal.Width</th><th scope=col>Petal.Length</th><th scope=col>Petal.Width</th><th scope=col>Species</th></tr></thead>\n",
       "<tbody>\n",
       "\t<tr><td>5.1   </td><td>3.5   </td><td>1.4   </td><td>0.2   </td><td>setosa</td></tr>\n",
       "\t<tr><td>4.9   </td><td>3.0   </td><td>1.4   </td><td>0.2   </td><td>setosa</td></tr>\n",
       "\t<tr><td>4.7   </td><td>3.2   </td><td>1.3   </td><td>0.2   </td><td>setosa</td></tr>\n",
       "\t<tr><td>4.6   </td><td>3.1   </td><td>1.5   </td><td>0.2   </td><td>setosa</td></tr>\n",
       "\t<tr><td>5.0   </td><td>3.6   </td><td>1.4   </td><td>0.2   </td><td>setosa</td></tr>\n",
       "\t<tr><td>5.4   </td><td>3.9   </td><td>1.7   </td><td>0.4   </td><td>setosa</td></tr>\n",
       "\t<tr><td>4.6   </td><td>3.4   </td><td>1.4   </td><td>0.3   </td><td>setosa</td></tr>\n",
       "\t<tr><td>5.0   </td><td>3.4   </td><td>1.5   </td><td>0.2   </td><td>setosa</td></tr>\n",
       "\t<tr><td>4.4   </td><td>2.9   </td><td>1.4   </td><td>0.2   </td><td>setosa</td></tr>\n",
       "\t<tr><td>4.9   </td><td>3.1   </td><td>1.5   </td><td>0.1   </td><td>setosa</td></tr>\n",
       "</tbody>\n",
       "</table>\n"
      ],
      "text/latex": [
       "\\begin{tabular}{r|lllll}\n",
       " Sepal.Length & Sepal.Width & Petal.Length & Petal.Width & Species\\\\\n",
       "\\hline\n",
       "\t 5.1    & 3.5    & 1.4    & 0.2    & setosa\\\\\n",
       "\t 4.9    & 3.0    & 1.4    & 0.2    & setosa\\\\\n",
       "\t 4.7    & 3.2    & 1.3    & 0.2    & setosa\\\\\n",
       "\t 4.6    & 3.1    & 1.5    & 0.2    & setosa\\\\\n",
       "\t 5.0    & 3.6    & 1.4    & 0.2    & setosa\\\\\n",
       "\t 5.4    & 3.9    & 1.7    & 0.4    & setosa\\\\\n",
       "\t 4.6    & 3.4    & 1.4    & 0.3    & setosa\\\\\n",
       "\t 5.0    & 3.4    & 1.5    & 0.2    & setosa\\\\\n",
       "\t 4.4    & 2.9    & 1.4    & 0.2    & setosa\\\\\n",
       "\t 4.9    & 3.1    & 1.5    & 0.1    & setosa\\\\\n",
       "\\end{tabular}\n"
      ],
      "text/markdown": [
       "\n",
       "Sepal.Length | Sepal.Width | Petal.Length | Petal.Width | Species | \n",
       "|---|---|---|---|---|---|---|---|---|---|\n",
       "| 5.1    | 3.5    | 1.4    | 0.2    | setosa | \n",
       "| 4.9    | 3.0    | 1.4    | 0.2    | setosa | \n",
       "| 4.7    | 3.2    | 1.3    | 0.2    | setosa | \n",
       "| 4.6    | 3.1    | 1.5    | 0.2    | setosa | \n",
       "| 5.0    | 3.6    | 1.4    | 0.2    | setosa | \n",
       "| 5.4    | 3.9    | 1.7    | 0.4    | setosa | \n",
       "| 4.6    | 3.4    | 1.4    | 0.3    | setosa | \n",
       "| 5.0    | 3.4    | 1.5    | 0.2    | setosa | \n",
       "| 4.4    | 2.9    | 1.4    | 0.2    | setosa | \n",
       "| 4.9    | 3.1    | 1.5    | 0.1    | setosa | \n",
       "\n",
       "\n"
      ],
      "text/plain": [
       "   Sepal.Length Sepal.Width Petal.Length Petal.Width Species\n",
       "1  5.1          3.5         1.4          0.2         setosa \n",
       "2  4.9          3.0         1.4          0.2         setosa \n",
       "3  4.7          3.2         1.3          0.2         setosa \n",
       "4  4.6          3.1         1.5          0.2         setosa \n",
       "5  5.0          3.6         1.4          0.2         setosa \n",
       "6  5.4          3.9         1.7          0.4         setosa \n",
       "7  4.6          3.4         1.4          0.3         setosa \n",
       "8  5.0          3.4         1.5          0.2         setosa \n",
       "9  4.4          2.9         1.4          0.2         setosa \n",
       "10 4.9          3.1         1.5          0.1         setosa "
      ]
     },
     "metadata": {},
     "output_type": "display_data"
    }
   ],
   "source": [
    "head(iris, 10) # 특정 라인까지 보고 싶으면 인자를 하나 더 추가한다."
   ]
  },
  {
   "cell_type": "code",
   "execution_count": 5,
   "metadata": {
    "scrolled": true
   },
   "outputs": [
    {
     "data": {
      "text/plain": [
       "  Sepal.Length    Sepal.Width     Petal.Length    Petal.Width   \n",
       " Min.   :4.300   Min.   :2.000   Min.   :1.000   Min.   :0.100  \n",
       " 1st Qu.:5.100   1st Qu.:2.800   1st Qu.:1.600   1st Qu.:0.300  \n",
       " Median :5.800   Median :3.000   Median :4.350   Median :1.300  \n",
       " Mean   :5.843   Mean   :3.057   Mean   :3.758   Mean   :1.199  \n",
       " 3rd Qu.:6.400   3rd Qu.:3.300   3rd Qu.:5.100   3rd Qu.:1.800  \n",
       " Max.   :7.900   Max.   :4.400   Max.   :6.900   Max.   :2.500  \n",
       "       Species  \n",
       " setosa    :50  \n",
       " versicolor:50  \n",
       " virginica :50  \n",
       "                \n",
       "                \n",
       "                "
      ]
     },
     "metadata": {},
     "output_type": "display_data"
    }
   ],
   "source": [
    "summary(iris)"
   ]
  },
  {
   "cell_type": "code",
   "execution_count": 22,
   "metadata": {},
   "outputs": [
    {
     "data": {
      "text/html": [
       "5.84333333333333"
      ],
      "text/latex": [
       "5.84333333333333"
      ],
      "text/markdown": [
       "5.84333333333333"
      ],
      "text/plain": [
       "[1] 5.843333"
      ]
     },
     "metadata": {},
     "output_type": "display_data"
    }
   ],
   "source": [
    "mean(iris$Sepal.Length) # 평균"
   ]
  },
  {
   "cell_type": "code",
   "execution_count": 23,
   "metadata": {},
   "outputs": [
    {
     "data": {
      "text/html": [
       "5.8"
      ],
      "text/latex": [
       "5.8"
      ],
      "text/markdown": [
       "5.8"
      ],
      "text/plain": [
       "[1] 5.8"
      ]
     },
     "metadata": {},
     "output_type": "display_data"
    }
   ],
   "source": [
    "median(iris$Sepal.Length) #중앙값"
   ]
  },
  {
   "cell_type": "code",
   "execution_count": 24,
   "metadata": {},
   "outputs": [
    {
     "data": {
      "text/html": [
       "0.828066127977863"
      ],
      "text/latex": [
       "0.828066127977863"
      ],
      "text/markdown": [
       "0.828066127977863"
      ],
      "text/plain": [
       "[1] 0.8280661"
      ]
     },
     "metadata": {},
     "output_type": "display_data"
    }
   ],
   "source": [
    "sd(iris$Sepal.Length) #표준편차"
   ]
  },
  {
   "cell_type": "code",
   "execution_count": 25,
   "metadata": {},
   "outputs": [
    {
     "data": {
      "text/html": [
       "0.685693512304251"
      ],
      "text/latex": [
       "0.685693512304251"
      ],
      "text/markdown": [
       "0.685693512304251"
      ],
      "text/plain": [
       "[1] 0.6856935"
      ]
     },
     "metadata": {},
     "output_type": "display_data"
    }
   ],
   "source": [
    "var(iris$Sepal.Length) #분산"
   ]
  },
  {
   "cell_type": "code",
   "execution_count": 29,
   "metadata": {},
   "outputs": [
    {
     "data": {
      "text/html": [
       "<dl class=dl-horizontal>\n",
       "\t<dt>0%</dt>\n",
       "\t\t<dd>4.3</dd>\n",
       "\t<dt>25%</dt>\n",
       "\t\t<dd>5.1</dd>\n",
       "\t<dt>50%</dt>\n",
       "\t\t<dd>5.8</dd>\n",
       "\t<dt>75%</dt>\n",
       "\t\t<dd>6.4</dd>\n",
       "\t<dt>100%</dt>\n",
       "\t\t<dd>7.9</dd>\n",
       "</dl>\n"
      ],
      "text/latex": [
       "\\begin{description*}\n",
       "\\item[0\\textbackslash{}\\%] 4.3\n",
       "\\item[25\\textbackslash{}\\%] 5.1\n",
       "\\item[50\\textbackslash{}\\%] 5.8\n",
       "\\item[75\\textbackslash{}\\%] 6.4\n",
       "\\item[100\\textbackslash{}\\%] 7.9\n",
       "\\end{description*}\n"
      ],
      "text/markdown": [
       "0%\n",
       ":   4.325%\n",
       ":   5.150%\n",
       ":   5.875%\n",
       ":   6.4100%\n",
       ":   7.9\n",
       "\n"
      ],
      "text/plain": [
       "  0%  25%  50%  75% 100% \n",
       " 4.3  5.1  5.8  6.4  7.9 "
      ]
     },
     "metadata": {},
     "output_type": "display_data"
    }
   ],
   "source": [
    "quantile(iris$Sepal.Length) #사위분위수"
   ]
  },
  {
   "cell_type": "code",
   "execution_count": 31,
   "metadata": {},
   "outputs": [
    {
     "data": {
      "text/html": [
       "<strong>25%:</strong> 5.1"
      ],
      "text/latex": [
       "\\textbf{25\\textbackslash{}\\%:} 5.1"
      ],
      "text/markdown": [
       "**25%:** 5.1"
      ],
      "text/plain": [
       "25% \n",
       "5.1 "
      ]
     },
     "metadata": {},
     "output_type": "display_data"
    }
   ],
   "source": [
    "quantile(iris$Sepal.Length, 1/4) # 1사위분위"
   ]
  },
  {
   "cell_type": "code",
   "execution_count": 32,
   "metadata": {},
   "outputs": [
    {
     "data": {
      "text/html": [
       "7.9"
      ],
      "text/latex": [
       "7.9"
      ],
      "text/markdown": [
       "7.9"
      ],
      "text/plain": [
       "[1] 7.9"
      ]
     },
     "metadata": {},
     "output_type": "display_data"
    }
   ],
   "source": [
    "max(iris$Sepal.Length) # 최대값"
   ]
  },
  {
   "cell_type": "code",
   "execution_count": 33,
   "metadata": {},
   "outputs": [
    {
     "data": {
      "text/html": [
       "4.3"
      ],
      "text/latex": [
       "4.3"
      ],
      "text/markdown": [
       "4.3"
      ],
      "text/plain": [
       "[1] 4.3"
      ]
     },
     "metadata": {},
     "output_type": "display_data"
    }
   ],
   "source": [
    "min(iris$Sepal.Length) #최소값"
   ]
  },
  {
   "cell_type": "code",
   "execution_count": 34,
   "metadata": {},
   "outputs": [
    {
     "data": {
      "text/html": [
       "<table>\n",
       "<thead><tr><th></th><th scope=col>body</th><th scope=col>brain</th></tr></thead>\n",
       "<tbody>\n",
       "\t<tr><th scope=row>Mountain beaver</th><td>    1.35</td><td>  8.1   </td></tr>\n",
       "\t<tr><th scope=row>Cow</th><td>  465.00</td><td>423.0   </td></tr>\n",
       "\t<tr><th scope=row>Grey wolf</th><td>   36.33</td><td>119.5   </td></tr>\n",
       "\t<tr><th scope=row>Goat</th><td>   27.66</td><td>115.0   </td></tr>\n",
       "\t<tr><th scope=row>Guinea pig</th><td>    1.04</td><td>  5.5   </td></tr>\n",
       "\t<tr><th scope=row>Dipliodocus</th><td>11700.00</td><td> 50.0   </td></tr>\n",
       "</tbody>\n",
       "</table>\n"
      ],
      "text/latex": [
       "\\begin{tabular}{r|ll}\n",
       "  & body & brain\\\\\n",
       "\\hline\n",
       "\tMountain beaver &     1.35 &   8.1   \\\\\n",
       "\tCow &   465.00 & 423.0   \\\\\n",
       "\tGrey wolf &    36.33 & 119.5   \\\\\n",
       "\tGoat &    27.66 & 115.0   \\\\\n",
       "\tGuinea pig &     1.04 &   5.5   \\\\\n",
       "\tDipliodocus & 11700.00 &  50.0   \\\\\n",
       "\\end{tabular}\n"
      ],
      "text/markdown": [
       "\n",
       "| <!--/--> | body | brain | \n",
       "|---|---|---|---|---|---|\n",
       "| Mountain beaver |     1.35 |   8.1    | \n",
       "| Cow |   465.00 | 423.0    | \n",
       "| Grey wolf |    36.33 | 119.5    | \n",
       "| Goat |    27.66 | 115.0    | \n",
       "| Guinea pig |     1.04 |   5.5    | \n",
       "| Dipliodocus | 11700.00 |  50.0    | \n",
       "\n",
       "\n"
      ],
      "text/plain": [
       "                body     brain\n",
       "Mountain beaver     1.35   8.1\n",
       "Cow               465.00 423.0\n",
       "Grey wolf          36.33 119.5\n",
       "Goat               27.66 115.0\n",
       "Guinea pig          1.04   5.5\n",
       "Dipliodocus     11700.00  50.0"
      ]
     },
     "metadata": {},
     "output_type": "display_data"
    }
   ],
   "source": [
    "# install.packages(\"MASS\")\n",
    "library(MASS)\n",
    "data(Animals)\n",
    "head(Animals)"
   ]
  },
  {
   "cell_type": "code",
   "execution_count": 37,
   "metadata": {},
   "outputs": [
    {
     "data": {
      "text/html": [
       "4278.43875"
      ],
      "text/latex": [
       "4278.43875"
      ],
      "text/markdown": [
       "4278.43875"
      ],
      "text/plain": [
       "[1] 4278.439"
      ]
     },
     "metadata": {},
     "output_type": "display_data"
    },
    {
     "data": {
      "text/html": [
       "574.521428571429"
      ],
      "text/latex": [
       "574.521428571429"
      ],
      "text/markdown": [
       "574.521428571429"
      ],
      "text/plain": [
       "[1] 574.5214"
      ]
     },
     "metadata": {},
     "output_type": "display_data"
    }
   ],
   "source": [
    "mean(Animals$body)\n",
    "mean(Animals$brain)"
   ]
  },
  {
   "cell_type": "code",
   "execution_count": 38,
   "metadata": {},
   "outputs": [
    {
     "data": {
      "text/html": [
       "53.83"
      ],
      "text/latex": [
       "53.83"
      ],
      "text/markdown": [
       "53.83"
      ],
      "text/plain": [
       "[1] 53.83"
      ]
     },
     "metadata": {},
     "output_type": "display_data"
    },
    {
     "data": {
      "text/html": [
       "137"
      ],
      "text/latex": [
       "137"
      ],
      "text/markdown": [
       "137"
      ],
      "text/plain": [
       "[1] 137"
      ]
     },
     "metadata": {},
     "output_type": "display_data"
    }
   ],
   "source": [
    "median(Animals$body)\n",
    "median(Animals$brain)"
   ]
  },
  {
   "cell_type": "code",
   "execution_count": 39,
   "metadata": {},
   "outputs": [
    {
     "data": {
      "text/html": [
       "16480.4903792696"
      ],
      "text/latex": [
       "16480.4903792696"
      ],
      "text/markdown": [
       "16480.4903792696"
      ],
      "text/plain": [
       "[1] 16480.49"
      ]
     },
     "metadata": {},
     "output_type": "display_data"
    },
    {
     "data": {
      "text/html": [
       "1334.92919061958"
      ],
      "text/latex": [
       "1334.92919061958"
      ],
      "text/markdown": [
       "1334.92919061958"
      ],
      "text/plain": [
       "[1] 1334.929"
      ]
     },
     "metadata": {},
     "output_type": "display_data"
    }
   ],
   "source": [
    "sd(Animals$body)\n",
    "sd(Animals$brain)"
   ]
  },
  {
   "cell_type": "code",
   "execution_count": 40,
   "metadata": {},
   "outputs": [
    {
     "data": {
      "text/html": [
       "271606563.141199"
      ],
      "text/latex": [
       "271606563.141199"
      ],
      "text/markdown": [
       "271606563.141199"
      ],
      "text/plain": [
       "[1] 271606563"
      ]
     },
     "metadata": {},
     "output_type": "display_data"
    },
    {
     "data": {
      "text/html": [
       "1782035.94396825"
      ],
      "text/latex": [
       "1782035.94396825"
      ],
      "text/markdown": [
       "1782035.94396825"
      ],
      "text/plain": [
       "[1] 1782036"
      ]
     },
     "metadata": {},
     "output_type": "display_data"
    }
   ],
   "source": [
    "var(Animals$body)\n",
    "var(Animals$brain)"
   ]
  },
  {
   "cell_type": "code",
   "execution_count": 42,
   "metadata": {},
   "outputs": [
    {
     "data": {
      "text/html": [
       "<dl class=dl-horizontal>\n",
       "\t<dt>0%</dt>\n",
       "\t\t<dd>0.023</dd>\n",
       "\t<dt>25%</dt>\n",
       "\t\t<dd>3.1</dd>\n",
       "\t<dt>50%</dt>\n",
       "\t\t<dd>53.83</dd>\n",
       "\t<dt>75%</dt>\n",
       "\t\t<dd>479</dd>\n",
       "\t<dt>100%</dt>\n",
       "\t\t<dd>87000</dd>\n",
       "</dl>\n"
      ],
      "text/latex": [
       "\\begin{description*}\n",
       "\\item[0\\textbackslash{}\\%] 0.023\n",
       "\\item[25\\textbackslash{}\\%] 3.1\n",
       "\\item[50\\textbackslash{}\\%] 53.83\n",
       "\\item[75\\textbackslash{}\\%] 479\n",
       "\\item[100\\textbackslash{}\\%] 87000\n",
       "\\end{description*}\n"
      ],
      "text/markdown": [
       "0%\n",
       ":   0.02325%\n",
       ":   3.150%\n",
       ":   53.8375%\n",
       ":   479100%\n",
       ":   87000\n",
       "\n"
      ],
      "text/plain": [
       "       0%       25%       50%       75%      100% \n",
       "    0.023     3.100    53.830   479.000 87000.000 "
      ]
     },
     "metadata": {},
     "output_type": "display_data"
    },
    {
     "data": {
      "text/html": [
       "<dl class=dl-horizontal>\n",
       "\t<dt>0%</dt>\n",
       "\t\t<dd>0.4</dd>\n",
       "\t<dt>25%</dt>\n",
       "\t\t<dd>22.225</dd>\n",
       "\t<dt>50%</dt>\n",
       "\t\t<dd>137</dd>\n",
       "\t<dt>75%</dt>\n",
       "\t\t<dd>420</dd>\n",
       "\t<dt>100%</dt>\n",
       "\t\t<dd>5712</dd>\n",
       "</dl>\n"
      ],
      "text/latex": [
       "\\begin{description*}\n",
       "\\item[0\\textbackslash{}\\%] 0.4\n",
       "\\item[25\\textbackslash{}\\%] 22.225\n",
       "\\item[50\\textbackslash{}\\%] 137\n",
       "\\item[75\\textbackslash{}\\%] 420\n",
       "\\item[100\\textbackslash{}\\%] 5712\n",
       "\\end{description*}\n"
      ],
      "text/markdown": [
       "0%\n",
       ":   0.425%\n",
       ":   22.22550%\n",
       ":   13775%\n",
       ":   420100%\n",
       ":   5712\n",
       "\n"
      ],
      "text/plain": [
       "      0%      25%      50%      75%     100% \n",
       "   0.400   22.225  137.000  420.000 5712.000 "
      ]
     },
     "metadata": {},
     "output_type": "display_data"
    }
   ],
   "source": [
    "quantile(Animals$body)\n",
    "quantile(Animals$brain)"
   ]
  },
  {
   "cell_type": "markdown",
   "metadata": {},
   "source": [
    "#### 2. 회귀분석(Regression Analsys)"
   ]
  },
  {
   "cell_type": "markdown",
   "metadata": {},
   "source": [
    "##### 가. 단순회귀분석과 중회귀분석의 개념"
   ]
  },
  {
   "cell_type": "markdown",
   "metadata": {},
   "source": [
    "- 회귀분석\n",
    "    - 하나나 그 이상의 변수들이 또 다른 변수에 미치는 영향에 대해 추론할 수 있는 통계기법\n",
    "    - 영향을 받는 변수를 종속변수 혹은 반응변수라고 하고 보통 y 로 표기\n",
    "    - 영향을 주는 변수를 독립변수 혹은 설명변수라고 하고 보통 x1, x2, x3 등으로 표기\n",
    "- 단순선형회귀모형은 회귀모형 중에서 가장 단순한 모형\n",
    "    - 한 개의 독립변수와 하나의 종속변수로 이뤄져 있고, 오차항이 있는 선형관계로 다음과 같이 쓸 수 있음\n",
    "    $$ Y_i = \\beta_0 +  \\beta_1x_i , + \\epsilon _i $$ \n",
    "    $$i = 1,2,..., n$$"
   ]
  },
  {
   "cell_type": "markdown",
   "metadata": {},
   "source": [
    "- 위의 모형에서 \n",
    "    - B0과 B1은 회귀계수라고 하고, 특히 B1은 독립변수 x1의 회귀계수라고 함\n",
    "    - ei는 오차항으로 보통의 경우 평균이 0이고, 분산이 s2인 정규 모형을 따른다고 가정한다.\n",
    "     - 독립변수가 n개가 x1, x2, .. xn과 같이 주어지고, 종속변수는 독립변수에 대해 쌍으로 y1,y2,... yn과 같이 주어진 자료에 적합\n",
    "     - 주어진 자료를 가장 잘 설명하는 회귀계수의 추정치는 보통 제곱오차\n",
    "$$ \\sum_{i=1}^n (y_1 - (\\beta_0 + \\beta_1x_1))^2 $$\n",
    "를 최소로 하는 값으로 구함\n",
    "- 위와 같이 구해진 값을, 회귀게수의 추정량을 최소제곱추정량(LEast Squares Estimator 혹은 LSE)라고 함"
   ]
  },
  {
   "cell_type": "markdown",
   "metadata": {},
   "source": [
    "- 단순선형회귀모형이 종속변수의 변동을 설명하는데 충분하지 않다면, \n",
    "    - 두 개 이상의 독립변수를 사용하여 종속변수의 변화를 설명하는 다중회귀분석(중회귀분석)을 실시할 수 있음\n",
    "    $$y_1 = \\beta_0 + \\beta_1x_{1i} + \\beta_2x_{2i}+ \\beta_3x_{3i} + \\epsilon _i $$\n",
    "    $$i = 1,2, ... , n$$"
   ]
  },
  {
   "cell_type": "markdown",
   "metadata": {},
   "source": [
    "- 모형이 통계적으로 유의미한가\n",
    "    - F통계량을 확인한다. \n",
    "    - 유의수준 5% 하에서 F통계량의 p-값이 0.05보다 작으면 추정된 회귀식은 통계적으로 유의미함\n",
    "- 회귀계수들이 유의미한가\n",
    "    - 해당 계수의 t통계량과 p-값 또는 이들의 신뢰구간을 확인\n",
    "- 모형이 얼마나 설명력을 갖는가\n",
    "    - 결정계수를 확인\n",
    "        - 결정계수는 0에서 1값을 가짐\n",
    "        - 높은 값을 가질수록 추정된 회귀식의 설명력이 높음\n",
    "- 모형이 데이터를 잘 적합하고 있는가\n",
    "    - 잔차를 그래프로 그리고 회귀진단을 함\n",
    "- 데이터가 아래의 모형 가정을 만족시키는가\n",
    "- 가정\n",
    "    - 선형성 : 독립변수의 변화에 따라 종속변수도 일정크리로 변화\n",
    "    - 독립성 : 잔차와 독립변수의 값이 관련돼 있지 않음\n",
    "    - 등분산성 : 독립변수의 모든 값에 대해 오차들의 분산이 일절\n",
    "    - 비상관성 : 관측치들의 잔차들끼리 상관이 없어야 함\n",
    "    - 정상정 : 잔차항이 정규분포를 이뤄야 함"
   ]
  },
  {
   "cell_type": "markdown",
   "metadata": {},
   "source": [
    "##### 나. 회귀분석의 종류"
   ]
  },
  {
   "cell_type": "markdown",
   "metadata": {},
   "source": [
    "<table style=\"width:100%\">\n",
    "        <tr>\n",
    "            <th> 종류</th>\n",
    "            <th colspan = 2> 모형</th>\n",
    "        </tr>\n",
    "        <tr>\n",
    "            <td>단순회귀</td>\n",
    "            <td>$$ Y = \\beta _0 + \\beta_1X + \\epsilon $$</td>\n",
    "            <td>설명변수가 1개이며 반응변수와의 관계가 직선</td>\n",
    "        </tr>\n",
    "        <tr>\n",
    "            <td>다중회귀</td>\n",
    "            <td>$$ Y = \\beta _0 + \\beta_1X_1 + \\beta_2X_2 + ... + \\epsilon $$</td>\n",
    "            <td>설명변수가 k개이며, 반응변수와의 관계가 선형(1차 함수)</td>\n",
    "        </tr>\n",
    "        <tr>\n",
    "            <td>다항회귀</td>\n",
    "            <td>k=2 이고, 2차 함수인 경우, $$ Y = \\beta _0 + \\beta_1X_1 + \\beta_2X_2+ \\beta_{11}X_1^2 + \\beta_{22}X_2^2 + + \\beta_{12}X_1X_2 + \\epsilon $$</td>\n",
    "            <td>설명변수가 k개이며, 반응변수와의 관계가 1차 함수 이상 (단, k=1이면 2차 함수 이상)</td>\n",
    "        </tr>\n",
    "        <tr>\n",
    "            <td>비선형회귀</td>\n",
    "            <td>$$ Y = g(\\beta_0 + \\beta_1X+...+\\beta_kX_k)+\\epsilon$$</td>\n",
    "            <td>회귀식의 모양이 미지의 모수 $$ \\beta_i $$ 들의 선형관계로 이루어져 있지 않은 모형, 예를 들면 옆의 식에서 $$g(t) = e^t $$ 와 같은 비선형 식을 고려할 수 있다.</td>\n",
    "        </tr> \n",
    "</table>"
   ]
  },
  {
   "cell_type": "code",
   "execution_count": 4,
   "metadata": {},
   "outputs": [
    {
     "data": {
      "text/html": [
       "<table>\n",
       "<thead><tr><th scope=col>x</th><th scope=col>y</th></tr></thead>\n",
       "<tbody>\n",
       "\t<tr><td> 2.033705</td><td> 8.127599</td></tr>\n",
       "\t<tr><td> 7.726114</td><td>25.319934</td></tr>\n",
       "\t<tr><td> 6.306590</td><td>20.871829</td></tr>\n",
       "\t<tr><td> 1.848571</td><td> 7.942608</td></tr>\n",
       "\t<tr><td>10.382233</td><td>33.118941</td></tr>\n",
       "\t<tr><td>10.378225</td><td>33.218204</td></tr>\n",
       "\t<tr><td> 1.420749</td><td> 6.458597</td></tr>\n",
       "\t<tr><td> 9.167937</td><td>29.425272</td></tr>\n",
       "\t<tr><td> 5.148204</td><td>17.236677</td></tr>\n",
       "\t<tr><td> 6.049821</td><td>20.505909</td></tr>\n",
       "</tbody>\n",
       "</table>\n"
      ],
      "text/latex": [
       "\\begin{tabular}{r|ll}\n",
       " x & y\\\\\n",
       "\\hline\n",
       "\t  2.033705 &  8.127599\\\\\n",
       "\t  7.726114 & 25.319934\\\\\n",
       "\t  6.306590 & 20.871829\\\\\n",
       "\t  1.848571 &  7.942608\\\\\n",
       "\t 10.382233 & 33.118941\\\\\n",
       "\t 10.378225 & 33.218204\\\\\n",
       "\t  1.420749 &  6.458597\\\\\n",
       "\t  9.167937 & 29.425272\\\\\n",
       "\t  5.148204 & 17.236677\\\\\n",
       "\t  6.049821 & 20.505909\\\\\n",
       "\\end{tabular}\n"
      ],
      "text/markdown": [
       "\n",
       "x | y | \n",
       "|---|---|---|---|---|---|---|---|---|---|\n",
       "|  2.033705 |  8.127599 | \n",
       "|  7.726114 | 25.319934 | \n",
       "|  6.306590 | 20.871829 | \n",
       "|  1.848571 |  7.942608 | \n",
       "| 10.382233 | 33.118941 | \n",
       "| 10.378225 | 33.218204 | \n",
       "|  1.420749 |  6.458597 | \n",
       "|  9.167937 | 29.425272 | \n",
       "|  5.148204 | 17.236677 | \n",
       "|  6.049821 | 20.505909 | \n",
       "\n",
       "\n"
      ],
      "text/plain": [
       "   x         y        \n",
       "1   2.033705  8.127599\n",
       "2   7.726114 25.319934\n",
       "3   6.306590 20.871829\n",
       "4   1.848571  7.942608\n",
       "5  10.382233 33.118941\n",
       "6  10.378225 33.218204\n",
       "7   1.420749  6.458597\n",
       "8   9.167937 29.425272\n",
       "9   5.148204 17.236677\n",
       "10  6.049821 20.505909"
      ]
     },
     "metadata": {},
     "output_type": "display_data"
    }
   ],
   "source": [
    "set.seed(2)\n",
    "x = runif(10,0,11)\n",
    "y=2+3*x + rnorm(10,0,0.2)\n",
    "dfrm = data.frame(x,y)\n",
    "dfrm"
   ]
  },
  {
   "cell_type": "code",
   "execution_count": 7,
   "metadata": {},
   "outputs": [
    {
     "data": {
      "text/plain": [
       "\n",
       "Call:\n",
       "lm(formula = y ~ x, data = dfrm)\n",
       "\n",
       "Coefficients:\n",
       "(Intercept)            x  \n",
       "      2.213        2.979  \n"
      ]
     },
     "metadata": {},
     "output_type": "display_data"
    }
   ],
   "source": [
    "lm(y~x, data =dfrm)"
   ]
  },
  {
   "cell_type": "markdown",
   "metadata": {},
   "source": [
    "```y = 2.213x + 2.979```"
   ]
  },
  {
   "cell_type": "markdown",
   "metadata": {},
   "source": [
    "##### 다. 최적회귀방정식의 선택 : 설명변수의 선택 "
   ]
  },
  {
   "cell_type": "markdown",
   "metadata": {},
   "source": [
    "###### (1) 모든 가능한 조합의 회귀 분석(All possible regression)"
   ]
  },
  {
   "cell_type": "markdown",
   "metadata": {},
   "source": [
    "###### (2) 단계적 변수 선택(Sterpwise Variable Selection)"
   ]
  },
  {
   "cell_type": "markdown",
   "metadata": {},
   "source": []
  },
  {
   "cell_type": "markdown",
   "metadata": {},
   "source": []
  }
 ],
 "metadata": {
  "celltoolbar": "Raw Cell Format",
  "kernelspec": {
   "display_name": "R",
   "language": "R",
   "name": "ir"
  },
  "language_info": {
   "codemirror_mode": "r",
   "file_extension": ".r",
   "mimetype": "text/x-r-source",
   "name": "R",
   "pygments_lexer": "r",
   "version": "3.5.1"
  }
 },
 "nbformat": 4,
 "nbformat_minor": 2
}
