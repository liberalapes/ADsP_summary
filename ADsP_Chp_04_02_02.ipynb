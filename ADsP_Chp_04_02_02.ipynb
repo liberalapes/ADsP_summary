{
 "cells": [
  {
   "cell_type": "markdown",
   "metadata": {},
   "source": [
    "# 목차"
   ]
  },
  {
   "cell_type": "markdown",
   "metadata": {},
   "source": [
    "<table style=\"width:100%\">\n",
    "  <thead>\n",
    "    <tr>\n",
    "      <th rowspan=\"2\">구분</th>\n",
    "      <th rowspan=\"2\">과목명</th>\n",
    "      <th colspan=\"2\">문항수</th>\n",
    "      <th colspan=\"2\">배점</th>\n",
    "      <th rowspan=\"2\">시험시간</th>\n",
    "    </tr>\n",
    "    <tr>\n",
    "      <th>객관식</th>\n",
    "      <th>단답형</th>\n",
    "      <th>객관식</th>\n",
    "      <th>단답형</th>\n",
    "    </tr>\n",
    "  </thead>\n",
    "  <tbody>\n",
    "      <tr>\n",
    "          <td rowspan=\"4\", bgcolor=\"lightgrey\">필기</td>\n",
    "          <td>데이터 이해</td>\n",
    "          <td>8</td>\n",
    "          <td>2</td>\n",
    "          <td rowspan=\"3\">80 (각 2점)</td>\n",
    "          <td rowspan=\"3\">20 (각 2점)</td>\n",
    "          <td rowspan=\"4\" >90분 (1시간 30분)</td>\n",
    "      </tr>\n",
    "      <tr>\n",
    "          <td>데이터 분석 기획</td>\n",
    "          <td>8</td>\n",
    "          <td>2</td>\n",
    "      </tr>\n",
    "      <tr>\n",
    "          <td bgcolor=\"lightgrey\"><b>데이터 분석</b></td>\n",
    "          <td bgcolor=\"lightgrey\"><b>24</b></td>\n",
    "          <td bgcolor=\"lightgrey\"><b>6</b></td>\n",
    "      </tr>\n",
    "      <tr>\n",
    "          <td>계</td>\n",
    "          <td>40</td>\n",
    "          <td>10</td>\n",
    "          <td colspan=\"2\">100</td>\n",
    "      </tr>\n",
    "  </tbody>\n",
    "</table>"
   ]
  },
  {
   "cell_type": "markdown",
   "metadata": {},
   "source": [
    "<table  style=\"width:100%\">\n",
    "    <tbody>\n",
    "            <tr>\n",
    "              <th rowspan=\"11\", bgcolor=\"lightgrey\"><b>데이터 분석</b></th>\n",
    "              <td rowspan=\"3\">R기초와 데이터 마트</td>\n",
    "              <td>R기초</td>\n",
    "            </tr>\n",
    "            <tr>\n",
    "              <td>데이터 마트</td>\n",
    "            </tr>\n",
    "            <tr>\n",
    "              <td>결측값 처리와 이상값 검색</td>\n",
    "            </tr>\n",
    "            <tr>\n",
    "                <td rowspan=\"4\"  bgcolor=\"lightgrey\"><b>통계분석</b></td>\n",
    "                <td> 통계학 개론</td>\n",
    "            </tr>\n",
    "            <tr>\n",
    "                <td bgcolor=\"lightgrey\"><b>기초 통계분석</b></td>\n",
    "            </tr>\n",
    "            <tr>\n",
    "              <td>다변량 분석</td>\n",
    "            </tr>\n",
    "            <tr>\n",
    "              <td>시계열 예측</td>\n",
    "            </tr>\n",
    "            <tr>\n",
    "              <td rowspan=\"4\">정형 데이터 마이닝</td>\n",
    "              <td>데이터 마이닝 개요</td>\n",
    "            </tr>\n",
    "            <tr>\n",
    "              <td>분류분석(Classification)</td>\n",
    "            </tr>\n",
    "            <tr>\n",
    "              <td>군집분석(Clustering)</td>\n",
    "            </tr>\n",
    "            <tr>\n",
    "              <td>연관분석(Association Analysis)</td>\n",
    "            </tr>\n",
    "      </tbody>\n",
    "</table>"
   ]
  },
  {
   "cell_type": "markdown",
   "metadata": {},
   "source": [
    "# 과목 IV 데이터 분석"
   ]
  },
  {
   "cell_type": "markdown",
   "metadata": {},
   "source": [
    "## 제 2장 통계 분석"
   ]
  },
  {
   "cell_type": "markdown",
   "metadata": {},
   "source": [
    "### 제2절 기초 통계 분석"
   ]
  },
  {
   "cell_type": "markdown",
   "metadata": {},
   "source": [
    "#### 1. 기술 통계"
   ]
  },
  {
   "cell_type": "markdown",
   "metadata": {},
   "source": [
    "- 기술통계(Descriprive Statistics) : 자료를 요약하는 기초적인 통계를 의미"
   ]
  },
  {
   "cell_type": "code",
   "execution_count": 1,
   "metadata": {},
   "outputs": [
    {
     "data": {
      "text/html": [
       "<table>\n",
       "<thead><tr><th scope=col>Sepal.Length</th><th scope=col>Sepal.Width</th><th scope=col>Petal.Length</th><th scope=col>Petal.Width</th><th scope=col>Species</th></tr></thead>\n",
       "<tbody>\n",
       "\t<tr><td>5.1   </td><td>3.5   </td><td>1.4   </td><td>0.2   </td><td>setosa</td></tr>\n",
       "\t<tr><td>4.9   </td><td>3.0   </td><td>1.4   </td><td>0.2   </td><td>setosa</td></tr>\n",
       "\t<tr><td>4.7   </td><td>3.2   </td><td>1.3   </td><td>0.2   </td><td>setosa</td></tr>\n",
       "\t<tr><td>4.6   </td><td>3.1   </td><td>1.5   </td><td>0.2   </td><td>setosa</td></tr>\n",
       "\t<tr><td>5.0   </td><td>3.6   </td><td>1.4   </td><td>0.2   </td><td>setosa</td></tr>\n",
       "\t<tr><td>5.4   </td><td>3.9   </td><td>1.7   </td><td>0.4   </td><td>setosa</td></tr>\n",
       "</tbody>\n",
       "</table>\n"
      ],
      "text/latex": [
       "\\begin{tabular}{r|lllll}\n",
       " Sepal.Length & Sepal.Width & Petal.Length & Petal.Width & Species\\\\\n",
       "\\hline\n",
       "\t 5.1    & 3.5    & 1.4    & 0.2    & setosa\\\\\n",
       "\t 4.9    & 3.0    & 1.4    & 0.2    & setosa\\\\\n",
       "\t 4.7    & 3.2    & 1.3    & 0.2    & setosa\\\\\n",
       "\t 4.6    & 3.1    & 1.5    & 0.2    & setosa\\\\\n",
       "\t 5.0    & 3.6    & 1.4    & 0.2    & setosa\\\\\n",
       "\t 5.4    & 3.9    & 1.7    & 0.4    & setosa\\\\\n",
       "\\end{tabular}\n"
      ],
      "text/markdown": [
       "\n",
       "Sepal.Length | Sepal.Width | Petal.Length | Petal.Width | Species | \n",
       "|---|---|---|---|---|---|\n",
       "| 5.1    | 3.5    | 1.4    | 0.2    | setosa | \n",
       "| 4.9    | 3.0    | 1.4    | 0.2    | setosa | \n",
       "| 4.7    | 3.2    | 1.3    | 0.2    | setosa | \n",
       "| 4.6    | 3.1    | 1.5    | 0.2    | setosa | \n",
       "| 5.0    | 3.6    | 1.4    | 0.2    | setosa | \n",
       "| 5.4    | 3.9    | 1.7    | 0.4    | setosa | \n",
       "\n",
       "\n"
      ],
      "text/plain": [
       "  Sepal.Length Sepal.Width Petal.Length Petal.Width Species\n",
       "1 5.1          3.5         1.4          0.2         setosa \n",
       "2 4.9          3.0         1.4          0.2         setosa \n",
       "3 4.7          3.2         1.3          0.2         setosa \n",
       "4 4.6          3.1         1.5          0.2         setosa \n",
       "5 5.0          3.6         1.4          0.2         setosa \n",
       "6 5.4          3.9         1.7          0.4         setosa "
      ]
     },
     "metadata": {},
     "output_type": "display_data"
    }
   ],
   "source": [
    "data(iris)\n",
    "head(iris)"
   ]
  },
  {
   "cell_type": "code",
   "execution_count": 2,
   "metadata": {},
   "outputs": [
    {
     "data": {
      "text/html": [
       "<table>\n",
       "<thead><tr><th scope=col>Sepal.Length</th><th scope=col>Sepal.Width</th><th scope=col>Petal.Length</th><th scope=col>Petal.Width</th><th scope=col>Species</th></tr></thead>\n",
       "<tbody>\n",
       "\t<tr><td>5.1   </td><td>3.5   </td><td>1.4   </td><td>0.2   </td><td>setosa</td></tr>\n",
       "\t<tr><td>4.9   </td><td>3.0   </td><td>1.4   </td><td>0.2   </td><td>setosa</td></tr>\n",
       "\t<tr><td>4.7   </td><td>3.2   </td><td>1.3   </td><td>0.2   </td><td>setosa</td></tr>\n",
       "\t<tr><td>4.6   </td><td>3.1   </td><td>1.5   </td><td>0.2   </td><td>setosa</td></tr>\n",
       "\t<tr><td>5.0   </td><td>3.6   </td><td>1.4   </td><td>0.2   </td><td>setosa</td></tr>\n",
       "\t<tr><td>5.4   </td><td>3.9   </td><td>1.7   </td><td>0.4   </td><td>setosa</td></tr>\n",
       "\t<tr><td>4.6   </td><td>3.4   </td><td>1.4   </td><td>0.3   </td><td>setosa</td></tr>\n",
       "\t<tr><td>5.0   </td><td>3.4   </td><td>1.5   </td><td>0.2   </td><td>setosa</td></tr>\n",
       "\t<tr><td>4.4   </td><td>2.9   </td><td>1.4   </td><td>0.2   </td><td>setosa</td></tr>\n",
       "\t<tr><td>4.9   </td><td>3.1   </td><td>1.5   </td><td>0.1   </td><td>setosa</td></tr>\n",
       "</tbody>\n",
       "</table>\n"
      ],
      "text/latex": [
       "\\begin{tabular}{r|lllll}\n",
       " Sepal.Length & Sepal.Width & Petal.Length & Petal.Width & Species\\\\\n",
       "\\hline\n",
       "\t 5.1    & 3.5    & 1.4    & 0.2    & setosa\\\\\n",
       "\t 4.9    & 3.0    & 1.4    & 0.2    & setosa\\\\\n",
       "\t 4.7    & 3.2    & 1.3    & 0.2    & setosa\\\\\n",
       "\t 4.6    & 3.1    & 1.5    & 0.2    & setosa\\\\\n",
       "\t 5.0    & 3.6    & 1.4    & 0.2    & setosa\\\\\n",
       "\t 5.4    & 3.9    & 1.7    & 0.4    & setosa\\\\\n",
       "\t 4.6    & 3.4    & 1.4    & 0.3    & setosa\\\\\n",
       "\t 5.0    & 3.4    & 1.5    & 0.2    & setosa\\\\\n",
       "\t 4.4    & 2.9    & 1.4    & 0.2    & setosa\\\\\n",
       "\t 4.9    & 3.1    & 1.5    & 0.1    & setosa\\\\\n",
       "\\end{tabular}\n"
      ],
      "text/markdown": [
       "\n",
       "Sepal.Length | Sepal.Width | Petal.Length | Petal.Width | Species | \n",
       "|---|---|---|---|---|---|---|---|---|---|\n",
       "| 5.1    | 3.5    | 1.4    | 0.2    | setosa | \n",
       "| 4.9    | 3.0    | 1.4    | 0.2    | setosa | \n",
       "| 4.7    | 3.2    | 1.3    | 0.2    | setosa | \n",
       "| 4.6    | 3.1    | 1.5    | 0.2    | setosa | \n",
       "| 5.0    | 3.6    | 1.4    | 0.2    | setosa | \n",
       "| 5.4    | 3.9    | 1.7    | 0.4    | setosa | \n",
       "| 4.6    | 3.4    | 1.4    | 0.3    | setosa | \n",
       "| 5.0    | 3.4    | 1.5    | 0.2    | setosa | \n",
       "| 4.4    | 2.9    | 1.4    | 0.2    | setosa | \n",
       "| 4.9    | 3.1    | 1.5    | 0.1    | setosa | \n",
       "\n",
       "\n"
      ],
      "text/plain": [
       "   Sepal.Length Sepal.Width Petal.Length Petal.Width Species\n",
       "1  5.1          3.5         1.4          0.2         setosa \n",
       "2  4.9          3.0         1.4          0.2         setosa \n",
       "3  4.7          3.2         1.3          0.2         setosa \n",
       "4  4.6          3.1         1.5          0.2         setosa \n",
       "5  5.0          3.6         1.4          0.2         setosa \n",
       "6  5.4          3.9         1.7          0.4         setosa \n",
       "7  4.6          3.4         1.4          0.3         setosa \n",
       "8  5.0          3.4         1.5          0.2         setosa \n",
       "9  4.4          2.9         1.4          0.2         setosa \n",
       "10 4.9          3.1         1.5          0.1         setosa "
      ]
     },
     "metadata": {},
     "output_type": "display_data"
    }
   ],
   "source": [
    "head(iris, 10) # 특정 라인까지 보고 싶으면 인자를 하나 더 추가한다."
   ]
  },
  {
   "cell_type": "code",
   "execution_count": 5,
   "metadata": {
    "scrolled": true
   },
   "outputs": [
    {
     "data": {
      "text/plain": [
       "  Sepal.Length    Sepal.Width     Petal.Length    Petal.Width   \n",
       " Min.   :4.300   Min.   :2.000   Min.   :1.000   Min.   :0.100  \n",
       " 1st Qu.:5.100   1st Qu.:2.800   1st Qu.:1.600   1st Qu.:0.300  \n",
       " Median :5.800   Median :3.000   Median :4.350   Median :1.300  \n",
       " Mean   :5.843   Mean   :3.057   Mean   :3.758   Mean   :1.199  \n",
       " 3rd Qu.:6.400   3rd Qu.:3.300   3rd Qu.:5.100   3rd Qu.:1.800  \n",
       " Max.   :7.900   Max.   :4.400   Max.   :6.900   Max.   :2.500  \n",
       "       Species  \n",
       " setosa    :50  \n",
       " versicolor:50  \n",
       " virginica :50  \n",
       "                \n",
       "                \n",
       "                "
      ]
     },
     "metadata": {},
     "output_type": "display_data"
    }
   ],
   "source": [
    "summary(iris)"
   ]
  },
  {
   "cell_type": "code",
   "execution_count": 22,
   "metadata": {},
   "outputs": [
    {
     "data": {
      "text/html": [
       "5.84333333333333"
      ],
      "text/latex": [
       "5.84333333333333"
      ],
      "text/markdown": [
       "5.84333333333333"
      ],
      "text/plain": [
       "[1] 5.843333"
      ]
     },
     "metadata": {},
     "output_type": "display_data"
    }
   ],
   "source": [
    "mean(iris$Sepal.Length) # 평균"
   ]
  },
  {
   "cell_type": "code",
   "execution_count": 23,
   "metadata": {},
   "outputs": [
    {
     "data": {
      "text/html": [
       "5.8"
      ],
      "text/latex": [
       "5.8"
      ],
      "text/markdown": [
       "5.8"
      ],
      "text/plain": [
       "[1] 5.8"
      ]
     },
     "metadata": {},
     "output_type": "display_data"
    }
   ],
   "source": [
    "median(iris$Sepal.Length) #중앙값"
   ]
  },
  {
   "cell_type": "code",
   "execution_count": 24,
   "metadata": {},
   "outputs": [
    {
     "data": {
      "text/html": [
       "0.828066127977863"
      ],
      "text/latex": [
       "0.828066127977863"
      ],
      "text/markdown": [
       "0.828066127977863"
      ],
      "text/plain": [
       "[1] 0.8280661"
      ]
     },
     "metadata": {},
     "output_type": "display_data"
    }
   ],
   "source": [
    "sd(iris$Sepal.Length) #표준편차"
   ]
  },
  {
   "cell_type": "code",
   "execution_count": 25,
   "metadata": {},
   "outputs": [
    {
     "data": {
      "text/html": [
       "0.685693512304251"
      ],
      "text/latex": [
       "0.685693512304251"
      ],
      "text/markdown": [
       "0.685693512304251"
      ],
      "text/plain": [
       "[1] 0.6856935"
      ]
     },
     "metadata": {},
     "output_type": "display_data"
    }
   ],
   "source": [
    "var(iris$Sepal.Length) #분산"
   ]
  },
  {
   "cell_type": "code",
   "execution_count": 29,
   "metadata": {},
   "outputs": [
    {
     "data": {
      "text/html": [
       "<dl class=dl-horizontal>\n",
       "\t<dt>0%</dt>\n",
       "\t\t<dd>4.3</dd>\n",
       "\t<dt>25%</dt>\n",
       "\t\t<dd>5.1</dd>\n",
       "\t<dt>50%</dt>\n",
       "\t\t<dd>5.8</dd>\n",
       "\t<dt>75%</dt>\n",
       "\t\t<dd>6.4</dd>\n",
       "\t<dt>100%</dt>\n",
       "\t\t<dd>7.9</dd>\n",
       "</dl>\n"
      ],
      "text/latex": [
       "\\begin{description*}\n",
       "\\item[0\\textbackslash{}\\%] 4.3\n",
       "\\item[25\\textbackslash{}\\%] 5.1\n",
       "\\item[50\\textbackslash{}\\%] 5.8\n",
       "\\item[75\\textbackslash{}\\%] 6.4\n",
       "\\item[100\\textbackslash{}\\%] 7.9\n",
       "\\end{description*}\n"
      ],
      "text/markdown": [
       "0%\n",
       ":   4.325%\n",
       ":   5.150%\n",
       ":   5.875%\n",
       ":   6.4100%\n",
       ":   7.9\n",
       "\n"
      ],
      "text/plain": [
       "  0%  25%  50%  75% 100% \n",
       " 4.3  5.1  5.8  6.4  7.9 "
      ]
     },
     "metadata": {},
     "output_type": "display_data"
    }
   ],
   "source": [
    "quantile(iris$Sepal.Length) #사위분위수"
   ]
  },
  {
   "cell_type": "code",
   "execution_count": 31,
   "metadata": {},
   "outputs": [
    {
     "data": {
      "text/html": [
       "<strong>25%:</strong> 5.1"
      ],
      "text/latex": [
       "\\textbf{25\\textbackslash{}\\%:} 5.1"
      ],
      "text/markdown": [
       "**25%:** 5.1"
      ],
      "text/plain": [
       "25% \n",
       "5.1 "
      ]
     },
     "metadata": {},
     "output_type": "display_data"
    }
   ],
   "source": [
    "quantile(iris$Sepal.Length, 1/4) # 1사위분위"
   ]
  },
  {
   "cell_type": "code",
   "execution_count": 32,
   "metadata": {},
   "outputs": [
    {
     "data": {
      "text/html": [
       "7.9"
      ],
      "text/latex": [
       "7.9"
      ],
      "text/markdown": [
       "7.9"
      ],
      "text/plain": [
       "[1] 7.9"
      ]
     },
     "metadata": {},
     "output_type": "display_data"
    }
   ],
   "source": [
    "max(iris$Sepal.Length) # 최대값"
   ]
  },
  {
   "cell_type": "code",
   "execution_count": 33,
   "metadata": {},
   "outputs": [
    {
     "data": {
      "text/html": [
       "4.3"
      ],
      "text/latex": [
       "4.3"
      ],
      "text/markdown": [
       "4.3"
      ],
      "text/plain": [
       "[1] 4.3"
      ]
     },
     "metadata": {},
     "output_type": "display_data"
    }
   ],
   "source": [
    "min(iris$Sepal.Length) #최소값"
   ]
  },
  {
   "cell_type": "code",
   "execution_count": 34,
   "metadata": {},
   "outputs": [
    {
     "data": {
      "text/html": [
       "<table>\n",
       "<thead><tr><th></th><th scope=col>body</th><th scope=col>brain</th></tr></thead>\n",
       "<tbody>\n",
       "\t<tr><th scope=row>Mountain beaver</th><td>    1.35</td><td>  8.1   </td></tr>\n",
       "\t<tr><th scope=row>Cow</th><td>  465.00</td><td>423.0   </td></tr>\n",
       "\t<tr><th scope=row>Grey wolf</th><td>   36.33</td><td>119.5   </td></tr>\n",
       "\t<tr><th scope=row>Goat</th><td>   27.66</td><td>115.0   </td></tr>\n",
       "\t<tr><th scope=row>Guinea pig</th><td>    1.04</td><td>  5.5   </td></tr>\n",
       "\t<tr><th scope=row>Dipliodocus</th><td>11700.00</td><td> 50.0   </td></tr>\n",
       "</tbody>\n",
       "</table>\n"
      ],
      "text/latex": [
       "\\begin{tabular}{r|ll}\n",
       "  & body & brain\\\\\n",
       "\\hline\n",
       "\tMountain beaver &     1.35 &   8.1   \\\\\n",
       "\tCow &   465.00 & 423.0   \\\\\n",
       "\tGrey wolf &    36.33 & 119.5   \\\\\n",
       "\tGoat &    27.66 & 115.0   \\\\\n",
       "\tGuinea pig &     1.04 &   5.5   \\\\\n",
       "\tDipliodocus & 11700.00 &  50.0   \\\\\n",
       "\\end{tabular}\n"
      ],
      "text/markdown": [
       "\n",
       "| <!--/--> | body | brain | \n",
       "|---|---|---|---|---|---|\n",
       "| Mountain beaver |     1.35 |   8.1    | \n",
       "| Cow |   465.00 | 423.0    | \n",
       "| Grey wolf |    36.33 | 119.5    | \n",
       "| Goat |    27.66 | 115.0    | \n",
       "| Guinea pig |     1.04 |   5.5    | \n",
       "| Dipliodocus | 11700.00 |  50.0    | \n",
       "\n",
       "\n"
      ],
      "text/plain": [
       "                body     brain\n",
       "Mountain beaver     1.35   8.1\n",
       "Cow               465.00 423.0\n",
       "Grey wolf          36.33 119.5\n",
       "Goat               27.66 115.0\n",
       "Guinea pig          1.04   5.5\n",
       "Dipliodocus     11700.00  50.0"
      ]
     },
     "metadata": {},
     "output_type": "display_data"
    }
   ],
   "source": [
    "# install.packages(\"MASS\")\n",
    "library(MASS)\n",
    "data(Animals)\n",
    "head(Animals)"
   ]
  },
  {
   "cell_type": "code",
   "execution_count": 37,
   "metadata": {},
   "outputs": [
    {
     "data": {
      "text/html": [
       "4278.43875"
      ],
      "text/latex": [
       "4278.43875"
      ],
      "text/markdown": [
       "4278.43875"
      ],
      "text/plain": [
       "[1] 4278.439"
      ]
     },
     "metadata": {},
     "output_type": "display_data"
    },
    {
     "data": {
      "text/html": [
       "574.521428571429"
      ],
      "text/latex": [
       "574.521428571429"
      ],
      "text/markdown": [
       "574.521428571429"
      ],
      "text/plain": [
       "[1] 574.5214"
      ]
     },
     "metadata": {},
     "output_type": "display_data"
    }
   ],
   "source": [
    "mean(Animals$body)\n",
    "mean(Animals$brain)"
   ]
  },
  {
   "cell_type": "code",
   "execution_count": 38,
   "metadata": {},
   "outputs": [
    {
     "data": {
      "text/html": [
       "53.83"
      ],
      "text/latex": [
       "53.83"
      ],
      "text/markdown": [
       "53.83"
      ],
      "text/plain": [
       "[1] 53.83"
      ]
     },
     "metadata": {},
     "output_type": "display_data"
    },
    {
     "data": {
      "text/html": [
       "137"
      ],
      "text/latex": [
       "137"
      ],
      "text/markdown": [
       "137"
      ],
      "text/plain": [
       "[1] 137"
      ]
     },
     "metadata": {},
     "output_type": "display_data"
    }
   ],
   "source": [
    "median(Animals$body)\n",
    "median(Animals$brain)"
   ]
  },
  {
   "cell_type": "code",
   "execution_count": 39,
   "metadata": {},
   "outputs": [
    {
     "data": {
      "text/html": [
       "16480.4903792696"
      ],
      "text/latex": [
       "16480.4903792696"
      ],
      "text/markdown": [
       "16480.4903792696"
      ],
      "text/plain": [
       "[1] 16480.49"
      ]
     },
     "metadata": {},
     "output_type": "display_data"
    },
    {
     "data": {
      "text/html": [
       "1334.92919061958"
      ],
      "text/latex": [
       "1334.92919061958"
      ],
      "text/markdown": [
       "1334.92919061958"
      ],
      "text/plain": [
       "[1] 1334.929"
      ]
     },
     "metadata": {},
     "output_type": "display_data"
    }
   ],
   "source": [
    "sd(Animals$body)\n",
    "sd(Animals$brain)"
   ]
  },
  {
   "cell_type": "code",
   "execution_count": 40,
   "metadata": {},
   "outputs": [
    {
     "data": {
      "text/html": [
       "271606563.141199"
      ],
      "text/latex": [
       "271606563.141199"
      ],
      "text/markdown": [
       "271606563.141199"
      ],
      "text/plain": [
       "[1] 271606563"
      ]
     },
     "metadata": {},
     "output_type": "display_data"
    },
    {
     "data": {
      "text/html": [
       "1782035.94396825"
      ],
      "text/latex": [
       "1782035.94396825"
      ],
      "text/markdown": [
       "1782035.94396825"
      ],
      "text/plain": [
       "[1] 1782036"
      ]
     },
     "metadata": {},
     "output_type": "display_data"
    }
   ],
   "source": [
    "var(Animals$body)\n",
    "var(Animals$brain)"
   ]
  },
  {
   "cell_type": "code",
   "execution_count": 42,
   "metadata": {},
   "outputs": [
    {
     "data": {
      "text/html": [
       "<dl class=dl-horizontal>\n",
       "\t<dt>0%</dt>\n",
       "\t\t<dd>0.023</dd>\n",
       "\t<dt>25%</dt>\n",
       "\t\t<dd>3.1</dd>\n",
       "\t<dt>50%</dt>\n",
       "\t\t<dd>53.83</dd>\n",
       "\t<dt>75%</dt>\n",
       "\t\t<dd>479</dd>\n",
       "\t<dt>100%</dt>\n",
       "\t\t<dd>87000</dd>\n",
       "</dl>\n"
      ],
      "text/latex": [
       "\\begin{description*}\n",
       "\\item[0\\textbackslash{}\\%] 0.023\n",
       "\\item[25\\textbackslash{}\\%] 3.1\n",
       "\\item[50\\textbackslash{}\\%] 53.83\n",
       "\\item[75\\textbackslash{}\\%] 479\n",
       "\\item[100\\textbackslash{}\\%] 87000\n",
       "\\end{description*}\n"
      ],
      "text/markdown": [
       "0%\n",
       ":   0.02325%\n",
       ":   3.150%\n",
       ":   53.8375%\n",
       ":   479100%\n",
       ":   87000\n",
       "\n"
      ],
      "text/plain": [
       "       0%       25%       50%       75%      100% \n",
       "    0.023     3.100    53.830   479.000 87000.000 "
      ]
     },
     "metadata": {},
     "output_type": "display_data"
    },
    {
     "data": {
      "text/html": [
       "<dl class=dl-horizontal>\n",
       "\t<dt>0%</dt>\n",
       "\t\t<dd>0.4</dd>\n",
       "\t<dt>25%</dt>\n",
       "\t\t<dd>22.225</dd>\n",
       "\t<dt>50%</dt>\n",
       "\t\t<dd>137</dd>\n",
       "\t<dt>75%</dt>\n",
       "\t\t<dd>420</dd>\n",
       "\t<dt>100%</dt>\n",
       "\t\t<dd>5712</dd>\n",
       "</dl>\n"
      ],
      "text/latex": [
       "\\begin{description*}\n",
       "\\item[0\\textbackslash{}\\%] 0.4\n",
       "\\item[25\\textbackslash{}\\%] 22.225\n",
       "\\item[50\\textbackslash{}\\%] 137\n",
       "\\item[75\\textbackslash{}\\%] 420\n",
       "\\item[100\\textbackslash{}\\%] 5712\n",
       "\\end{description*}\n"
      ],
      "text/markdown": [
       "0%\n",
       ":   0.425%\n",
       ":   22.22550%\n",
       ":   13775%\n",
       ":   420100%\n",
       ":   5712\n",
       "\n"
      ],
      "text/plain": [
       "      0%      25%      50%      75%     100% \n",
       "   0.400   22.225  137.000  420.000 5712.000 "
      ]
     },
     "metadata": {},
     "output_type": "display_data"
    }
   ],
   "source": [
    "quantile(Animals$body)\n",
    "quantile(Animals$brain)"
   ]
  },
  {
   "cell_type": "markdown",
   "metadata": {},
   "source": [
    "#### 2. 회귀분석(Regression Analsys)"
   ]
  },
  {
   "cell_type": "markdown",
   "metadata": {},
   "source": [
    "##### 가. 단순회귀분석과 중회귀분석의 개념"
   ]
  },
  {
   "cell_type": "markdown",
   "metadata": {},
   "source": [
    "- 회귀분석\n",
    "    - 하나나 그 이상의 변수들이 또 다른 변수에 미치는 영향에 대해 추론할 수 있는 통계기법\n",
    "    - 영향을 받는 변수를 종속변수 혹은 반응변수라고 하고 보통 y 로 표기\n",
    "    - 영향을 주는 변수를 독립변수 혹은 설명변수라고 하고 보통 x1, x2, x3 등으로 표기\n",
    "- 단순선형회귀모형은 회귀모형 중에서 가장 단순한 모형\n",
    "    - 한 개의 독립변수와 하나의 종속변수로 이뤄져 있고, 오차항이 있는 선형관계로 다음과 같이 쓸 수 있음\n",
    "    $$ Y_i = \\beta_0 +  \\beta_1x_i , + \\epsilon _i $$ \n",
    "    $$i = 1,2,..., n$$"
   ]
  },
  {
   "cell_type": "markdown",
   "metadata": {},
   "source": [
    "- 위의 모형에서 \n",
    "    - B0과 B1은 회귀계수라고 하고, 특히 B1은 독립변수 x1의 회귀계수라고 함\n",
    "    - ei는 오차항으로 보통의 경우 평균이 0이고, 분산이 s2인 정규 모형을 따른다고 가정한다.\n",
    "     - 독립변수가 n개가 x1, x2, .. xn과 같이 주어지고, 종속변수는 독립변수에 대해 쌍으로 y1,y2,... yn과 같이 주어진 자료에 적합\n",
    "     - 주어진 자료를 가장 잘 설명하는 회귀계수의 추정치는 보통 제곱오차\n",
    "$$ \\sum_{i=1}^n (y_1 - (\\beta_0 + \\beta_1x_1))^2 $$\n",
    "를 최소로 하는 값으로 구함\n",
    "- 위와 같이 구해진 값을, 회귀게수의 추정량을 최소제곱추정량(LEast Squares Estimator 혹은 LSE)라고 함"
   ]
  },
  {
   "cell_type": "markdown",
   "metadata": {},
   "source": [
    "- 단순선형회귀모형이 종속변수의 변동을 설명하는데 충분하지 않다면, \n",
    "    - 두 개 이상의 독립변수를 사용하여 종속변수의 변화를 설명하는 다중회귀분석(중회귀분석)을 실시할 수 있음\n",
    "    $$y_1 = \\beta_0 + \\beta_1x_{1i} + \\beta_2x_{2i}+ \\beta_3x_{3i} + \\epsilon _i $$\n",
    "    $$i = 1,2, ... , n$$"
   ]
  },
  {
   "cell_type": "markdown",
   "metadata": {},
   "source": [
    "- 모형이 통계적으로 유의미한가\n",
    "    - F통계량을 확인한다. \n",
    "    - 유의수준 5% 하에서 F통계량의 p-값이 0.05보다 작으면 추정된 회귀식은 통계적으로 유의미함\n",
    "- 회귀계수들이 유의미한가\n",
    "    - 해당 계수의 t통계량과 p-값 또는 이들의 신뢰구간을 확인\n",
    "- 모형이 얼마나 설명력을 갖는가\n",
    "    - 결정계수를 확인\n",
    "        - 결정계수는 0에서 1값을 가짐\n",
    "        - 높은 값을 가질수록 추정된 회귀식의 설명력이 높음\n",
    "- 모형이 데이터를 잘 적합하고 있는가\n",
    "    - 잔차를 그래프로 그리고 회귀진단을 함\n",
    "- 데이터가 아래의 모형 가정을 만족시키는가\n",
    "- 가정\n",
    "    - 선형성 : 독립변수의 변화에 따라 종속변수도 일정크리로 변화\n",
    "    - 독립성 : 잔차와 독립변수의 값이 관련돼 있지 않음\n",
    "    - 등분산성 : 독립변수의 모든 값에 대해 오차들의 분산이 일절\n",
    "    - 비상관성 : 관측치들의 잔차들끼리 상관이 없어야 함\n",
    "    - 정상정 : 잔차항이 정규분포를 이뤄야 함"
   ]
  },
  {
   "cell_type": "markdown",
   "metadata": {},
   "source": [
    "##### 나. 회귀분석의 종류"
   ]
  },
  {
   "cell_type": "markdown",
   "metadata": {},
   "source": [
    "<table style=\"width:100%\">\n",
    "        <tr>\n",
    "            <th> 종류</th>\n",
    "            <th colspan = 2> 모형</th>\n",
    "        </tr>\n",
    "        <tr>\n",
    "            <td>단순회귀</td>\n",
    "            <td>$$ Y = \\beta _0 + \\beta_1X + \\epsilon $$</td>\n",
    "            <td>설명변수가 1개이며 반응변수와의 관계가 직선</td>\n",
    "        </tr>\n",
    "        <tr>\n",
    "            <td>다중회귀</td>\n",
    "            <td>$$ Y = \\beta _0 + \\beta_1X_1 + \\beta_2X_2 + ... + \\epsilon $$</td>\n",
    "            <td>설명변수가 k개이며, 반응변수와의 관계가 선형(1차 함수)</td>\n",
    "        </tr>\n",
    "        <tr>\n",
    "            <td>다항회귀</td>\n",
    "            <td>k=2 이고, 2차 함수인 경우, $$ Y = \\beta _0 + \\beta_1X_1 + \\beta_2X_2+ \\beta_{11}X_1^2 + \\beta_{22}X_2^2 + + \\beta_{12}X_1X_2 + \\epsilon $$</td>\n",
    "            <td>설명변수가 k개이며, 반응변수와의 관계가 1차 함수 이상 (단, k=1이면 2차 함수 이상)</td>\n",
    "        </tr>\n",
    "        <tr>\n",
    "            <td>비선형회귀</td>\n",
    "            <td>$$ Y = g(\\beta_0 + \\beta_1X+...+\\beta_kX_k)+\\epsilon$$</td>\n",
    "            <td>회귀식의 모양이 미지의 모수 $$ \\beta_i $$ 들의 선형관계로 이루어져 있지 않은 모형, 예를 들면 옆의 식에서 $$g(t) = e^t $$ 와 같은 비선형 식을 고려할 수 있다.</td>\n",
    "        </tr> \n",
    "</table>"
   ]
  },
  {
   "cell_type": "code",
   "execution_count": 4,
   "metadata": {},
   "outputs": [
    {
     "data": {
      "text/html": [
       "<table>\n",
       "<thead><tr><th scope=col>x</th><th scope=col>y</th></tr></thead>\n",
       "<tbody>\n",
       "\t<tr><td> 2.033705</td><td> 8.127599</td></tr>\n",
       "\t<tr><td> 7.726114</td><td>25.319934</td></tr>\n",
       "\t<tr><td> 6.306590</td><td>20.871829</td></tr>\n",
       "\t<tr><td> 1.848571</td><td> 7.942608</td></tr>\n",
       "\t<tr><td>10.382233</td><td>33.118941</td></tr>\n",
       "\t<tr><td>10.378225</td><td>33.218204</td></tr>\n",
       "\t<tr><td> 1.420749</td><td> 6.458597</td></tr>\n",
       "\t<tr><td> 9.167937</td><td>29.425272</td></tr>\n",
       "\t<tr><td> 5.148204</td><td>17.236677</td></tr>\n",
       "\t<tr><td> 6.049821</td><td>20.505909</td></tr>\n",
       "</tbody>\n",
       "</table>\n"
      ],
      "text/latex": [
       "\\begin{tabular}{r|ll}\n",
       " x & y\\\\\n",
       "\\hline\n",
       "\t  2.033705 &  8.127599\\\\\n",
       "\t  7.726114 & 25.319934\\\\\n",
       "\t  6.306590 & 20.871829\\\\\n",
       "\t  1.848571 &  7.942608\\\\\n",
       "\t 10.382233 & 33.118941\\\\\n",
       "\t 10.378225 & 33.218204\\\\\n",
       "\t  1.420749 &  6.458597\\\\\n",
       "\t  9.167937 & 29.425272\\\\\n",
       "\t  5.148204 & 17.236677\\\\\n",
       "\t  6.049821 & 20.505909\\\\\n",
       "\\end{tabular}\n"
      ],
      "text/markdown": [
       "\n",
       "x | y | \n",
       "|---|---|---|---|---|---|---|---|---|---|\n",
       "|  2.033705 |  8.127599 | \n",
       "|  7.726114 | 25.319934 | \n",
       "|  6.306590 | 20.871829 | \n",
       "|  1.848571 |  7.942608 | \n",
       "| 10.382233 | 33.118941 | \n",
       "| 10.378225 | 33.218204 | \n",
       "|  1.420749 |  6.458597 | \n",
       "|  9.167937 | 29.425272 | \n",
       "|  5.148204 | 17.236677 | \n",
       "|  6.049821 | 20.505909 | \n",
       "\n",
       "\n"
      ],
      "text/plain": [
       "   x         y        \n",
       "1   2.033705  8.127599\n",
       "2   7.726114 25.319934\n",
       "3   6.306590 20.871829\n",
       "4   1.848571  7.942608\n",
       "5  10.382233 33.118941\n",
       "6  10.378225 33.218204\n",
       "7   1.420749  6.458597\n",
       "8   9.167937 29.425272\n",
       "9   5.148204 17.236677\n",
       "10  6.049821 20.505909"
      ]
     },
     "metadata": {},
     "output_type": "display_data"
    }
   ],
   "source": [
    "set.seed(2)\n",
    "x = runif(10,0,11)\n",
    "y=2+3*x + rnorm(10,0,0.2)\n",
    "dfrm = data.frame(x,y)\n",
    "dfrm"
   ]
  },
  {
   "cell_type": "code",
   "execution_count": 7,
   "metadata": {},
   "outputs": [
    {
     "data": {
      "text/plain": [
       "\n",
       "Call:\n",
       "lm(formula = y ~ x, data = dfrm)\n",
       "\n",
       "Coefficients:\n",
       "(Intercept)            x  \n",
       "      2.213        2.979  \n"
      ]
     },
     "metadata": {},
     "output_type": "display_data"
    }
   ],
   "source": [
    "lm(y~x, data =dfrm)"
   ]
  },
  {
   "cell_type": "markdown",
   "metadata": {},
   "source": [
    "```y = 2.213x + 2.979```"
   ]
  },
  {
   "cell_type": "markdown",
   "metadata": {},
   "source": [
    "- set.seed \n",
    "    - 함수는 난수를 생성할 때 같은 난수가 나오도록 고정시키는 역할을 한다.\n",
    "    - 어떠한 양수라도 상관은 없으나 동일한 난수를 발생시키려면 같은 숫자를 사용한다."
   ]
  },
  {
   "cell_type": "code",
   "execution_count": 6,
   "metadata": {},
   "outputs": [
    {
     "data": {
      "text/html": [
       "<table>\n",
       "<thead><tr><th scope=col>y</th><th scope=col>u</th><th scope=col>v</th><th scope=col>w</th></tr></thead>\n",
       "<tbody>\n",
       "\t<tr><td>-25.6647952</td><td> 2.033705  </td><td>15.97407   </td><td>20.195064  </td></tr>\n",
       "\t<tr><td> -6.5562326</td><td> 7.726114  </td><td>13.15005   </td><td>12.238937  </td></tr>\n",
       "\t<tr><td>-36.4858791</td><td> 6.306590  </td><td>17.84462   </td><td>25.269786  </td></tr>\n",
       "\t<tr><td> 12.4472764</td><td> 1.848571  </td><td>12.62738   </td><td> 5.364542  </td></tr>\n",
       "\t<tr><td>  0.1638434</td><td>10.382233  </td><td>14.64754   </td><td>11.070895  </td></tr>\n",
       "\t<tr><td> -3.9124946</td><td>10.378225  </td><td>18.68194   </td><td>15.174424  </td></tr>\n",
       "\t<tr><td> 26.6127780</td><td> 1.420749  </td><td>19.78759   </td><td> 5.328159  </td></tr>\n",
       "\t<tr><td> -3.9238295</td><td> 9.167937  </td><td>13.03243   </td><td>11.354815  </td></tr>\n",
       "\t<tr><td>-53.0331805</td><td> 5.148204  </td><td>15.00328   </td><td>28.916677  </td></tr>\n",
       "\t<tr><td> 12.4387413</td><td> 6.049821  </td><td>11.67481   </td><td> 4.838788  </td></tr>\n",
       "</tbody>\n",
       "</table>\n"
      ],
      "text/latex": [
       "\\begin{tabular}{r|llll}\n",
       " y & u & v & w\\\\\n",
       "\\hline\n",
       "\t -25.6647952 &  2.033705   & 15.97407    & 20.195064  \\\\\n",
       "\t  -6.5562326 &  7.726114   & 13.15005    & 12.238937  \\\\\n",
       "\t -36.4858791 &  6.306590   & 17.84462    & 25.269786  \\\\\n",
       "\t  12.4472764 &  1.848571   & 12.62738    &  5.364542  \\\\\n",
       "\t   0.1638434 & 10.382233   & 14.64754    & 11.070895  \\\\\n",
       "\t  -3.9124946 & 10.378225   & 18.68194    & 15.174424  \\\\\n",
       "\t  26.6127780 &  1.420749   & 19.78759    &  5.328159  \\\\\n",
       "\t  -3.9238295 &  9.167937   & 13.03243    & 11.354815  \\\\\n",
       "\t -53.0331805 &  5.148204   & 15.00328    & 28.916677  \\\\\n",
       "\t  12.4387413 &  6.049821   & 11.67481    &  4.838788  \\\\\n",
       "\\end{tabular}\n"
      ],
      "text/markdown": [
       "\n",
       "y | u | v | w | \n",
       "|---|---|---|---|---|---|---|---|---|---|\n",
       "| -25.6647952 |  2.033705   | 15.97407    | 20.195064   | \n",
       "|  -6.5562326 |  7.726114   | 13.15005    | 12.238937   | \n",
       "| -36.4858791 |  6.306590   | 17.84462    | 25.269786   | \n",
       "|  12.4472764 |  1.848571   | 12.62738    |  5.364542   | \n",
       "|   0.1638434 | 10.382233   | 14.64754    | 11.070895   | \n",
       "|  -3.9124946 | 10.378225   | 18.68194    | 15.174424   | \n",
       "|  26.6127780 |  1.420749   | 19.78759    |  5.328159   | \n",
       "|  -3.9238295 |  9.167937   | 13.03243    | 11.354815   | \n",
       "| -53.0331805 |  5.148204   | 15.00328    | 28.916677   | \n",
       "|  12.4387413 |  6.049821   | 11.67481    |  4.838788   | \n",
       "\n",
       "\n"
      ],
      "text/plain": [
       "   y           u         v        w        \n",
       "1  -25.6647952  2.033705 15.97407 20.195064\n",
       "2   -6.5562326  7.726114 13.15005 12.238937\n",
       "3  -36.4858791  6.306590 17.84462 25.269786\n",
       "4   12.4472764  1.848571 12.62738  5.364542\n",
       "5    0.1638434 10.382233 14.64754 11.070895\n",
       "6   -3.9124946 10.378225 18.68194 15.174424\n",
       "7   26.6127780  1.420749 19.78759  5.328159\n",
       "8   -3.9238295  9.167937 13.03243 11.354815\n",
       "9  -53.0331805  5.148204 15.00328 28.916677\n",
       "10  12.4387413  6.049821 11.67481  4.838788"
      ]
     },
     "metadata": {},
     "output_type": "display_data"
    }
   ],
   "source": [
    "# 여러 개의 독립변수(uv,w)와 하나의 반응변수(y)를 생성하고, 이들 간에 선형관계가 있다고 생각하며, 데이터에 다중선형회귀를 실시해보자.\n",
    "\n",
    "set.seed(2)\n",
    "u = runif(10, 0, 11) # runif(n, min = 0, max = 1)\n",
    "v = runif(10, 11, 20)\n",
    "w = runif(10, 1, 30)\n",
    "\n",
    "y = 3 + 0.1 * u + 2 * v - 3*w + rnorm(10, 0, 0.1) # rnorm(n, mean = 0, sd = 1)\n",
    "dfrm = data.frame(y, u, v, w)\n",
    "dfrm"
   ]
  },
  {
   "cell_type": "code",
   "execution_count": 2,
   "metadata": {},
   "outputs": [],
   "source": [
    "help(runif)"
   ]
  },
  {
   "cell_type": "code",
   "execution_count": 9,
   "metadata": {},
   "outputs": [
    {
     "data": {
      "text/plain": [
       "\n",
       "Call:\n",
       "lm(formula = y ~ u + v + w)\n",
       "\n",
       "Coefficients:\n",
       "(Intercept)            u            v            w  \n",
       "     3.0417       0.1232       1.9890      -2.9978  \n"
      ]
     },
     "metadata": {},
     "output_type": "display_data"
    }
   ],
   "source": [
    "m <- lm(y~u+v+w)\n",
    "\n",
    "# lm(formula, data, subset, weights, na.action,\n",
    "#   method = \"qr\", model = TRUE, x = FALSE, y = FALSE, qr = TRUE,\n",
    "#   singular.ok = TRUE, contrasts = NULL, offset, ...)\n",
    "\n",
    "m"
   ]
  },
  {
   "cell_type": "markdown",
   "metadata": {},
   "source": [
    "- ```y = 3.0417 + 0.1232u + 1.9890v - 2.9978w ```"
   ]
  },
  {
   "cell_type": "code",
   "execution_count": 10,
   "metadata": {},
   "outputs": [
    {
     "data": {
      "text/plain": [
       "\n",
       "Call:\n",
       "lm(formula = y ~ u + v + w)\n",
       "\n",
       "Residuals:\n",
       "      Min        1Q    Median        3Q       Max \n",
       "-0.188562 -0.058632 -0.002013  0.080024  0.143757 \n",
       "\n",
       "Coefficients:\n",
       "             Estimate Std. Error  t value Pr(>|t|)    \n",
       "(Intercept)  3.041653   0.264808   11.486 2.62e-05 ***\n",
       "u            0.123173   0.012841    9.592 7.34e-05 ***\n",
       "v            1.989017   0.016586  119.923 2.27e-11 ***\n",
       "w           -2.997816   0.005421 -552.981 2.36e-15 ***\n",
       "---\n",
       "Signif. codes:  0 ‘***’ 0.001 ‘**’ 0.01 ‘*’ 0.05 ‘.’ 0.1 ‘ ’ 1\n",
       "\n",
       "Residual standard error: 0.1303 on 6 degrees of freedom\n",
       "Multiple R-squared:      1,\tAdjusted R-squared:      1 \n",
       "F-statistic: 1.038e+05 on 3 and 6 DF,  p-value: 1.564e-14\n"
      ]
     },
     "metadata": {},
     "output_type": "display_data"
    }
   ],
   "source": [
    "summary(m)"
   ]
  },
  {
   "cell_type": "markdown",
   "metadata": {},
   "source": [
    "- summary 함수를 통해 결정계수, F통계량, 잔차의 표준오차 등 주요통계량의 정보가 출력.\n",
    "- F통계량 = 1.038e + 05 이며 p-값이 1.564e-14 로 유의수준 5% 하에서 추정된 회귀 모형이 통계적으로 매우 유의함을 볼 수 있음\n",
    "- 결정계수와 수정된 결정계수 모두 1로 이 회귀식이 데이터를 매우 잘 설명하고 있음을 알 수 있음\n",
    "- 또한 회귀계수 u, v, w들의 p-값들도 0.01보다 작으므로 회귀계수의 추정치들이 통계적으로 유의"
   ]
  },
  {
   "cell_type": "code",
   "execution_count": 12,
   "metadata": {},
   "outputs": [
    {
     "data": {
      "text/html": [
       "<table>\n",
       "<thead><tr><th scope=col>weight</th><th scope=col>Time</th><th scope=col>Chick</th><th scope=col>Diet</th></tr></thead>\n",
       "<tbody>\n",
       "\t<tr><td>42</td><td> 0</td><td>1 </td><td>1 </td></tr>\n",
       "\t<tr><td>51</td><td> 2</td><td>1 </td><td>1 </td></tr>\n",
       "\t<tr><td>59</td><td> 4</td><td>1 </td><td>1 </td></tr>\n",
       "\t<tr><td>64</td><td> 6</td><td>1 </td><td>1 </td></tr>\n",
       "\t<tr><td>76</td><td> 8</td><td>1 </td><td>1 </td></tr>\n",
       "\t<tr><td>93</td><td>10</td><td>1 </td><td>1 </td></tr>\n",
       "</tbody>\n",
       "</table>\n"
      ],
      "text/latex": [
       "\\begin{tabular}{r|llll}\n",
       " weight & Time & Chick & Diet\\\\\n",
       "\\hline\n",
       "\t 42 &  0 & 1  & 1 \\\\\n",
       "\t 51 &  2 & 1  & 1 \\\\\n",
       "\t 59 &  4 & 1  & 1 \\\\\n",
       "\t 64 &  6 & 1  & 1 \\\\\n",
       "\t 76 &  8 & 1  & 1 \\\\\n",
       "\t 93 & 10 & 1  & 1 \\\\\n",
       "\\end{tabular}\n"
      ],
      "text/markdown": [
       "\n",
       "weight | Time | Chick | Diet | \n",
       "|---|---|---|---|---|---|\n",
       "| 42 |  0 | 1  | 1  | \n",
       "| 51 |  2 | 1  | 1  | \n",
       "| 59 |  4 | 1  | 1  | \n",
       "| 64 |  6 | 1  | 1  | \n",
       "| 76 |  8 | 1  | 1  | \n",
       "| 93 | 10 | 1  | 1  | \n",
       "\n",
       "\n"
      ],
      "text/plain": [
       "  weight Time Chick Diet\n",
       "1 42      0   1     1   \n",
       "2 51      2   1     1   \n",
       "3 59      4   1     1   \n",
       "4 64      6   1     1   \n",
       "5 76      8   1     1   \n",
       "6 93     10   1     1   "
      ]
     },
     "metadata": {},
     "output_type": "display_data"
    }
   ],
   "source": [
    "# 다음은 식이요법 방법을 적용한 닭에 대한 데이터 \n",
    "\n",
    "library(MASS)\n",
    "head(ChickWeight)"
   ]
  },
  {
   "cell_type": "code",
   "execution_count": 17,
   "metadata": {},
   "outputs": [
    {
     "data": {
      "text/html": [
       "<table>\n",
       "<thead><tr><th scope=col>weight</th><th scope=col>Time</th><th scope=col>Chick</th><th scope=col>Diet</th></tr></thead>\n",
       "<tbody>\n",
       "\t<tr><td>42</td><td> 0</td><td>1 </td><td>1 </td></tr>\n",
       "\t<tr><td>51</td><td> 2</td><td>1 </td><td>1 </td></tr>\n",
       "\t<tr><td>59</td><td> 4</td><td>1 </td><td>1 </td></tr>\n",
       "\t<tr><td>64</td><td> 6</td><td>1 </td><td>1 </td></tr>\n",
       "\t<tr><td>76</td><td> 8</td><td>1 </td><td>1 </td></tr>\n",
       "\t<tr><td>93</td><td>10</td><td>1 </td><td>1 </td></tr>\n",
       "</tbody>\n",
       "</table>\n"
      ],
      "text/latex": [
       "\\begin{tabular}{r|llll}\n",
       " weight & Time & Chick & Diet\\\\\n",
       "\\hline\n",
       "\t 42 &  0 & 1  & 1 \\\\\n",
       "\t 51 &  2 & 1  & 1 \\\\\n",
       "\t 59 &  4 & 1  & 1 \\\\\n",
       "\t 64 &  6 & 1  & 1 \\\\\n",
       "\t 76 &  8 & 1  & 1 \\\\\n",
       "\t 93 & 10 & 1  & 1 \\\\\n",
       "\\end{tabular}\n"
      ],
      "text/markdown": [
       "\n",
       "weight | Time | Chick | Diet | \n",
       "|---|---|---|---|---|---|\n",
       "| 42 |  0 | 1  | 1  | \n",
       "| 51 |  2 | 1  | 1  | \n",
       "| 59 |  4 | 1  | 1  | \n",
       "| 64 |  6 | 1  | 1  | \n",
       "| 76 |  8 | 1  | 1  | \n",
       "| 93 | 10 | 1  | 1  | \n",
       "\n",
       "\n"
      ],
      "text/plain": [
       "  weight Time Chick Diet\n",
       "1 42      0   1     1   \n",
       "2 51      2   1     1   \n",
       "3 59      4   1     1   \n",
       "4 64      6   1     1   \n",
       "5 76      8   1     1   \n",
       "6 93     10   1     1   "
      ]
     },
     "metadata": {},
     "output_type": "display_data"
    }
   ],
   "source": [
    "# 1번 닭에서 식이요법 방법 1을 적용한 데이터만 조회해 chick 변수에 할당\n",
    "\n",
    "Chick <- ChickWeight[ChickWeight$Diet == 1,]\n",
    "head(Chick)"
   ]
  },
  {
   "cell_type": "code",
   "execution_count": 18,
   "metadata": {},
   "outputs": [
    {
     "data": {
      "text/html": [
       "<table>\n",
       "<thead><tr><th scope=col>weight</th><th scope=col>Time</th><th scope=col>Chick</th><th scope=col>Diet</th></tr></thead>\n",
       "<tbody>\n",
       "\t<tr><td>42</td><td> 0</td><td>1 </td><td>1 </td></tr>\n",
       "\t<tr><td>51</td><td> 2</td><td>1 </td><td>1 </td></tr>\n",
       "\t<tr><td>59</td><td> 4</td><td>1 </td><td>1 </td></tr>\n",
       "\t<tr><td>64</td><td> 6</td><td>1 </td><td>1 </td></tr>\n",
       "\t<tr><td>76</td><td> 8</td><td>1 </td><td>1 </td></tr>\n",
       "\t<tr><td>93</td><td>10</td><td>1 </td><td>1 </td></tr>\n",
       "</tbody>\n",
       "</table>\n"
      ],
      "text/latex": [
       "\\begin{tabular}{r|llll}\n",
       " weight & Time & Chick & Diet\\\\\n",
       "\\hline\n",
       "\t 42 &  0 & 1  & 1 \\\\\n",
       "\t 51 &  2 & 1  & 1 \\\\\n",
       "\t 59 &  4 & 1  & 1 \\\\\n",
       "\t 64 &  6 & 1  & 1 \\\\\n",
       "\t 76 &  8 & 1  & 1 \\\\\n",
       "\t 93 & 10 & 1  & 1 \\\\\n",
       "\\end{tabular}\n"
      ],
      "text/markdown": [
       "\n",
       "weight | Time | Chick | Diet | \n",
       "|---|---|---|---|---|---|\n",
       "| 42 |  0 | 1  | 1  | \n",
       "| 51 |  2 | 1  | 1  | \n",
       "| 59 |  4 | 1  | 1  | \n",
       "| 64 |  6 | 1  | 1  | \n",
       "| 76 |  8 | 1  | 1  | \n",
       "| 93 | 10 | 1  | 1  | \n",
       "\n",
       "\n"
      ],
      "text/plain": [
       "  weight Time Chick Diet\n",
       "1 42      0   1     1   \n",
       "2 51      2   1     1   \n",
       "3 59      4   1     1   \n",
       "4 64      6   1     1   \n",
       "5 76      8   1     1   \n",
       "6 93     10   1     1   "
      ]
     },
     "metadata": {},
     "output_type": "display_data"
    }
   ],
   "source": [
    "# chick 데이터세트에서 1번 닭만 조회한다.\n",
    "\n",
    "Chick <- ChickWeight[ChickWeight$Chick == 1, ]\n",
    "head(Chick)"
   ]
  },
  {
   "cell_type": "code",
   "execution_count": 19,
   "metadata": {},
   "outputs": [
    {
     "data": {
      "text/plain": [
       "\n",
       "Call:\n",
       "lm(formula = weight ~ Time, data = Chick)\n",
       "\n",
       "Coefficients:\n",
       "(Intercept)         Time  \n",
       "     24.465        7.988  \n"
      ]
     },
     "metadata": {},
     "output_type": "display_data"
    }
   ],
   "source": [
    "# 시간의 경과에 따른 닭들의 몸무게를 단순회귀분석을 해본다.\n",
    "\n",
    "lm(weight~Time, data=Chick)"
   ]
  },
  {
   "cell_type": "markdown",
   "metadata": {},
   "source": [
    "- ```weight = 7.988Time + 24.465```"
   ]
  },
  {
   "cell_type": "code",
   "execution_count": 21,
   "metadata": {},
   "outputs": [
    {
     "data": {
      "text/plain": [
       "\n",
       "Call:\n",
       "lm(formula = weight ~ Time, data = Chick)\n",
       "\n",
       "Residuals:\n",
       "     Min       1Q   Median       3Q      Max \n",
       "-14.3202 -11.3081  -0.3444  11.1162  17.5346 \n",
       "\n",
       "Coefficients:\n",
       "            Estimate Std. Error t value Pr(>|t|)    \n",
       "(Intercept)  24.4654     6.7279   3.636  0.00456 ** \n",
       "Time          7.9879     0.5236  15.255 2.97e-08 ***\n",
       "---\n",
       "Signif. codes:  0 ‘***’ 0.001 ‘**’ 0.01 ‘*’ 0.05 ‘.’ 0.1 ‘ ’ 1\n",
       "\n",
       "Residual standard error: 12.29 on 10 degrees of freedom\n",
       "Multiple R-squared:  0.9588,\tAdjusted R-squared:  0.9547 \n",
       "F-statistic: 232.7 on 1 and 10 DF,  p-value: 2.974e-08\n"
      ]
     },
     "metadata": {},
     "output_type": "display_data"
    }
   ],
   "source": [
    "summary(lm(weight~Time, data=Chick))"
   ]
  },
  {
   "cell_type": "markdown",
   "metadata": {},
   "source": [
    "- F통계량 = 232.7이며, p-값이 2.974e-08로 유의수준 5% 하에서 추정된 회귀 모형이 통계적으로 매우 유의함을 볼 수 있음\n",
    "- 계정계수 또한 0.9588 로 매우 높은 값을 보이므로 이 회귀식이 데이터를 96% 정도로 설명하고 있음\n",
    "- 회귀계수들의 p-값들도 0.05보다 매우 작으므로 회귀계수의 추정치들이 통계적으로 매우 유의\n",
    "- Time에 대한 회귀계수가 7.99 이므로 Time이 1 증가할 때 weight가 7.99 만큼 증가한다고 해석할 수 있음"
   ]
  },
  {
   "cell_type": "markdown",
   "metadata": {},
   "source": [
    "// cars 데이터를 이용해 다항회귀분석을 해보자\n",
    "\n",
    "$$ dist = \\beta_0 + \\beta_{1}speed + \\beta_2{speed}^2 + \\epsilon $$"
   ]
  },
  {
   "cell_type": "code",
   "execution_count": 22,
   "metadata": {},
   "outputs": [
    {
     "data": {
      "text/html": [
       "<table>\n",
       "<thead><tr><th scope=col>speed</th><th scope=col>dist</th></tr></thead>\n",
       "<tbody>\n",
       "\t<tr><td>4 </td><td> 2</td></tr>\n",
       "\t<tr><td>4 </td><td>10</td></tr>\n",
       "\t<tr><td>7 </td><td> 4</td></tr>\n",
       "\t<tr><td>7 </td><td>22</td></tr>\n",
       "\t<tr><td>8 </td><td>16</td></tr>\n",
       "\t<tr><td>9 </td><td>10</td></tr>\n",
       "</tbody>\n",
       "</table>\n"
      ],
      "text/latex": [
       "\\begin{tabular}{r|ll}\n",
       " speed & dist\\\\\n",
       "\\hline\n",
       "\t 4  &  2\\\\\n",
       "\t 4  & 10\\\\\n",
       "\t 7  &  4\\\\\n",
       "\t 7  & 22\\\\\n",
       "\t 8  & 16\\\\\n",
       "\t 9  & 10\\\\\n",
       "\\end{tabular}\n"
      ],
      "text/markdown": [
       "\n",
       "speed | dist | \n",
       "|---|---|---|---|---|---|\n",
       "| 4  |  2 | \n",
       "| 4  | 10 | \n",
       "| 7  |  4 | \n",
       "| 7  | 22 | \n",
       "| 8  | 16 | \n",
       "| 9  | 10 | \n",
       "\n",
       "\n"
      ],
      "text/plain": [
       "  speed dist\n",
       "1 4      2  \n",
       "2 4     10  \n",
       "3 7      4  \n",
       "4 7     22  \n",
       "5 8     16  \n",
       "6 9     10  "
      ]
     },
     "metadata": {},
     "output_type": "display_data"
    }
   ],
   "source": [
    "data(cars)\n",
    "head(cars)"
   ]
  },
  {
   "cell_type": "code",
   "execution_count": 23,
   "metadata": {},
   "outputs": [
    {
     "data": {
      "text/html": [
       "<ol class=list-inline>\n",
       "\t<li>16</li>\n",
       "\t<li>16</li>\n",
       "\t<li>49</li>\n",
       "\t<li>49</li>\n",
       "\t<li>64</li>\n",
       "\t<li>81</li>\n",
       "</ol>\n"
      ],
      "text/latex": [
       "\\begin{enumerate*}\n",
       "\\item 16\n",
       "\\item 16\n",
       "\\item 49\n",
       "\\item 49\n",
       "\\item 64\n",
       "\\item 81\n",
       "\\end{enumerate*}\n"
      ],
      "text/markdown": [
       "1. 16\n",
       "2. 16\n",
       "3. 49\n",
       "4. 49\n",
       "5. 64\n",
       "6. 81\n",
       "\n",
       "\n"
      ],
      "text/plain": [
       "[1] 16 16 49 49 64 81"
      ]
     },
     "metadata": {},
     "output_type": "display_data"
    }
   ],
   "source": [
    "# cars 데이터세트는 dist와 speed 변수로 구성돼 있다. dist가 speed의 변화에 따라 어떻게 변화하는지 알아보자.\n",
    "\n",
    "speed2 <- cars$speed^2 # data set에서 cars 에서 speed를 제곱한다.\n",
    "head(speed2)"
   ]
  },
  {
   "cell_type": "code",
   "execution_count": 24,
   "metadata": {},
   "outputs": [
    {
     "data": {
      "text/html": [
       "<table>\n",
       "<thead><tr><th scope=col>speed2</th><th scope=col>speed</th><th scope=col>dist</th></tr></thead>\n",
       "<tbody>\n",
       "\t<tr><td>16</td><td>4 </td><td> 2</td></tr>\n",
       "\t<tr><td>16</td><td>4 </td><td>10</td></tr>\n",
       "\t<tr><td>49</td><td>7 </td><td> 4</td></tr>\n",
       "\t<tr><td>49</td><td>7 </td><td>22</td></tr>\n",
       "\t<tr><td>64</td><td>8 </td><td>16</td></tr>\n",
       "\t<tr><td>81</td><td>9 </td><td>10</td></tr>\n",
       "</tbody>\n",
       "</table>\n"
      ],
      "text/latex": [
       "\\begin{tabular}{r|lll}\n",
       " speed2 & speed & dist\\\\\n",
       "\\hline\n",
       "\t 16 & 4  &  2\\\\\n",
       "\t 16 & 4  & 10\\\\\n",
       "\t 49 & 7  &  4\\\\\n",
       "\t 49 & 7  & 22\\\\\n",
       "\t 64 & 8  & 16\\\\\n",
       "\t 81 & 9  & 10\\\\\n",
       "\\end{tabular}\n"
      ],
      "text/markdown": [
       "\n",
       "speed2 | speed | dist | \n",
       "|---|---|---|---|---|---|\n",
       "| 16 | 4  |  2 | \n",
       "| 16 | 4  | 10 | \n",
       "| 49 | 7  |  4 | \n",
       "| 49 | 7  | 22 | \n",
       "| 64 | 8  | 16 | \n",
       "| 81 | 9  | 10 | \n",
       "\n",
       "\n"
      ],
      "text/plain": [
       "  speed2 speed dist\n",
       "1 16     4      2  \n",
       "2 16     4     10  \n",
       "3 49     7      4  \n",
       "4 49     7     22  \n",
       "5 64     8     16  \n",
       "6 81     9     10  "
      ]
     },
     "metadata": {},
     "output_type": "display_data"
    }
   ],
   "source": [
    "cars <- cbind(speed2, cars) # 제곱한 값을 기존의 set에 bind 한다.\n",
    "head(cars)"
   ]
  },
  {
   "cell_type": "code",
   "execution_count": 25,
   "metadata": {},
   "outputs": [
    {
     "data": {
      "text/plain": [
       "\n",
       "Call:\n",
       "lm(formula = dist ~ speed + speed2, data = cars)\n",
       "\n",
       "Coefficients:\n",
       "(Intercept)        speed       speed2  \n",
       "    2.47014      0.91329      0.09996  \n"
      ]
     },
     "metadata": {},
     "output_type": "display_data"
    }
   ],
   "source": [
    "lm(dist~speed+speed2, data = cars)"
   ]
  },
  {
   "cell_type": "code",
   "execution_count": 26,
   "metadata": {},
   "outputs": [
    {
     "data": {
      "text/plain": [
       "\n",
       "Call:\n",
       "lm(formula = dist ~ speed + speed2, data = cars)\n",
       "\n",
       "Residuals:\n",
       "    Min      1Q  Median      3Q     Max \n",
       "-28.720  -9.184  -3.188   4.628  45.152 \n",
       "\n",
       "Coefficients:\n",
       "            Estimate Std. Error t value Pr(>|t|)\n",
       "(Intercept)  2.47014   14.81716   0.167    0.868\n",
       "speed        0.91329    2.03422   0.449    0.656\n",
       "speed2       0.09996    0.06597   1.515    0.136\n",
       "\n",
       "Residual standard error: 15.18 on 47 degrees of freedom\n",
       "Multiple R-squared:  0.6673,\tAdjusted R-squared:  0.6532 \n",
       "F-statistic: 47.14 on 2 and 47 DF,  p-value: 5.852e-12\n"
      ]
     },
     "metadata": {},
     "output_type": "display_data"
    }
   ],
   "source": [
    "summary(lm(dist~speed+speed2, data = cars))"
   ]
  },
  {
   "cell_type": "code",
   "execution_count": 27,
   "metadata": {},
   "outputs": [],
   "source": [
    "# 다음과 같은 데이터세트를 적절한 회귀모형에 적합한 회귀 모형을 찾자."
   ]
  },
  {
   "cell_type": "code",
   "execution_count": 32,
   "metadata": {},
   "outputs": [],
   "source": [
    "x <- c(1,2,3,4,5,6,7,8,9)\n",
    "y <- c(5,3,2,3,4,6,10,12,18)"
   ]
  },
  {
   "cell_type": "code",
   "execution_count": 34,
   "metadata": {},
   "outputs": [
    {
     "name": "stdout",
     "output_type": "stream",
     "text": [
      "[1] 1 2 3 4 5 6 7 8 9\n",
      "[1]  5  3  2  3  4  6 10 12 18\n"
     ]
    }
   ],
   "source": [
    "print(x)\n",
    "print(y)"
   ]
  },
  {
   "cell_type": "code",
   "execution_count": 35,
   "metadata": {},
   "outputs": [
    {
     "data": {
      "text/html": [
       "<table>\n",
       "<thead><tr><th scope=col>x</th><th scope=col>y</th></tr></thead>\n",
       "<tbody>\n",
       "\t<tr><td>1 </td><td> 5</td></tr>\n",
       "\t<tr><td>2 </td><td> 3</td></tr>\n",
       "\t<tr><td>3 </td><td> 2</td></tr>\n",
       "\t<tr><td>4 </td><td> 3</td></tr>\n",
       "\t<tr><td>5 </td><td> 4</td></tr>\n",
       "\t<tr><td>6 </td><td> 6</td></tr>\n",
       "\t<tr><td>7 </td><td>10</td></tr>\n",
       "\t<tr><td>8 </td><td>12</td></tr>\n",
       "\t<tr><td>9 </td><td>18</td></tr>\n",
       "</tbody>\n",
       "</table>\n"
      ],
      "text/latex": [
       "\\begin{tabular}{r|ll}\n",
       " x & y\\\\\n",
       "\\hline\n",
       "\t 1  &  5\\\\\n",
       "\t 2  &  3\\\\\n",
       "\t 3  &  2\\\\\n",
       "\t 4  &  3\\\\\n",
       "\t 5  &  4\\\\\n",
       "\t 6  &  6\\\\\n",
       "\t 7  & 10\\\\\n",
       "\t 8  & 12\\\\\n",
       "\t 9  & 18\\\\\n",
       "\\end{tabular}\n"
      ],
      "text/markdown": [
       "\n",
       "x | y | \n",
       "|---|---|---|---|---|---|---|---|---|\n",
       "| 1  |  5 | \n",
       "| 2  |  3 | \n",
       "| 3  |  2 | \n",
       "| 4  |  3 | \n",
       "| 5  |  4 | \n",
       "| 6  |  6 | \n",
       "| 7  | 10 | \n",
       "| 8  | 12 | \n",
       "| 9  | 18 | \n",
       "\n",
       "\n"
      ],
      "text/plain": [
       "  x y \n",
       "1 1  5\n",
       "2 2  3\n",
       "3 3  2\n",
       "4 4  3\n",
       "5 5  4\n",
       "6 6  6\n",
       "7 7 10\n",
       "8 8 12\n",
       "9 9 18"
      ]
     },
     "metadata": {},
     "output_type": "display_data"
    }
   ],
   "source": [
    "df1 <- data.frame(x, y)\n",
    "df1"
   ]
  },
  {
   "cell_type": "code",
   "execution_count": 36,
   "metadata": {},
   "outputs": [
    {
     "data": {
      "image/png": "[encoded data removed]",
      "text/plain": [
       "plot without title"
      ]
     },
     "metadata": {},
     "output_type": "display_data"
    }
   ],
   "source": [
    "plot(df1)"
   ]
  },
  {
   "cell_type": "markdown",
   "metadata": {},
   "source": [
    "- 산점도를 봤을때, 2차식이 필요하다. 모형은 y=b0+b1x+b2x2 <br>\n",
    "```y = b0 = b1x + b2x^2 + e```<br>\n",
    "- x^2을 X2로 놓고 생각해 다항회귀분석을 이용하다"
   ]
  },
  {
   "cell_type": "code",
   "execution_count": 37,
   "metadata": {},
   "outputs": [
    {
     "data": {
      "text/html": [
       "<ol class=list-inline>\n",
       "\t<li>1</li>\n",
       "\t<li>4</li>\n",
       "\t<li>9</li>\n",
       "\t<li>16</li>\n",
       "\t<li>25</li>\n",
       "\t<li>36</li>\n",
       "\t<li>49</li>\n",
       "\t<li>64</li>\n",
       "\t<li>81</li>\n",
       "</ol>\n"
      ],
      "text/latex": [
       "\\begin{enumerate*}\n",
       "\\item 1\n",
       "\\item 4\n",
       "\\item 9\n",
       "\\item 16\n",
       "\\item 25\n",
       "\\item 36\n",
       "\\item 49\n",
       "\\item 64\n",
       "\\item 81\n",
       "\\end{enumerate*}\n"
      ],
      "text/markdown": [
       "1. 1\n",
       "2. 4\n",
       "3. 9\n",
       "4. 16\n",
       "5. 25\n",
       "6. 36\n",
       "7. 49\n",
       "8. 64\n",
       "9. 81\n",
       "\n",
       "\n"
      ],
      "text/plain": [
       "[1]  1  4  9 16 25 36 49 64 81"
      ]
     },
     "metadata": {},
     "output_type": "display_data"
    }
   ],
   "source": [
    "x2 <- x^2\n",
    "x2"
   ]
  },
  {
   "cell_type": "code",
   "execution_count": 39,
   "metadata": {},
   "outputs": [
    {
     "data": {
      "text/html": [
       "<table>\n",
       "<thead><tr><th scope=col>x2</th><th scope=col>x</th><th scope=col>y</th></tr></thead>\n",
       "<tbody>\n",
       "\t<tr><td> 1</td><td>1 </td><td>5 </td></tr>\n",
       "\t<tr><td> 4</td><td>2 </td><td>3 </td></tr>\n",
       "\t<tr><td> 9</td><td>3 </td><td>2 </td></tr>\n",
       "\t<tr><td>16</td><td>4 </td><td>3 </td></tr>\n",
       "\t<tr><td>25</td><td>5 </td><td>4 </td></tr>\n",
       "\t<tr><td>36</td><td>6 </td><td>6 </td></tr>\n",
       "</tbody>\n",
       "</table>\n"
      ],
      "text/latex": [
       "\\begin{tabular}{r|lll}\n",
       " x2 & x & y\\\\\n",
       "\\hline\n",
       "\t  1 & 1  & 5 \\\\\n",
       "\t  4 & 2  & 3 \\\\\n",
       "\t  9 & 3  & 2 \\\\\n",
       "\t 16 & 4  & 3 \\\\\n",
       "\t 25 & 5  & 4 \\\\\n",
       "\t 36 & 6  & 6 \\\\\n",
       "\\end{tabular}\n"
      ],
      "text/markdown": [
       "\n",
       "x2 | x | y | \n",
       "|---|---|---|---|---|---|\n",
       "|  1 | 1  | 5  | \n",
       "|  4 | 2  | 3  | \n",
       "|  9 | 3  | 2  | \n",
       "| 16 | 4  | 3  | \n",
       "| 25 | 5  | 4  | \n",
       "| 36 | 6  | 6  | \n",
       "\n",
       "\n"
      ],
      "text/plain": [
       "  x2 x y\n",
       "1  1 1 5\n",
       "2  4 2 3\n",
       "3  9 3 2\n",
       "4 16 4 3\n",
       "5 25 5 4\n",
       "6 36 6 6"
      ]
     },
     "metadata": {},
     "output_type": "display_data"
    }
   ],
   "source": [
    "df2 <- cbind(x2, df1)\n",
    "head(df2)"
   ]
  },
  {
   "cell_type": "code",
   "execution_count": 41,
   "metadata": {},
   "outputs": [
    {
     "data": {
      "text/plain": [
       "\n",
       "Call:\n",
       "lm(formula = y ~ x, data = df1)\n",
       "\n",
       "Coefficients:\n",
       "(Intercept)            x  \n",
       "     -1.167        1.633  \n"
      ]
     },
     "metadata": {},
     "output_type": "display_data"
    }
   ],
   "source": [
    "### df1\n",
    "\n",
    "lm(y~x, data=df1)"
   ]
  },
  {
   "cell_type": "code",
   "execution_count": 42,
   "metadata": {},
   "outputs": [
    {
     "data": {
      "text/plain": [
       "\n",
       "Call:\n",
       "lm(formula = y ~ x, data = df1)\n",
       "\n",
       "Residuals:\n",
       "    Min      1Q  Median      3Q     Max \n",
       "-3.0000 -2.3667 -0.2667  0.9000  4.5333 \n",
       "\n",
       "Coefficients:\n",
       "            Estimate Std. Error t value Pr(>|t|)   \n",
       "(Intercept)  -1.1667     2.2296  -0.523  0.61694   \n",
       "x             1.6333     0.3962   4.122  0.00445 **\n",
       "---\n",
       "Signif. codes:  0 ‘***’ 0.001 ‘**’ 0.01 ‘*’ 0.05 ‘.’ 0.1 ‘ ’ 1\n",
       "\n",
       "Residual standard error: 3.069 on 7 degrees of freedom\n",
       "Multiple R-squared:  0.7083,\tAdjusted R-squared:  0.6666 \n",
       "F-statistic: 16.99 on 1 and 7 DF,  p-value: 0.004446\n"
      ]
     },
     "metadata": {},
     "output_type": "display_data"
    }
   ],
   "source": [
    "summary(lm(y~x, data=df1))"
   ]
  },
  {
   "cell_type": "markdown",
   "metadata": {},
   "source": [
    "- df1 에서의 F통계량= 16.99 이며, p-값이 0.004446 으로 유의수준 5% 하에서 추정된 회귀 모형이 통계적으로 유의하다\n",
    "- 결정계수는 0.7083 으로 추정된 회귀식이 약 71%만큼 데이터를 설명함을 알 수 있음"
   ]
  },
  {
   "cell_type": "code",
   "execution_count": 44,
   "metadata": {},
   "outputs": [
    {
     "data": {
      "image/png": "[encoded data removed]",
      "text/plain": [
       "Plot with title “”"
      ]
     },
     "metadata": {},
     "output_type": "display_data"
    },
    {
     "data": {
      "image/png": "[encoded data removed]",
      "text/plain": [
       "Plot with title “”"
      ]
     },
     "metadata": {},
     "output_type": "display_data"
    },
    {
     "data": {
      "image/png": "[encoded data removed]",
      "text/plain": [
       "Plot with title “”"
      ]
     },
     "metadata": {},
     "output_type": "display_data"
    },
    {
     "data": {
      "image/png": "[encoded data removed]",
      "text/plain": [
       "Plot with title “”"
      ]
     },
     "metadata": {},
     "output_type": "display_data"
    }
   ],
   "source": [
    "plot(lm(y~x, data=df1))"
   ]
  },
  {
   "cell_type": "markdown",
   "metadata": {},
   "source": [
    "- df1을 사용한 회귀식의 잔차도가 뚜렷한 곡선 패턴을 가지기 때문에 오차항은 평균이 0이고 분산이 일정하다는 가정을 만족하지 않음\n",
    "- x^2 항을 모형에 추가해야 한다는 증거를 보임"
   ]
  },
  {
   "cell_type": "code",
   "execution_count": 45,
   "metadata": {},
   "outputs": [
    {
     "data": {
      "text/plain": [
       "\n",
       "Call:\n",
       "lm(formula = y ~ x + x2, data = df2)\n",
       "\n",
       "Coefficients:\n",
       "(Intercept)            x           x2  \n",
       "     7.1667      -2.9121       0.4545  \n"
      ]
     },
     "metadata": {},
     "output_type": "display_data"
    }
   ],
   "source": [
    "lm(y~x+x2, data = df2)"
   ]
  },
  {
   "cell_type": "code",
   "execution_count": 46,
   "metadata": {},
   "outputs": [
    {
     "data": {
      "text/plain": [
       "\n",
       "Call:\n",
       "lm(formula = y ~ x + x2, data = df2)\n",
       "\n",
       "Residuals:\n",
       "    Min      1Q  Median      3Q     Max \n",
       "-0.9606 -0.1606  0.0303  0.2242  0.9455 \n",
       "\n",
       "Coefficients:\n",
       "            Estimate Std. Error t value Pr(>|t|)    \n",
       "(Intercept)  7.16667    0.78728   9.103 9.87e-05 ***\n",
       "x           -2.91212    0.36149  -8.056 0.000196 ***\n",
       "x2           0.45455    0.03526  12.893 1.34e-05 ***\n",
       "---\n",
       "Signif. codes:  0 ‘***’ 0.001 ‘**’ 0.01 ‘*’ 0.05 ‘.’ 0.1 ‘ ’ 1\n",
       "\n",
       "Residual standard error: 0.6187 on 6 degrees of freedom\n",
       "Multiple R-squared:  0.9898,\tAdjusted R-squared:  0.9864 \n",
       "F-statistic: 292.2 on 2 and 6 DF,  p-value: 1.05e-06\n"
      ]
     },
     "metadata": {},
     "output_type": "display_data"
    }
   ],
   "source": [
    "summary(lm(y~x+x2, data = df2))"
   ]
  },
  {
   "cell_type": "markdown",
   "metadata": {},
   "source": [
    "- df2에서의 F통계량 = 292.2 이며 p-값이 0.0000105 으로 유의수준 5%하에서 추정된 회귀 모형이 통계적으로 매우 유의\n",
    "- 수정된 결정계수는 0.9864 로 추정된 회귀식이 약 98.6% 만큼 데이터를 설명함을 알수 있음\n",
    "- 이로써 x^2를 추가했을 때가 그렇지 않을 때보다 훨씬 회귀식의 추정이 잘되었음\n",
    "- 최종 회귀식은 $$ Y=7.16667 - 2.91212X - 0.45455X^2 $$ 으로 추정"
   ]
  },
  {
   "cell_type": "code",
   "execution_count": 47,
   "metadata": {},
   "outputs": [
    {
     "data": {
      "image/png": "[encoded data removed]",
      "text/plain": [
       "Plot with title “”"
      ]
     },
     "metadata": {},
     "output_type": "display_data"
    },
    {
     "data": {
      "image/png": "[encoded data removed]",
      "text/plain": [
       "Plot with title “”"
      ]
     },
     "metadata": {},
     "output_type": "display_data"
    },
    {
     "data": {
      "image/png": "[encoded data removed]",
      "text/plain": [
       "Plot with title “”"
      ]
     },
     "metadata": {},
     "output_type": "display_data"
    },
    {
     "data": {
      "image/png": "[encoded data removed]",
      "text/plain": [
       "Plot with title “”"
      ]
     },
     "metadata": {},
     "output_type": "display_data"
    }
   ],
   "source": [
    "plot(lm(y~x+x2, data = df2))"
   ]
  },
  {
   "cell_type": "markdown",
   "metadata": {},
   "source": [
    "- df1을 사용한 회귀식의 잔차도에 비해 다소 안정된 형태의 잔차를 보임"
   ]
  },
  {
   "cell_type": "markdown",
   "metadata": {},
   "source": [
    "##### 다. 최적회귀방정식의 선택 : 설명변수의 선택 "
   ]
  },
  {
   "cell_type": "markdown",
   "metadata": {},
   "source": [
    "- 반응변수 y와 이 변수에 영향을 미칠 수 있는 가능한 모든 설명변수 x1, x2, x3,...,xk를 갖고 있다면,\n",
    "    - 여기서 y의 변화를 회귀방정식으로 표현하고 설명하기 위해 필요한 설명변수들을 어떻게 선택해야 할 것인가를 고려\n",
    "    - 변수를 선택해 회귀모형을 설정해 주는 데는 다음의 두가지 원칙을 따름\n",
    "        - y에 영향을 미칠 수 있는 모든 설명변수 x들을 y의 값을 예측하는데 참여\n",
    "        - 데이터에 설명변수 x들의 수가 많아지면 관리하는데 많은 노력이 요구되므로, 가능한 범위 내에서 적은 수의 설명변수를 포함시켜야 함\n",
    "    - 두 가지 원칙은 서로 이율배반적이므로 타협이 이뤄져야 함\n",
    "        - 즉, 상황에 적절한 설명변수를 선택해야 함"
   ]
  },
  {
   "cell_type": "markdown",
   "metadata": {},
   "source": [
    "###### (1) 모든 가능한 조합의 회귀 분석(All possible regression)\n",
    "- 모든 가능한 독립변수들의 조합에 대한 회귀모형을 고려해 AIC(Akaike information criterion)나 BIC(Bayesian information criterion)의 기준으로 가장 적합한 회귀모형을 선택\n",
    "- AIC는 각 모형에 대해 다음과 같이 정의되고, 가장 작은 값을 갖는 모형을 최적의 모형으로 선택\n",
    "$$ AIC = -2logL(\\hat\\theta ) + 2k $$\n",
    "\n",
    "여기에서 theta는 주어진 모형의 모수에 대한 최대가능도 추정량이고, L(theta)는 가능도함수이고, k는 모형의 모수의 개수이다. BIC는 주어진 모형에 대해 아래와 같이 정의된다.\n",
    "$$ BIC = -2logL\\hat\\theta) + klog(n)$$\n",
    "\n",
    "n는 자료의 개수이다. AIC와 마찬가지로 가장 작은 BIC값을 갖는 모형을 최적의 모형으로 선택"
   ]
  },
  {
   "cell_type": "markdown",
   "metadata": {},
   "source": [
    "###### (2) 단계적 변수 선택(Sterpwise Variable Selection)"
   ]
  },
  {
   "cell_type": "markdown",
   "metadata": {},
   "source": [
    "- 진전선택법(forward selection) : \n",
    "    - 절편만 있는 상수모형으로부터 시작해 중요하다고 생각되는 설명변수부터 차례로 모형에 추가\n",
    "    - 추가할 수 있는 후보가 되는 설명 변수 중 모형에 추가했을 때 가장 제곱합의 기준으로 가장 설명을 잘하는 변수를 고려\n",
    "    - 그 변수가 유의하면 추가하고 그렇지 않은 경우는 추가를 멈춤\n",
    "   \n",
    "- 후진선택법(backward selection) : \n",
    "    - 독립변수 후보 모두를 포함한 모형에서 출발해 제곱합의 기준으로 가장 적은 영향을 주는 변수부터 하나씩 제거\n",
    "    - 더 이상 유의하지 않는 변수가 없을 때까지 설명 변수들을 제거\n",
    "    - 이 때의 모형을 선택\n",
    "\n",
    "- 단계별방법(stepwise selection) :\n",
    "    - 전진선택법에 의해 변수를 추가하면서 새롭게 추가된 변수에 기인해 기존 변수가 그 중요도가 약화되면 해당변수를 제거\n",
    "    - 단계별로 추가 또는 제거되는 변수의 여부를 검토해 더 이상 없을 때 중단"
   ]
  },
  {
   "cell_type": "code",
   "execution_count": 48,
   "metadata": {},
   "outputs": [],
   "source": [
    "# Y를 반응변수로 하고, X1, X2, X3, X4를 설명변수로 하는 선형회귀모형을 고려하고, 후진제거법을 이용하여 변수를 선택하시오"
   ]
  },
  {
   "cell_type": "code",
   "execution_count": 54,
   "metadata": {},
   "outputs": [],
   "source": [
    "X1 <- c(7, 1, 11, 11, 7, 11, 3, 1, 2, 21, 1, 11, 10)\n",
    "X2 <- c(26,29,56,31,52,55,71,31,54,47,40,66,68)\n",
    "X3 <- c(6,15,8,8,6,9,17,22,18,4,23,9,8)\n",
    "X4 <- c(60, 52, 20,47,33,22,6,44,22,26,34,12,12)\n",
    "Y <- c(78.5, 74.3, 104.3, 87.6, 95.9, 109.2, 102.7, 72.5, 93.1, 115.9, 83.8, 113.3, 109.4)"
   ]
  },
  {
   "cell_type": "code",
   "execution_count": 55,
   "metadata": {},
   "outputs": [
    {
     "data": {
      "text/html": [
       "<table>\n",
       "<thead><tr><th scope=col>X1</th><th scope=col>X2</th><th scope=col>X3</th><th scope=col>X4</th><th scope=col>Y</th></tr></thead>\n",
       "<tbody>\n",
       "\t<tr><td> 7   </td><td>26   </td><td> 6   </td><td>60   </td><td> 78.5</td></tr>\n",
       "\t<tr><td> 1   </td><td>29   </td><td>15   </td><td>52   </td><td> 74.3</td></tr>\n",
       "\t<tr><td>11   </td><td>56   </td><td> 8   </td><td>20   </td><td>104.3</td></tr>\n",
       "\t<tr><td>11   </td><td>31   </td><td> 8   </td><td>47   </td><td> 87.6</td></tr>\n",
       "\t<tr><td> 7   </td><td>52   </td><td> 6   </td><td>33   </td><td> 95.9</td></tr>\n",
       "\t<tr><td>11   </td><td>55   </td><td> 9   </td><td>22   </td><td>109.2</td></tr>\n",
       "</tbody>\n",
       "</table>\n"
      ],
      "text/latex": [
       "\\begin{tabular}{r|lllll}\n",
       " X1 & X2 & X3 & X4 & Y\\\\\n",
       "\\hline\n",
       "\t  7    & 26    &  6    & 60    &  78.5\\\\\n",
       "\t  1    & 29    & 15    & 52    &  74.3\\\\\n",
       "\t 11    & 56    &  8    & 20    & 104.3\\\\\n",
       "\t 11    & 31    &  8    & 47    &  87.6\\\\\n",
       "\t  7    & 52    &  6    & 33    &  95.9\\\\\n",
       "\t 11    & 55    &  9    & 22    & 109.2\\\\\n",
       "\\end{tabular}\n"
      ],
      "text/markdown": [
       "\n",
       "X1 | X2 | X3 | X4 | Y | \n",
       "|---|---|---|---|---|---|\n",
       "|  7    | 26    |  6    | 60    |  78.5 | \n",
       "|  1    | 29    | 15    | 52    |  74.3 | \n",
       "| 11    | 56    |  8    | 20    | 104.3 | \n",
       "| 11    | 31    |  8    | 47    |  87.6 | \n",
       "|  7    | 52    |  6    | 33    |  95.9 | \n",
       "| 11    | 55    |  9    | 22    | 109.2 | \n",
       "\n",
       "\n"
      ],
      "text/plain": [
       "  X1 X2 X3 X4 Y    \n",
       "1  7 26  6 60  78.5\n",
       "2  1 29 15 52  74.3\n",
       "3 11 56  8 20 104.3\n",
       "4 11 31  8 47  87.6\n",
       "5  7 52  6 33  95.9\n",
       "6 11 55  9 22 109.2"
      ]
     },
     "metadata": {},
     "output_type": "display_data"
    }
   ],
   "source": [
    "df <- data.frame(X1,X2,X3,X4,Y)\n",
    "head(df)"
   ]
  },
  {
   "cell_type": "code",
   "execution_count": 56,
   "metadata": {
    "scrolled": true
   },
   "outputs": [
    {
     "data": {
      "text/plain": [
       "\n",
       "Call:\n",
       "lm(formula = Y ~ X1 + X2 + X3 + X4, data = df)\n",
       "\n",
       "Coefficients:\n",
       "(Intercept)           X1           X2           X3           X4  \n",
       "    62.4054       1.5511       0.5102       0.1019      -0.1441  \n"
      ]
     },
     "metadata": {},
     "output_type": "display_data"
    }
   ],
   "source": [
    "a <- lm(Y~X1+X2+X3+X4, data =df)\n",
    "a\n"
   ]
  },
  {
   "cell_type": "code",
   "execution_count": 57,
   "metadata": {},
   "outputs": [
    {
     "data": {
      "text/plain": [
       "\n",
       "Call:\n",
       "lm(formula = Y ~ X1 + X2 + X3 + X4, data = df)\n",
       "\n",
       "Residuals:\n",
       "    Min      1Q  Median      3Q     Max \n",
       "-3.1750 -1.6709  0.2508  1.3783  3.9254 \n",
       "\n",
       "Coefficients:\n",
       "            Estimate Std. Error t value Pr(>|t|)  \n",
       "(Intercept)  62.4054    70.0710   0.891   0.3991  \n",
       "X1            1.5511     0.7448   2.083   0.0708 .\n",
       "X2            0.5102     0.7238   0.705   0.5009  \n",
       "X3            0.1019     0.7547   0.135   0.8959  \n",
       "X4           -0.1441     0.7091  -0.203   0.8441  \n",
       "---\n",
       "Signif. codes:  0 ‘***’ 0.001 ‘**’ 0.01 ‘*’ 0.05 ‘.’ 0.1 ‘ ’ 1\n",
       "\n",
       "Residual standard error: 2.446 on 8 degrees of freedom\n",
       "Multiple R-squared:  0.9824,\tAdjusted R-squared:  0.9736 \n",
       "F-statistic: 111.5 on 4 and 8 DF,  p-value: 4.756e-07\n"
      ]
     },
     "metadata": {},
     "output_type": "display_data"
    }
   ],
   "source": [
    "summary(a)"
   ]
  },
  {
   "cell_type": "markdown",
   "metadata": {},
   "source": [
    "- 회귀식 \n",
    "$$ Y =  62.4054 + 1.5511X1 + 0.5102X2 + 0.1019X3 -0.1441X4 $$ 으로 추정  \n",
    "- F 통계량 = 111.5, p-값 4.756e-07 (0.00000047564) , 유의수준 5% 이하 에서 추정된 회귀 모형이 통계적으로 매우 유의함\n",
    "- 수정된 결정계수 : 0.9736 추정된 회귀식이 데이터를 97%로 적절하게 설명하고 있음\n",
    "- 설명변수 X1, X2, X3, X4 의 p-값은 X3의 유의 확률이 가장 높아 가장 유의하지 않음\n",
    "- 설명변수 X3을 제거하고, 다시 회귀분석을 함"
   ]
  },
  {
   "cell_type": "code",
   "execution_count": 59,
   "metadata": {},
   "outputs": [
    {
     "data": {
      "text/plain": [
       "\n",
       "Call:\n",
       "lm(formula = Y ~ X1 + X2 + X4, data = df)\n",
       "\n",
       "Coefficients:\n",
       "(Intercept)           X1           X2           X4  \n",
       "    71.6483       1.4519       0.4161      -0.2365  \n"
      ]
     },
     "metadata": {},
     "output_type": "display_data"
    }
   ],
   "source": [
    "b <- lm(Y~X1+X2+X4, data = df)\n",
    "b"
   ]
  },
  {
   "cell_type": "code",
   "execution_count": 60,
   "metadata": {},
   "outputs": [
    {
     "data": {
      "text/plain": [
       "\n",
       "Call:\n",
       "lm(formula = Y ~ X1 + X2 + X4, data = df)\n",
       "\n",
       "Residuals:\n",
       "    Min      1Q  Median      3Q     Max \n",
       "-3.0919 -1.8016  0.2562  1.2818  3.8982 \n",
       "\n",
       "Coefficients:\n",
       "            Estimate Std. Error t value Pr(>|t|)    \n",
       "(Intercept)  71.6483    14.1424   5.066 0.000675 ***\n",
       "X1            1.4519     0.1170  12.410 5.78e-07 ***\n",
       "X2            0.4161     0.1856   2.242 0.051687 .  \n",
       "X4           -0.2365     0.1733  -1.365 0.205395    \n",
       "---\n",
       "Signif. codes:  0 ‘***’ 0.001 ‘**’ 0.01 ‘*’ 0.05 ‘.’ 0.1 ‘ ’ 1\n",
       "\n",
       "Residual standard error: 2.309 on 9 degrees of freedom\n",
       "Multiple R-squared:  0.9823,\tAdjusted R-squared:  0.9764 \n",
       "F-statistic: 166.8 on 3 and 9 DF,  p-value: 3.323e-08\n"
      ]
     },
     "metadata": {},
     "output_type": "display_data"
    }
   ],
   "source": [
    "summary(b)"
   ]
  },
  {
   "cell_type": "markdown",
   "metadata": {},
   "source": [
    "- 회귀식 \n",
    "$$ Y =  71.6483 + 1.4519X1 + 0.4161X2 - 0.2365X4 $$ 으로 추정  \n",
    "- F 통계량 = 166.8, p-값 3.323e-08 (0.00000003323) , 유의수준 5% 이하 에서 추정된 회귀 모형이 통계적으로 매우 유의함\n",
    "- 수정된 결정계수 : 0.9736 에서 0.9764 으로 높아짐.\n",
    "- 설명변수 X1, X2, X4 중 p-값이 가장 높은 X4를 제거하고 회귀분석을 함"
   ]
  },
  {
   "cell_type": "code",
   "execution_count": 64,
   "metadata": {},
   "outputs": [
    {
     "data": {
      "text/plain": [
       "\n",
       "Call:\n",
       "lm(formula = Y ~ X1 + X2, data = df)\n",
       "\n",
       "Coefficients:\n",
       "(Intercept)           X1           X2  \n",
       "    52.5773       1.4683       0.6623  \n"
      ]
     },
     "metadata": {},
     "output_type": "display_data"
    }
   ],
   "source": [
    "c <- lm(Y~X1+X2, data = df)\n",
    "c"
   ]
  },
  {
   "cell_type": "code",
   "execution_count": 65,
   "metadata": {},
   "outputs": [
    {
     "data": {
      "text/plain": [
       "\n",
       "Call:\n",
       "lm(formula = Y ~ X1 + X2, data = df)\n",
       "\n",
       "Residuals:\n",
       "   Min     1Q Median     3Q    Max \n",
       "-2.893 -1.574 -1.302  1.363  4.048 \n",
       "\n",
       "Coefficients:\n",
       "            Estimate Std. Error t value Pr(>|t|)    \n",
       "(Intercept) 52.57735    2.28617   23.00 5.46e-10 ***\n",
       "X1           1.46831    0.12130   12.11 2.69e-07 ***\n",
       "X2           0.66225    0.04585   14.44 5.03e-08 ***\n",
       "---\n",
       "Signif. codes:  0 ‘***’ 0.001 ‘**’ 0.01 ‘*’ 0.05 ‘.’ 0.1 ‘ ’ 1\n",
       "\n",
       "Residual standard error: 2.406 on 10 degrees of freedom\n",
       "Multiple R-squared:  0.9787,\tAdjusted R-squared:  0.9744 \n",
       "F-statistic: 229.5 on 2 and 10 DF,  p-value: 4.407e-09\n"
      ]
     },
     "metadata": {},
     "output_type": "display_data"
    }
   ],
   "source": [
    "summary(c)"
   ]
  },
  {
   "cell_type": "markdown",
   "metadata": {},
   "source": [
    "- 회귀식 \n",
    "$$ Y =  52.5773 + 1.4683X1 + 0.6623X2 $$ 으로 추정  \n",
    "- F 통계량 = 229.5, p-값 4.407e-09 (0.000000004407) , 유의수준 5% 이하 에서 추정된 회귀 모형이 통계적으로 매우 유의함\n",
    "- 설명변수 X1, X2의 p-값이 모두 유의하므로 변수제거를 멈춤"
   ]
  },
  {
   "cell_type": "markdown",
   "metadata": {},
   "source": [
    "- step(lm(종속변수 ~ 설명변수, 데이터세트), scope = list(loower = ~1, upper = ~설명변수), direction = \"변수선택방법\") 함수로 변수를 쉽게 선택할 수 있음.\n",
    "    - lm : 분석방법이 회귀분석임을 인지\n",
    "    - scope : 분석 시, 고려할 변수의 범위를 정함, \n",
    "        - 가장 낮은 단계는 lower 에서 1을 입력하면 상수항을 의미\n",
    "        - 가장 높은 단계를 설정하기 위해서는 설명변수들을 모두 써줌\n",
    "    - direction : 변수 선택 방법\n",
    "        - forward, backward, both "
   ]
  },
  {
   "cell_type": "code",
   "execution_count": 66,
   "metadata": {},
   "outputs": [],
   "source": [
    "# 위의 예에서 주어진 자료와 선형회귀모형에 대해, 전진선택법을 적용하여 모형을 선택해보자"
   ]
  },
  {
   "cell_type": "code",
   "execution_count": 69,
   "metadata": {},
   "outputs": [
    {
     "name": "stdout",
     "output_type": "stream",
     "text": [
      "Start:  AIC=71.44\n",
      "Y ~ 1\n",
      "\n",
      "       Df Sum of Sq     RSS    AIC\n",
      "+ X4    1   1831.90  883.87 58.852\n",
      "+ X2    1   1809.43  906.34 59.178\n",
      "+ X1    1   1450.08 1265.69 63.519\n",
      "+ X3    1    776.36 1939.40 69.067\n",
      "<none>              2715.76 71.444\n",
      "\n",
      "Step:  AIC=58.85\n",
      "Y ~ X4\n",
      "\n",
      "       Df Sum of Sq    RSS    AIC\n",
      "+ X1    1    809.10  74.76 28.742\n",
      "+ X3    1    708.13 175.74 39.853\n",
      "<none>              883.87 58.852\n",
      "+ X2    1     14.99 868.88 60.629\n",
      "\n",
      "Step:  AIC=28.74\n",
      "Y ~ X4 + X1\n",
      "\n",
      "       Df Sum of Sq    RSS    AIC\n",
      "+ X2    1    26.789 47.973 24.974\n",
      "+ X3    1    23.926 50.836 25.728\n",
      "<none>              74.762 28.742\n",
      "\n",
      "Step:  AIC=24.97\n",
      "Y ~ X4 + X1 + X2\n",
      "\n",
      "       Df Sum of Sq    RSS    AIC\n",
      "<none>              47.973 24.974\n",
      "+ X3    1   0.10909 47.864 26.944\n"
     ]
    },
    {
     "data": {
      "text/plain": [
       "\n",
       "Call:\n",
       "lm(formula = Y ~ X4 + X1 + X2, data = df)\n",
       "\n",
       "Coefficients:\n",
       "(Intercept)           X4           X1           X2  \n",
       "    71.6483      -0.2365       1.4519       0.4161  \n"
      ]
     },
     "metadata": {},
     "output_type": "display_data"
    }
   ],
   "source": [
    "step(lm(Y ~1, df), scope=list(lower = ~1, upper = ~X1+X2+X3+X4), direction = \"forward\" )"
   ]
  },
  {
   "cell_type": "markdown",
   "metadata": {},
   "source": [
    "- 회귀식 : $$ Y = 71.6483 -0.2365X4 + 1.4519X1 + 0.4161X2  $$"
   ]
  },
  {
   "cell_type": "code",
   "execution_count": 70,
   "metadata": {},
   "outputs": [],
   "source": [
    "# 위의 자료와 모형에 대해 단계적 방법을 적용하여 모형을 선택해보자"
   ]
  },
  {
   "cell_type": "code",
   "execution_count": 71,
   "metadata": {},
   "outputs": [
    {
     "data": {
      "text/html": [
       "<table>\n",
       "<thead><tr><th scope=col>X1</th><th scope=col>X2</th><th scope=col>X3</th><th scope=col>X4</th><th scope=col>Y</th></tr></thead>\n",
       "<tbody>\n",
       "\t<tr><td> 7   </td><td>26   </td><td> 6   </td><td>60   </td><td> 78.5</td></tr>\n",
       "\t<tr><td> 1   </td><td>29   </td><td>15   </td><td>52   </td><td> 74.3</td></tr>\n",
       "\t<tr><td>11   </td><td>56   </td><td> 8   </td><td>20   </td><td>104.3</td></tr>\n",
       "\t<tr><td>11   </td><td>31   </td><td> 8   </td><td>47   </td><td> 87.6</td></tr>\n",
       "\t<tr><td> 7   </td><td>52   </td><td> 6   </td><td>33   </td><td> 95.9</td></tr>\n",
       "\t<tr><td>11   </td><td>55   </td><td> 9   </td><td>22   </td><td>109.2</td></tr>\n",
       "\t<tr><td> 3   </td><td>71   </td><td>17   </td><td> 6   </td><td>102.7</td></tr>\n",
       "\t<tr><td> 1   </td><td>31   </td><td>22   </td><td>44   </td><td> 72.5</td></tr>\n",
       "\t<tr><td> 2   </td><td>54   </td><td>18   </td><td>22   </td><td> 93.1</td></tr>\n",
       "\t<tr><td>21   </td><td>47   </td><td> 4   </td><td>26   </td><td>115.9</td></tr>\n",
       "\t<tr><td> 1   </td><td>40   </td><td>23   </td><td>34   </td><td> 83.8</td></tr>\n",
       "\t<tr><td>11   </td><td>66   </td><td> 9   </td><td>12   </td><td>113.3</td></tr>\n",
       "\t<tr><td>10   </td><td>68   </td><td> 8   </td><td>12   </td><td>109.4</td></tr>\n",
       "</tbody>\n",
       "</table>\n"
      ],
      "text/latex": [
       "\\begin{tabular}{r|lllll}\n",
       " X1 & X2 & X3 & X4 & Y\\\\\n",
       "\\hline\n",
       "\t  7    & 26    &  6    & 60    &  78.5\\\\\n",
       "\t  1    & 29    & 15    & 52    &  74.3\\\\\n",
       "\t 11    & 56    &  8    & 20    & 104.3\\\\\n",
       "\t 11    & 31    &  8    & 47    &  87.6\\\\\n",
       "\t  7    & 52    &  6    & 33    &  95.9\\\\\n",
       "\t 11    & 55    &  9    & 22    & 109.2\\\\\n",
       "\t  3    & 71    & 17    &  6    & 102.7\\\\\n",
       "\t  1    & 31    & 22    & 44    &  72.5\\\\\n",
       "\t  2    & 54    & 18    & 22    &  93.1\\\\\n",
       "\t 21    & 47    &  4    & 26    & 115.9\\\\\n",
       "\t  1    & 40    & 23    & 34    &  83.8\\\\\n",
       "\t 11    & 66    &  9    & 12    & 113.3\\\\\n",
       "\t 10    & 68    &  8    & 12    & 109.4\\\\\n",
       "\\end{tabular}\n"
      ],
      "text/markdown": [
       "\n",
       "X1 | X2 | X3 | X4 | Y | \n",
       "|---|---|---|---|---|---|---|---|---|---|---|---|---|\n",
       "|  7    | 26    |  6    | 60    |  78.5 | \n",
       "|  1    | 29    | 15    | 52    |  74.3 | \n",
       "| 11    | 56    |  8    | 20    | 104.3 | \n",
       "| 11    | 31    |  8    | 47    |  87.6 | \n",
       "|  7    | 52    |  6    | 33    |  95.9 | \n",
       "| 11    | 55    |  9    | 22    | 109.2 | \n",
       "|  3    | 71    | 17    |  6    | 102.7 | \n",
       "|  1    | 31    | 22    | 44    |  72.5 | \n",
       "|  2    | 54    | 18    | 22    |  93.1 | \n",
       "| 21    | 47    |  4    | 26    | 115.9 | \n",
       "|  1    | 40    | 23    | 34    |  83.8 | \n",
       "| 11    | 66    |  9    | 12    | 113.3 | \n",
       "| 10    | 68    |  8    | 12    | 109.4 | \n",
       "\n",
       "\n"
      ],
      "text/plain": [
       "   X1 X2 X3 X4 Y    \n",
       "1   7 26  6 60  78.5\n",
       "2   1 29 15 52  74.3\n",
       "3  11 56  8 20 104.3\n",
       "4  11 31  8 47  87.6\n",
       "5   7 52  6 33  95.9\n",
       "6  11 55  9 22 109.2\n",
       "7   3 71 17  6 102.7\n",
       "8   1 31 22 44  72.5\n",
       "9   2 54 18 22  93.1\n",
       "10 21 47  4 26 115.9\n",
       "11  1 40 23 34  83.8\n",
       "12 11 66  9 12 113.3\n",
       "13 10 68  8 12 109.4"
      ]
     },
     "metadata": {},
     "output_type": "display_data"
    }
   ],
   "source": [
    "df"
   ]
  },
  {
   "cell_type": "code",
   "execution_count": 72,
   "metadata": {},
   "outputs": [
    {
     "name": "stdout",
     "output_type": "stream",
     "text": [
      "Start:  AIC=71.44\n",
      "Y ~ 1\n",
      "\n",
      "       Df Sum of Sq     RSS    AIC\n",
      "+ X4    1   1831.90  883.87 58.852\n",
      "+ X2    1   1809.43  906.34 59.178\n",
      "+ X1    1   1450.08 1265.69 63.519\n",
      "+ X3    1    776.36 1939.40 69.067\n",
      "<none>              2715.76 71.444\n",
      "\n",
      "Step:  AIC=58.85\n",
      "Y ~ X4\n",
      "\n",
      "       Df Sum of Sq     RSS    AIC\n",
      "+ X1    1    809.10   74.76 28.742\n",
      "+ X3    1    708.13  175.74 39.853\n",
      "<none>               883.87 58.852\n",
      "+ X2    1     14.99  868.88 60.629\n",
      "- X4    1   1831.90 2715.76 71.444\n",
      "\n",
      "Step:  AIC=28.74\n",
      "Y ~ X4 + X1\n",
      "\n",
      "       Df Sum of Sq     RSS    AIC\n",
      "+ X2    1     26.79   47.97 24.974\n",
      "+ X3    1     23.93   50.84 25.728\n",
      "<none>                74.76 28.742\n",
      "- X1    1    809.10  883.87 58.852\n",
      "- X4    1   1190.92 1265.69 63.519\n",
      "\n",
      "Step:  AIC=24.97\n",
      "Y ~ X4 + X1 + X2\n",
      "\n",
      "       Df Sum of Sq    RSS    AIC\n",
      "<none>               47.97 24.974\n",
      "- X4    1      9.93  57.90 25.420\n",
      "+ X3    1      0.11  47.86 26.944\n",
      "- X2    1     26.79  74.76 28.742\n",
      "- X1    1    820.91 868.88 60.629\n"
     ]
    },
    {
     "data": {
      "text/plain": [
       "\n",
       "Call:\n",
       "lm(formula = Y ~ X4 + X1 + X2, data = df)\n",
       "\n",
       "Coefficients:\n",
       "(Intercept)           X4           X1           X2  \n",
       "    71.6483      -0.2365       1.4519       0.4161  \n"
      ]
     },
     "metadata": {},
     "output_type": "display_data"
    }
   ],
   "source": [
    "step(lm(Y ~1, df), scope=list(lower = ~1, upper = ~X1+X2+X3+X4), direction = \"both\" )"
   ]
  },
  {
   "cell_type": "markdown",
   "metadata": {},
   "source": [
    "- 회귀식 : $$ Y = 71.6483 -0.2365X4 + 1.4519X1 + 0.4161X2  $$"
   ]
  },
  {
   "cell_type": "code",
   "execution_count": 74,
   "metadata": {},
   "outputs": [],
   "source": [
    "# 다음은 MASS 패키지의 hills 데이터이다. step 함수를 이용해서 전진선택법을 적용해보자. time 은 종속변수이다."
   ]
  },
  {
   "cell_type": "code",
   "execution_count": 75,
   "metadata": {},
   "outputs": [
    {
     "data": {
      "text/html": [
       "<table>\n",
       "<thead><tr><th></th><th scope=col>dist</th><th scope=col>climb</th><th scope=col>time</th></tr></thead>\n",
       "<tbody>\n",
       "\t<tr><th scope=row>Greenmantle</th><td>2.5   </td><td> 650  </td><td>16.083</td></tr>\n",
       "\t<tr><th scope=row>Carnethy</th><td>6.0   </td><td>2500  </td><td>48.350</td></tr>\n",
       "\t<tr><th scope=row>Craig Dunain</th><td>6.0   </td><td> 900  </td><td>33.650</td></tr>\n",
       "\t<tr><th scope=row>Ben Rha</th><td>7.5   </td><td> 800  </td><td>45.600</td></tr>\n",
       "\t<tr><th scope=row>Ben Lomond</th><td>8.0   </td><td>3070  </td><td>62.267</td></tr>\n",
       "\t<tr><th scope=row>Goatfell</th><td>8.0   </td><td>2866  </td><td>73.217</td></tr>\n",
       "</tbody>\n",
       "</table>\n"
      ],
      "text/latex": [
       "\\begin{tabular}{r|lll}\n",
       "  & dist & climb & time\\\\\n",
       "\\hline\n",
       "\tGreenmantle & 2.5    &  650   & 16.083\\\\\n",
       "\tCarnethy & 6.0    & 2500   & 48.350\\\\\n",
       "\tCraig Dunain & 6.0    &  900   & 33.650\\\\\n",
       "\tBen Rha & 7.5    &  800   & 45.600\\\\\n",
       "\tBen Lomond & 8.0    & 3070   & 62.267\\\\\n",
       "\tGoatfell & 8.0    & 2866   & 73.217\\\\\n",
       "\\end{tabular}\n"
      ],
      "text/markdown": [
       "\n",
       "| <!--/--> | dist | climb | time | \n",
       "|---|---|---|---|---|---|\n",
       "| Greenmantle | 2.5    |  650   | 16.083 | \n",
       "| Carnethy | 6.0    | 2500   | 48.350 | \n",
       "| Craig Dunain | 6.0    |  900   | 33.650 | \n",
       "| Ben Rha | 7.5    |  800   | 45.600 | \n",
       "| Ben Lomond | 8.0    | 3070   | 62.267 | \n",
       "| Goatfell | 8.0    | 2866   | 73.217 | \n",
       "\n",
       "\n"
      ],
      "text/plain": [
       "             dist climb time  \n",
       "Greenmantle  2.5   650  16.083\n",
       "Carnethy     6.0  2500  48.350\n",
       "Craig Dunain 6.0   900  33.650\n",
       "Ben Rha      7.5   800  45.600\n",
       "Ben Lomond   8.0  3070  62.267\n",
       "Goatfell     8.0  2866  73.217"
      ]
     },
     "metadata": {},
     "output_type": "display_data"
    }
   ],
   "source": [
    "library(MASS)\n",
    "data(hills)\n",
    "head(hills)"
   ]
  },
  {
   "cell_type": "code",
   "execution_count": 76,
   "metadata": {},
   "outputs": [
    {
     "name": "stdout",
     "output_type": "stream",
     "text": [
      "Start:  AIC=274.88\n",
      "time ~ 1\n",
      "\n",
      "        Df Sum of Sq   RSS    AIC\n",
      "+ dist   1     71997 13142 211.49\n",
      "+ climb  1     55205 29934 240.30\n",
      "<none>               85138 274.88\n",
      "\n",
      "Step:  AIC=211.49\n",
      "time ~ dist\n",
      "\n",
      "        Df Sum of Sq   RSS    AIC\n",
      "+ climb  1      6250  6892 190.90\n",
      "<none>               13142 211.49\n",
      "- dist   1     71997 85138 274.88\n",
      "\n",
      "Step:  AIC=190.9\n",
      "time ~ dist + climb\n",
      "\n",
      "        Df Sum of Sq     RSS    AIC\n",
      "<none>                6891.9 190.90\n",
      "- climb  1    6249.7 13141.6 211.49\n",
      "- dist   1   23042.0 29933.8 240.30\n"
     ]
    },
    {
     "data": {
      "text/plain": [
       "\n",
       "Call:\n",
       "lm(formula = time ~ dist + climb, data = hills)\n",
       "\n",
       "Coefficients:\n",
       "(Intercept)         dist        climb  \n",
       "   -8.99204      6.21796      0.01105  \n"
      ]
     },
     "metadata": {},
     "output_type": "display_data"
    }
   ],
   "source": [
    "step(lm(time ~1, hills), scope=list(lower = ~1, upper = ~dist+climb), direction = \"both\" )"
   ]
  },
  {
   "cell_type": "markdown",
   "metadata": {},
   "source": [
    "- 회총 회귀식 \n",
    "$$ time = -8.99204 + 6.21796dist+ 0.01105climb  $$"
   ]
  },
  {
   "cell_type": "code",
   "execution_count": 1,
   "metadata": {},
   "outputs": [
    {
     "data": {
      "text/html": [
       "<table>\n",
       "<thead><tr><th scope=col>age</th><th scope=col>sex</th><th scope=col>height</th><th scope=col>weight</th><th scope=col>bmp</th><th scope=col>fev1</th><th scope=col>rv</th><th scope=col>frc</th><th scope=col>tlc</th><th scope=col>pemax</th></tr></thead>\n",
       "<tbody>\n",
       "\t<tr><td> 7  </td><td>0   </td><td>109 </td><td>13.1</td><td>68  </td><td>32  </td><td>258 </td><td>183 </td><td>137 </td><td> 95 </td></tr>\n",
       "\t<tr><td> 7  </td><td>1   </td><td>112 </td><td>12.9</td><td>65  </td><td>19  </td><td>449 </td><td>245 </td><td>134 </td><td> 85 </td></tr>\n",
       "\t<tr><td> 8  </td><td>0   </td><td>124 </td><td>14.1</td><td>64  </td><td>22  </td><td>441 </td><td>268 </td><td>147 </td><td>100 </td></tr>\n",
       "\t<tr><td> 8  </td><td>1   </td><td>125 </td><td>16.2</td><td>67  </td><td>41  </td><td>234 </td><td>146 </td><td>124 </td><td> 85 </td></tr>\n",
       "\t<tr><td> 8  </td><td>0   </td><td>127 </td><td>21.5</td><td>93  </td><td>52  </td><td>202 </td><td>131 </td><td>104 </td><td> 95 </td></tr>\n",
       "\t<tr><td> 9  </td><td>0   </td><td>130 </td><td>17.5</td><td>68  </td><td>44  </td><td>308 </td><td>155 </td><td>118 </td><td> 80 </td></tr>\n",
       "\t<tr><td>11  </td><td>1   </td><td>139 </td><td>30.7</td><td>89  </td><td>28  </td><td>305 </td><td>179 </td><td>119 </td><td> 65 </td></tr>\n",
       "\t<tr><td>12  </td><td>1   </td><td>150 </td><td>28.4</td><td>69  </td><td>18  </td><td>369 </td><td>198 </td><td>103 </td><td>110 </td></tr>\n",
       "\t<tr><td>12  </td><td>0   </td><td>146 </td><td>25.1</td><td>67  </td><td>24  </td><td>312 </td><td>194 </td><td>128 </td><td> 70 </td></tr>\n",
       "\t<tr><td>13  </td><td>1   </td><td>155 </td><td>31.5</td><td>68  </td><td>23  </td><td>413 </td><td>225 </td><td>136 </td><td> 95 </td></tr>\n",
       "\t<tr><td>13  </td><td>0   </td><td>156 </td><td>39.9</td><td>89  </td><td>39  </td><td>206 </td><td>142 </td><td> 95 </td><td>110 </td></tr>\n",
       "\t<tr><td>14  </td><td>1   </td><td>153 </td><td>42.1</td><td>90  </td><td>26  </td><td>253 </td><td>191 </td><td>121 </td><td> 90 </td></tr>\n",
       "\t<tr><td>14  </td><td>0   </td><td>160 </td><td>45.6</td><td>93  </td><td>45  </td><td>174 </td><td>139 </td><td>108 </td><td>100 </td></tr>\n",
       "\t<tr><td>15  </td><td>1   </td><td>158 </td><td>51.2</td><td>93  </td><td>45  </td><td>158 </td><td>124 </td><td> 90 </td><td> 80 </td></tr>\n",
       "\t<tr><td>16  </td><td>1   </td><td>160 </td><td>35.9</td><td>66  </td><td>31  </td><td>302 </td><td>133 </td><td>101 </td><td>134 </td></tr>\n",
       "\t<tr><td>17  </td><td>1   </td><td>153 </td><td>34.8</td><td>70  </td><td>29  </td><td>204 </td><td>118 </td><td>120 </td><td>134 </td></tr>\n",
       "\t<tr><td>17  </td><td>0   </td><td>174 </td><td>44.7</td><td>70  </td><td>49  </td><td>187 </td><td>104 </td><td>103 </td><td>165 </td></tr>\n",
       "\t<tr><td>17  </td><td>1   </td><td>176 </td><td>60.1</td><td>92  </td><td>29  </td><td>188 </td><td>129 </td><td>130 </td><td>120 </td></tr>\n",
       "\t<tr><td>17  </td><td>0   </td><td>171 </td><td>42.6</td><td>69  </td><td>38  </td><td>172 </td><td>130 </td><td>103 </td><td>130 </td></tr>\n",
       "\t<tr><td>19  </td><td>1   </td><td>156 </td><td>37.2</td><td>72  </td><td>21  </td><td>216 </td><td>119 </td><td> 81 </td><td> 85 </td></tr>\n",
       "\t<tr><td>19  </td><td>0   </td><td>174 </td><td>54.6</td><td>86  </td><td>37  </td><td>184 </td><td>118 </td><td>101 </td><td> 85 </td></tr>\n",
       "\t<tr><td>20  </td><td>0   </td><td>178 </td><td>64.0</td><td>86  </td><td>34  </td><td>225 </td><td>148 </td><td>135 </td><td>160 </td></tr>\n",
       "\t<tr><td>23  </td><td>0   </td><td>180 </td><td>73.8</td><td>97  </td><td>57  </td><td>171 </td><td>108 </td><td> 98 </td><td>165 </td></tr>\n",
       "\t<tr><td>23  </td><td>0   </td><td>175 </td><td>51.1</td><td>71  </td><td>33  </td><td>224 </td><td>131 </td><td>113 </td><td> 95 </td></tr>\n",
       "\t<tr><td>23  </td><td>0   </td><td>179 </td><td>71.5</td><td>95  </td><td>52  </td><td>225 </td><td>127 </td><td>101 </td><td>195 </td></tr>\n",
       "</tbody>\n",
       "</table>\n"
      ],
      "text/latex": [
       "\\begin{tabular}{r|llllllllll}\n",
       " age & sex & height & weight & bmp & fev1 & rv & frc & tlc & pemax\\\\\n",
       "\\hline\n",
       "\t  7   & 0    & 109  & 13.1 & 68   & 32   & 258  & 183  & 137  &  95 \\\\\n",
       "\t  7   & 1    & 112  & 12.9 & 65   & 19   & 449  & 245  & 134  &  85 \\\\\n",
       "\t  8   & 0    & 124  & 14.1 & 64   & 22   & 441  & 268  & 147  & 100 \\\\\n",
       "\t  8   & 1    & 125  & 16.2 & 67   & 41   & 234  & 146  & 124  &  85 \\\\\n",
       "\t  8   & 0    & 127  & 21.5 & 93   & 52   & 202  & 131  & 104  &  95 \\\\\n",
       "\t  9   & 0    & 130  & 17.5 & 68   & 44   & 308  & 155  & 118  &  80 \\\\\n",
       "\t 11   & 1    & 139  & 30.7 & 89   & 28   & 305  & 179  & 119  &  65 \\\\\n",
       "\t 12   & 1    & 150  & 28.4 & 69   & 18   & 369  & 198  & 103  & 110 \\\\\n",
       "\t 12   & 0    & 146  & 25.1 & 67   & 24   & 312  & 194  & 128  &  70 \\\\\n",
       "\t 13   & 1    & 155  & 31.5 & 68   & 23   & 413  & 225  & 136  &  95 \\\\\n",
       "\t 13   & 0    & 156  & 39.9 & 89   & 39   & 206  & 142  &  95  & 110 \\\\\n",
       "\t 14   & 1    & 153  & 42.1 & 90   & 26   & 253  & 191  & 121  &  90 \\\\\n",
       "\t 14   & 0    & 160  & 45.6 & 93   & 45   & 174  & 139  & 108  & 100 \\\\\n",
       "\t 15   & 1    & 158  & 51.2 & 93   & 45   & 158  & 124  &  90  &  80 \\\\\n",
       "\t 16   & 1    & 160  & 35.9 & 66   & 31   & 302  & 133  & 101  & 134 \\\\\n",
       "\t 17   & 1    & 153  & 34.8 & 70   & 29   & 204  & 118  & 120  & 134 \\\\\n",
       "\t 17   & 0    & 174  & 44.7 & 70   & 49   & 187  & 104  & 103  & 165 \\\\\n",
       "\t 17   & 1    & 176  & 60.1 & 92   & 29   & 188  & 129  & 130  & 120 \\\\\n",
       "\t 17   & 0    & 171  & 42.6 & 69   & 38   & 172  & 130  & 103  & 130 \\\\\n",
       "\t 19   & 1    & 156  & 37.2 & 72   & 21   & 216  & 119  &  81  &  85 \\\\\n",
       "\t 19   & 0    & 174  & 54.6 & 86   & 37   & 184  & 118  & 101  &  85 \\\\\n",
       "\t 20   & 0    & 178  & 64.0 & 86   & 34   & 225  & 148  & 135  & 160 \\\\\n",
       "\t 23   & 0    & 180  & 73.8 & 97   & 57   & 171  & 108  &  98  & 165 \\\\\n",
       "\t 23   & 0    & 175  & 51.1 & 71   & 33   & 224  & 131  & 113  &  95 \\\\\n",
       "\t 23   & 0    & 179  & 71.5 & 95   & 52   & 225  & 127  & 101  & 195 \\\\\n",
       "\\end{tabular}\n"
      ],
      "text/markdown": [
       "\n",
       "age | sex | height | weight | bmp | fev1 | rv | frc | tlc | pemax | \n",
       "|---|---|---|---|---|---|---|---|---|---|---|---|---|---|---|---|---|---|---|---|---|---|---|---|---|\n",
       "|  7   | 0    | 109  | 13.1 | 68   | 32   | 258  | 183  | 137  |  95  | \n",
       "|  7   | 1    | 112  | 12.9 | 65   | 19   | 449  | 245  | 134  |  85  | \n",
       "|  8   | 0    | 124  | 14.1 | 64   | 22   | 441  | 268  | 147  | 100  | \n",
       "|  8   | 1    | 125  | 16.2 | 67   | 41   | 234  | 146  | 124  |  85  | \n",
       "|  8   | 0    | 127  | 21.5 | 93   | 52   | 202  | 131  | 104  |  95  | \n",
       "|  9   | 0    | 130  | 17.5 | 68   | 44   | 308  | 155  | 118  |  80  | \n",
       "| 11   | 1    | 139  | 30.7 | 89   | 28   | 305  | 179  | 119  |  65  | \n",
       "| 12   | 1    | 150  | 28.4 | 69   | 18   | 369  | 198  | 103  | 110  | \n",
       "| 12   | 0    | 146  | 25.1 | 67   | 24   | 312  | 194  | 128  |  70  | \n",
       "| 13   | 1    | 155  | 31.5 | 68   | 23   | 413  | 225  | 136  |  95  | \n",
       "| 13   | 0    | 156  | 39.9 | 89   | 39   | 206  | 142  |  95  | 110  | \n",
       "| 14   | 1    | 153  | 42.1 | 90   | 26   | 253  | 191  | 121  |  90  | \n",
       "| 14   | 0    | 160  | 45.6 | 93   | 45   | 174  | 139  | 108  | 100  | \n",
       "| 15   | 1    | 158  | 51.2 | 93   | 45   | 158  | 124  |  90  |  80  | \n",
       "| 16   | 1    | 160  | 35.9 | 66   | 31   | 302  | 133  | 101  | 134  | \n",
       "| 17   | 1    | 153  | 34.8 | 70   | 29   | 204  | 118  | 120  | 134  | \n",
       "| 17   | 0    | 174  | 44.7 | 70   | 49   | 187  | 104  | 103  | 165  | \n",
       "| 17   | 1    | 176  | 60.1 | 92   | 29   | 188  | 129  | 130  | 120  | \n",
       "| 17   | 0    | 171  | 42.6 | 69   | 38   | 172  | 130  | 103  | 130  | \n",
       "| 19   | 1    | 156  | 37.2 | 72   | 21   | 216  | 119  |  81  |  85  | \n",
       "| 19   | 0    | 174  | 54.6 | 86   | 37   | 184  | 118  | 101  |  85  | \n",
       "| 20   | 0    | 178  | 64.0 | 86   | 34   | 225  | 148  | 135  | 160  | \n",
       "| 23   | 0    | 180  | 73.8 | 97   | 57   | 171  | 108  |  98  | 165  | \n",
       "| 23   | 0    | 175  | 51.1 | 71   | 33   | 224  | 131  | 113  |  95  | \n",
       "| 23   | 0    | 179  | 71.5 | 95   | 52   | 225  | 127  | 101  | 195  | \n",
       "\n",
       "\n"
      ],
      "text/plain": [
       "   age sex height weight bmp fev1 rv  frc tlc pemax\n",
       "1   7  0   109    13.1   68  32   258 183 137  95  \n",
       "2   7  1   112    12.9   65  19   449 245 134  85  \n",
       "3   8  0   124    14.1   64  22   441 268 147 100  \n",
       "4   8  1   125    16.2   67  41   234 146 124  85  \n",
       "5   8  0   127    21.5   93  52   202 131 104  95  \n",
       "6   9  0   130    17.5   68  44   308 155 118  80  \n",
       "7  11  1   139    30.7   89  28   305 179 119  65  \n",
       "8  12  1   150    28.4   69  18   369 198 103 110  \n",
       "9  12  0   146    25.1   67  24   312 194 128  70  \n",
       "10 13  1   155    31.5   68  23   413 225 136  95  \n",
       "11 13  0   156    39.9   89  39   206 142  95 110  \n",
       "12 14  1   153    42.1   90  26   253 191 121  90  \n",
       "13 14  0   160    45.6   93  45   174 139 108 100  \n",
       "14 15  1   158    51.2   93  45   158 124  90  80  \n",
       "15 16  1   160    35.9   66  31   302 133 101 134  \n",
       "16 17  1   153    34.8   70  29   204 118 120 134  \n",
       "17 17  0   174    44.7   70  49   187 104 103 165  \n",
       "18 17  1   176    60.1   92  29   188 129 130 120  \n",
       "19 17  0   171    42.6   69  38   172 130 103 130  \n",
       "20 19  1   156    37.2   72  21   216 119  81  85  \n",
       "21 19  0   174    54.6   86  37   184 118 101  85  \n",
       "22 20  0   178    64.0   86  34   225 148 135 160  \n",
       "23 23  0   180    73.8   97  57   171 108  98 165  \n",
       "24 23  0   175    51.1   71  33   224 131 113  95  \n",
       "25 23  0   179    71.5   95  52   225 127 101 195  "
      ]
     },
     "metadata": {},
     "output_type": "display_data"
    }
   ],
   "source": [
    "# 데이터 세트를 읽는다. \n",
    "# https://people.sc.fsu.edu/~jburkardt/datasets/iswr/cystfibr.csv\n",
    "# 종속변수 : Premax\n",
    "\n",
    "Bio <- read.csv(\"https://people.sc.fsu.edu/~jburkardt/datasets/iswr/cystfibr.csv\", header = TRUE)\n",
    "Bio"
   ]
  },
  {
   "cell_type": "code",
   "execution_count": 11,
   "metadata": {},
   "outputs": [],
   "source": [
    "# 전진선택법을 사용해보자\n",
    "# Pemax = 124.830 + 1.640 체중 - 1.005BMP 로 추정된다."
   ]
  },
  {
   "cell_type": "code",
   "execution_count": 17,
   "metadata": {},
   "outputs": [
    {
     "name": "stdout",
     "output_type": "stream",
     "text": [
      "Start:  AIC=176.46\n",
      "pemax ~ 1\n",
      "\n",
      "         Df Sum of Sq   RSS    AIC\n",
      "+ weight  1   10827.2 16006 165.54\n",
      "+ age     1   10098.5 16734 166.66\n",
      "+ height  1    9634.6 17198 167.34\n",
      "+ frc     1    4670.6 22162 173.68\n",
      "+ rv      1    2671.8 24161 175.84\n",
      "<none>                26833 176.46\n",
      "+ bmp     1    1413.5 25419 177.11\n",
      "+ tlc     1     885.1 25948 177.62\n",
      "\n",
      "Step:  AIC=165.55\n",
      "pemax ~ weight\n",
      "\n",
      "         Df Sum of Sq   RSS    AIC\n",
      "+ bmp     1   1914.94 14090 164.36\n",
      "<none>                16006 165.54\n",
      "+ rv      1    274.55 15731 167.11\n",
      "+ tlc     1    230.64 15775 167.18\n",
      "+ age     1    216.51 15789 167.21\n",
      "+ height  1     36.39 15969 167.49\n",
      "+ frc     1     27.34 15978 167.50\n",
      "\n",
      "Step:  AIC=164.36\n",
      "pemax ~ weight + bmp\n",
      "\n",
      "         Df Sum of Sq   RSS    AIC\n",
      "<none>                14090 164.36\n",
      "+ height  1    713.50 13377 165.06\n",
      "+ age     1    681.28 13409 165.12\n",
      "+ tlc     1     96.61 13994 166.19\n",
      "+ frc     1     44.62 14046 166.28\n",
      "+ rv      1     18.84 14072 166.33\n"
     ]
    },
    {
     "data": {
      "text/plain": [
       "\n",
       "Call:\n",
       "lm(formula = pemax ~ weight + bmp, data = Bio)\n",
       "\n",
       "Coefficients:\n",
       "(Intercept)       weight          bmp  \n",
       "    124.830        1.640       -1.005  \n"
      ]
     },
     "metadata": {},
     "output_type": "display_data"
    }
   ],
   "source": [
    "step(lm(pemax ~1, Bio), scope=list(lower= ~1, upper= ~age+height+weight+bmp+rv+frc+tlc), direction = \"forward\")"
   ]
  },
  {
   "cell_type": "markdown",
   "metadata": {},
   "source": [
    "- 전진선택법의 최종회귀식은 다음과 같다.\n",
    "$$pemax=124.830+1.640weight-1.005bmp $$"
   ]
  },
  {
   "cell_type": "code",
   "execution_count": 23,
   "metadata": {},
   "outputs": [
    {
     "name": "stdout",
     "output_type": "stream",
     "text": [
      "Start:  AIC=169.37\n",
      "pemax ~ age + height + weight + bmp + rv + frc + tlc\n",
      "\n",
      "         Df Sum of Sq   RSS    AIC\n",
      "- tlc     1      72.9 11612 167.52\n",
      "- height  1     549.2 12089 168.53\n",
      "- rv      1     827.3 12367 169.10\n",
      "- age     1     833.8 12373 169.11\n",
      "<none>                11540 169.37\n",
      "- frc     1    1251.2 12791 169.94\n",
      "- bmp     1    1769.5 13309 170.93\n",
      "- weight  1    3278.8 14818 173.62\n",
      "\n",
      "Step:  AIC=167.52\n",
      "pemax ~ age + height + weight + bmp + rv + frc\n",
      "\n",
      "         Df Sum of Sq   RSS    AIC\n",
      "- height  1     697.8 12310 166.98\n",
      "- rv      1     756.6 12369 167.10\n",
      "<none>                11612 167.52\n",
      "- age     1    1074.8 12687 167.74\n",
      "- frc     1    1257.0 12870 168.09\n",
      "- bmp     1    2643.2 14256 170.65\n",
      "- weight  1    4431.4 16044 173.60\n",
      "\n",
      "Step:  AIC=166.98\n",
      "pemax ~ age + weight + bmp + rv + frc\n",
      "\n",
      "         Df Sum of Sq   RSS    AIC\n",
      "- rv      1     759.2 13070 166.48\n",
      "<none>                12310 166.98\n",
      "- frc     1    1090.7 13401 167.10\n",
      "- age     1    1263.1 13573 167.43\n",
      "- bmp     1    1984.6 14295 168.72\n",
      "- weight  1    3967.1 16277 171.97\n",
      "\n",
      "Step:  AIC=166.48\n",
      "pemax ~ age + weight + bmp + frc\n",
      "\n",
      "         Df Sum of Sq   RSS    AIC\n",
      "- frc     1     339.8 13409 165.12\n",
      "- age     1     976.4 14046 166.28\n",
      "<none>                13070 166.48\n",
      "- bmp     1    2716.5 15786 169.20\n",
      "- weight  1    3632.7 16702 170.61\n",
      "\n",
      "Step:  AIC=165.12\n",
      "pemax ~ age + weight + bmp\n",
      "\n",
      "         Df Sum of Sq   RSS    AIC\n",
      "- age     1     681.3 14090 164.36\n",
      "<none>                13409 165.12\n",
      "- bmp     1    2379.7 15789 167.21\n",
      "- weight  1    3324.7 16734 168.66\n",
      "\n",
      "Step:  AIC=164.36\n",
      "pemax ~ weight + bmp\n",
      "\n",
      "         Df Sum of Sq   RSS    AIC\n",
      "<none>                14090 164.36\n",
      "- bmp     1    1914.9 16006 165.54\n",
      "- weight  1   11328.6 25419 177.11\n"
     ]
    },
    {
     "data": {
      "text/plain": [
       "\n",
       "Call:\n",
       "lm(formula = pemax ~ weight + bmp, data = Bio)\n",
       "\n",
       "Coefficients:\n",
       "(Intercept)       weight          bmp  \n",
       "    124.830        1.640       -1.005  \n"
      ]
     },
     "metadata": {},
     "output_type": "display_data"
    }
   ],
   "source": [
    "# 후진적 선택법을 사용해보자\n",
    "step(lm(pemax ~age+height+weight+bmp+rv+frc+tlc, data=Bio), direction = \"backward\")"
   ]
  },
  {
   "cell_type": "markdown",
   "metadata": {},
   "source": [
    "- 후진선택법의 최종회귀식도는 다음과 같다.\n",
    "$$ pemax = 124.830 + 1.640weight -1.005bmp $$"
   ]
  },
  {
   "cell_type": "code",
   "execution_count": 21,
   "metadata": {},
   "outputs": [
    {
     "name": "stdout",
     "output_type": "stream",
     "text": [
      "Start:  AIC=176.46\n",
      "pemax ~ 1\n",
      "\n",
      "         Df Sum of Sq   RSS    AIC\n",
      "+ weight  1   10827.2 16006 165.54\n",
      "+ age     1   10098.5 16734 166.66\n",
      "+ height  1    9634.6 17198 167.34\n",
      "+ frc     1    4670.6 22162 173.68\n",
      "+ rv      1    2671.8 24161 175.84\n",
      "<none>                26833 176.46\n",
      "+ bmp     1    1413.5 25419 177.11\n",
      "+ tlc     1     885.1 25948 177.62\n",
      "\n",
      "Step:  AIC=165.55\n",
      "pemax ~ weight\n",
      "\n",
      "         Df Sum of Sq   RSS    AIC\n",
      "+ bmp     1    1914.9 14090 164.36\n",
      "<none>                16006 165.54\n",
      "+ rv      1     274.5 15731 167.11\n",
      "+ tlc     1     230.6 15775 167.18\n",
      "+ age     1     216.5 15789 167.21\n",
      "+ height  1      36.4 15969 167.49\n",
      "+ frc     1      27.3 15978 167.50\n",
      "- weight  1   10827.2 26833 176.46\n",
      "\n",
      "Step:  AIC=164.36\n",
      "pemax ~ weight + bmp\n",
      "\n",
      "         Df Sum of Sq   RSS    AIC\n",
      "<none>                14090 164.36\n",
      "+ height  1     713.5 13377 165.06\n",
      "+ age     1     681.3 13409 165.12\n",
      "- bmp     1    1914.9 16006 165.54\n",
      "+ tlc     1      96.6 13994 166.19\n",
      "+ frc     1      44.6 14046 166.28\n",
      "+ rv      1      18.8 14072 166.33\n",
      "- weight  1   11328.6 25419 177.11\n"
     ]
    },
    {
     "data": {
      "text/plain": [
       "\n",
       "Call:\n",
       "lm(formula = pemax ~ weight + bmp, data = Bio)\n",
       "\n",
       "Coefficients:\n",
       "(Intercept)       weight          bmp  \n",
       "    124.830        1.640       -1.005  \n"
      ]
     },
     "metadata": {},
     "output_type": "display_data"
    }
   ],
   "source": [
    "# 단계적 방법을 시도해보자\n",
    "step(lm(pemax ~1, Bio), scope=list(lower= ~1, upper= ~age+height+weight+bmp+rv+frc+tlc), direction = \"both\")"
   ]
  },
  {
   "cell_type": "markdown",
   "metadata": {},
   "source": [
    "- 단계적 방법의 최종회귀식 표현은 다음과 같다.\n",
    "$$ pemax =  124.830 + 1.640weight -1.005bmp $$"
   ]
  }
 ],
 "metadata": {
  "celltoolbar": "Raw Cell Format",
  "kernelspec": {
   "display_name": "R",
   "language": "R",
   "name": "ir"
  },
  "language_info": {
   "codemirror_mode": "r",
   "file_extension": ".r",
   "mimetype": "text/x-r-source",
   "name": "R",
   "pygments_lexer": "r",
   "version": "3.5.1"
  }
 },
 "nbformat": 4,
 "nbformat_minor": 2
}
