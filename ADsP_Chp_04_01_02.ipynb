{
 "cells": [
  {
   "cell_type": "markdown",
   "metadata": {},
   "source": [
    "### 목차"
   ]
  },
  {
   "cell_type": "markdown",
   "metadata": {},
   "source": [
    "<table style=\"width:100%\">\n",
    "  <thead>\n",
    "    <tr>\n",
    "      <th rowspan=\"2\">구분</th>\n",
    "      <th rowspan=\"2\">과목명</th>\n",
    "      <th colspan=\"2\">문항수</th>\n",
    "      <th colspan=\"2\">배점</th>\n",
    "      <th rowspan=\"2\">시험시간</th>\n",
    "    </tr>\n",
    "    <tr>\n",
    "      <th>객관식</th>\n",
    "      <th>단답형</th>\n",
    "      <th>객관식</th>\n",
    "      <th>단답형</th>\n",
    "    </tr>\n",
    "  </thead>\n",
    "  <tbody>\n",
    "      <tr>\n",
    "          <td rowspan=\"4\", bgcolor=\"lightgrey\">필기</td>\n",
    "          <td>데이터 이해</td>\n",
    "          <td>8</td>\n",
    "          <td>2</td>\n",
    "          <td rowspan=\"3\">80 (각 2점)</td>\n",
    "          <td rowspan=\"3\">20 (각 2점)</td>\n",
    "          <td rowspan=\"4\" >90분 (1시간 30분)</td>\n",
    "      </tr>\n",
    "      <tr>\n",
    "          <td>데이터 분석 기획</td>\n",
    "          <td>8</td>\n",
    "          <td>2</td>\n",
    "      </tr>\n",
    "      <tr>\n",
    "          <td bgcolor=\"lightgrey\"><b>데이터 분석</b></td>\n",
    "          <td bgcolor=\"lightgrey\"><b>24</b></td>\n",
    "          <td bgcolor=\"lightgrey\"><b>6</b></td>\n",
    "      </tr>\n",
    "      <tr>\n",
    "          <td>계</td>\n",
    "          <td>40</td>\n",
    "          <td>10</td>\n",
    "          <td colspan=\"2\">100</td>\n",
    "      </tr>\n",
    "  </tbody>\n",
    "</table>"
   ]
  },
  {
   "cell_type": "markdown",
   "metadata": {},
   "source": [
    "<table  style=\"width:100%\">\n",
    "    <tbody>\n",
    "            <tr>\n",
    "              <th rowspan=\"11\", bgcolor=\"lightgrey\"><b>데이터 분석</b></th>\n",
    "              <td rowspan=\"3\", bgcolor=\"lightgrey\"><b>R기초와 데이터 마트</b></td>\n",
    "              <td>R기초</td>\n",
    "            </tr>\n",
    "            <tr>\n",
    "              <td bgcolor=\"lightgrey\"><b>데이터 마트</b></td>\n",
    "            </tr>\n",
    "            <tr>\n",
    "              <td>결측값 처리와 이상값 검색</td>\n",
    "            </tr>\n",
    "            <tr>\n",
    "              <td rowspan=\"4\">통계분석</td>\n",
    "              <td>통계학 개론</td>\n",
    "            </tr>\n",
    "            <tr>\n",
    "              <td>기초 통계분석</td>\n",
    "            </tr>\n",
    "            <tr>\n",
    "              <td>다변량 분석</td>\n",
    "            </tr>\n",
    "            <tr>\n",
    "              <td>시계열 예측</td>\n",
    "            </tr>\n",
    "            <tr>\n",
    "              <td rowspan=\"4\">정형 데이터 마이닝</td>\n",
    "              <td>데이터 마이닝 개요</td>\n",
    "            </tr>\n",
    "            <tr>\n",
    "              <td>분류분석(Classification)</td>\n",
    "            </tr>\n",
    "            <tr>\n",
    "              <td>군집분석(Clustering)</td>\n",
    "            </tr>\n",
    "            <tr>\n",
    "              <td>연관분석(Association Analysis)</td>\n",
    "            </tr>\n",
    "      </tbody>\n",
    "</table>"
   ]
  },
  {
   "cell_type": "markdown",
   "metadata": {},
   "source": [
    "# 과목 IV 데이터 분석"
   ]
  },
  {
   "cell_type": "markdown",
   "metadata": {},
   "source": [
    "## 제 1장 R기초와 데이터 마트"
   ]
  },
  {
   "cell_type": "markdown",
   "metadata": {},
   "source": [
    "### 제2절 데이터 마트"
   ]
  },
  {
   "cell_type": "markdown",
   "metadata": {},
   "source": [
    "- 모델링 : 데이터 마이닝에서 다양한 분석기법을 적용해 모델을 개발하는 과정\n",
    "- 데이터마트 \n",
    "    - 데이터의 한 부분으로서 특정 사용자가 관심을 갖는 데이터들을 담은 비교적 작은 규모의 데이터 웨어 하우스\n",
    "    - 일반적인 데이터 베이스 형태로 갖고 있는 다양한 정보를 사용자의 요구 항목에 따라 체계적으로 분석하여 기업의경영 활동을 돕기 위한 시스템\n",
    "    - 전체적인 데이터 웨어하우스에 있는 일부 데이터를 가지고 특정 사용자를 대상\n",
    "- 데이터웨어하우스와 데이터마트의 차이를 이해한다"
   ]
  },
  {
   "cell_type": "markdown",
   "metadata": {},
   "source": [
    "#### 1. R reshape를 활용한 데이터 마트 개발"
   ]
  },
  {
   "cell_type": "markdown",
   "metadata": {},
   "source": [
    "- reshape\n",
    "    - melt와 cast만을 사용하여 데이터를 재구성하여 밀집화 된 데이터를 유연하게 생성\n",
    "    - 기존 데이터 구조를 column-wise하게 전환\n",
    "    - melt와 cast 단계로 구분"
   ]
  },
  {
   "cell_type": "markdown",
   "metadata": {},
   "source": [
    "```install.packages(\"reshape\")```"
   ]
  },
  {
   "cell_type": "code",
   "execution_count": 174,
   "metadata": {},
   "outputs": [],
   "source": [
    "library(reshape)"
   ]
  },
  {
   "cell_type": "markdown",
   "metadata": {},
   "source": [
    "- data(dataset) : 데이터를 불러옴"
   ]
  },
  {
   "cell_type": "code",
   "execution_count": 189,
   "metadata": {},
   "outputs": [],
   "source": [
    "data(airquality)"
   ]
  },
  {
   "cell_type": "markdown",
   "metadata": {},
   "source": [
    "- head(dataset) : 데이터 셋의 일부를 앞단을 보여줌"
   ]
  },
  {
   "cell_type": "code",
   "execution_count": 190,
   "metadata": {},
   "outputs": [
    {
     "data": {
      "text/html": [
       "<table>\n",
       "<thead><tr><th scope=col>Ozone</th><th scope=col>Solar.R</th><th scope=col>Wind</th><th scope=col>Temp</th><th scope=col>Month</th><th scope=col>Day</th></tr></thead>\n",
       "<tbody>\n",
       "\t<tr><td>41  </td><td>190 </td><td> 7.4</td><td>67  </td><td>5   </td><td>1   </td></tr>\n",
       "\t<tr><td>36  </td><td>118 </td><td> 8.0</td><td>72  </td><td>5   </td><td>2   </td></tr>\n",
       "\t<tr><td>12  </td><td>149 </td><td>12.6</td><td>74  </td><td>5   </td><td>3   </td></tr>\n",
       "\t<tr><td>18  </td><td>313 </td><td>11.5</td><td>62  </td><td>5   </td><td>4   </td></tr>\n",
       "\t<tr><td>NA  </td><td> NA </td><td>14.3</td><td>56  </td><td>5   </td><td>5   </td></tr>\n",
       "\t<tr><td>28  </td><td> NA </td><td>14.9</td><td>66  </td><td>5   </td><td>6   </td></tr>\n",
       "</tbody>\n",
       "</table>\n"
      ],
      "text/latex": [
       "\\begin{tabular}{r|llllll}\n",
       " Ozone & Solar.R & Wind & Temp & Month & Day\\\\\n",
       "\\hline\n",
       "\t 41   & 190  &  7.4 & 67   & 5    & 1   \\\\\n",
       "\t 36   & 118  &  8.0 & 72   & 5    & 2   \\\\\n",
       "\t 12   & 149  & 12.6 & 74   & 5    & 3   \\\\\n",
       "\t 18   & 313  & 11.5 & 62   & 5    & 4   \\\\\n",
       "\t NA   &  NA  & 14.3 & 56   & 5    & 5   \\\\\n",
       "\t 28   &  NA  & 14.9 & 66   & 5    & 6   \\\\\n",
       "\\end{tabular}\n"
      ],
      "text/markdown": [
       "\n",
       "Ozone | Solar.R | Wind | Temp | Month | Day | \n",
       "|---|---|---|---|---|---|\n",
       "| 41   | 190  |  7.4 | 67   | 5    | 1    | \n",
       "| 36   | 118  |  8.0 | 72   | 5    | 2    | \n",
       "| 12   | 149  | 12.6 | 74   | 5    | 3    | \n",
       "| 18   | 313  | 11.5 | 62   | 5    | 4    | \n",
       "| NA   |  NA  | 14.3 | 56   | 5    | 5    | \n",
       "| 28   |  NA  | 14.9 | 66   | 5    | 6    | \n",
       "\n",
       "\n"
      ],
      "text/plain": [
       "  Ozone Solar.R Wind Temp Month Day\n",
       "1 41    190      7.4 67   5     1  \n",
       "2 36    118      8.0 72   5     2  \n",
       "3 12    149     12.6 74   5     3  \n",
       "4 18    313     11.5 62   5     4  \n",
       "5 NA     NA     14.3 56   5     5  \n",
       "6 28     NA     14.9 66   5     6  "
      ]
     },
     "metadata": {},
     "output_type": "display_data"
    }
   ],
   "source": [
    "head(airquality)"
   ]
  },
  {
   "cell_type": "code",
   "execution_count": 191,
   "metadata": {},
   "outputs": [
    {
     "data": {
      "text/html": [
       "<table>\n",
       "<thead><tr><th scope=col>Ozone</th><th scope=col>Solar.R</th><th scope=col>Wind</th><th scope=col>Temp</th><th scope=col>Month</th><th scope=col>Day</th></tr></thead>\n",
       "<tbody>\n",
       "\t<tr><td>41  </td><td>190 </td><td> 7.4</td><td>67  </td><td>5   </td><td> 1  </td></tr>\n",
       "\t<tr><td>36  </td><td>118 </td><td> 8.0</td><td>72  </td><td>5   </td><td> 2  </td></tr>\n",
       "\t<tr><td>12  </td><td>149 </td><td>12.6</td><td>74  </td><td>5   </td><td> 3  </td></tr>\n",
       "\t<tr><td>18  </td><td>313 </td><td>11.5</td><td>62  </td><td>5   </td><td> 4  </td></tr>\n",
       "\t<tr><td>NA  </td><td> NA </td><td>14.3</td><td>56  </td><td>5   </td><td> 5  </td></tr>\n",
       "\t<tr><td>28  </td><td> NA </td><td>14.9</td><td>66  </td><td>5   </td><td> 6  </td></tr>\n",
       "\t<tr><td>23  </td><td>299 </td><td> 8.6</td><td>65  </td><td>5   </td><td> 7  </td></tr>\n",
       "\t<tr><td>19  </td><td> 99 </td><td>13.8</td><td>59  </td><td>5   </td><td> 8  </td></tr>\n",
       "\t<tr><td> 8  </td><td> 19 </td><td>20.1</td><td>61  </td><td>5   </td><td> 9  </td></tr>\n",
       "\t<tr><td>NA  </td><td>194 </td><td> 8.6</td><td>69  </td><td>5   </td><td>10  </td></tr>\n",
       "</tbody>\n",
       "</table>\n"
      ],
      "text/latex": [
       "\\begin{tabular}{r|llllll}\n",
       " Ozone & Solar.R & Wind & Temp & Month & Day\\\\\n",
       "\\hline\n",
       "\t 41   & 190  &  7.4 & 67   & 5    &  1  \\\\\n",
       "\t 36   & 118  &  8.0 & 72   & 5    &  2  \\\\\n",
       "\t 12   & 149  & 12.6 & 74   & 5    &  3  \\\\\n",
       "\t 18   & 313  & 11.5 & 62   & 5    &  4  \\\\\n",
       "\t NA   &  NA  & 14.3 & 56   & 5    &  5  \\\\\n",
       "\t 28   &  NA  & 14.9 & 66   & 5    &  6  \\\\\n",
       "\t 23   & 299  &  8.6 & 65   & 5    &  7  \\\\\n",
       "\t 19   &  99  & 13.8 & 59   & 5    &  8  \\\\\n",
       "\t  8   &  19  & 20.1 & 61   & 5    &  9  \\\\\n",
       "\t NA   & 194  &  8.6 & 69   & 5    & 10  \\\\\n",
       "\\end{tabular}\n"
      ],
      "text/markdown": [
       "\n",
       "Ozone | Solar.R | Wind | Temp | Month | Day | \n",
       "|---|---|---|---|---|---|---|---|---|---|\n",
       "| 41   | 190  |  7.4 | 67   | 5    |  1   | \n",
       "| 36   | 118  |  8.0 | 72   | 5    |  2   | \n",
       "| 12   | 149  | 12.6 | 74   | 5    |  3   | \n",
       "| 18   | 313  | 11.5 | 62   | 5    |  4   | \n",
       "| NA   |  NA  | 14.3 | 56   | 5    |  5   | \n",
       "| 28   |  NA  | 14.9 | 66   | 5    |  6   | \n",
       "| 23   | 299  |  8.6 | 65   | 5    |  7   | \n",
       "| 19   |  99  | 13.8 | 59   | 5    |  8   | \n",
       "|  8   |  19  | 20.1 | 61   | 5    |  9   | \n",
       "| NA   | 194  |  8.6 | 69   | 5    | 10   | \n",
       "\n",
       "\n"
      ],
      "text/plain": [
       "   Ozone Solar.R Wind Temp Month Day\n",
       "1  41    190      7.4 67   5      1 \n",
       "2  36    118      8.0 72   5      2 \n",
       "3  12    149     12.6 74   5      3 \n",
       "4  18    313     11.5 62   5      4 \n",
       "5  NA     NA     14.3 56   5      5 \n",
       "6  28     NA     14.9 66   5      6 \n",
       "7  23    299      8.6 65   5      7 \n",
       "8  19     99     13.8 59   5      8 \n",
       "9   8     19     20.1 61   5      9 \n",
       "10 NA    194      8.6 69   5     10 "
      ]
     },
     "metadata": {},
     "output_type": "display_data"
    }
   ],
   "source": [
    "head(airquality, 10) # 개수를 지정할 수 있음"
   ]
  },
  {
   "cell_type": "markdown",
   "metadata": {},
   "source": [
    "- names : 변수명을 확인 (변수명 = column name)"
   ]
  },
  {
   "cell_type": "code",
   "execution_count": 192,
   "metadata": {},
   "outputs": [
    {
     "data": {
      "text/html": [
       "<ol class=list-inline>\n",
       "\t<li>'Ozone'</li>\n",
       "\t<li>'Solar.R'</li>\n",
       "\t<li>'Wind'</li>\n",
       "\t<li>'Temp'</li>\n",
       "\t<li>'Month'</li>\n",
       "\t<li>'Day'</li>\n",
       "</ol>\n"
      ],
      "text/latex": [
       "\\begin{enumerate*}\n",
       "\\item 'Ozone'\n",
       "\\item 'Solar.R'\n",
       "\\item 'Wind'\n",
       "\\item 'Temp'\n",
       "\\item 'Month'\n",
       "\\item 'Day'\n",
       "\\end{enumerate*}\n"
      ],
      "text/markdown": [
       "1. 'Ozone'\n",
       "2. 'Solar.R'\n",
       "3. 'Wind'\n",
       "4. 'Temp'\n",
       "5. 'Month'\n",
       "6. 'Day'\n",
       "\n",
       "\n"
      ],
      "text/plain": [
       "[1] \"Ozone\"   \"Solar.R\" \"Wind\"    \"Temp\"    \"Month\"   \"Day\"    "
      ]
     },
     "metadata": {},
     "output_type": "display_data"
    }
   ],
   "source": [
    "names(airquality)"
   ]
  },
  {
   "cell_type": "markdown",
   "metadata": {},
   "source": [
    "- tolower() : 소문자로 변경"
   ]
  },
  {
   "cell_type": "code",
   "execution_count": 193,
   "metadata": {},
   "outputs": [],
   "source": [
    "names(airquality) =  tolower(names(airquality))"
   ]
  },
  {
   "cell_type": "code",
   "execution_count": 194,
   "metadata": {},
   "outputs": [
    {
     "data": {
      "text/html": [
       "<ol class=list-inline>\n",
       "\t<li>'ozone'</li>\n",
       "\t<li>'solar.r'</li>\n",
       "\t<li>'wind'</li>\n",
       "\t<li>'temp'</li>\n",
       "\t<li>'month'</li>\n",
       "\t<li>'day'</li>\n",
       "</ol>\n"
      ],
      "text/latex": [
       "\\begin{enumerate*}\n",
       "\\item 'ozone'\n",
       "\\item 'solar.r'\n",
       "\\item 'wind'\n",
       "\\item 'temp'\n",
       "\\item 'month'\n",
       "\\item 'day'\n",
       "\\end{enumerate*}\n"
      ],
      "text/markdown": [
       "1. 'ozone'\n",
       "2. 'solar.r'\n",
       "3. 'wind'\n",
       "4. 'temp'\n",
       "5. 'month'\n",
       "6. 'day'\n",
       "\n",
       "\n"
      ],
      "text/plain": [
       "[1] \"ozone\"   \"solar.r\" \"wind\"    \"temp\"    \"month\"   \"day\"    "
      ]
     },
     "metadata": {},
     "output_type": "display_data"
    }
   ],
   "source": [
    "names(airquality)"
   ]
  },
  {
   "cell_type": "markdown",
   "metadata": {},
   "source": [
    "- melt(data, ...): id에 있는 변수를 기준으로 나머지 각 변수를 variable이란 이름의 데이터로 만듬"
   ]
  },
  {
   "cell_type": "code",
   "execution_count": 195,
   "metadata": {},
   "outputs": [
    {
     "data": {
      "text/html": [
       "<table>\n",
       "<thead><tr><th></th><th scope=col>month</th><th scope=col>day</th><th scope=col>variable</th><th scope=col>value</th></tr></thead>\n",
       "<tbody>\n",
       "\t<tr><th scope=row>1</th><td>5    </td><td> 1   </td><td>ozone</td><td> 41  </td></tr>\n",
       "\t<tr><th scope=row>2</th><td>5    </td><td> 2   </td><td>ozone</td><td> 36  </td></tr>\n",
       "\t<tr><th scope=row>3</th><td>5    </td><td> 3   </td><td>ozone</td><td> 12  </td></tr>\n",
       "\t<tr><th scope=row>4</th><td>5    </td><td> 4   </td><td>ozone</td><td> 18  </td></tr>\n",
       "\t<tr><th scope=row>6</th><td>5    </td><td> 6   </td><td>ozone</td><td> 28  </td></tr>\n",
       "\t<tr><th scope=row>7</th><td>5    </td><td> 7   </td><td>ozone</td><td> 23  </td></tr>\n",
       "\t<tr><th scope=row>8</th><td>5    </td><td> 8   </td><td>ozone</td><td> 19  </td></tr>\n",
       "\t<tr><th scope=row>9</th><td>5    </td><td> 9   </td><td>ozone</td><td>  8  </td></tr>\n",
       "\t<tr><th scope=row>11</th><td>5    </td><td>11   </td><td>ozone</td><td>  7  </td></tr>\n",
       "\t<tr><th scope=row>12</th><td>5    </td><td>12   </td><td>ozone</td><td> 16  </td></tr>\n",
       "\t<tr><th scope=row>13</th><td>5    </td><td>13   </td><td>ozone</td><td> 11  </td></tr>\n",
       "\t<tr><th scope=row>14</th><td>5    </td><td>14   </td><td>ozone</td><td> 14  </td></tr>\n",
       "\t<tr><th scope=row>15</th><td>5    </td><td>15   </td><td>ozone</td><td> 18  </td></tr>\n",
       "\t<tr><th scope=row>16</th><td>5    </td><td>16   </td><td>ozone</td><td> 14  </td></tr>\n",
       "\t<tr><th scope=row>17</th><td>5    </td><td>17   </td><td>ozone</td><td> 34  </td></tr>\n",
       "\t<tr><th scope=row>18</th><td>5    </td><td>18   </td><td>ozone</td><td>  6  </td></tr>\n",
       "\t<tr><th scope=row>19</th><td>5    </td><td>19   </td><td>ozone</td><td> 30  </td></tr>\n",
       "\t<tr><th scope=row>20</th><td>5    </td><td>20   </td><td>ozone</td><td> 11  </td></tr>\n",
       "\t<tr><th scope=row>21</th><td>5    </td><td>21   </td><td>ozone</td><td>  1  </td></tr>\n",
       "\t<tr><th scope=row>22</th><td>5    </td><td>22   </td><td>ozone</td><td> 11  </td></tr>\n",
       "\t<tr><th scope=row>23</th><td>5    </td><td>23   </td><td>ozone</td><td>  4  </td></tr>\n",
       "\t<tr><th scope=row>24</th><td>5    </td><td>24   </td><td>ozone</td><td> 32  </td></tr>\n",
       "\t<tr><th scope=row>28</th><td>5    </td><td>28   </td><td>ozone</td><td> 23  </td></tr>\n",
       "\t<tr><th scope=row>29</th><td>5    </td><td>29   </td><td>ozone</td><td> 45  </td></tr>\n",
       "\t<tr><th scope=row>30</th><td>5    </td><td>30   </td><td>ozone</td><td>115  </td></tr>\n",
       "\t<tr><th scope=row>31</th><td>5    </td><td>31   </td><td>ozone</td><td> 37  </td></tr>\n",
       "\t<tr><th scope=row>38</th><td>6    </td><td> 7   </td><td>ozone</td><td> 29  </td></tr>\n",
       "\t<tr><th scope=row>40</th><td>6    </td><td> 9   </td><td>ozone</td><td> 71  </td></tr>\n",
       "\t<tr><th scope=row>41</th><td>6    </td><td>10   </td><td>ozone</td><td> 39  </td></tr>\n",
       "\t<tr><th scope=row>44</th><td>6    </td><td>13   </td><td>ozone</td><td> 23  </td></tr>\n",
       "\t<tr><th scope=row>⋮</th><td>⋮</td><td>⋮</td><td>⋮</td><td>⋮</td></tr>\n",
       "\t<tr><th scope=row>583</th><td>9   </td><td> 1  </td><td>temp</td><td>91  </td></tr>\n",
       "\t<tr><th scope=row>584</th><td>9   </td><td> 2  </td><td>temp</td><td>92  </td></tr>\n",
       "\t<tr><th scope=row>585</th><td>9   </td><td> 3  </td><td>temp</td><td>93  </td></tr>\n",
       "\t<tr><th scope=row>586</th><td>9   </td><td> 4  </td><td>temp</td><td>93  </td></tr>\n",
       "\t<tr><th scope=row>587</th><td>9   </td><td> 5  </td><td>temp</td><td>87  </td></tr>\n",
       "\t<tr><th scope=row>588</th><td>9   </td><td> 6  </td><td>temp</td><td>84  </td></tr>\n",
       "\t<tr><th scope=row>589</th><td>9   </td><td> 7  </td><td>temp</td><td>80  </td></tr>\n",
       "\t<tr><th scope=row>590</th><td>9   </td><td> 8  </td><td>temp</td><td>78  </td></tr>\n",
       "\t<tr><th scope=row>591</th><td>9   </td><td> 9  </td><td>temp</td><td>75  </td></tr>\n",
       "\t<tr><th scope=row>592</th><td>9   </td><td>10  </td><td>temp</td><td>73  </td></tr>\n",
       "\t<tr><th scope=row>593</th><td>9   </td><td>11  </td><td>temp</td><td>81  </td></tr>\n",
       "\t<tr><th scope=row>594</th><td>9   </td><td>12  </td><td>temp</td><td>76  </td></tr>\n",
       "\t<tr><th scope=row>595</th><td>9   </td><td>13  </td><td>temp</td><td>77  </td></tr>\n",
       "\t<tr><th scope=row>596</th><td>9   </td><td>14  </td><td>temp</td><td>71  </td></tr>\n",
       "\t<tr><th scope=row>597</th><td>9   </td><td>15  </td><td>temp</td><td>71  </td></tr>\n",
       "\t<tr><th scope=row>598</th><td>9   </td><td>16  </td><td>temp</td><td>78  </td></tr>\n",
       "\t<tr><th scope=row>599</th><td>9   </td><td>17  </td><td>temp</td><td>67  </td></tr>\n",
       "\t<tr><th scope=row>600</th><td>9   </td><td>18  </td><td>temp</td><td>76  </td></tr>\n",
       "\t<tr><th scope=row>601</th><td>9   </td><td>19  </td><td>temp</td><td>68  </td></tr>\n",
       "\t<tr><th scope=row>602</th><td>9   </td><td>20  </td><td>temp</td><td>82  </td></tr>\n",
       "\t<tr><th scope=row>603</th><td>9   </td><td>21  </td><td>temp</td><td>64  </td></tr>\n",
       "\t<tr><th scope=row>604</th><td>9   </td><td>22  </td><td>temp</td><td>71  </td></tr>\n",
       "\t<tr><th scope=row>605</th><td>9   </td><td>23  </td><td>temp</td><td>81  </td></tr>\n",
       "\t<tr><th scope=row>606</th><td>9   </td><td>24  </td><td>temp</td><td>69  </td></tr>\n",
       "\t<tr><th scope=row>607</th><td>9   </td><td>25  </td><td>temp</td><td>63  </td></tr>\n",
       "\t<tr><th scope=row>608</th><td>9   </td><td>26  </td><td>temp</td><td>70  </td></tr>\n",
       "\t<tr><th scope=row>609</th><td>9   </td><td>27  </td><td>temp</td><td>77  </td></tr>\n",
       "\t<tr><th scope=row>610</th><td>9   </td><td>28  </td><td>temp</td><td>75  </td></tr>\n",
       "\t<tr><th scope=row>611</th><td>9   </td><td>29  </td><td>temp</td><td>76  </td></tr>\n",
       "\t<tr><th scope=row>612</th><td>9   </td><td>30  </td><td>temp</td><td>68  </td></tr>\n",
       "</tbody>\n",
       "</table>\n"
      ],
      "text/latex": [
       "\\begin{tabular}{r|llll}\n",
       "  & month & day & variable & value\\\\\n",
       "\\hline\n",
       "\t1 & 5     &  1    & ozone &  41  \\\\\n",
       "\t2 & 5     &  2    & ozone &  36  \\\\\n",
       "\t3 & 5     &  3    & ozone &  12  \\\\\n",
       "\t4 & 5     &  4    & ozone &  18  \\\\\n",
       "\t6 & 5     &  6    & ozone &  28  \\\\\n",
       "\t7 & 5     &  7    & ozone &  23  \\\\\n",
       "\t8 & 5     &  8    & ozone &  19  \\\\\n",
       "\t9 & 5     &  9    & ozone &   8  \\\\\n",
       "\t11 & 5     & 11    & ozone &   7  \\\\\n",
       "\t12 & 5     & 12    & ozone &  16  \\\\\n",
       "\t13 & 5     & 13    & ozone &  11  \\\\\n",
       "\t14 & 5     & 14    & ozone &  14  \\\\\n",
       "\t15 & 5     & 15    & ozone &  18  \\\\\n",
       "\t16 & 5     & 16    & ozone &  14  \\\\\n",
       "\t17 & 5     & 17    & ozone &  34  \\\\\n",
       "\t18 & 5     & 18    & ozone &   6  \\\\\n",
       "\t19 & 5     & 19    & ozone &  30  \\\\\n",
       "\t20 & 5     & 20    & ozone &  11  \\\\\n",
       "\t21 & 5     & 21    & ozone &   1  \\\\\n",
       "\t22 & 5     & 22    & ozone &  11  \\\\\n",
       "\t23 & 5     & 23    & ozone &   4  \\\\\n",
       "\t24 & 5     & 24    & ozone &  32  \\\\\n",
       "\t28 & 5     & 28    & ozone &  23  \\\\\n",
       "\t29 & 5     & 29    & ozone &  45  \\\\\n",
       "\t30 & 5     & 30    & ozone & 115  \\\\\n",
       "\t31 & 5     & 31    & ozone &  37  \\\\\n",
       "\t38 & 6     &  7    & ozone &  29  \\\\\n",
       "\t40 & 6     &  9    & ozone &  71  \\\\\n",
       "\t41 & 6     & 10    & ozone &  39  \\\\\n",
       "\t44 & 6     & 13    & ozone &  23  \\\\\n",
       "\t⋮ & ⋮ & ⋮ & ⋮ & ⋮\\\\\n",
       "\t583 & 9    &  1   & temp & 91  \\\\\n",
       "\t584 & 9    &  2   & temp & 92  \\\\\n",
       "\t585 & 9    &  3   & temp & 93  \\\\\n",
       "\t586 & 9    &  4   & temp & 93  \\\\\n",
       "\t587 & 9    &  5   & temp & 87  \\\\\n",
       "\t588 & 9    &  6   & temp & 84  \\\\\n",
       "\t589 & 9    &  7   & temp & 80  \\\\\n",
       "\t590 & 9    &  8   & temp & 78  \\\\\n",
       "\t591 & 9    &  9   & temp & 75  \\\\\n",
       "\t592 & 9    & 10   & temp & 73  \\\\\n",
       "\t593 & 9    & 11   & temp & 81  \\\\\n",
       "\t594 & 9    & 12   & temp & 76  \\\\\n",
       "\t595 & 9    & 13   & temp & 77  \\\\\n",
       "\t596 & 9    & 14   & temp & 71  \\\\\n",
       "\t597 & 9    & 15   & temp & 71  \\\\\n",
       "\t598 & 9    & 16   & temp & 78  \\\\\n",
       "\t599 & 9    & 17   & temp & 67  \\\\\n",
       "\t600 & 9    & 18   & temp & 76  \\\\\n",
       "\t601 & 9    & 19   & temp & 68  \\\\\n",
       "\t602 & 9    & 20   & temp & 82  \\\\\n",
       "\t603 & 9    & 21   & temp & 64  \\\\\n",
       "\t604 & 9    & 22   & temp & 71  \\\\\n",
       "\t605 & 9    & 23   & temp & 81  \\\\\n",
       "\t606 & 9    & 24   & temp & 69  \\\\\n",
       "\t607 & 9    & 25   & temp & 63  \\\\\n",
       "\t608 & 9    & 26   & temp & 70  \\\\\n",
       "\t609 & 9    & 27   & temp & 77  \\\\\n",
       "\t610 & 9    & 28   & temp & 75  \\\\\n",
       "\t611 & 9    & 29   & temp & 76  \\\\\n",
       "\t612 & 9    & 30   & temp & 68  \\\\\n",
       "\\end{tabular}\n"
      ],
      "text/markdown": [
       "\n",
       "| <!--/--> | month | day | variable | value | \n",
       "|---|---|---|---|---|---|---|---|---|---|---|---|---|---|---|---|---|---|---|---|---|---|---|---|---|---|---|---|---|---|---|---|---|---|---|---|---|---|---|---|---|---|---|---|---|---|---|---|---|---|---|---|---|---|---|---|---|---|---|---|---|\n",
       "| 1 | 5     |  1    | ozone |  41   | \n",
       "| 2 | 5     |  2    | ozone |  36   | \n",
       "| 3 | 5     |  3    | ozone |  12   | \n",
       "| 4 | 5     |  4    | ozone |  18   | \n",
       "| 6 | 5     |  6    | ozone |  28   | \n",
       "| 7 | 5     |  7    | ozone |  23   | \n",
       "| 8 | 5     |  8    | ozone |  19   | \n",
       "| 9 | 5     |  9    | ozone |   8   | \n",
       "| 11 | 5     | 11    | ozone |   7   | \n",
       "| 12 | 5     | 12    | ozone |  16   | \n",
       "| 13 | 5     | 13    | ozone |  11   | \n",
       "| 14 | 5     | 14    | ozone |  14   | \n",
       "| 15 | 5     | 15    | ozone |  18   | \n",
       "| 16 | 5     | 16    | ozone |  14   | \n",
       "| 17 | 5     | 17    | ozone |  34   | \n",
       "| 18 | 5     | 18    | ozone |   6   | \n",
       "| 19 | 5     | 19    | ozone |  30   | \n",
       "| 20 | 5     | 20    | ozone |  11   | \n",
       "| 21 | 5     | 21    | ozone |   1   | \n",
       "| 22 | 5     | 22    | ozone |  11   | \n",
       "| 23 | 5     | 23    | ozone |   4   | \n",
       "| 24 | 5     | 24    | ozone |  32   | \n",
       "| 28 | 5     | 28    | ozone |  23   | \n",
       "| 29 | 5     | 29    | ozone |  45   | \n",
       "| 30 | 5     | 30    | ozone | 115   | \n",
       "| 31 | 5     | 31    | ozone |  37   | \n",
       "| 38 | 6     |  7    | ozone |  29   | \n",
       "| 40 | 6     |  9    | ozone |  71   | \n",
       "| 41 | 6     | 10    | ozone |  39   | \n",
       "| 44 | 6     | 13    | ozone |  23   | \n",
       "| ⋮ | ⋮ | ⋮ | ⋮ | ⋮ | \n",
       "| 583 | 9    |  1   | temp | 91   | \n",
       "| 584 | 9    |  2   | temp | 92   | \n",
       "| 585 | 9    |  3   | temp | 93   | \n",
       "| 586 | 9    |  4   | temp | 93   | \n",
       "| 587 | 9    |  5   | temp | 87   | \n",
       "| 588 | 9    |  6   | temp | 84   | \n",
       "| 589 | 9    |  7   | temp | 80   | \n",
       "| 590 | 9    |  8   | temp | 78   | \n",
       "| 591 | 9    |  9   | temp | 75   | \n",
       "| 592 | 9    | 10   | temp | 73   | \n",
       "| 593 | 9    | 11   | temp | 81   | \n",
       "| 594 | 9    | 12   | temp | 76   | \n",
       "| 595 | 9    | 13   | temp | 77   | \n",
       "| 596 | 9    | 14   | temp | 71   | \n",
       "| 597 | 9    | 15   | temp | 71   | \n",
       "| 598 | 9    | 16   | temp | 78   | \n",
       "| 599 | 9    | 17   | temp | 67   | \n",
       "| 600 | 9    | 18   | temp | 76   | \n",
       "| 601 | 9    | 19   | temp | 68   | \n",
       "| 602 | 9    | 20   | temp | 82   | \n",
       "| 603 | 9    | 21   | temp | 64   | \n",
       "| 604 | 9    | 22   | temp | 71   | \n",
       "| 605 | 9    | 23   | temp | 81   | \n",
       "| 606 | 9    | 24   | temp | 69   | \n",
       "| 607 | 9    | 25   | temp | 63   | \n",
       "| 608 | 9    | 26   | temp | 70   | \n",
       "| 609 | 9    | 27   | temp | 77   | \n",
       "| 610 | 9    | 28   | temp | 75   | \n",
       "| 611 | 9    | 29   | temp | 76   | \n",
       "| 612 | 9    | 30   | temp | 68   | \n",
       "\n",
       "\n"
      ],
      "text/plain": [
       "    month day variable value\n",
       "1   5      1  ozone     41  \n",
       "2   5      2  ozone     36  \n",
       "3   5      3  ozone     12  \n",
       "4   5      4  ozone     18  \n",
       "6   5      6  ozone     28  \n",
       "7   5      7  ozone     23  \n",
       "8   5      8  ozone     19  \n",
       "9   5      9  ozone      8  \n",
       "11  5     11  ozone      7  \n",
       "12  5     12  ozone     16  \n",
       "13  5     13  ozone     11  \n",
       "14  5     14  ozone     14  \n",
       "15  5     15  ozone     18  \n",
       "16  5     16  ozone     14  \n",
       "17  5     17  ozone     34  \n",
       "18  5     18  ozone      6  \n",
       "19  5     19  ozone     30  \n",
       "20  5     20  ozone     11  \n",
       "21  5     21  ozone      1  \n",
       "22  5     22  ozone     11  \n",
       "23  5     23  ozone      4  \n",
       "24  5     24  ozone     32  \n",
       "28  5     28  ozone     23  \n",
       "29  5     29  ozone     45  \n",
       "30  5     30  ozone    115  \n",
       "31  5     31  ozone     37  \n",
       "38  6      7  ozone     29  \n",
       "40  6      9  ozone     71  \n",
       "41  6     10  ozone     39  \n",
       "44  6     13  ozone     23  \n",
       "⋮   ⋮     ⋮   ⋮        ⋮    \n",
       "583 9      1  temp     91   \n",
       "584 9      2  temp     92   \n",
       "585 9      3  temp     93   \n",
       "586 9      4  temp     93   \n",
       "587 9      5  temp     87   \n",
       "588 9      6  temp     84   \n",
       "589 9      7  temp     80   \n",
       "590 9      8  temp     78   \n",
       "591 9      9  temp     75   \n",
       "592 9     10  temp     73   \n",
       "593 9     11  temp     81   \n",
       "594 9     12  temp     76   \n",
       "595 9     13  temp     77   \n",
       "596 9     14  temp     71   \n",
       "597 9     15  temp     71   \n",
       "598 9     16  temp     78   \n",
       "599 9     17  temp     67   \n",
       "600 9     18  temp     76   \n",
       "601 9     19  temp     68   \n",
       "602 9     20  temp     82   \n",
       "603 9     21  temp     64   \n",
       "604 9     22  temp     71   \n",
       "605 9     23  temp     81   \n",
       "606 9     24  temp     69   \n",
       "607 9     25  temp     63   \n",
       "608 9     26  temp     70   \n",
       "609 9     27  temp     77   \n",
       "610 9     28  temp     75   \n",
       "611 9     29  temp     76   \n",
       "612 9     30  temp     68   "
      ]
     },
     "metadata": {},
     "output_type": "display_data"
    }
   ],
   "source": [
    "aqm <- melt(airquality, id=c(\"month\", \"day\"), na.rm=TRUE)\n",
    "aqm"
   ]
  },
  {
   "cell_type": "markdown",
   "metadata": {},
   "source": [
    "- cast : 엑셀의 피벗팅하듯 자료를 변환 (~ : y, dimension과 measure에 해당하는 변수(variable) 값을 표시"
   ]
  },
  {
   "cell_type": "code",
   "execution_count": 205,
   "metadata": {},
   "outputs": [
    {
     "data": {
      "text/html": [
       "<ol class=list-inline>\n",
       "\t<li>41</li>\n",
       "\t<li>&lt;NA&gt;</li>\n",
       "\t<li>135</li>\n",
       "\t<li>39</li>\n",
       "\t<li>96</li>\n",
       "\t<li>36</li>\n",
       "\t<li>&lt;NA&gt;</li>\n",
       "\t<li>49</li>\n",
       "\t<li>9</li>\n",
       "\t<li>78</li>\n",
       "\t<li>12</li>\n",
       "\t<li>&lt;NA&gt;</li>\n",
       "\t<li>32</li>\n",
       "\t<li>16</li>\n",
       "\t<li>73</li>\n",
       "\t<li>18</li>\n",
       "\t<li>&lt;NA&gt;</li>\n",
       "\t<li>&lt;NA&gt;</li>\n",
       "\t<li>78</li>\n",
       "\t<li>91</li>\n",
       "</ol>\n"
      ],
      "text/latex": [
       "\\begin{enumerate*}\n",
       "\\item 41\n",
       "\\item <NA>\n",
       "\\item 135\n",
       "\\item 39\n",
       "\\item 96\n",
       "\\item 36\n",
       "\\item <NA>\n",
       "\\item 49\n",
       "\\item 9\n",
       "\\item 78\n",
       "\\item 12\n",
       "\\item <NA>\n",
       "\\item 32\n",
       "\\item 16\n",
       "\\item 73\n",
       "\\item 18\n",
       "\\item <NA>\n",
       "\\item <NA>\n",
       "\\item 78\n",
       "\\item 91\n",
       "\\end{enumerate*}\n"
      ],
      "text/markdown": [
       "1. 41\n",
       "2. &lt;NA&gt;\n",
       "3. 135\n",
       "4. 39\n",
       "5. 96\n",
       "6. 36\n",
       "7. &lt;NA&gt;\n",
       "8. 49\n",
       "9. 9\n",
       "10. 78\n",
       "11. 12\n",
       "12. &lt;NA&gt;\n",
       "13. 32\n",
       "14. 16\n",
       "15. 73\n",
       "16. 18\n",
       "17. &lt;NA&gt;\n",
       "18. &lt;NA&gt;\n",
       "19. 78\n",
       "20. 91\n",
       "\n",
       "\n"
      ],
      "text/plain": [
       " [1]  41  NA 135  39  96  36  NA  49   9  78  12  NA  32  16  73  18  NA  NA  78\n",
       "[20]  91"
      ]
     },
     "metadata": {},
     "output_type": "display_data"
    }
   ],
   "source": [
    "a <- cast(aqm, month ~ day ~ variable)"
   ]
  },
  {
   "cell_type": "code",
   "execution_count": 202,
   "metadata": {
    "scrolled": true
   },
   "outputs": [
    {
     "data": {
      "text/html": [
       "<table>\n",
       "<thead><tr><th scope=col>month</th><th scope=col>ozone</th><th scope=col>solar.r</th><th scope=col>wind</th><th scope=col>temp</th></tr></thead>\n",
       "<tbody>\n",
       "\t<tr><td>5        </td><td>23.61538 </td><td>181.2963 </td><td>11.622581</td><td>65.54839 </td></tr>\n",
       "\t<tr><td>6        </td><td>29.44444 </td><td>190.1667 </td><td>10.266667</td><td>79.10000 </td></tr>\n",
       "\t<tr><td>7        </td><td>59.11538 </td><td>216.4839 </td><td> 8.941935</td><td>83.90323 </td></tr>\n",
       "\t<tr><td>8        </td><td>59.96154 </td><td>171.8571 </td><td> 8.793548</td><td>83.96774 </td></tr>\n",
       "\t<tr><td>9        </td><td>31.44828 </td><td>167.4333 </td><td>10.180000</td><td>76.90000 </td></tr>\n",
       "</tbody>\n",
       "</table>\n"
      ],
      "text/latex": [
       "\\begin{tabular}{r|lllll}\n",
       " month & ozone & solar.r & wind & temp\\\\\n",
       "\\hline\n",
       "\t 5         & 23.61538  & 181.2963  & 11.622581 & 65.54839 \\\\\n",
       "\t 6         & 29.44444  & 190.1667  & 10.266667 & 79.10000 \\\\\n",
       "\t 7         & 59.11538  & 216.4839  &  8.941935 & 83.90323 \\\\\n",
       "\t 8         & 59.96154  & 171.8571  &  8.793548 & 83.96774 \\\\\n",
       "\t 9         & 31.44828  & 167.4333  & 10.180000 & 76.90000 \\\\\n",
       "\\end{tabular}\n"
      ],
      "text/markdown": [
       "\n",
       "month | ozone | solar.r | wind | temp | \n",
       "|---|---|---|---|---|\n",
       "| 5         | 23.61538  | 181.2963  | 11.622581 | 65.54839  | \n",
       "| 6         | 29.44444  | 190.1667  | 10.266667 | 79.10000  | \n",
       "| 7         | 59.11538  | 216.4839  |  8.941935 | 83.90323  | \n",
       "| 8         | 59.96154  | 171.8571  |  8.793548 | 83.96774  | \n",
       "| 9         | 31.44828  | 167.4333  | 10.180000 | 76.90000  | \n",
       "\n",
       "\n"
      ],
      "text/plain": [
       "  month ozone    solar.r  wind      temp    \n",
       "1 5     23.61538 181.2963 11.622581 65.54839\n",
       "2 6     29.44444 190.1667 10.266667 79.10000\n",
       "3 7     59.11538 216.4839  8.941935 83.90323\n",
       "4 8     59.96154 171.8571  8.793548 83.96774\n",
       "5 9     31.44828 167.4333 10.180000 76.90000"
      ]
     },
     "metadata": {},
     "output_type": "display_data"
    }
   ],
   "source": [
    "b <- cast(aqm, month ~ variable, mean)\n",
    "b"
   ]
  },
  {
   "cell_type": "code",
   "execution_count": 203,
   "metadata": {},
   "outputs": [
    {
     "data": {
      "text/html": [
       "<table>\n",
       "<thead><tr><th scope=col>month</th><th scope=col>ozone</th><th scope=col>solar.r</th><th scope=col>wind</th><th scope=col>temp</th></tr></thead>\n",
       "<tbody>\n",
       "\t<tr><td>5    </td><td> 614 </td><td>4895 </td><td>360.3</td><td>2032 </td></tr>\n",
       "\t<tr><td>6    </td><td> 265 </td><td>5705 </td><td>308.0</td><td>2373 </td></tr>\n",
       "\t<tr><td>7    </td><td>1537 </td><td>6711 </td><td>277.2</td><td>2601 </td></tr>\n",
       "\t<tr><td>8    </td><td>1559 </td><td>4812 </td><td>272.6</td><td>2603 </td></tr>\n",
       "\t<tr><td>9    </td><td> 912 </td><td>5023 </td><td>305.4</td><td>2307 </td></tr>\n",
       "</tbody>\n",
       "</table>\n"
      ],
      "text/latex": [
       "\\begin{tabular}{r|lllll}\n",
       " month & ozone & solar.r & wind & temp\\\\\n",
       "\\hline\n",
       "\t 5     &  614  & 4895  & 360.3 & 2032 \\\\\n",
       "\t 6     &  265  & 5705  & 308.0 & 2373 \\\\\n",
       "\t 7     & 1537  & 6711  & 277.2 & 2601 \\\\\n",
       "\t 8     & 1559  & 4812  & 272.6 & 2603 \\\\\n",
       "\t 9     &  912  & 5023  & 305.4 & 2307 \\\\\n",
       "\\end{tabular}\n"
      ],
      "text/markdown": [
       "\n",
       "month | ozone | solar.r | wind | temp | \n",
       "|---|---|---|---|---|\n",
       "| 5     |  614  | 4895  | 360.3 | 2032  | \n",
       "| 6     |  265  | 5705  | 308.0 | 2373  | \n",
       "| 7     | 1537  | 6711  | 277.2 | 2601  | \n",
       "| 8     | 1559  | 4812  | 272.6 | 2603  | \n",
       "| 9     |  912  | 5023  | 305.4 | 2307  | \n",
       "\n",
       "\n"
      ],
      "text/plain": [
       "  month ozone solar.r wind  temp\n",
       "1 5      614  4895    360.3 2032\n",
       "2 6      265  5705    308.0 2373\n",
       "3 7     1537  6711    277.2 2601\n",
       "4 8     1559  4812    272.6 2603\n",
       "5 9      912  5023    305.4 2307"
      ]
     },
     "metadata": {},
     "output_type": "display_data"
    }
   ],
   "source": [
    "c <- cast(aqm, month ~ variable, sum)\n",
    "c"
   ]
  },
  {
   "cell_type": "code",
   "execution_count": 40,
   "metadata": {},
   "outputs": [
    {
     "data": {
      "text/html": [
       "<dl>\n",
       "\t<dt>$ozone</dt>\n",
       "\t\t<dd><table>\n",
       "<thead><tr><th scope=col>month</th><th scope=col>(all)</th></tr></thead>\n",
       "<tbody>\n",
       "\t<tr><td>5       </td><td>23.61538</td></tr>\n",
       "\t<tr><td>6       </td><td>29.44444</td></tr>\n",
       "\t<tr><td>7       </td><td>59.11538</td></tr>\n",
       "\t<tr><td>8       </td><td>59.96154</td></tr>\n",
       "\t<tr><td>9       </td><td>31.44828</td></tr>\n",
       "</tbody>\n",
       "</table>\n",
       "</dd>\n",
       "\t<dt>$solar.r</dt>\n",
       "\t\t<dd><table>\n",
       "<thead><tr><th scope=col>month</th><th scope=col>(all)</th></tr></thead>\n",
       "<tbody>\n",
       "\t<tr><td>5       </td><td>181.2963</td></tr>\n",
       "\t<tr><td>6       </td><td>190.1667</td></tr>\n",
       "\t<tr><td>7       </td><td>216.4839</td></tr>\n",
       "\t<tr><td>8       </td><td>171.8571</td></tr>\n",
       "\t<tr><td>9       </td><td>167.4333</td></tr>\n",
       "</tbody>\n",
       "</table>\n",
       "</dd>\n",
       "\t<dt>$wind</dt>\n",
       "\t\t<dd><table>\n",
       "<thead><tr><th scope=col>month</th><th scope=col>(all)</th></tr></thead>\n",
       "<tbody>\n",
       "\t<tr><td>5        </td><td>11.622581</td></tr>\n",
       "\t<tr><td>6        </td><td>10.266667</td></tr>\n",
       "\t<tr><td>7        </td><td> 8.941935</td></tr>\n",
       "\t<tr><td>8        </td><td> 8.793548</td></tr>\n",
       "\t<tr><td>9        </td><td>10.180000</td></tr>\n",
       "</tbody>\n",
       "</table>\n",
       "</dd>\n",
       "\t<dt>$temp</dt>\n",
       "\t\t<dd><table>\n",
       "<thead><tr><th scope=col>month</th><th scope=col>(all)</th></tr></thead>\n",
       "<tbody>\n",
       "\t<tr><td>5       </td><td>65.54839</td></tr>\n",
       "\t<tr><td>6       </td><td>79.10000</td></tr>\n",
       "\t<tr><td>7       </td><td>83.90323</td></tr>\n",
       "\t<tr><td>8       </td><td>83.96774</td></tr>\n",
       "\t<tr><td>9       </td><td>76.90000</td></tr>\n",
       "</tbody>\n",
       "</table>\n",
       "</dd>\n",
       "</dl>\n"
      ],
      "text/latex": [
       "\\begin{description}\n",
       "\\item[\\$ozone] \\begin{tabular}{r|ll}\n",
       " month & (all)\\\\\n",
       "\\hline\n",
       "\t 5        & 23.61538\\\\\n",
       "\t 6        & 29.44444\\\\\n",
       "\t 7        & 59.11538\\\\\n",
       "\t 8        & 59.96154\\\\\n",
       "\t 9        & 31.44828\\\\\n",
       "\\end{tabular}\n",
       "\n",
       "\\item[\\$solar.r] \\begin{tabular}{r|ll}\n",
       " month & (all)\\\\\n",
       "\\hline\n",
       "\t 5        & 181.2963\\\\\n",
       "\t 6        & 190.1667\\\\\n",
       "\t 7        & 216.4839\\\\\n",
       "\t 8        & 171.8571\\\\\n",
       "\t 9        & 167.4333\\\\\n",
       "\\end{tabular}\n",
       "\n",
       "\\item[\\$wind] \\begin{tabular}{r|ll}\n",
       " month & (all)\\\\\n",
       "\\hline\n",
       "\t 5         & 11.622581\\\\\n",
       "\t 6         & 10.266667\\\\\n",
       "\t 7         &  8.941935\\\\\n",
       "\t 8         &  8.793548\\\\\n",
       "\t 9         & 10.180000\\\\\n",
       "\\end{tabular}\n",
       "\n",
       "\\item[\\$temp] \\begin{tabular}{r|ll}\n",
       " month & (all)\\\\\n",
       "\\hline\n",
       "\t 5        & 65.54839\\\\\n",
       "\t 6        & 79.10000\\\\\n",
       "\t 7        & 83.90323\\\\\n",
       "\t 8        & 83.96774\\\\\n",
       "\t 9        & 76.90000\\\\\n",
       "\\end{tabular}\n",
       "\n",
       "\\end{description}\n"
      ],
      "text/markdown": [
       "$ozone\n",
       ":   \n",
       "month | (all) | \n",
       "|---|---|---|---|---|\n",
       "| 5        | 23.61538 | \n",
       "| 6        | 29.44444 | \n",
       "| 7        | 59.11538 | \n",
       "| 8        | 59.96154 | \n",
       "| 9        | 31.44828 | \n",
       "\n",
       "\n",
       "\n",
       "$solar.r\n",
       ":   \n",
       "month | (all) | \n",
       "|---|---|---|---|---|\n",
       "| 5        | 181.2963 | \n",
       "| 6        | 190.1667 | \n",
       "| 7        | 216.4839 | \n",
       "| 8        | 171.8571 | \n",
       "| 9        | 167.4333 | \n",
       "\n",
       "\n",
       "\n",
       "$wind\n",
       ":   \n",
       "month | (all) | \n",
       "|---|---|---|---|---|\n",
       "| 5         | 11.622581 | \n",
       "| 6         | 10.266667 | \n",
       "| 7         |  8.941935 | \n",
       "| 8         |  8.793548 | \n",
       "| 9         | 10.180000 | \n",
       "\n",
       "\n",
       "\n",
       "$temp\n",
       ":   \n",
       "month | (all) | \n",
       "|---|---|---|---|---|\n",
       "| 5        | 65.54839 | \n",
       "| 6        | 79.10000 | \n",
       "| 7        | 83.90323 | \n",
       "| 8        | 83.96774 | \n",
       "| 9        | 76.90000 | \n",
       "\n",
       "\n",
       "\n",
       "\n",
       "\n"
      ],
      "text/plain": [
       "$ozone\n",
       "  month    (all)\n",
       "1     5 23.61538\n",
       "2     6 29.44444\n",
       "3     7 59.11538\n",
       "4     8 59.96154\n",
       "5     9 31.44828\n",
       "\n",
       "$solar.r\n",
       "  month    (all)\n",
       "1     5 181.2963\n",
       "2     6 190.1667\n",
       "3     7 216.4839\n",
       "4     8 171.8571\n",
       "5     9 167.4333\n",
       "\n",
       "$wind\n",
       "  month     (all)\n",
       "1     5 11.622581\n",
       "2     6 10.266667\n",
       "3     7  8.941935\n",
       "4     8  8.793548\n",
       "5     9 10.180000\n",
       "\n",
       "$temp\n",
       "  month    (all)\n",
       "1     5 65.54839\n",
       "2     6 79.10000\n",
       "3     7 83.90323\n",
       "4     8 83.96774\n",
       "5     9 76.90000\n"
      ]
     },
     "metadata": {},
     "output_type": "display_data"
    }
   ],
   "source": [
    "cast(aqm, month ~ . | variable, mean) # 1개의 variable 값 기준으로 나열"
   ]
  },
  {
   "cell_type": "code",
   "execution_count": 48,
   "metadata": {},
   "outputs": [
    {
     "data": {
      "text/html": [
       "<table>\n",
       "<thead><tr><th scope=col>month</th><th scope=col>ozone</th><th scope=col>solar.r</th><th scope=col>wind</th><th scope=col>temp</th><th scope=col>(all)</th></tr></thead>\n",
       "<tbody>\n",
       "\t<tr><td>5        </td><td>23.61538 </td><td>181.2963 </td><td>11.622581</td><td>65.54839 </td><td>68.70696 </td></tr>\n",
       "\t<tr><td>6        </td><td>29.44444 </td><td>190.1667 </td><td>10.266667</td><td>79.10000 </td><td>87.38384 </td></tr>\n",
       "\t<tr><td>7        </td><td>59.11538 </td><td>216.4839 </td><td> 8.941935</td><td>83.90323 </td><td>93.49748 </td></tr>\n",
       "\t<tr><td>8        </td><td>59.96154 </td><td>171.8571 </td><td> 8.793548</td><td>83.96774 </td><td>79.71207 </td></tr>\n",
       "\t<tr><td>9        </td><td>31.44828 </td><td>167.4333 </td><td>10.180000</td><td>76.90000 </td><td>71.82689 </td></tr>\n",
       "\t<tr><td>(all)    </td><td>42.12931 </td><td>185.9315 </td><td> 9.957516</td><td>77.88235 </td><td>80.05722 </td></tr>\n",
       "</tbody>\n",
       "</table>\n"
      ],
      "text/latex": [
       "\\begin{tabular}{r|llllll}\n",
       " month & ozone & solar.r & wind & temp & (all)\\\\\n",
       "\\hline\n",
       "\t 5         & 23.61538  & 181.2963  & 11.622581 & 65.54839  & 68.70696 \\\\\n",
       "\t 6         & 29.44444  & 190.1667  & 10.266667 & 79.10000  & 87.38384 \\\\\n",
       "\t 7         & 59.11538  & 216.4839  &  8.941935 & 83.90323  & 93.49748 \\\\\n",
       "\t 8         & 59.96154  & 171.8571  &  8.793548 & 83.96774  & 79.71207 \\\\\n",
       "\t 9         & 31.44828  & 167.4333  & 10.180000 & 76.90000  & 71.82689 \\\\\n",
       "\t (all)     & 42.12931  & 185.9315  &  9.957516 & 77.88235  & 80.05722 \\\\\n",
       "\\end{tabular}\n"
      ],
      "text/markdown": [
       "\n",
       "month | ozone | solar.r | wind | temp | (all) | \n",
       "|---|---|---|---|---|---|\n",
       "| 5         | 23.61538  | 181.2963  | 11.622581 | 65.54839  | 68.70696  | \n",
       "| 6         | 29.44444  | 190.1667  | 10.266667 | 79.10000  | 87.38384  | \n",
       "| 7         | 59.11538  | 216.4839  |  8.941935 | 83.90323  | 93.49748  | \n",
       "| 8         | 59.96154  | 171.8571  |  8.793548 | 83.96774  | 79.71207  | \n",
       "| 9         | 31.44828  | 167.4333  | 10.180000 | 76.90000  | 71.82689  | \n",
       "| (all)     | 42.12931  | 185.9315  |  9.957516 | 77.88235  | 80.05722  | \n",
       "\n",
       "\n"
      ],
      "text/plain": [
       "  month ozone    solar.r  wind      temp     (all)   \n",
       "1 5     23.61538 181.2963 11.622581 65.54839 68.70696\n",
       "2 6     29.44444 190.1667 10.266667 79.10000 87.38384\n",
       "3 7     59.11538 216.4839  8.941935 83.90323 93.49748\n",
       "4 8     59.96154 171.8571  8.793548 83.96774 79.71207\n",
       "5 9     31.44828 167.4333 10.180000 76.90000 71.82689\n",
       "6 (all) 42.12931 185.9315  9.957516 77.88235 80.05722"
      ]
     },
     "metadata": {},
     "output_type": "display_data"
    }
   ],
   "source": [
    "cast(aqm, month ~ variable, mean, margins=c(\"grand_row\", \"grand_col\")) # martgin 기능으로 행과 열에 대한 소계를 산출할 수 있다."
   ]
  },
  {
   "cell_type": "code",
   "execution_count": 49,
   "metadata": {},
   "outputs": [
    {
     "data": {
      "text/html": [
       "<table>\n",
       "<thead><tr><th scope=col>day</th><th scope=col>5</th><th scope=col>6</th><th scope=col>7</th><th scope=col>8</th><th scope=col>9</th></tr></thead>\n",
       "<tbody>\n",
       "\t<tr><td> 1 </td><td> 41</td><td>NaN</td><td>135</td><td> 39</td><td> 96</td></tr>\n",
       "\t<tr><td> 2 </td><td> 36</td><td>NaN</td><td> 49</td><td>  9</td><td> 78</td></tr>\n",
       "\t<tr><td> 3 </td><td> 12</td><td>NaN</td><td> 32</td><td> 16</td><td> 73</td></tr>\n",
       "\t<tr><td> 4 </td><td> 18</td><td>NaN</td><td>NaN</td><td> 78</td><td> 91</td></tr>\n",
       "\t<tr><td> 5 </td><td>NaN</td><td>NaN</td><td> 64</td><td> 35</td><td> 47</td></tr>\n",
       "\t<tr><td> 6 </td><td> 28</td><td>NaN</td><td> 40</td><td> 66</td><td> 32</td></tr>\n",
       "\t<tr><td> 7 </td><td> 23</td><td> 29</td><td> 77</td><td>122</td><td> 20</td></tr>\n",
       "\t<tr><td> 8 </td><td> 19</td><td>NaN</td><td> 97</td><td> 89</td><td> 23</td></tr>\n",
       "\t<tr><td> 9 </td><td>  8</td><td> 71</td><td> 97</td><td>110</td><td> 21</td></tr>\n",
       "\t<tr><td>10 </td><td>NaN</td><td> 39</td><td> 85</td><td>NaN</td><td> 24</td></tr>\n",
       "\t<tr><td>11 </td><td>  7</td><td>NaN</td><td>NaN</td><td>NaN</td><td> 44</td></tr>\n",
       "\t<tr><td>12 </td><td> 16</td><td>NaN</td><td> 10</td><td> 44</td><td> 21</td></tr>\n",
       "\t<tr><td>13 </td><td> 11</td><td> 23</td><td> 27</td><td> 28</td><td> 28</td></tr>\n",
       "\t<tr><td>14 </td><td> 14</td><td>NaN</td><td>NaN</td><td> 65</td><td>  9</td></tr>\n",
       "\t<tr><td>15 </td><td> 18</td><td>NaN</td><td>  7</td><td>NaN</td><td> 13</td></tr>\n",
       "\t<tr><td>16 </td><td> 14</td><td> 21</td><td> 48</td><td> 22</td><td> 46</td></tr>\n",
       "\t<tr><td>17 </td><td> 34</td><td> 37</td><td> 35</td><td> 59</td><td> 18</td></tr>\n",
       "\t<tr><td>18 </td><td>  6</td><td> 20</td><td> 61</td><td> 23</td><td> 13</td></tr>\n",
       "\t<tr><td>19 </td><td> 30</td><td> 12</td><td> 79</td><td> 31</td><td> 24</td></tr>\n",
       "\t<tr><td>20 </td><td> 11</td><td> 13</td><td> 63</td><td> 44</td><td> 16</td></tr>\n",
       "\t<tr><td>21 </td><td>  1</td><td>NaN</td><td> 16</td><td> 21</td><td> 13</td></tr>\n",
       "\t<tr><td>22 </td><td> 11</td><td>NaN</td><td>NaN</td><td>  9</td><td> 23</td></tr>\n",
       "\t<tr><td>23 </td><td>  4</td><td>NaN</td><td>NaN</td><td>NaN</td><td> 36</td></tr>\n",
       "\t<tr><td>24 </td><td> 32</td><td>NaN</td><td> 80</td><td> 45</td><td>  7</td></tr>\n",
       "\t<tr><td>25 </td><td>NaN</td><td>NaN</td><td>108</td><td>168</td><td> 14</td></tr>\n",
       "\t<tr><td>26 </td><td>NaN</td><td>NaN</td><td> 20</td><td> 73</td><td> 30</td></tr>\n",
       "\t<tr><td>27 </td><td>NaN</td><td>NaN</td><td> 52</td><td>NaN</td><td>NaN</td></tr>\n",
       "\t<tr><td>28 </td><td> 23</td><td>NaN</td><td> 82</td><td> 76</td><td> 14</td></tr>\n",
       "\t<tr><td>29 </td><td> 45</td><td>NaN</td><td> 50</td><td>118</td><td> 18</td></tr>\n",
       "\t<tr><td>30 </td><td>115</td><td>NaN</td><td> 64</td><td> 84</td><td> 20</td></tr>\n",
       "\t<tr><td>31 </td><td> 37</td><td>NaN</td><td> 59</td><td> 85</td><td>NaN</td></tr>\n",
       "</tbody>\n",
       "</table>\n"
      ],
      "text/latex": [
       "\\begin{tabular}{r|llllll}\n",
       " day & 5 & 6 & 7 & 8 & 9\\\\\n",
       "\\hline\n",
       "\t  1  &  41 & NaN & 135 &  39 &  96\\\\\n",
       "\t  2  &  36 & NaN &  49 &   9 &  78\\\\\n",
       "\t  3  &  12 & NaN &  32 &  16 &  73\\\\\n",
       "\t  4  &  18 & NaN & NaN &  78 &  91\\\\\n",
       "\t  5  & NaN & NaN &  64 &  35 &  47\\\\\n",
       "\t  6  &  28 & NaN &  40 &  66 &  32\\\\\n",
       "\t  7  &  23 &  29 &  77 & 122 &  20\\\\\n",
       "\t  8  &  19 & NaN &  97 &  89 &  23\\\\\n",
       "\t  9  &   8 &  71 &  97 & 110 &  21\\\\\n",
       "\t 10  & NaN &  39 &  85 & NaN &  24\\\\\n",
       "\t 11  &   7 & NaN & NaN & NaN &  44\\\\\n",
       "\t 12  &  16 & NaN &  10 &  44 &  21\\\\\n",
       "\t 13  &  11 &  23 &  27 &  28 &  28\\\\\n",
       "\t 14  &  14 & NaN & NaN &  65 &   9\\\\\n",
       "\t 15  &  18 & NaN &   7 & NaN &  13\\\\\n",
       "\t 16  &  14 &  21 &  48 &  22 &  46\\\\\n",
       "\t 17  &  34 &  37 &  35 &  59 &  18\\\\\n",
       "\t 18  &   6 &  20 &  61 &  23 &  13\\\\\n",
       "\t 19  &  30 &  12 &  79 &  31 &  24\\\\\n",
       "\t 20  &  11 &  13 &  63 &  44 &  16\\\\\n",
       "\t 21  &   1 & NaN &  16 &  21 &  13\\\\\n",
       "\t 22  &  11 & NaN & NaN &   9 &  23\\\\\n",
       "\t 23  &   4 & NaN & NaN & NaN &  36\\\\\n",
       "\t 24  &  32 & NaN &  80 &  45 &   7\\\\\n",
       "\t 25  & NaN & NaN & 108 & 168 &  14\\\\\n",
       "\t 26  & NaN & NaN &  20 &  73 &  30\\\\\n",
       "\t 27  & NaN & NaN &  52 & NaN & NaN\\\\\n",
       "\t 28  &  23 & NaN &  82 &  76 &  14\\\\\n",
       "\t 29  &  45 & NaN &  50 & 118 &  18\\\\\n",
       "\t 30  & 115 & NaN &  64 &  84 &  20\\\\\n",
       "\t 31  &  37 & NaN &  59 &  85 & NaN\\\\\n",
       "\\end{tabular}\n"
      ],
      "text/markdown": [
       "\n",
       "day | 5 | 6 | 7 | 8 | 9 | \n",
       "|---|---|---|---|---|---|---|---|---|---|---|---|---|---|---|---|---|---|---|---|---|---|---|---|---|---|---|---|---|---|---|\n",
       "|  1  |  41 | NaN | 135 |  39 |  96 | \n",
       "|  2  |  36 | NaN |  49 |   9 |  78 | \n",
       "|  3  |  12 | NaN |  32 |  16 |  73 | \n",
       "|  4  |  18 | NaN | NaN |  78 |  91 | \n",
       "|  5  | NaN | NaN |  64 |  35 |  47 | \n",
       "|  6  |  28 | NaN |  40 |  66 |  32 | \n",
       "|  7  |  23 |  29 |  77 | 122 |  20 | \n",
       "|  8  |  19 | NaN |  97 |  89 |  23 | \n",
       "|  9  |   8 |  71 |  97 | 110 |  21 | \n",
       "| 10  | NaN |  39 |  85 | NaN |  24 | \n",
       "| 11  |   7 | NaN | NaN | NaN |  44 | \n",
       "| 12  |  16 | NaN |  10 |  44 |  21 | \n",
       "| 13  |  11 |  23 |  27 |  28 |  28 | \n",
       "| 14  |  14 | NaN | NaN |  65 |   9 | \n",
       "| 15  |  18 | NaN |   7 | NaN |  13 | \n",
       "| 16  |  14 |  21 |  48 |  22 |  46 | \n",
       "| 17  |  34 |  37 |  35 |  59 |  18 | \n",
       "| 18  |   6 |  20 |  61 |  23 |  13 | \n",
       "| 19  |  30 |  12 |  79 |  31 |  24 | \n",
       "| 20  |  11 |  13 |  63 |  44 |  16 | \n",
       "| 21  |   1 | NaN |  16 |  21 |  13 | \n",
       "| 22  |  11 | NaN | NaN |   9 |  23 | \n",
       "| 23  |   4 | NaN | NaN | NaN |  36 | \n",
       "| 24  |  32 | NaN |  80 |  45 |   7 | \n",
       "| 25  | NaN | NaN | 108 | 168 |  14 | \n",
       "| 26  | NaN | NaN |  20 |  73 |  30 | \n",
       "| 27  | NaN | NaN |  52 | NaN | NaN | \n",
       "| 28  |  23 | NaN |  82 |  76 |  14 | \n",
       "| 29  |  45 | NaN |  50 | 118 |  18 | \n",
       "| 30  | 115 | NaN |  64 |  84 |  20 | \n",
       "| 31  |  37 | NaN |  59 |  85 | NaN | \n",
       "\n",
       "\n"
      ],
      "text/plain": [
       "   day 5   6   7   8   9  \n",
       "1   1   41 NaN 135  39  96\n",
       "2   2   36 NaN  49   9  78\n",
       "3   3   12 NaN  32  16  73\n",
       "4   4   18 NaN NaN  78  91\n",
       "5   5  NaN NaN  64  35  47\n",
       "6   6   28 NaN  40  66  32\n",
       "7   7   23  29  77 122  20\n",
       "8   8   19 NaN  97  89  23\n",
       "9   9    8  71  97 110  21\n",
       "10 10  NaN  39  85 NaN  24\n",
       "11 11    7 NaN NaN NaN  44\n",
       "12 12   16 NaN  10  44  21\n",
       "13 13   11  23  27  28  28\n",
       "14 14   14 NaN NaN  65   9\n",
       "15 15   18 NaN   7 NaN  13\n",
       "16 16   14  21  48  22  46\n",
       "17 17   34  37  35  59  18\n",
       "18 18    6  20  61  23  13\n",
       "19 19   30  12  79  31  24\n",
       "20 20   11  13  63  44  16\n",
       "21 21    1 NaN  16  21  13\n",
       "22 22   11 NaN NaN   9  23\n",
       "23 23    4 NaN NaN NaN  36\n",
       "24 24   32 NaN  80  45   7\n",
       "25 25  NaN NaN 108 168  14\n",
       "26 26  NaN NaN  20  73  30\n",
       "27 27  NaN NaN  52 NaN NaN\n",
       "28 28   23 NaN  82  76  14\n",
       "29 29   45 NaN  50 118  18\n",
       "30 30  115 NaN  64  84  20\n",
       "31 31   37 NaN  59  85 NaN"
      ]
     },
     "metadata": {},
     "output_type": "display_data"
    }
   ],
   "source": [
    "cast(aqm, day ~ month, mean, subset=variable==\"ozone\") # 특정값으로, 서브셋을 구축할 수 있다."
   ]
  },
  {
   "cell_type": "code",
   "execution_count": 50,
   "metadata": {},
   "outputs": [
    {
     "data": {
      "text/html": [
       "<table>\n",
       "<thead><tr><th scope=col>month</th><th scope=col>ozone_X1</th><th scope=col>ozone_X2</th><th scope=col>solar.r_X1</th><th scope=col>solar.r_X2</th><th scope=col>wind_X1</th><th scope=col>wind_X2</th><th scope=col>temp_X1</th><th scope=col>temp_X2</th></tr></thead>\n",
       "<tbody>\n",
       "\t<tr><td>5   </td><td> 1  </td><td>115 </td><td> 8  </td><td>334 </td><td>5.7 </td><td>20.1</td><td>56  </td><td>81  </td></tr>\n",
       "\t<tr><td>6   </td><td>12  </td><td> 71 </td><td>31  </td><td>332 </td><td>1.7 </td><td>20.7</td><td>65  </td><td>93  </td></tr>\n",
       "\t<tr><td>7   </td><td> 7  </td><td>135 </td><td> 7  </td><td>314 </td><td>4.1 </td><td>14.9</td><td>73  </td><td>92  </td></tr>\n",
       "\t<tr><td>8   </td><td> 9  </td><td>168 </td><td>24  </td><td>273 </td><td>2.3 </td><td>15.5</td><td>72  </td><td>97  </td></tr>\n",
       "\t<tr><td>9   </td><td> 7  </td><td> 96 </td><td>14  </td><td>259 </td><td>2.8 </td><td>16.6</td><td>63  </td><td>93  </td></tr>\n",
       "</tbody>\n",
       "</table>\n"
      ],
      "text/latex": [
       "\\begin{tabular}{r|lllllllll}\n",
       " month & ozone\\_X1 & ozone\\_X2 & solar.r\\_X1 & solar.r\\_X2 & wind\\_X1 & wind\\_X2 & temp\\_X1 & temp\\_X2\\\\\n",
       "\\hline\n",
       "\t 5    &  1   & 115  &  8   & 334  & 5.7  & 20.1 & 56   & 81  \\\\\n",
       "\t 6    & 12   &  71  & 31   & 332  & 1.7  & 20.7 & 65   & 93  \\\\\n",
       "\t 7    &  7   & 135  &  7   & 314  & 4.1  & 14.9 & 73   & 92  \\\\\n",
       "\t 8    &  9   & 168  & 24   & 273  & 2.3  & 15.5 & 72   & 97  \\\\\n",
       "\t 9    &  7   &  96  & 14   & 259  & 2.8  & 16.6 & 63   & 93  \\\\\n",
       "\\end{tabular}\n"
      ],
      "text/markdown": [
       "\n",
       "month | ozone_X1 | ozone_X2 | solar.r_X1 | solar.r_X2 | wind_X1 | wind_X2 | temp_X1 | temp_X2 | \n",
       "|---|---|---|---|---|\n",
       "| 5    |  1   | 115  |  8   | 334  | 5.7  | 20.1 | 56   | 81   | \n",
       "| 6    | 12   |  71  | 31   | 332  | 1.7  | 20.7 | 65   | 93   | \n",
       "| 7    |  7   | 135  |  7   | 314  | 4.1  | 14.9 | 73   | 92   | \n",
       "| 8    |  9   | 168  | 24   | 273  | 2.3  | 15.5 | 72   | 97   | \n",
       "| 9    |  7   |  96  | 14   | 259  | 2.8  | 16.6 | 63   | 93   | \n",
       "\n",
       "\n"
      ],
      "text/plain": [
       "  month ozone_X1 ozone_X2 solar.r_X1 solar.r_X2 wind_X1 wind_X2 temp_X1 temp_X2\n",
       "1 5      1       115       8         334        5.7     20.1    56      81     \n",
       "2 6     12        71      31         332        1.7     20.7    65      93     \n",
       "3 7      7       135       7         314        4.1     14.9    73      92     \n",
       "4 8      9       168      24         273        2.3     15.5    72      97     \n",
       "5 9      7        96      14         259        2.8     16.6    63      93     "
      ]
     },
     "metadata": {},
     "output_type": "display_data"
    }
   ],
   "source": [
    "cast(aqm, month ~ variable, range) #min 은 _M1, max는 _M2fkrh suffix를 붙여준다."
   ]
  },
  {
   "cell_type": "markdown",
   "metadata": {},
   "source": [
    "#### 2. sqldf를 이용한 데이터 분석"
   ]
  },
  {
   "cell_type": "markdown",
   "metadata": {},
   "source": [
    "```install.packages(\"sqldf\")```"
   ]
  },
  {
   "cell_type": "code",
   "execution_count": 52,
   "metadata": {},
   "outputs": [
    {
     "name": "stderr",
     "output_type": "stream",
     "text": [
      "Loading required package: gsubfn\n",
      "Loading required package: proto\n",
      "Loading required package: RSQLite\n"
     ]
    }
   ],
   "source": [
    "library(sqldf)"
   ]
  },
  {
   "cell_type": "code",
   "execution_count": 53,
   "metadata": {},
   "outputs": [],
   "source": [
    "data(iris)"
   ]
  },
  {
   "cell_type": "code",
   "execution_count": 54,
   "metadata": {},
   "outputs": [
    {
     "data": {
      "text/html": [
       "<table>\n",
       "<thead><tr><th scope=col>Sepal.Length</th><th scope=col>Sepal.Width</th><th scope=col>Petal.Length</th><th scope=col>Petal.Width</th><th scope=col>Species</th></tr></thead>\n",
       "<tbody>\n",
       "\t<tr><td>5.1   </td><td>3.5   </td><td>1.4   </td><td>0.2   </td><td>setosa</td></tr>\n",
       "\t<tr><td>4.9   </td><td>3.0   </td><td>1.4   </td><td>0.2   </td><td>setosa</td></tr>\n",
       "\t<tr><td>4.7   </td><td>3.2   </td><td>1.3   </td><td>0.2   </td><td>setosa</td></tr>\n",
       "\t<tr><td>4.6   </td><td>3.1   </td><td>1.5   </td><td>0.2   </td><td>setosa</td></tr>\n",
       "\t<tr><td>5.0   </td><td>3.6   </td><td>1.4   </td><td>0.2   </td><td>setosa</td></tr>\n",
       "\t<tr><td>5.4   </td><td>3.9   </td><td>1.7   </td><td>0.4   </td><td>setosa</td></tr>\n",
       "\t<tr><td>4.6   </td><td>3.4   </td><td>1.4   </td><td>0.3   </td><td>setosa</td></tr>\n",
       "\t<tr><td>5.0   </td><td>3.4   </td><td>1.5   </td><td>0.2   </td><td>setosa</td></tr>\n",
       "\t<tr><td>4.4   </td><td>2.9   </td><td>1.4   </td><td>0.2   </td><td>setosa</td></tr>\n",
       "\t<tr><td>4.9   </td><td>3.1   </td><td>1.5   </td><td>0.1   </td><td>setosa</td></tr>\n",
       "</tbody>\n",
       "</table>\n"
      ],
      "text/latex": [
       "\\begin{tabular}{r|lllll}\n",
       " Sepal.Length & Sepal.Width & Petal.Length & Petal.Width & Species\\\\\n",
       "\\hline\n",
       "\t 5.1    & 3.5    & 1.4    & 0.2    & setosa\\\\\n",
       "\t 4.9    & 3.0    & 1.4    & 0.2    & setosa\\\\\n",
       "\t 4.7    & 3.2    & 1.3    & 0.2    & setosa\\\\\n",
       "\t 4.6    & 3.1    & 1.5    & 0.2    & setosa\\\\\n",
       "\t 5.0    & 3.6    & 1.4    & 0.2    & setosa\\\\\n",
       "\t 5.4    & 3.9    & 1.7    & 0.4    & setosa\\\\\n",
       "\t 4.6    & 3.4    & 1.4    & 0.3    & setosa\\\\\n",
       "\t 5.0    & 3.4    & 1.5    & 0.2    & setosa\\\\\n",
       "\t 4.4    & 2.9    & 1.4    & 0.2    & setosa\\\\\n",
       "\t 4.9    & 3.1    & 1.5    & 0.1    & setosa\\\\\n",
       "\\end{tabular}\n"
      ],
      "text/markdown": [
       "\n",
       "Sepal.Length | Sepal.Width | Petal.Length | Petal.Width | Species | \n",
       "|---|---|---|---|---|---|---|---|---|---|\n",
       "| 5.1    | 3.5    | 1.4    | 0.2    | setosa | \n",
       "| 4.9    | 3.0    | 1.4    | 0.2    | setosa | \n",
       "| 4.7    | 3.2    | 1.3    | 0.2    | setosa | \n",
       "| 4.6    | 3.1    | 1.5    | 0.2    | setosa | \n",
       "| 5.0    | 3.6    | 1.4    | 0.2    | setosa | \n",
       "| 5.4    | 3.9    | 1.7    | 0.4    | setosa | \n",
       "| 4.6    | 3.4    | 1.4    | 0.3    | setosa | \n",
       "| 5.0    | 3.4    | 1.5    | 0.2    | setosa | \n",
       "| 4.4    | 2.9    | 1.4    | 0.2    | setosa | \n",
       "| 4.9    | 3.1    | 1.5    | 0.1    | setosa | \n",
       "\n",
       "\n"
      ],
      "text/plain": [
       "   Sepal.Length Sepal.Width Petal.Length Petal.Width Species\n",
       "1  5.1          3.5         1.4          0.2         setosa \n",
       "2  4.9          3.0         1.4          0.2         setosa \n",
       "3  4.7          3.2         1.3          0.2         setosa \n",
       "4  4.6          3.1         1.5          0.2         setosa \n",
       "5  5.0          3.6         1.4          0.2         setosa \n",
       "6  5.4          3.9         1.7          0.4         setosa \n",
       "7  4.6          3.4         1.4          0.3         setosa \n",
       "8  5.0          3.4         1.5          0.2         setosa \n",
       "9  4.4          2.9         1.4          0.2         setosa \n",
       "10 4.9          3.1         1.5          0.1         setosa "
      ]
     },
     "metadata": {},
     "output_type": "display_data"
    }
   ],
   "source": [
    "sqldf(\"select * from iris limit 10\")"
   ]
  },
  {
   "cell_type": "code",
   "execution_count": 55,
   "metadata": {},
   "outputs": [
    {
     "data": {
      "text/html": [
       "<table>\n",
       "<thead><tr><th scope=col>count(*)</th></tr></thead>\n",
       "<tbody>\n",
       "\t<tr><td>50</td></tr>\n",
       "</tbody>\n",
       "</table>\n"
      ],
      "text/latex": [
       "\\begin{tabular}{r|l}\n",
       " count(*)\\\\\n",
       "\\hline\n",
       "\t 50\\\\\n",
       "\\end{tabular}\n"
      ],
      "text/markdown": [
       "\n",
       "count(*) | \n",
       "|---|\n",
       "| 50 | \n",
       "\n",
       "\n"
      ],
      "text/plain": [
       "  count(*)\n",
       "1 50      "
      ]
     },
     "metadata": {},
     "output_type": "display_data"
    }
   ],
   "source": [
    "sqldf(\"select count(*) from iris where Species like 'se%' \")"
   ]
  },
  {
   "cell_type": "markdown",
   "metadata": {},
   "source": [
    "#### 3. plyr"
   ]
  },
  {
   "cell_type": "markdown",
   "metadata": {},
   "source": [
    "- plyr : apply 함수에 기반해 데이터와 출력변수를 동시에 배열로 치환처리하는 패키지\n",
    "- ply() : 첫번째 문자는 데이터 형태, 두번쨰는 출력하는 데이터 형태 \n",
    "    - 1.  d = 데이터 프레임 (data.frame)\n",
    "    - 2. a = 배열 (array)\n",
    "    - 3. l = 리스트 (list)\n",
    "- ddply : 데이터 프레임을 입력받아 분리(split)하거나 처리 후 출력\n",
    "- ldply : 리스트를 입력받아 분리하거나 처리 후 출력"
   ]
  },
  {
   "cell_type": "markdown",
   "metadata": {},
   "source": [
    "<table style = \"width:100%\" >\n",
    "    <thead>\n",
    "        <tr>\n",
    "            <th colspan = 2, rowspan = 2>빈칸</th>\n",
    "            <th  colspan = 3>입력되는 데이터 형태</th>\n",
    "        </tr>\n",
    "            <th>데이터 프레임(data.frame)</th>\n",
    "            <th>리스트(list)</th>\n",
    "            <th>배열(array</th>\n",
    "        <tr>\n",
    "    </thead>\n",
    "    <tbody>\n",
    "        <tr>\n",
    "            <th rowspan = 3>출력되는 데이터 형태</th>\n",
    "            <th>데이터 프레임(data.frame)</th>\n",
    "            <td>ddply</td>\n",
    "            <td>ldply</td>\n",
    "            <td>adply</td>\n",
    "        </tr>\n",
    "        <tr>\n",
    "            <th>리스트 (list)</th>\n",
    "            <td>ddply</td>\n",
    "            <td>ldply</td>\n",
    "            <td>adply</td>\n",
    "        </tr>\n",
    "        <tr>\n",
    "            <th>배열(array)</th>\n",
    "            <td>ddply</td>\n",
    "            <td>ldply</td>\n",
    "            <td>adply</td>\n",
    "        </tr>\n",
    "    </tbody>\n",
    "</table>\n",
    "    "
   ]
  },
  {
   "cell_type": "markdown",
   "metadata": {},
   "source": [
    "- ser.seed() : R에서 난수를 생성할 때 일정하게 고정시켜주는 역할\n",
    "- data.frame : 벡터를 데이터프레임으로 만든다.\n",
    "    - rep(범위, each = 각 개수) \n",
    "    - count\n",
    "    - runif(생성할 난수의 개수, 최소값, 최대값) "
   ]
  },
  {
   "cell_type": "code",
   "execution_count": 221,
   "metadata": {},
   "outputs": [],
   "source": [
    "set.seed(1)"
   ]
  },
  {
   "cell_type": "code",
   "execution_count": 272,
   "metadata": {
    "scrolled": true
   },
   "outputs": [
    {
     "data": {
      "text/html": [
       "<ol class=list-inline>\n",
       "\t<li>2012</li>\n",
       "\t<li>2012</li>\n",
       "\t<li>2012</li>\n",
       "\t<li>2012</li>\n",
       "\t<li>2012</li>\n",
       "\t<li>2012</li>\n",
       "\t<li>2013</li>\n",
       "\t<li>2013</li>\n",
       "\t<li>2013</li>\n",
       "\t<li>2013</li>\n",
       "\t<li>2013</li>\n",
       "\t<li>2013</li>\n",
       "\t<li>2014</li>\n",
       "\t<li>2014</li>\n",
       "\t<li>2014</li>\n",
       "\t<li>2014</li>\n",
       "\t<li>2014</li>\n",
       "\t<li>2014</li>\n",
       "</ol>\n"
      ],
      "text/latex": [
       "\\begin{enumerate*}\n",
       "\\item 2012\n",
       "\\item 2012\n",
       "\\item 2012\n",
       "\\item 2012\n",
       "\\item 2012\n",
       "\\item 2012\n",
       "\\item 2013\n",
       "\\item 2013\n",
       "\\item 2013\n",
       "\\item 2013\n",
       "\\item 2013\n",
       "\\item 2013\n",
       "\\item 2014\n",
       "\\item 2014\n",
       "\\item 2014\n",
       "\\item 2014\n",
       "\\item 2014\n",
       "\\item 2014\n",
       "\\end{enumerate*}\n"
      ],
      "text/markdown": [
       "1. 2012\n",
       "2. 2012\n",
       "3. 2012\n",
       "4. 2012\n",
       "5. 2012\n",
       "6. 2012\n",
       "7. 2013\n",
       "8. 2013\n",
       "9. 2013\n",
       "10. 2013\n",
       "11. 2013\n",
       "12. 2013\n",
       "13. 2014\n",
       "14. 2014\n",
       "15. 2014\n",
       "16. 2014\n",
       "17. 2014\n",
       "18. 2014\n",
       "\n",
       "\n"
      ],
      "text/plain": [
       " [1] 2012 2012 2012 2012 2012 2012 2013 2013 2013 2013 2013 2013 2014 2014 2014\n",
       "[16] 2014 2014 2014"
      ]
     },
     "metadata": {},
     "output_type": "display_data"
    },
    {
     "data": {
      "text/html": [
       "<ol class=list-inline>\n",
       "\t<li>2012</li>\n",
       "\t<li>2012</li>\n",
       "\t<li>2012</li>\n",
       "\t<li>2012</li>\n",
       "\t<li>2012</li>\n",
       "\t<li>2012</li>\n",
       "\t<li>2013</li>\n",
       "\t<li>2013</li>\n",
       "\t<li>2013</li>\n",
       "\t<li>2013</li>\n",
       "\t<li>2013</li>\n",
       "\t<li>2013</li>\n",
       "\t<li>2014</li>\n",
       "\t<li>2014</li>\n",
       "\t<li>2014</li>\n",
       "\t<li>2014</li>\n",
       "\t<li>2014</li>\n",
       "\t<li>2014</li>\n",
       "</ol>\n"
      ],
      "text/latex": [
       "\\begin{enumerate*}\n",
       "\\item 2012\n",
       "\\item 2012\n",
       "\\item 2012\n",
       "\\item 2012\n",
       "\\item 2012\n",
       "\\item 2012\n",
       "\\item 2013\n",
       "\\item 2013\n",
       "\\item 2013\n",
       "\\item 2013\n",
       "\\item 2013\n",
       "\\item 2013\n",
       "\\item 2014\n",
       "\\item 2014\n",
       "\\item 2014\n",
       "\\item 2014\n",
       "\\item 2014\n",
       "\\item 2014\n",
       "\\end{enumerate*}\n"
      ],
      "text/markdown": [
       "1. 2012\n",
       "2. 2012\n",
       "3. 2012\n",
       "4. 2012\n",
       "5. 2012\n",
       "6. 2012\n",
       "7. 2013\n",
       "8. 2013\n",
       "9. 2013\n",
       "10. 2013\n",
       "11. 2013\n",
       "12. 2013\n",
       "13. 2014\n",
       "14. 2014\n",
       "15. 2014\n",
       "16. 2014\n",
       "17. 2014\n",
       "18. 2014\n",
       "\n",
       "\n"
      ],
      "text/plain": [
       " [1] 2012 2012 2012 2012 2012 2012 2013 2013 2013 2013 2013 2013 2014 2014 2014\n",
       "[16] 2014 2014 2014"
      ]
     },
     "metadata": {},
     "output_type": "display_data"
    }
   ],
   "source": [
    "rep(2012:2014, each = 6) # 2012~2014 까지 각 6번씩을 반복함\n",
    "year <- rep(2012:2014, each = 6)\n",
    "year"
   ]
  },
  {
   "cell_type": "code",
   "execution_count": 273,
   "metadata": {},
   "outputs": [
    {
     "data": {
      "text/html": [
       "<ol class=list-inline>\n",
       "\t<li>4.03363862074912</li>\n",
       "\t<li>17.9677936993539</li>\n",
       "\t<li>18.893505372107</li>\n",
       "\t<li>13.2159558497369</li>\n",
       "\t<li>12.5822808779776</li>\n",
       "\t<li>1.23572540935129</li>\n",
       "\t<li>4.11949149798602</li>\n",
       "\t<li>3.53113505057991</li>\n",
       "\t<li>13.7404569331557</li>\n",
       "</ol>\n"
      ],
      "text/latex": [
       "\\begin{enumerate*}\n",
       "\\item 4.03363862074912\n",
       "\\item 17.9677936993539\n",
       "\\item 18.893505372107\n",
       "\\item 13.2159558497369\n",
       "\\item 12.5822808779776\n",
       "\\item 1.23572540935129\n",
       "\\item 4.11949149798602\n",
       "\\item 3.53113505057991\n",
       "\\item 13.7404569331557\n",
       "\\end{enumerate*}\n"
      ],
      "text/markdown": [
       "1. 4.03363862074912\n",
       "2. 17.9677936993539\n",
       "3. 18.893505372107\n",
       "4. 13.2159558497369\n",
       "5. 12.5822808779776\n",
       "6. 1.23572540935129\n",
       "7. 4.11949149798602\n",
       "8. 3.53113505057991\n",
       "9. 13.7404569331557\n",
       "\n",
       "\n"
      ],
      "text/plain": [
       "[1]  4.033639 17.967794 18.893505 13.215956 12.582281  1.235725  4.119491\n",
       "[8]  3.531135 13.740457"
      ]
     },
     "metadata": {},
     "output_type": "display_data"
    }
   ],
   "source": [
    "runif(9, 0, 20)  # 9개 값을 랜덤 추출, 0~20까지 사이에서"
   ]
  },
  {
   "cell_type": "code",
   "execution_count": 274,
   "metadata": {},
   "outputs": [
    {
     "data": {
      "text/html": [
       "<ol class=list-inline>\n",
       "\t<li>8</li>\n",
       "\t<li>15</li>\n",
       "\t<li>10</li>\n",
       "\t<li>14</li>\n",
       "\t<li>20</li>\n",
       "\t<li>8</li>\n",
       "\t<li>16</li>\n",
       "\t<li>19</li>\n",
       "\t<li>4</li>\n",
       "</ol>\n"
      ],
      "text/latex": [
       "\\begin{enumerate*}\n",
       "\\item 8\n",
       "\\item 15\n",
       "\\item 10\n",
       "\\item 14\n",
       "\\item 20\n",
       "\\item 8\n",
       "\\item 16\n",
       "\\item 19\n",
       "\\item 4\n",
       "\\end{enumerate*}\n"
      ],
      "text/markdown": [
       "1. 8\n",
       "2. 15\n",
       "3. 10\n",
       "4. 14\n",
       "5. 20\n",
       "6. 8\n",
       "7. 16\n",
       "8. 19\n",
       "9. 4\n",
       "\n",
       "\n"
      ],
      "text/plain": [
       "[1]  8 15 10 14 20  8 16 19  4"
      ]
     },
     "metadata": {},
     "output_type": "display_data"
    },
    {
     "data": {
      "text/html": [
       "<ol class=list-inline>\n",
       "\t<li>13</li>\n",
       "\t<li>3</li>\n",
       "\t<li>5</li>\n",
       "\t<li>8</li>\n",
       "\t<li>0</li>\n",
       "\t<li>8</li>\n",
       "\t<li>17</li>\n",
       "\t<li>7</li>\n",
       "\t<li>10</li>\n",
       "</ol>\n"
      ],
      "text/latex": [
       "\\begin{enumerate*}\n",
       "\\item 13\n",
       "\\item 3\n",
       "\\item 5\n",
       "\\item 8\n",
       "\\item 0\n",
       "\\item 8\n",
       "\\item 17\n",
       "\\item 7\n",
       "\\item 10\n",
       "\\end{enumerate*}\n"
      ],
      "text/markdown": [
       "1. 13\n",
       "2. 3\n",
       "3. 5\n",
       "4. 8\n",
       "5. 0\n",
       "6. 8\n",
       "7. 17\n",
       "8. 7\n",
       "9. 10\n",
       "\n",
       "\n"
      ],
      "text/plain": [
       "[1] 13  3  5  8  0  8 17  7 10"
      ]
     },
     "metadata": {},
     "output_type": "display_data"
    }
   ],
   "source": [
    "round(runif(9, 0, 20))  # 9개 값을 랜덤 추출, 0~20까지 사이에서\n",
    "count <- round(runif(9, 0, 20))\n",
    "count"
   ]
  },
  {
   "cell_type": "code",
   "execution_count": 275,
   "metadata": {},
   "outputs": [
    {
     "name": "stdout",
     "output_type": "stream",
     "text": [
      "   year count\n",
      "1  2012     5\n",
      "2  2012     7\n",
      "3  2012    11\n",
      "4  2012    18\n",
      "5  2012     4\n",
      "6  2012    18\n",
      "7  2013    19\n",
      "8  2013    13\n",
      "9  2013    13\n",
      "10 2013     5\n",
      "11 2013     7\n",
      "12 2013    11\n",
      "13 2014    18\n",
      "14 2014     4\n",
      "15 2014    18\n",
      "16 2014    19\n",
      "17 2014    13\n",
      "18 2014    13\n"
     ]
    }
   ],
   "source": [
    "set.seed(1)\n",
    "d = data.frame(year = rep(2012:2014, each = 6), count = round(runif(9, 0, 20)))\n",
    "print(d)"
   ]
  },
  {
   "cell_type": "markdown",
   "metadata": {},
   "source": [
    "- plyr : 라이브러리를 설치\n",
    "- ddply : 데이터 프레임에서 데이터 프레임으로 입출력하는 함수\n",
    "    - sd : 표준 편차\n",
    "    - mean : 평균\n",
    "    - cv(coefficient of variaition, 변동계수)\n",
    "- d를 인수로 입력받고, count의 mean과 sd를 구해 각각 저장한 다음에 cv를 구함\n",
    "- 결과를 year별로 리턴하면서 데이터 프레임으로 생성"
   ]
  },
  {
   "cell_type": "code",
   "execution_count": 276,
   "metadata": {
    "scrolled": true
   },
   "outputs": [
    {
     "data": {
      "text/html": [
       "<table>\n",
       "<thead><tr><th scope=col>year</th><th scope=col>mean.count</th><th scope=col>sd.count</th><th scope=col>cv.count</th></tr></thead>\n",
       "<tbody>\n",
       "\t<tr><td>2012     </td><td>10.50000 </td><td>6.284903 </td><td>0.5985621</td></tr>\n",
       "\t<tr><td>2013     </td><td>11.33333 </td><td>4.966555 </td><td>0.4382254</td></tr>\n",
       "\t<tr><td>2014     </td><td>14.16667 </td><td>5.636193 </td><td>0.3978489</td></tr>\n",
       "</tbody>\n",
       "</table>\n"
      ],
      "text/latex": [
       "\\begin{tabular}{r|llll}\n",
       " year & mean.count & sd.count & cv.count\\\\\n",
       "\\hline\n",
       "\t 2012      & 10.50000  & 6.284903  & 0.5985621\\\\\n",
       "\t 2013      & 11.33333  & 4.966555  & 0.4382254\\\\\n",
       "\t 2014      & 14.16667  & 5.636193  & 0.3978489\\\\\n",
       "\\end{tabular}\n"
      ],
      "text/markdown": [
       "\n",
       "year | mean.count | sd.count | cv.count | \n",
       "|---|---|---|\n",
       "| 2012      | 10.50000  | 6.284903  | 0.5985621 | \n",
       "| 2013      | 11.33333  | 4.966555  | 0.4382254 | \n",
       "| 2014      | 14.16667  | 5.636193  | 0.3978489 | \n",
       "\n",
       "\n"
      ],
      "text/plain": [
       "  year mean.count sd.count cv.count \n",
       "1 2012 10.50000   6.284903 0.5985621\n",
       "2 2013 11.33333   4.966555 0.4382254\n",
       "3 2014 14.16667   5.636193 0.3978489"
      ]
     },
     "metadata": {},
     "output_type": "display_data"
    }
   ],
   "source": [
    "library(plyr)\n",
    "\n",
    "ddply(d, \"year\", function(x,y,z) {\n",
    "    mean.count = mean(x$count)\n",
    "    sd.count = sd(x$count)\n",
    "    cv = sd.count/mean.count\n",
    "    data.frame(mean.count, sd.count, cv.count =cv)\n",
    "})"
   ]
  },
  {
   "cell_type": "markdown",
   "metadata": {},
   "source": [
    "- summarise : 변수에 명령된 평균이나 합을 계싼, 새로생긴 변수만 보여줌"
   ]
  },
  {
   "cell_type": "code",
   "execution_count": 63,
   "metadata": {},
   "outputs": [
    {
     "data": {
      "text/html": [
       "<table>\n",
       "<thead><tr><th scope=col>year</th><th scope=col>mean.count</th></tr></thead>\n",
       "<tbody>\n",
       "\t<tr><td>2012    </td><td>10.50000</td></tr>\n",
       "\t<tr><td>2013    </td><td>11.33333</td></tr>\n",
       "\t<tr><td>2014    </td><td>14.16667</td></tr>\n",
       "</tbody>\n",
       "</table>\n"
      ],
      "text/latex": [
       "\\begin{tabular}{r|ll}\n",
       " year & mean.count\\\\\n",
       "\\hline\n",
       "\t 2012     & 10.50000\\\\\n",
       "\t 2013     & 11.33333\\\\\n",
       "\t 2014     & 14.16667\\\\\n",
       "\\end{tabular}\n"
      ],
      "text/markdown": [
       "\n",
       "year | mean.count | \n",
       "|---|---|---|\n",
       "| 2012     | 10.50000 | \n",
       "| 2013     | 11.33333 | \n",
       "| 2014     | 14.16667 | \n",
       "\n",
       "\n"
      ],
      "text/plain": [
       "  year mean.count\n",
       "1 2012 10.50000  \n",
       "2 2013 11.33333  \n",
       "3 2014 14.16667  "
      ]
     },
     "metadata": {},
     "output_type": "display_data"
    }
   ],
   "source": [
    "ddply(d, \"year\", summarise, mean.count = mean(count))\n"
   ]
  },
  {
   "cell_type": "markdown",
   "metadata": {},
   "source": [
    "- transform : 계산에 사용된 변수도 출력"
   ]
  },
  {
   "cell_type": "code",
   "execution_count": 277,
   "metadata": {},
   "outputs": [
    {
     "data": {
      "text/html": [
       "<table>\n",
       "<thead><tr><th scope=col>year</th><th scope=col>count</th><th scope=col>mean.count</th></tr></thead>\n",
       "<tbody>\n",
       "\t<tr><td>2012    </td><td> 5      </td><td>10.50000</td></tr>\n",
       "\t<tr><td>2012    </td><td> 7      </td><td>10.50000</td></tr>\n",
       "\t<tr><td>2012    </td><td>11      </td><td>10.50000</td></tr>\n",
       "\t<tr><td>2012    </td><td>18      </td><td>10.50000</td></tr>\n",
       "\t<tr><td>2012    </td><td> 4      </td><td>10.50000</td></tr>\n",
       "\t<tr><td>2012    </td><td>18      </td><td>10.50000</td></tr>\n",
       "\t<tr><td>2013    </td><td>19      </td><td>11.33333</td></tr>\n",
       "\t<tr><td>2013    </td><td>13      </td><td>11.33333</td></tr>\n",
       "\t<tr><td>2013    </td><td>13      </td><td>11.33333</td></tr>\n",
       "\t<tr><td>2013    </td><td> 5      </td><td>11.33333</td></tr>\n",
       "\t<tr><td>2013    </td><td> 7      </td><td>11.33333</td></tr>\n",
       "\t<tr><td>2013    </td><td>11      </td><td>11.33333</td></tr>\n",
       "\t<tr><td>2014    </td><td>18      </td><td>14.16667</td></tr>\n",
       "\t<tr><td>2014    </td><td> 4      </td><td>14.16667</td></tr>\n",
       "\t<tr><td>2014    </td><td>18      </td><td>14.16667</td></tr>\n",
       "\t<tr><td>2014    </td><td>19      </td><td>14.16667</td></tr>\n",
       "\t<tr><td>2014    </td><td>13      </td><td>14.16667</td></tr>\n",
       "\t<tr><td>2014    </td><td>13      </td><td>14.16667</td></tr>\n",
       "</tbody>\n",
       "</table>\n"
      ],
      "text/latex": [
       "\\begin{tabular}{r|lll}\n",
       " year & count & mean.count\\\\\n",
       "\\hline\n",
       "\t 2012     &  5       & 10.50000\\\\\n",
       "\t 2012     &  7       & 10.50000\\\\\n",
       "\t 2012     & 11       & 10.50000\\\\\n",
       "\t 2012     & 18       & 10.50000\\\\\n",
       "\t 2012     &  4       & 10.50000\\\\\n",
       "\t 2012     & 18       & 10.50000\\\\\n",
       "\t 2013     & 19       & 11.33333\\\\\n",
       "\t 2013     & 13       & 11.33333\\\\\n",
       "\t 2013     & 13       & 11.33333\\\\\n",
       "\t 2013     &  5       & 11.33333\\\\\n",
       "\t 2013     &  7       & 11.33333\\\\\n",
       "\t 2013     & 11       & 11.33333\\\\\n",
       "\t 2014     & 18       & 14.16667\\\\\n",
       "\t 2014     &  4       & 14.16667\\\\\n",
       "\t 2014     & 18       & 14.16667\\\\\n",
       "\t 2014     & 19       & 14.16667\\\\\n",
       "\t 2014     & 13       & 14.16667\\\\\n",
       "\t 2014     & 13       & 14.16667\\\\\n",
       "\\end{tabular}\n"
      ],
      "text/markdown": [
       "\n",
       "year | count | mean.count | \n",
       "|---|---|---|---|---|---|---|---|---|---|---|---|---|---|---|---|---|---|\n",
       "| 2012     |  5       | 10.50000 | \n",
       "| 2012     |  7       | 10.50000 | \n",
       "| 2012     | 11       | 10.50000 | \n",
       "| 2012     | 18       | 10.50000 | \n",
       "| 2012     |  4       | 10.50000 | \n",
       "| 2012     | 18       | 10.50000 | \n",
       "| 2013     | 19       | 11.33333 | \n",
       "| 2013     | 13       | 11.33333 | \n",
       "| 2013     | 13       | 11.33333 | \n",
       "| 2013     |  5       | 11.33333 | \n",
       "| 2013     |  7       | 11.33333 | \n",
       "| 2013     | 11       | 11.33333 | \n",
       "| 2014     | 18       | 14.16667 | \n",
       "| 2014     |  4       | 14.16667 | \n",
       "| 2014     | 18       | 14.16667 | \n",
       "| 2014     | 19       | 14.16667 | \n",
       "| 2014     | 13       | 14.16667 | \n",
       "| 2014     | 13       | 14.16667 | \n",
       "\n",
       "\n"
      ],
      "text/plain": [
       "   year count mean.count\n",
       "1  2012  5    10.50000  \n",
       "2  2012  7    10.50000  \n",
       "3  2012 11    10.50000  \n",
       "4  2012 18    10.50000  \n",
       "5  2012  4    10.50000  \n",
       "6  2012 18    10.50000  \n",
       "7  2013 19    11.33333  \n",
       "8  2013 13    11.33333  \n",
       "9  2013 13    11.33333  \n",
       "10 2013  5    11.33333  \n",
       "11 2013  7    11.33333  \n",
       "12 2013 11    11.33333  \n",
       "13 2014 18    14.16667  \n",
       "14 2014  4    14.16667  \n",
       "15 2014 18    14.16667  \n",
       "16 2014 19    14.16667  \n",
       "17 2014 13    14.16667  \n",
       "18 2014 13    14.16667  "
      ]
     },
     "metadata": {},
     "output_type": "display_data"
    }
   ],
   "source": [
    "ddply(d, \"year\", transform, mean.count = mean(count))"
   ]
  },
  {
   "cell_type": "code",
   "execution_count": 65,
   "metadata": {},
   "outputs": [
    {
     "data": {
      "text/html": [
       "<table>\n",
       "<thead><tr><th scope=col>year</th><th scope=col>count</th><th scope=col>total.count</th></tr></thead>\n",
       "<tbody>\n",
       "\t<tr><td>2012</td><td> 5  </td><td>63  </td></tr>\n",
       "\t<tr><td>2012</td><td> 7  </td><td>63  </td></tr>\n",
       "\t<tr><td>2012</td><td>11  </td><td>63  </td></tr>\n",
       "\t<tr><td>2012</td><td>18  </td><td>63  </td></tr>\n",
       "\t<tr><td>2012</td><td> 4  </td><td>63  </td></tr>\n",
       "\t<tr><td>2012</td><td>18  </td><td>63  </td></tr>\n",
       "\t<tr><td>2013</td><td>19  </td><td>68  </td></tr>\n",
       "\t<tr><td>2013</td><td>13  </td><td>68  </td></tr>\n",
       "\t<tr><td>2013</td><td>13  </td><td>68  </td></tr>\n",
       "\t<tr><td>2013</td><td> 5  </td><td>68  </td></tr>\n",
       "\t<tr><td>2013</td><td> 7  </td><td>68  </td></tr>\n",
       "\t<tr><td>2013</td><td>11  </td><td>68  </td></tr>\n",
       "\t<tr><td>2014</td><td>18  </td><td>85  </td></tr>\n",
       "\t<tr><td>2014</td><td> 4  </td><td>85  </td></tr>\n",
       "\t<tr><td>2014</td><td>18  </td><td>85  </td></tr>\n",
       "\t<tr><td>2014</td><td>19  </td><td>85  </td></tr>\n",
       "\t<tr><td>2014</td><td>13  </td><td>85  </td></tr>\n",
       "\t<tr><td>2014</td><td>13  </td><td>85  </td></tr>\n",
       "</tbody>\n",
       "</table>\n"
      ],
      "text/latex": [
       "\\begin{tabular}{r|lll}\n",
       " year & count & total.count\\\\\n",
       "\\hline\n",
       "\t 2012 &  5   & 63  \\\\\n",
       "\t 2012 &  7   & 63  \\\\\n",
       "\t 2012 & 11   & 63  \\\\\n",
       "\t 2012 & 18   & 63  \\\\\n",
       "\t 2012 &  4   & 63  \\\\\n",
       "\t 2012 & 18   & 63  \\\\\n",
       "\t 2013 & 19   & 68  \\\\\n",
       "\t 2013 & 13   & 68  \\\\\n",
       "\t 2013 & 13   & 68  \\\\\n",
       "\t 2013 &  5   & 68  \\\\\n",
       "\t 2013 &  7   & 68  \\\\\n",
       "\t 2013 & 11   & 68  \\\\\n",
       "\t 2014 & 18   & 85  \\\\\n",
       "\t 2014 &  4   & 85  \\\\\n",
       "\t 2014 & 18   & 85  \\\\\n",
       "\t 2014 & 19   & 85  \\\\\n",
       "\t 2014 & 13   & 85  \\\\\n",
       "\t 2014 & 13   & 85  \\\\\n",
       "\\end{tabular}\n"
      ],
      "text/markdown": [
       "\n",
       "year | count | total.count | \n",
       "|---|---|---|---|---|---|---|---|---|---|---|---|---|---|---|---|---|---|\n",
       "| 2012 |  5   | 63   | \n",
       "| 2012 |  7   | 63   | \n",
       "| 2012 | 11   | 63   | \n",
       "| 2012 | 18   | 63   | \n",
       "| 2012 |  4   | 63   | \n",
       "| 2012 | 18   | 63   | \n",
       "| 2013 | 19   | 68   | \n",
       "| 2013 | 13   | 68   | \n",
       "| 2013 | 13   | 68   | \n",
       "| 2013 |  5   | 68   | \n",
       "| 2013 |  7   | 68   | \n",
       "| 2013 | 11   | 68   | \n",
       "| 2014 | 18   | 85   | \n",
       "| 2014 |  4   | 85   | \n",
       "| 2014 | 18   | 85   | \n",
       "| 2014 | 19   | 85   | \n",
       "| 2014 | 13   | 85   | \n",
       "| 2014 | 13   | 85   | \n",
       "\n",
       "\n"
      ],
      "text/plain": [
       "   year count total.count\n",
       "1  2012  5    63         \n",
       "2  2012  7    63         \n",
       "3  2012 11    63         \n",
       "4  2012 18    63         \n",
       "5  2012  4    63         \n",
       "6  2012 18    63         \n",
       "7  2013 19    68         \n",
       "8  2013 13    68         \n",
       "9  2013 13    68         \n",
       "10 2013  5    68         \n",
       "11 2013  7    68         \n",
       "12 2013 11    68         \n",
       "13 2014 18    85         \n",
       "14 2014  4    85         \n",
       "15 2014 18    85         \n",
       "16 2014 19    85         \n",
       "17 2014 13    85         \n",
       "18 2014 13    85         "
      ]
     },
     "metadata": {},
     "output_type": "display_data"
    }
   ],
   "source": [
    "ddply(d, \"year\", transform, total.count = sum(count))"
   ]
  },
  {
   "cell_type": "markdown",
   "metadata": {},
   "source": [
    "#### 4. 데이터 테이블"
   ]
  },
  {
   "cell_type": "markdown",
   "metadata": {},
   "source": [
    "- 데이터 테이블(data.table) : 데이터 프레임과 유리하지만 보다 빠른 그룹화(grouping)와 순서화(ordering), 짧은 문장 지원 측면에서 매력적"
   ]
  },
  {
   "cell_type": "markdown",
   "metadata": {},
   "source": [
    "```install.packages(\"data.table\")```"
   ]
  },
  {
   "cell_type": "code",
   "execution_count": 68,
   "metadata": {},
   "outputs": [],
   "source": [
    "library(data.table)"
   ]
  },
  {
   "cell_type": "code",
   "execution_count": 134,
   "metadata": {},
   "outputs": [
    {
     "data": {
      "text/html": [
       "<table>\n",
       "<thead><tr><th scope=col>x</th><th scope=col>v</th></tr></thead>\n",
       "<tbody>\n",
       "\t<tr><td>b          </td><td>-2.00746767</td></tr>\n",
       "\t<tr><td>b          </td><td> 0.64388687</td></tr>\n",
       "\t<tr><td>b          </td><td> 1.15856122</td></tr>\n",
       "\t<tr><td>a          </td><td> 0.50315780</td></tr>\n",
       "\t<tr><td>a          </td><td>-0.05230225</td></tr>\n",
       "</tbody>\n",
       "</table>\n"
      ],
      "text/latex": [
       "\\begin{tabular}{r|ll}\n",
       " x & v\\\\\n",
       "\\hline\n",
       "\t b           & -2.00746767\\\\\n",
       "\t b           &  0.64388687\\\\\n",
       "\t b           &  1.15856122\\\\\n",
       "\t a           &  0.50315780\\\\\n",
       "\t a           & -0.05230225\\\\\n",
       "\\end{tabular}\n"
      ],
      "text/markdown": [
       "\n",
       "x | v | \n",
       "|---|---|---|---|---|\n",
       "| b           | -2.00746767 | \n",
       "| b           |  0.64388687 | \n",
       "| b           |  1.15856122 | \n",
       "| a           |  0.50315780 | \n",
       "| a           | -0.05230225 | \n",
       "\n",
       "\n"
      ],
      "text/plain": [
       "  x v          \n",
       "1 b -2.00746767\n",
       "2 b  0.64388687\n",
       "3 b  1.15856122\n",
       "4 a  0.50315780\n",
       "5 a -0.05230225"
      ]
     },
     "metadata": {},
     "output_type": "display_data"
    }
   ],
   "source": [
    "DT = data.table(x=c(\"b\",\"b\",\"b\",\"a\",\"a\"), v=rnorm(5))\n",
    "DT"
   ]
  },
  {
   "cell_type": "code",
   "execution_count": 135,
   "metadata": {},
   "outputs": [
    {
     "data": {
      "text/html": [
       "<table>\n",
       "<thead><tr><th scope=col>speed</th><th scope=col>dist</th></tr></thead>\n",
       "<tbody>\n",
       "\t<tr><td>4 </td><td> 2</td></tr>\n",
       "\t<tr><td>4 </td><td>10</td></tr>\n",
       "\t<tr><td>7 </td><td> 4</td></tr>\n",
       "\t<tr><td>7 </td><td>22</td></tr>\n",
       "\t<tr><td>8 </td><td>16</td></tr>\n",
       "\t<tr><td>9 </td><td>10</td></tr>\n",
       "</tbody>\n",
       "</table>\n"
      ],
      "text/latex": [
       "\\begin{tabular}{r|ll}\n",
       " speed & dist\\\\\n",
       "\\hline\n",
       "\t 4  &  2\\\\\n",
       "\t 4  & 10\\\\\n",
       "\t 7  &  4\\\\\n",
       "\t 7  & 22\\\\\n",
       "\t 8  & 16\\\\\n",
       "\t 9  & 10\\\\\n",
       "\\end{tabular}\n"
      ],
      "text/markdown": [
       "\n",
       "speed | dist | \n",
       "|---|---|---|---|---|---|\n",
       "| 4  |  2 | \n",
       "| 4  | 10 | \n",
       "| 7  |  4 | \n",
       "| 7  | 22 | \n",
       "| 8  | 16 | \n",
       "| 9  | 10 | \n",
       "\n",
       "\n"
      ],
      "text/plain": [
       "  speed dist\n",
       "1 4      2  \n",
       "2 4     10  \n",
       "3 7      4  \n",
       "4 7     22  \n",
       "5 8     16  \n",
       "6 9     10  "
      ]
     },
     "metadata": {},
     "output_type": "display_data"
    }
   ],
   "source": [
    "data(cars)\n",
    "head(cars)"
   ]
  },
  {
   "cell_type": "code",
   "execution_count": 136,
   "metadata": {},
   "outputs": [
    {
     "data": {
      "text/html": [
       "<table>\n",
       "<thead><tr><th scope=col>speed</th><th scope=col>dist</th></tr></thead>\n",
       "<tbody>\n",
       "\t<tr><td>4 </td><td> 2</td></tr>\n",
       "\t<tr><td>4 </td><td>10</td></tr>\n",
       "\t<tr><td>7 </td><td> 4</td></tr>\n",
       "\t<tr><td>7 </td><td>22</td></tr>\n",
       "\t<tr><td>8 </td><td>16</td></tr>\n",
       "\t<tr><td>9 </td><td>10</td></tr>\n",
       "</tbody>\n",
       "</table>\n"
      ],
      "text/latex": [
       "\\begin{tabular}{r|ll}\n",
       " speed & dist\\\\\n",
       "\\hline\n",
       "\t 4  &  2\\\\\n",
       "\t 4  & 10\\\\\n",
       "\t 7  &  4\\\\\n",
       "\t 7  & 22\\\\\n",
       "\t 8  & 16\\\\\n",
       "\t 9  & 10\\\\\n",
       "\\end{tabular}\n"
      ],
      "text/markdown": [
       "\n",
       "speed | dist | \n",
       "|---|---|---|---|---|---|\n",
       "| 4  |  2 | \n",
       "| 4  | 10 | \n",
       "| 7  |  4 | \n",
       "| 7  | 22 | \n",
       "| 8  | 16 | \n",
       "| 9  | 10 | \n",
       "\n",
       "\n"
      ],
      "text/plain": [
       "  speed dist\n",
       "1 4      2  \n",
       "2 4     10  \n",
       "3 7      4  \n",
       "4 7     22  \n",
       "5 8     16  \n",
       "6 9     10  "
      ]
     },
     "metadata": {},
     "output_type": "display_data"
    }
   ],
   "source": [
    "CARS <- data.table(cars)\n",
    "head(CARS)"
   ]
  },
  {
   "cell_type": "code",
   "execution_count": 137,
   "metadata": {},
   "outputs": [
    {
     "name": "stdout",
     "output_type": "stream",
     "text": [
      "   NAME NROW NCOL MB       COLS KEY\n",
      "1: CARS   50    2  0 speed,dist    \n",
      "2:   DT    5    2  0        x,v    \n",
      "3:   ss   26    2  0       x,V1   x\n",
      "Total: 0MB\n"
     ]
    }
   ],
   "source": [
    "tables()"
   ]
  },
  {
   "cell_type": "code",
   "execution_count": 138,
   "metadata": {},
   "outputs": [
    {
     "data": {
      "text/html": [
       "<dl class=dl-horizontal>\n",
       "\t<dt>speed</dt>\n",
       "\t\t<dd>'numeric'</dd>\n",
       "\t<dt>dist</dt>\n",
       "\t\t<dd>'numeric'</dd>\n",
       "</dl>\n"
      ],
      "text/latex": [
       "\\begin{description*}\n",
       "\\item[speed] 'numeric'\n",
       "\\item[dist] 'numeric'\n",
       "\\end{description*}\n"
      ],
      "text/markdown": [
       "speed\n",
       ":   'numeric'dist\n",
       ":   'numeric'\n",
       "\n"
      ],
      "text/plain": [
       "    speed      dist \n",
       "\"numeric\" \"numeric\" "
      ]
     },
     "metadata": {},
     "output_type": "display_data"
    }
   ],
   "source": [
    "sapply(CARS, class)"
   ]
  },
  {
   "cell_type": "code",
   "execution_count": 139,
   "metadata": {},
   "outputs": [
    {
     "data": {
      "text/html": [
       "<table>\n",
       "<thead><tr><th scope=col>x</th><th scope=col>v</th></tr></thead>\n",
       "<tbody>\n",
       "\t<tr><td>b          </td><td>-2.00746767</td></tr>\n",
       "\t<tr><td>b          </td><td> 0.64388687</td></tr>\n",
       "\t<tr><td>b          </td><td> 1.15856122</td></tr>\n",
       "\t<tr><td>a          </td><td> 0.50315780</td></tr>\n",
       "\t<tr><td>a          </td><td>-0.05230225</td></tr>\n",
       "</tbody>\n",
       "</table>\n"
      ],
      "text/latex": [
       "\\begin{tabular}{r|ll}\n",
       " x & v\\\\\n",
       "\\hline\n",
       "\t b           & -2.00746767\\\\\n",
       "\t b           &  0.64388687\\\\\n",
       "\t b           &  1.15856122\\\\\n",
       "\t a           &  0.50315780\\\\\n",
       "\t a           & -0.05230225\\\\\n",
       "\\end{tabular}\n"
      ],
      "text/markdown": [
       "\n",
       "x | v | \n",
       "|---|---|---|---|---|\n",
       "| b           | -2.00746767 | \n",
       "| b           |  0.64388687 | \n",
       "| b           |  1.15856122 | \n",
       "| a           |  0.50315780 | \n",
       "| a           | -0.05230225 | \n",
       "\n",
       "\n"
      ],
      "text/plain": [
       "  x v          \n",
       "1 b -2.00746767\n",
       "2 b  0.64388687\n",
       "3 b  1.15856122\n",
       "4 a  0.50315780\n",
       "5 a -0.05230225"
      ]
     },
     "metadata": {},
     "output_type": "display_data"
    }
   ],
   "source": [
    "DT"
   ]
  },
  {
   "cell_type": "code",
   "execution_count": 140,
   "metadata": {},
   "outputs": [
    {
     "data": {
      "text/html": [
       "<table>\n",
       "<thead><tr><th scope=col>x</th><th scope=col>v</th></tr></thead>\n",
       "<tbody>\n",
       "\t<tr><td>b        </td><td>0.6438869</td></tr>\n",
       "</tbody>\n",
       "</table>\n"
      ],
      "text/latex": [
       "\\begin{tabular}{r|ll}\n",
       " x & v\\\\\n",
       "\\hline\n",
       "\t b         & 0.6438869\\\\\n",
       "\\end{tabular}\n"
      ],
      "text/markdown": [
       "\n",
       "x | v | \n",
       "|---|\n",
       "| b         | 0.6438869 | \n",
       "\n",
       "\n"
      ],
      "text/plain": [
       "  x v        \n",
       "1 b 0.6438869"
      ]
     },
     "metadata": {},
     "output_type": "display_data"
    }
   ],
   "source": [
    "DT[2,]"
   ]
  },
  {
   "cell_type": "markdown",
   "metadata": {},
   "source": [
    "- setkey() : key를 지정한다 <br>\n",
    "```setkey(x, ..., verbose=getOption(\"datatable.verbose\"), physical = TRUE)```"
   ]
  },
  {
   "cell_type": "code",
   "execution_count": 141,
   "metadata": {},
   "outputs": [
    {
     "data": {
      "text/html": [
       "<table>\n",
       "<thead><tr><th scope=col>x</th><th scope=col>v</th></tr></thead>\n",
       "<tbody>\n",
       "\t<tr><td>a          </td><td> 0.50315780</td></tr>\n",
       "\t<tr><td>a          </td><td>-0.05230225</td></tr>\n",
       "\t<tr><td>b          </td><td>-2.00746767</td></tr>\n",
       "\t<tr><td>b          </td><td> 0.64388687</td></tr>\n",
       "\t<tr><td>b          </td><td> 1.15856122</td></tr>\n",
       "</tbody>\n",
       "</table>\n"
      ],
      "text/latex": [
       "\\begin{tabular}{r|ll}\n",
       " x & v\\\\\n",
       "\\hline\n",
       "\t a           &  0.50315780\\\\\n",
       "\t a           & -0.05230225\\\\\n",
       "\t b           & -2.00746767\\\\\n",
       "\t b           &  0.64388687\\\\\n",
       "\t b           &  1.15856122\\\\\n",
       "\\end{tabular}\n"
      ],
      "text/markdown": [
       "\n",
       "x | v | \n",
       "|---|---|---|---|---|\n",
       "| a           |  0.50315780 | \n",
       "| a           | -0.05230225 | \n",
       "| b           | -2.00746767 | \n",
       "| b           |  0.64388687 | \n",
       "| b           |  1.15856122 | \n",
       "\n",
       "\n"
      ],
      "text/plain": [
       "  x v          \n",
       "1 a  0.50315780\n",
       "2 a -0.05230225\n",
       "3 b -2.00746767\n",
       "4 b  0.64388687\n",
       "5 b  1.15856122"
      ]
     },
     "metadata": {},
     "output_type": "display_data"
    }
   ],
   "source": [
    "setkey(DT,x)\n",
    "DT"
   ]
  },
  {
   "cell_type": "code",
   "execution_count": 143,
   "metadata": {
    "scrolled": true
   },
   "outputs": [
    {
     "data": {
      "text/html": [
       "<table>\n",
       "<thead><tr><th scope=col>x</th><th scope=col>v</th></tr></thead>\n",
       "<tbody>\n",
       "\t<tr><td>b         </td><td>-2.0074677</td></tr>\n",
       "\t<tr><td>b         </td><td> 0.6438869</td></tr>\n",
       "\t<tr><td>b         </td><td> 1.1585612</td></tr>\n",
       "</tbody>\n",
       "</table>\n"
      ],
      "text/latex": [
       "\\begin{tabular}{r|ll}\n",
       " x & v\\\\\n",
       "\\hline\n",
       "\t b          & -2.0074677\\\\\n",
       "\t b          &  0.6438869\\\\\n",
       "\t b          &  1.1585612\\\\\n",
       "\\end{tabular}\n"
      ],
      "text/markdown": [
       "\n",
       "x | v | \n",
       "|---|---|---|\n",
       "| b          | -2.0074677 | \n",
       "| b          |  0.6438869 | \n",
       "| b          |  1.1585612 | \n",
       "\n",
       "\n"
      ],
      "text/plain": [
       "  x v         \n",
       "1 b -2.0074677\n",
       "2 b  0.6438869\n",
       "3 b  1.1585612"
      ]
     },
     "metadata": {},
     "output_type": "display_data"
    }
   ],
   "source": [
    "DT[\"b\",]"
   ]
  },
  {
   "cell_type": "code",
   "execution_count": 144,
   "metadata": {},
   "outputs": [
    {
     "data": {
      "text/html": [
       "<table>\n",
       "<thead><tr><th scope=col>x</th><th scope=col>v</th></tr></thead>\n",
       "<tbody>\n",
       "\t<tr><td>b        </td><td>-2.007468</td></tr>\n",
       "</tbody>\n",
       "</table>\n"
      ],
      "text/latex": [
       "\\begin{tabular}{r|ll}\n",
       " x & v\\\\\n",
       "\\hline\n",
       "\t b         & -2.007468\\\\\n",
       "\\end{tabular}\n"
      ],
      "text/markdown": [
       "\n",
       "x | v | \n",
       "|---|\n",
       "| b         | -2.007468 | \n",
       "\n",
       "\n"
      ],
      "text/plain": [
       "  x v        \n",
       "1 b -2.007468"
      ]
     },
     "metadata": {},
     "output_type": "display_data"
    }
   ],
   "source": [
    "DT[\"b\", mult = \"first\"]"
   ]
  },
  {
   "cell_type": "code",
   "execution_count": 145,
   "metadata": {},
   "outputs": [
    {
     "data": {
      "text/html": [
       "<table>\n",
       "<thead><tr><th scope=col>x</th><th scope=col>v</th></tr></thead>\n",
       "<tbody>\n",
       "\t<tr><td>b       </td><td>1.158561</td></tr>\n",
       "</tbody>\n",
       "</table>\n"
      ],
      "text/latex": [
       "\\begin{tabular}{r|ll}\n",
       " x & v\\\\\n",
       "\\hline\n",
       "\t b        & 1.158561\\\\\n",
       "\\end{tabular}\n"
      ],
      "text/markdown": [
       "\n",
       "x | v | \n",
       "|---|\n",
       "| b        | 1.158561 | \n",
       "\n",
       "\n"
      ],
      "text/plain": [
       "  x v       \n",
       "1 b 1.158561"
      ]
     },
     "metadata": {},
     "output_type": "display_data"
    }
   ],
   "source": [
    "DT[\"b\", mult = \"last\"]"
   ]
  },
  {
   "cell_type": "code",
   "execution_count": 146,
   "metadata": {},
   "outputs": [
    {
     "data": {
      "text/plain": [
       "   user  system elapsed \n",
       "  0.851   0.074   0.925 "
      ]
     },
     "metadata": {},
     "output_type": "display_data"
    }
   ],
   "source": [
    "grpsize <- ceiling(1e7/26^2)\n",
    "\n",
    "tt <- system.time(DF <- data.frame(\n",
    "    x = rep(LETTERS, each=26*grpsize),\n",
    "    y = rep(letters, each=grpsize),\n",
    "    v = runif(grpsize*26^2),\n",
    "    stringAsFactors=FALSE)\n",
    ")\n",
    "tt"
   ]
  },
  {
   "cell_type": "code",
   "execution_count": 147,
   "metadata": {},
   "outputs": [
    {
     "data": {
      "text/html": [
       "<table>\n",
       "<thead><tr><th scope=col>x</th><th scope=col>y</th><th scope=col>v</th><th scope=col>stringAsFactors</th></tr></thead>\n",
       "<tbody>\n",
       "\t<tr><td>A        </td><td>a        </td><td>0.4478763</td><td>FALSE    </td></tr>\n",
       "\t<tr><td>A        </td><td>a        </td><td>0.2061918</td><td>FALSE    </td></tr>\n",
       "\t<tr><td>A        </td><td>a        </td><td>0.9082171</td><td>FALSE    </td></tr>\n",
       "</tbody>\n",
       "</table>\n"
      ],
      "text/latex": [
       "\\begin{tabular}{r|llll}\n",
       " x & y & v & stringAsFactors\\\\\n",
       "\\hline\n",
       "\t A         & a         & 0.4478763 & FALSE    \\\\\n",
       "\t A         & a         & 0.2061918 & FALSE    \\\\\n",
       "\t A         & a         & 0.9082171 & FALSE    \\\\\n",
       "\\end{tabular}\n"
      ],
      "text/markdown": [
       "\n",
       "x | y | v | stringAsFactors | \n",
       "|---|---|---|\n",
       "| A         | a         | 0.4478763 | FALSE     | \n",
       "| A         | a         | 0.2061918 | FALSE     | \n",
       "| A         | a         | 0.9082171 | FALSE     | \n",
       "\n",
       "\n"
      ],
      "text/plain": [
       "  x y v         stringAsFactors\n",
       "1 A a 0.4478763 FALSE          \n",
       "2 A a 0.2061918 FALSE          \n",
       "3 A a 0.9082171 FALSE          "
      ]
     },
     "metadata": {},
     "output_type": "display_data"
    }
   ],
   "source": [
    "head(DF,3)"
   ]
  },
  {
   "cell_type": "code",
   "execution_count": 148,
   "metadata": {},
   "outputs": [
    {
     "data": {
      "text/html": [
       "<table>\n",
       "<thead><tr><th></th><th scope=col>x</th><th scope=col>y</th><th scope=col>v</th><th scope=col>stringAsFactors</th></tr></thead>\n",
       "<tbody>\n",
       "\t<tr><th scope=row>10000066</th><td>Z        </td><td>z        </td><td>0.9939192</td><td>FALSE    </td></tr>\n",
       "\t<tr><th scope=row>10000067</th><td>Z        </td><td>z        </td><td>0.1680730</td><td>FALSE    </td></tr>\n",
       "\t<tr><th scope=row>10000068</th><td>Z        </td><td>z        </td><td>0.6218789</td><td>FALSE    </td></tr>\n",
       "</tbody>\n",
       "</table>\n"
      ],
      "text/latex": [
       "\\begin{tabular}{r|llll}\n",
       "  & x & y & v & stringAsFactors\\\\\n",
       "\\hline\n",
       "\t10000066 & Z         & z         & 0.9939192 & FALSE    \\\\\n",
       "\t10000067 & Z         & z         & 0.1680730 & FALSE    \\\\\n",
       "\t10000068 & Z         & z         & 0.6218789 & FALSE    \\\\\n",
       "\\end{tabular}\n"
      ],
      "text/markdown": [
       "\n",
       "| <!--/--> | x | y | v | stringAsFactors | \n",
       "|---|---|---|\n",
       "| 10000066 | Z         | z         | 0.9939192 | FALSE     | \n",
       "| 10000067 | Z         | z         | 0.1680730 | FALSE     | \n",
       "| 10000068 | Z         | z         | 0.6218789 | FALSE     | \n",
       "\n",
       "\n"
      ],
      "text/plain": [
       "         x y v         stringAsFactors\n",
       "10000066 Z z 0.9939192 FALSE          \n",
       "10000067 Z z 0.1680730 FALSE          \n",
       "10000068 Z z 0.6218789 FALSE          "
      ]
     },
     "metadata": {},
     "output_type": "display_data"
    }
   ],
   "source": [
    "tail(DF,3)"
   ]
  },
  {
   "cell_type": "code",
   "execution_count": 149,
   "metadata": {},
   "outputs": [
    {
     "data": {
      "text/html": [
       "<ol class=list-inline>\n",
       "\t<li>10000068</li>\n",
       "\t<li>4</li>\n",
       "</ol>\n"
      ],
      "text/latex": [
       "\\begin{enumerate*}\n",
       "\\item 10000068\n",
       "\\item 4\n",
       "\\end{enumerate*}\n"
      ],
      "text/markdown": [
       "1. 10000068\n",
       "2. 4\n",
       "\n",
       "\n"
      ],
      "text/plain": [
       "[1] 10000068        4"
      ]
     },
     "metadata": {},
     "output_type": "display_data"
    }
   ],
   "source": [
    "dim(DF)"
   ]
  },
  {
   "cell_type": "code",
   "execution_count": 150,
   "metadata": {},
   "outputs": [
    {
     "data": {
      "text/html": [
       "3009349.38308757"
      ],
      "text/latex": [
       "3009349.38308757"
      ],
      "text/markdown": [
       "3009349.38308757"
      ],
      "text/plain": [
       "[1] 3009349"
      ]
     },
     "metadata": {},
     "output_type": "display_data"
    }
   ],
   "source": [
    "10000068/3.323"
   ]
  },
  {
   "cell_type": "code",
   "execution_count": 151,
   "metadata": {},
   "outputs": [
    {
     "data": {
      "text/plain": [
       "   user  system elapsed \n",
       "  0.098   0.010   0.108 "
      ]
     },
     "metadata": {},
     "output_type": "display_data"
    }
   ],
   "source": [
    "tt <- system.time(ans1 <- DF[DF$x == \"R\" & DF$y == \"h\",])\n",
    "tt"
   ]
  },
  {
   "cell_type": "code",
   "execution_count": 152,
   "metadata": {},
   "outputs": [
    {
     "data": {
      "text/html": [
       "<table>\n",
       "<thead><tr><th></th><th scope=col>x</th><th scope=col>y</th><th scope=col>v</th><th scope=col>stringAsFactors</th></tr></thead>\n",
       "<tbody>\n",
       "\t<tr><th scope=row>6642058</th><td>R         </td><td>h         </td><td>0.58444132</td><td>FALSE     </td></tr>\n",
       "\t<tr><th scope=row>6642059</th><td>R         </td><td>h         </td><td>0.01847112</td><td>FALSE     </td></tr>\n",
       "\t<tr><th scope=row>6642060</th><td>R         </td><td>h         </td><td>0.27208963</td><td>FALSE     </td></tr>\n",
       "</tbody>\n",
       "</table>\n"
      ],
      "text/latex": [
       "\\begin{tabular}{r|llll}\n",
       "  & x & y & v & stringAsFactors\\\\\n",
       "\\hline\n",
       "\t6642058 & R          & h          & 0.58444132 & FALSE     \\\\\n",
       "\t6642059 & R          & h          & 0.01847112 & FALSE     \\\\\n",
       "\t6642060 & R          & h          & 0.27208963 & FALSE     \\\\\n",
       "\\end{tabular}\n"
      ],
      "text/markdown": [
       "\n",
       "| <!--/--> | x | y | v | stringAsFactors | \n",
       "|---|---|---|\n",
       "| 6642058 | R          | h          | 0.58444132 | FALSE      | \n",
       "| 6642059 | R          | h          | 0.01847112 | FALSE      | \n",
       "| 6642060 | R          | h          | 0.27208963 | FALSE      | \n",
       "\n",
       "\n"
      ],
      "text/plain": [
       "        x y v          stringAsFactors\n",
       "6642058 R h 0.58444132 FALSE          \n",
       "6642059 R h 0.01847112 FALSE          \n",
       "6642060 R h 0.27208963 FALSE          "
      ]
     },
     "metadata": {},
     "output_type": "display_data"
    }
   ],
   "source": [
    "head(ans1, 3)"
   ]
  },
  {
   "cell_type": "code",
   "execution_count": 158,
   "metadata": {},
   "outputs": [
    {
     "data": {
      "text/html": [
       "<table>\n",
       "<thead><tr><th scope=col>x</th><th scope=col>y</th><th scope=col>v</th><th scope=col>stringAsFactors</th></tr></thead>\n",
       "<tbody>\n",
       "\t<tr><td>R         </td><td>h         </td><td>0.58444132</td><td>FALSE     </td></tr>\n",
       "\t<tr><td>R         </td><td>h         </td><td>0.01847112</td><td>FALSE     </td></tr>\n",
       "\t<tr><td>R         </td><td>h         </td><td>0.27208963</td><td>FALSE     </td></tr>\n",
       "</tbody>\n",
       "</table>\n"
      ],
      "text/latex": [
       "\\begin{tabular}{r|llll}\n",
       " x & y & v & stringAsFactors\\\\\n",
       "\\hline\n",
       "\t R          & h          & 0.58444132 & FALSE     \\\\\n",
       "\t R          & h          & 0.01847112 & FALSE     \\\\\n",
       "\t R          & h          & 0.27208963 & FALSE     \\\\\n",
       "\\end{tabular}\n"
      ],
      "text/markdown": [
       "\n",
       "x | y | v | stringAsFactors | \n",
       "|---|---|---|\n",
       "| R          | h          | 0.58444132 | FALSE      | \n",
       "| R          | h          | 0.01847112 | FALSE      | \n",
       "| R          | h          | 0.27208963 | FALSE      | \n",
       "\n",
       "\n"
      ],
      "text/plain": [
       "  x y v          stringAsFactors\n",
       "1 R h 0.58444132 FALSE          \n",
       "2 R h 0.01847112 FALSE          \n",
       "3 R h 0.27208963 FALSE          "
      ]
     },
     "metadata": {},
     "output_type": "display_data"
    }
   ],
   "source": [
    "DT <-data.table(DF)\n",
    "setkey(DT, x, y)\n",
    "ss <- system.time(ans2 <- DT[J(\"R\", \"h\")])\n",
    "head(ans2, 3)"
   ]
  },
  {
   "cell_type": "code",
   "execution_count": 159,
   "metadata": {},
   "outputs": [
    {
     "data": {
      "text/html": [
       "<ol class=list-inline>\n",
       "\t<li>14793</li>\n",
       "\t<li>4</li>\n",
       "</ol>\n"
      ],
      "text/latex": [
       "\\begin{enumerate*}\n",
       "\\item 14793\n",
       "\\item 4\n",
       "\\end{enumerate*}\n"
      ],
      "text/markdown": [
       "1. 14793\n",
       "2. 4\n",
       "\n",
       "\n"
      ],
      "text/plain": [
       "[1] 14793     4"
      ]
     },
     "metadata": {},
     "output_type": "display_data"
    }
   ],
   "source": [
    "dim(ans2)"
   ]
  },
  {
   "cell_type": "code",
   "execution_count": 160,
   "metadata": {},
   "outputs": [
    {
     "data": {
      "text/html": [
       "TRUE"
      ],
      "text/latex": [
       "TRUE"
      ],
      "text/markdown": [
       "TRUE"
      ],
      "text/plain": [
       "[1] TRUE"
      ]
     },
     "metadata": {},
     "output_type": "display_data"
    }
   ],
   "source": [
    "identical(ans1$v, ans2$v)"
   ]
  },
  {
   "cell_type": "code",
   "execution_count": 161,
   "metadata": {},
   "outputs": [
    {
     "data": {
      "text/plain": [
       "   user  system elapsed \n",
       "  0.002   0.000   0.003 "
      ]
     },
     "metadata": {},
     "output_type": "display_data"
    }
   ],
   "source": [
    "ss"
   ]
  },
  {
   "cell_type": "code",
   "execution_count": 162,
   "metadata": {},
   "outputs": [
    {
     "data": {
      "text/plain": [
       "   user  system elapsed \n",
       "  0.103   0.014   0.117 "
      ]
     },
     "metadata": {},
     "output_type": "display_data"
    }
   ],
   "source": [
    "system.time(ans2 <- DF[DF$x == \"R\" & DF$y == \"h\",])"
   ]
  },
  {
   "cell_type": "code",
   "execution_count": 163,
   "metadata": {},
   "outputs": [
    {
     "data": {
      "text/html": [
       "<dl class=dl-horizontal>\n",
       "\t<dt>x</dt>\n",
       "\t\t<dd>TRUE</dd>\n",
       "\t<dt>y</dt>\n",
       "\t\t<dd>TRUE</dd>\n",
       "\t<dt>v</dt>\n",
       "\t\t<dd>TRUE</dd>\n",
       "\t<dt>stringAsFactors</dt>\n",
       "\t\t<dd>TRUE</dd>\n",
       "</dl>\n"
      ],
      "text/latex": [
       "\\begin{description*}\n",
       "\\item[x] TRUE\n",
       "\\item[y] TRUE\n",
       "\\item[v] TRUE\n",
       "\\item[stringAsFactors] TRUE\n",
       "\\end{description*}\n"
      ],
      "text/markdown": [
       "x\n",
       ":   TRUEy\n",
       ":   TRUEv\n",
       ":   TRUEstringAsFactors\n",
       ":   TRUE\n",
       "\n"
      ],
      "text/plain": [
       "              x               y               v stringAsFactors \n",
       "           TRUE            TRUE            TRUE            TRUE "
      ]
     },
     "metadata": {},
     "output_type": "display_data"
    }
   ],
   "source": [
    "mapply(identical, ans1, ans2)"
   ]
  },
  {
   "cell_type": "code",
   "execution_count": 164,
   "metadata": {},
   "outputs": [
    {
     "data": {
      "text/html": [
       "5000539.67385784"
      ],
      "text/latex": [
       "5000539.67385784"
      ],
      "text/markdown": [
       "5000539.67385784"
      ],
      "text/plain": [
       "[1] 5000540"
      ]
     },
     "metadata": {},
     "output_type": "display_data"
    }
   ],
   "source": [
    "DT[,sum(v)]"
   ]
  },
  {
   "cell_type": "code",
   "execution_count": 165,
   "metadata": {},
   "outputs": [
    {
     "data": {
      "text/html": [
       "<table>\n",
       "<thead><tr><th scope=col>x</th><th scope=col>V1</th></tr></thead>\n",
       "<tbody>\n",
       "\t<tr><td>A       </td><td>192415.8</td></tr>\n",
       "\t<tr><td>B       </td><td>192230.8</td></tr>\n",
       "\t<tr><td>C       </td><td>192303.0</td></tr>\n",
       "\t<tr><td>D       </td><td>192315.5</td></tr>\n",
       "\t<tr><td>E       </td><td>192702.2</td></tr>\n",
       "\t<tr><td>F       </td><td>192340.6</td></tr>\n",
       "\t<tr><td>G       </td><td>192407.1</td></tr>\n",
       "\t<tr><td>H       </td><td>192333.1</td></tr>\n",
       "\t<tr><td>I       </td><td>192440.9</td></tr>\n",
       "\t<tr><td>J       </td><td>192290.7</td></tr>\n",
       "\t<tr><td>K       </td><td>192292.8</td></tr>\n",
       "\t<tr><td>L       </td><td>192334.6</td></tr>\n",
       "\t<tr><td>M       </td><td>192075.0</td></tr>\n",
       "\t<tr><td>N       </td><td>191923.8</td></tr>\n",
       "\t<tr><td>O       </td><td>192300.7</td></tr>\n",
       "\t<tr><td>P       </td><td>192372.6</td></tr>\n",
       "\t<tr><td>Q       </td><td>192164.7</td></tr>\n",
       "\t<tr><td>R       </td><td>192288.3</td></tr>\n",
       "\t<tr><td>S       </td><td>192487.4</td></tr>\n",
       "\t<tr><td>T       </td><td>192459.3</td></tr>\n",
       "\t<tr><td>U       </td><td>192309.5</td></tr>\n",
       "\t<tr><td>V       </td><td>192053.3</td></tr>\n",
       "\t<tr><td>W       </td><td>191979.0</td></tr>\n",
       "\t<tr><td>X       </td><td>192619.9</td></tr>\n",
       "\t<tr><td>Y       </td><td>192636.4</td></tr>\n",
       "\t<tr><td>Z       </td><td>192462.6</td></tr>\n",
       "</tbody>\n",
       "</table>\n"
      ],
      "text/latex": [
       "\\begin{tabular}{r|ll}\n",
       " x & V1\\\\\n",
       "\\hline\n",
       "\t A        & 192415.8\\\\\n",
       "\t B        & 192230.8\\\\\n",
       "\t C        & 192303.0\\\\\n",
       "\t D        & 192315.5\\\\\n",
       "\t E        & 192702.2\\\\\n",
       "\t F        & 192340.6\\\\\n",
       "\t G        & 192407.1\\\\\n",
       "\t H        & 192333.1\\\\\n",
       "\t I        & 192440.9\\\\\n",
       "\t J        & 192290.7\\\\\n",
       "\t K        & 192292.8\\\\\n",
       "\t L        & 192334.6\\\\\n",
       "\t M        & 192075.0\\\\\n",
       "\t N        & 191923.8\\\\\n",
       "\t O        & 192300.7\\\\\n",
       "\t P        & 192372.6\\\\\n",
       "\t Q        & 192164.7\\\\\n",
       "\t R        & 192288.3\\\\\n",
       "\t S        & 192487.4\\\\\n",
       "\t T        & 192459.3\\\\\n",
       "\t U        & 192309.5\\\\\n",
       "\t V        & 192053.3\\\\\n",
       "\t W        & 191979.0\\\\\n",
       "\t X        & 192619.9\\\\\n",
       "\t Y        & 192636.4\\\\\n",
       "\t Z        & 192462.6\\\\\n",
       "\\end{tabular}\n"
      ],
      "text/markdown": [
       "\n",
       "x | V1 | \n",
       "|---|---|---|---|---|---|---|---|---|---|---|---|---|---|---|---|---|---|---|---|---|---|---|---|---|---|\n",
       "| A        | 192415.8 | \n",
       "| B        | 192230.8 | \n",
       "| C        | 192303.0 | \n",
       "| D        | 192315.5 | \n",
       "| E        | 192702.2 | \n",
       "| F        | 192340.6 | \n",
       "| G        | 192407.1 | \n",
       "| H        | 192333.1 | \n",
       "| I        | 192440.9 | \n",
       "| J        | 192290.7 | \n",
       "| K        | 192292.8 | \n",
       "| L        | 192334.6 | \n",
       "| M        | 192075.0 | \n",
       "| N        | 191923.8 | \n",
       "| O        | 192300.7 | \n",
       "| P        | 192372.6 | \n",
       "| Q        | 192164.7 | \n",
       "| R        | 192288.3 | \n",
       "| S        | 192487.4 | \n",
       "| T        | 192459.3 | \n",
       "| U        | 192309.5 | \n",
       "| V        | 192053.3 | \n",
       "| W        | 191979.0 | \n",
       "| X        | 192619.9 | \n",
       "| Y        | 192636.4 | \n",
       "| Z        | 192462.6 | \n",
       "\n",
       "\n"
      ],
      "text/plain": [
       "   x V1      \n",
       "1  A 192415.8\n",
       "2  B 192230.8\n",
       "3  C 192303.0\n",
       "4  D 192315.5\n",
       "5  E 192702.2\n",
       "6  F 192340.6\n",
       "7  G 192407.1\n",
       "8  H 192333.1\n",
       "9  I 192440.9\n",
       "10 J 192290.7\n",
       "11 K 192292.8\n",
       "12 L 192334.6\n",
       "13 M 192075.0\n",
       "14 N 191923.8\n",
       "15 O 192300.7\n",
       "16 P 192372.6\n",
       "17 Q 192164.7\n",
       "18 R 192288.3\n",
       "19 S 192487.4\n",
       "20 T 192459.3\n",
       "21 U 192309.5\n",
       "22 V 192053.3\n",
       "23 W 191979.0\n",
       "24 X 192619.9\n",
       "25 Y 192636.4\n",
       "26 Z 192462.6"
      ]
     },
     "metadata": {},
     "output_type": "display_data"
    }
   ],
   "source": [
    "DT[,sum(v), by = x]"
   ]
  },
  {
   "cell_type": "code",
   "execution_count": 166,
   "metadata": {},
   "outputs": [
    {
     "data": {
      "text/plain": [
       "   user  system elapsed \n",
       "  0.124   0.035   0.160 "
      ]
     },
     "metadata": {},
     "output_type": "display_data"
    }
   ],
   "source": [
    "ttt <- system.time(tt <- tapply(DT$v, DT$x, sum))\n",
    "ttt"
   ]
  },
  {
   "cell_type": "code",
   "execution_count": 167,
   "metadata": {},
   "outputs": [
    {
     "data": {
      "text/plain": [
       "   user  system elapsed \n",
       "  0.058   0.011   0.069 "
      ]
     },
     "metadata": {},
     "output_type": "display_data"
    }
   ],
   "source": [
    "sss <- system.time(ss <- DT[, sum(v), by=x]);\n",
    "sss"
   ]
  },
  {
   "cell_type": "code",
   "execution_count": 168,
   "metadata": {},
   "outputs": [
    {
     "name": "stderr",
     "output_type": "stream",
     "text": [
      "ERROR while rich displaying an object: Error in dn[[2L]]: 첨자의 허용 범위를 벗어났습니다\n",
      "\n",
      "Traceback:\n",
      "1. FUN(X[[i]], ...)\n",
      "2. tryCatch(withCallingHandlers({\n",
      " .     rpr <- mime2repr[[mime]](obj)\n",
      " .     if (is.null(rpr)) \n",
      " .         return(NULL)\n",
      " .     prepare_content(is.raw(rpr), rpr)\n",
      " . }, error = error_handler), error = outer_handler)\n",
      "3. tryCatchList(expr, classes, parentenv, handlers)\n",
      "4. tryCatchOne(expr, names, parentenv, handlers[[1L]])\n",
      "5. doTryCatch(return(expr), name, parentenv, handler)\n",
      "6. withCallingHandlers({\n",
      " .     rpr <- mime2repr[[mime]](obj)\n",
      " .     if (is.null(rpr)) \n",
      " .         return(NULL)\n",
      " .     prepare_content(is.raw(rpr), rpr)\n",
      " . }, error = error_handler)\n",
      "7. mime2repr[[mime]](obj)\n",
      "8. repr_markdown.numeric(obj)\n",
      "9. repr_vector_generic(html_escape_names(obj), \"%s. %s\\n\", \"%s\\n:   %s\", \n",
      " .     \"**%s:** %s\", \"%s\\n\\n\", item_uses_numbers = TRUE, escape_fun = html_escape)\n",
      "10. html_escape_names(obj)\n",
      "11. .escape_names(obj, \"html\")\n",
      "12. colnames(obj)\n",
      "ERROR while rich displaying an object: Error in dn[[2L]]: 첨자의 허용 범위를 벗어났습니다\n",
      "\n",
      "Traceback:\n",
      "1. FUN(X[[i]], ...)\n",
      "2. tryCatch(withCallingHandlers({\n",
      " .     rpr <- mime2repr[[mime]](obj)\n",
      " .     if (is.null(rpr)) \n",
      " .         return(NULL)\n",
      " .     prepare_content(is.raw(rpr), rpr)\n",
      " . }, error = error_handler), error = outer_handler)\n",
      "3. tryCatchList(expr, classes, parentenv, handlers)\n",
      "4. tryCatchOne(expr, names, parentenv, handlers[[1L]])\n",
      "5. doTryCatch(return(expr), name, parentenv, handler)\n",
      "6. withCallingHandlers({\n",
      " .     rpr <- mime2repr[[mime]](obj)\n",
      " .     if (is.null(rpr)) \n",
      " .         return(NULL)\n",
      " .     prepare_content(is.raw(rpr), rpr)\n",
      " . }, error = error_handler)\n",
      "7. mime2repr[[mime]](obj)\n",
      "8. repr_latex.numeric(obj)\n",
      "9. repr_vector_generic(latex_escape_names(obj), \"\\\\item %s\\n\", \"\\\\item[%s] %s\\n\", \n",
      " .     \"\\\\textbf{%s:} %s\", enum_wrap = \"\\\\begin{enumerate*}\\n%s\\\\end{enumerate*}\\n\", \n",
      " .     named_wrap = \"\\\\begin{description*}\\n%s\\\\end{description*}\\n\", \n",
      " .     only_named_item = \"\\\\textbf{%s:} %s\", escape_fun = latex_escape)\n",
      "10. latex_escape_names(obj)\n",
      "11. .escape_names(obj, \"latex\")\n",
      "12. colnames(obj)\n"
     ]
    },
    {
     "data": {
      "text/html": [
       "<dl class=dl-horizontal>\n",
       "\t<dt>A</dt>\n",
       "\t\t<dd>192415.82744373</dd>\n",
       "\t<dt>B</dt>\n",
       "\t\t<dd>192230.82552129</dd>\n",
       "\t<dt>C</dt>\n",
       "\t\t<dd>192302.96430887</dd>\n",
       "\t<dt>D</dt>\n",
       "\t\t<dd>192315.513449875</dd>\n",
       "\t<dt>E</dt>\n",
       "\t\t<dd>192702.215748216</dd>\n",
       "\t<dt>F</dt>\n",
       "\t\t<dd>192340.612561556</dd>\n",
       "</dl>\n"
      ],
      "text/plain": [
       "       A        B        C        D        E        F \n",
       "192415.8 192230.8 192303.0 192315.5 192702.2 192340.6 "
      ]
     },
     "metadata": {},
     "output_type": "display_data"
    }
   ],
   "source": [
    "head(tt)"
   ]
  },
  {
   "cell_type": "code",
   "execution_count": 131,
   "metadata": {},
   "outputs": [
    {
     "data": {
      "text/html": [
       "<table>\n",
       "<thead><tr><th scope=col>x</th><th scope=col>V1</th></tr></thead>\n",
       "<tbody>\n",
       "\t<tr><td>A       </td><td>192164.2</td></tr>\n",
       "\t<tr><td>B       </td><td>192224.3</td></tr>\n",
       "\t<tr><td>C       </td><td>192289.8</td></tr>\n",
       "\t<tr><td>D       </td><td>192416.4</td></tr>\n",
       "\t<tr><td>E       </td><td>192371.9</td></tr>\n",
       "\t<tr><td>F       </td><td>192775.7</td></tr>\n",
       "</tbody>\n",
       "</table>\n"
      ],
      "text/latex": [
       "\\begin{tabular}{r|ll}\n",
       " x & V1\\\\\n",
       "\\hline\n",
       "\t A        & 192164.2\\\\\n",
       "\t B        & 192224.3\\\\\n",
       "\t C        & 192289.8\\\\\n",
       "\t D        & 192416.4\\\\\n",
       "\t E        & 192371.9\\\\\n",
       "\t F        & 192775.7\\\\\n",
       "\\end{tabular}\n"
      ],
      "text/markdown": [
       "\n",
       "x | V1 | \n",
       "|---|---|---|---|---|---|\n",
       "| A        | 192164.2 | \n",
       "| B        | 192224.3 | \n",
       "| C        | 192289.8 | \n",
       "| D        | 192416.4 | \n",
       "| E        | 192371.9 | \n",
       "| F        | 192775.7 | \n",
       "\n",
       "\n"
      ],
      "text/plain": [
       "  x V1      \n",
       "1 A 192164.2\n",
       "2 B 192224.3\n",
       "3 C 192289.8\n",
       "4 D 192416.4\n",
       "5 E 192371.9\n",
       "6 F 192775.7"
      ]
     },
     "metadata": {},
     "output_type": "display_data"
    }
   ],
   "source": [
    "head(ss)"
   ]
  },
  {
   "cell_type": "code",
   "execution_count": 169,
   "metadata": {},
   "outputs": [
    {
     "data": {
      "text/html": [
       "FALSE"
      ],
      "text/latex": [
       "FALSE"
      ],
      "text/markdown": [
       "FALSE"
      ],
      "text/plain": [
       "[1] FALSE"
      ]
     },
     "metadata": {},
     "output_type": "display_data"
    }
   ],
   "source": [
    "identical(as.vector(tt), ss$v1)"
   ]
  },
  {
   "cell_type": "code",
   "execution_count": 171,
   "metadata": {},
   "outputs": [
    {
     "data": {
      "text/plain": [
       "   user  system elapsed \n",
       "  0.207   0.002   0.209 "
      ]
     },
     "metadata": {},
     "output_type": "display_data"
    },
    {
     "data": {
      "text/html": [
       "<table>\n",
       "<thead><tr><th scope=col>x</th><th scope=col>y</th><th scope=col>V1</th></tr></thead>\n",
       "<tbody>\n",
       "\t<tr><td>A       </td><td>a       </td><td>7370.715</td></tr>\n",
       "\t<tr><td>A       </td><td>b       </td><td>7389.101</td></tr>\n",
       "\t<tr><td>A       </td><td>c       </td><td>7354.456</td></tr>\n",
       "\t<tr><td>A       </td><td>d       </td><td>7449.656</td></tr>\n",
       "\t<tr><td>A       </td><td>e       </td><td>7360.305</td></tr>\n",
       "\t<tr><td>A       </td><td>f       </td><td>7400.703</td></tr>\n",
       "\t<tr><td>A       </td><td>g       </td><td>7412.881</td></tr>\n",
       "\t<tr><td>A       </td><td>h       </td><td>7348.709</td></tr>\n",
       "\t<tr><td>A       </td><td>i       </td><td>7422.384</td></tr>\n",
       "\t<tr><td>A       </td><td>j       </td><td>7318.056</td></tr>\n",
       "\t<tr><td>A       </td><td>k       </td><td>7418.343</td></tr>\n",
       "\t<tr><td>A       </td><td>l       </td><td>7428.219</td></tr>\n",
       "\t<tr><td>A       </td><td>m       </td><td>7382.046</td></tr>\n",
       "\t<tr><td>A       </td><td>n       </td><td>7446.445</td></tr>\n",
       "\t<tr><td>A       </td><td>o       </td><td>7381.798</td></tr>\n",
       "\t<tr><td>A       </td><td>p       </td><td>7393.456</td></tr>\n",
       "\t<tr><td>A       </td><td>q       </td><td>7367.354</td></tr>\n",
       "\t<tr><td>A       </td><td>r       </td><td>7404.553</td></tr>\n",
       "\t<tr><td>A       </td><td>s       </td><td>7468.830</td></tr>\n",
       "\t<tr><td>A       </td><td>t       </td><td>7405.749</td></tr>\n",
       "\t<tr><td>A       </td><td>u       </td><td>7409.186</td></tr>\n",
       "\t<tr><td>A       </td><td>v       </td><td>7384.947</td></tr>\n",
       "\t<tr><td>A       </td><td>w       </td><td>7456.752</td></tr>\n",
       "\t<tr><td>A       </td><td>x       </td><td>7424.665</td></tr>\n",
       "\t<tr><td>A       </td><td>y       </td><td>7416.254</td></tr>\n",
       "\t<tr><td>A       </td><td>z       </td><td>7400.264</td></tr>\n",
       "\t<tr><td>B       </td><td>a       </td><td>7454.368</td></tr>\n",
       "\t<tr><td>B       </td><td>b       </td><td>7456.975</td></tr>\n",
       "\t<tr><td>B       </td><td>c       </td><td>7401.894</td></tr>\n",
       "\t<tr><td>B       </td><td>d       </td><td>7384.756</td></tr>\n",
       "\t<tr><td>⋮</td><td>⋮</td><td>⋮</td></tr>\n",
       "\t<tr><td>Y       </td><td>w       </td><td>7388.425</td></tr>\n",
       "\t<tr><td>Y       </td><td>x       </td><td>7376.984</td></tr>\n",
       "\t<tr><td>Y       </td><td>y       </td><td>7382.742</td></tr>\n",
       "\t<tr><td>Y       </td><td>z       </td><td>7434.387</td></tr>\n",
       "\t<tr><td>Z       </td><td>a       </td><td>7433.587</td></tr>\n",
       "\t<tr><td>Z       </td><td>b       </td><td>7378.326</td></tr>\n",
       "\t<tr><td>Z       </td><td>c       </td><td>7399.643</td></tr>\n",
       "\t<tr><td>Z       </td><td>d       </td><td>7340.601</td></tr>\n",
       "\t<tr><td>Z       </td><td>e       </td><td>7438.197</td></tr>\n",
       "\t<tr><td>Z       </td><td>f       </td><td>7423.457</td></tr>\n",
       "\t<tr><td>Z       </td><td>g       </td><td>7430.836</td></tr>\n",
       "\t<tr><td>Z       </td><td>h       </td><td>7371.846</td></tr>\n",
       "\t<tr><td>Z       </td><td>i       </td><td>7408.187</td></tr>\n",
       "\t<tr><td>Z       </td><td>j       </td><td>7425.887</td></tr>\n",
       "\t<tr><td>Z       </td><td>k       </td><td>7395.230</td></tr>\n",
       "\t<tr><td>Z       </td><td>l       </td><td>7438.050</td></tr>\n",
       "\t<tr><td>Z       </td><td>m       </td><td>7343.837</td></tr>\n",
       "\t<tr><td>Z       </td><td>n       </td><td>7381.841</td></tr>\n",
       "\t<tr><td>Z       </td><td>o       </td><td>7441.310</td></tr>\n",
       "\t<tr><td>Z       </td><td>p       </td><td>7400.791</td></tr>\n",
       "\t<tr><td>Z       </td><td>q       </td><td>7435.765</td></tr>\n",
       "\t<tr><td>Z       </td><td>r       </td><td>7322.822</td></tr>\n",
       "\t<tr><td>Z       </td><td>s       </td><td>7393.973</td></tr>\n",
       "\t<tr><td>Z       </td><td>t       </td><td>7433.510</td></tr>\n",
       "\t<tr><td>Z       </td><td>u       </td><td>7382.607</td></tr>\n",
       "\t<tr><td>Z       </td><td>v       </td><td>7420.343</td></tr>\n",
       "\t<tr><td>Z       </td><td>w       </td><td>7451.892</td></tr>\n",
       "\t<tr><td>Z       </td><td>x       </td><td>7424.282</td></tr>\n",
       "\t<tr><td>Z       </td><td>y       </td><td>7325.922</td></tr>\n",
       "\t<tr><td>Z       </td><td>z       </td><td>7419.889</td></tr>\n",
       "</tbody>\n",
       "</table>\n"
      ],
      "text/latex": [
       "\\begin{tabular}{r|lll}\n",
       " x & y & V1\\\\\n",
       "\\hline\n",
       "\t A        & a        & 7370.715\\\\\n",
       "\t A        & b        & 7389.101\\\\\n",
       "\t A        & c        & 7354.456\\\\\n",
       "\t A        & d        & 7449.656\\\\\n",
       "\t A        & e        & 7360.305\\\\\n",
       "\t A        & f        & 7400.703\\\\\n",
       "\t A        & g        & 7412.881\\\\\n",
       "\t A        & h        & 7348.709\\\\\n",
       "\t A        & i        & 7422.384\\\\\n",
       "\t A        & j        & 7318.056\\\\\n",
       "\t A        & k        & 7418.343\\\\\n",
       "\t A        & l        & 7428.219\\\\\n",
       "\t A        & m        & 7382.046\\\\\n",
       "\t A        & n        & 7446.445\\\\\n",
       "\t A        & o        & 7381.798\\\\\n",
       "\t A        & p        & 7393.456\\\\\n",
       "\t A        & q        & 7367.354\\\\\n",
       "\t A        & r        & 7404.553\\\\\n",
       "\t A        & s        & 7468.830\\\\\n",
       "\t A        & t        & 7405.749\\\\\n",
       "\t A        & u        & 7409.186\\\\\n",
       "\t A        & v        & 7384.947\\\\\n",
       "\t A        & w        & 7456.752\\\\\n",
       "\t A        & x        & 7424.665\\\\\n",
       "\t A        & y        & 7416.254\\\\\n",
       "\t A        & z        & 7400.264\\\\\n",
       "\t B        & a        & 7454.368\\\\\n",
       "\t B        & b        & 7456.975\\\\\n",
       "\t B        & c        & 7401.894\\\\\n",
       "\t B        & d        & 7384.756\\\\\n",
       "\t ⋮ & ⋮ & ⋮\\\\\n",
       "\t Y        & w        & 7388.425\\\\\n",
       "\t Y        & x        & 7376.984\\\\\n",
       "\t Y        & y        & 7382.742\\\\\n",
       "\t Y        & z        & 7434.387\\\\\n",
       "\t Z        & a        & 7433.587\\\\\n",
       "\t Z        & b        & 7378.326\\\\\n",
       "\t Z        & c        & 7399.643\\\\\n",
       "\t Z        & d        & 7340.601\\\\\n",
       "\t Z        & e        & 7438.197\\\\\n",
       "\t Z        & f        & 7423.457\\\\\n",
       "\t Z        & g        & 7430.836\\\\\n",
       "\t Z        & h        & 7371.846\\\\\n",
       "\t Z        & i        & 7408.187\\\\\n",
       "\t Z        & j        & 7425.887\\\\\n",
       "\t Z        & k        & 7395.230\\\\\n",
       "\t Z        & l        & 7438.050\\\\\n",
       "\t Z        & m        & 7343.837\\\\\n",
       "\t Z        & n        & 7381.841\\\\\n",
       "\t Z        & o        & 7441.310\\\\\n",
       "\t Z        & p        & 7400.791\\\\\n",
       "\t Z        & q        & 7435.765\\\\\n",
       "\t Z        & r        & 7322.822\\\\\n",
       "\t Z        & s        & 7393.973\\\\\n",
       "\t Z        & t        & 7433.510\\\\\n",
       "\t Z        & u        & 7382.607\\\\\n",
       "\t Z        & v        & 7420.343\\\\\n",
       "\t Z        & w        & 7451.892\\\\\n",
       "\t Z        & x        & 7424.282\\\\\n",
       "\t Z        & y        & 7325.922\\\\\n",
       "\t Z        & z        & 7419.889\\\\\n",
       "\\end{tabular}\n"
      ],
      "text/markdown": [
       "\n",
       "x | y | V1 | \n",
       "|---|---|---|---|---|---|---|---|---|---|---|---|---|---|---|---|---|---|---|---|---|---|---|---|---|---|---|---|---|---|---|---|---|---|---|---|---|---|---|---|---|---|---|---|---|---|---|---|---|---|---|---|---|---|---|---|---|---|---|---|---|\n",
       "| A        | a        | 7370.715 | \n",
       "| A        | b        | 7389.101 | \n",
       "| A        | c        | 7354.456 | \n",
       "| A        | d        | 7449.656 | \n",
       "| A        | e        | 7360.305 | \n",
       "| A        | f        | 7400.703 | \n",
       "| A        | g        | 7412.881 | \n",
       "| A        | h        | 7348.709 | \n",
       "| A        | i        | 7422.384 | \n",
       "| A        | j        | 7318.056 | \n",
       "| A        | k        | 7418.343 | \n",
       "| A        | l        | 7428.219 | \n",
       "| A        | m        | 7382.046 | \n",
       "| A        | n        | 7446.445 | \n",
       "| A        | o        | 7381.798 | \n",
       "| A        | p        | 7393.456 | \n",
       "| A        | q        | 7367.354 | \n",
       "| A        | r        | 7404.553 | \n",
       "| A        | s        | 7468.830 | \n",
       "| A        | t        | 7405.749 | \n",
       "| A        | u        | 7409.186 | \n",
       "| A        | v        | 7384.947 | \n",
       "| A        | w        | 7456.752 | \n",
       "| A        | x        | 7424.665 | \n",
       "| A        | y        | 7416.254 | \n",
       "| A        | z        | 7400.264 | \n",
       "| B        | a        | 7454.368 | \n",
       "| B        | b        | 7456.975 | \n",
       "| B        | c        | 7401.894 | \n",
       "| B        | d        | 7384.756 | \n",
       "| ⋮ | ⋮ | ⋮ | \n",
       "| Y        | w        | 7388.425 | \n",
       "| Y        | x        | 7376.984 | \n",
       "| Y        | y        | 7382.742 | \n",
       "| Y        | z        | 7434.387 | \n",
       "| Z        | a        | 7433.587 | \n",
       "| Z        | b        | 7378.326 | \n",
       "| Z        | c        | 7399.643 | \n",
       "| Z        | d        | 7340.601 | \n",
       "| Z        | e        | 7438.197 | \n",
       "| Z        | f        | 7423.457 | \n",
       "| Z        | g        | 7430.836 | \n",
       "| Z        | h        | 7371.846 | \n",
       "| Z        | i        | 7408.187 | \n",
       "| Z        | j        | 7425.887 | \n",
       "| Z        | k        | 7395.230 | \n",
       "| Z        | l        | 7438.050 | \n",
       "| Z        | m        | 7343.837 | \n",
       "| Z        | n        | 7381.841 | \n",
       "| Z        | o        | 7441.310 | \n",
       "| Z        | p        | 7400.791 | \n",
       "| Z        | q        | 7435.765 | \n",
       "| Z        | r        | 7322.822 | \n",
       "| Z        | s        | 7393.973 | \n",
       "| Z        | t        | 7433.510 | \n",
       "| Z        | u        | 7382.607 | \n",
       "| Z        | v        | 7420.343 | \n",
       "| Z        | w        | 7451.892 | \n",
       "| Z        | x        | 7424.282 | \n",
       "| Z        | y        | 7325.922 | \n",
       "| Z        | z        | 7419.889 | \n",
       "\n",
       "\n"
      ],
      "text/plain": [
       "    x y V1      \n",
       "1   A a 7370.715\n",
       "2   A b 7389.101\n",
       "3   A c 7354.456\n",
       "4   A d 7449.656\n",
       "5   A e 7360.305\n",
       "6   A f 7400.703\n",
       "7   A g 7412.881\n",
       "8   A h 7348.709\n",
       "9   A i 7422.384\n",
       "10  A j 7318.056\n",
       "11  A k 7418.343\n",
       "12  A l 7428.219\n",
       "13  A m 7382.046\n",
       "14  A n 7446.445\n",
       "15  A o 7381.798\n",
       "16  A p 7393.456\n",
       "17  A q 7367.354\n",
       "18  A r 7404.553\n",
       "19  A s 7468.830\n",
       "20  A t 7405.749\n",
       "21  A u 7409.186\n",
       "22  A v 7384.947\n",
       "23  A w 7456.752\n",
       "24  A x 7424.665\n",
       "25  A y 7416.254\n",
       "26  A z 7400.264\n",
       "27  B a 7454.368\n",
       "28  B b 7456.975\n",
       "29  B c 7401.894\n",
       "30  B d 7384.756\n",
       "⋮   ⋮ ⋮ ⋮       \n",
       "647 Y w 7388.425\n",
       "648 Y x 7376.984\n",
       "649 Y y 7382.742\n",
       "650 Y z 7434.387\n",
       "651 Z a 7433.587\n",
       "652 Z b 7378.326\n",
       "653 Z c 7399.643\n",
       "654 Z d 7340.601\n",
       "655 Z e 7438.197\n",
       "656 Z f 7423.457\n",
       "657 Z g 7430.836\n",
       "658 Z h 7371.846\n",
       "659 Z i 7408.187\n",
       "660 Z j 7425.887\n",
       "661 Z k 7395.230\n",
       "662 Z l 7438.050\n",
       "663 Z m 7343.837\n",
       "664 Z n 7381.841\n",
       "665 Z o 7441.310\n",
       "666 Z p 7400.791\n",
       "667 Z q 7435.765\n",
       "668 Z r 7322.822\n",
       "669 Z s 7393.973\n",
       "670 Z t 7433.510\n",
       "671 Z u 7382.607\n",
       "672 Z v 7420.343\n",
       "673 Z w 7451.892\n",
       "674 Z x 7424.282\n",
       "675 Z y 7325.922\n",
       "676 Z z 7419.889"
      ]
     },
     "metadata": {},
     "output_type": "display_data"
    }
   ],
   "source": [
    "sss <- system.time(ss <- DT[,sum(v), by=\"x,y\"])\n",
    "sss\n",
    "ss"
   ]
  },
  {
   "cell_type": "code",
   "execution_count": null,
   "metadata": {},
   "outputs": [],
   "source": []
  }
 ],
 "metadata": {
  "kernelspec": {
   "display_name": "R",
   "language": "R",
   "name": "ir"
  },
  "language_info": {
   "codemirror_mode": "r",
   "file_extension": ".r",
   "mimetype": "text/x-r-source",
   "name": "R",
   "pygments_lexer": "r",
   "version": "3.5.1"
  }
 },
 "nbformat": 4,
 "nbformat_minor": 2
}
