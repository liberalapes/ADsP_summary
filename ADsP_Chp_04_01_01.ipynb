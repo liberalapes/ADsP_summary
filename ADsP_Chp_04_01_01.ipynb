{
 "cells": [
  {
   "cell_type": "markdown",
   "metadata": {},
   "source": [
    "### 목차"
   ]
  },
  {
   "cell_type": "markdown",
   "metadata": {},
   "source": [
    "<table style=\"width:100%\">\n",
    "  <thead>\n",
    "    <tr>\n",
    "      <th rowspan=\"2\">구분</th>\n",
    "      <th rowspan=\"2\">과목명</th>\n",
    "      <th colspan=\"2\">문항수</th>\n",
    "      <th colspan=\"2\">배점</th>\n",
    "      <th rowspan=\"2\">시험시간</th>\n",
    "    </tr>\n",
    "    <tr>\n",
    "      <th>객관식</th>\n",
    "      <th>단답형</th>\n",
    "      <th>객관식</th>\n",
    "      <th>단답형</th>\n",
    "    </tr>\n",
    "  </thead>\n",
    "  <tbody>\n",
    "      <tr>\n",
    "          <td rowspan=\"4\", bgcolor=\"lightgrey\">필기</td>\n",
    "          <td>데이터 이해</td>\n",
    "          <td>8</td>\n",
    "          <td>2</td>\n",
    "          <td rowspan=\"3\">80 (각 2점)</td>\n",
    "          <td rowspan=\"3\">20 (각 2점)</td>\n",
    "          <td rowspan=\"4\" >90분 (1시간 30분)</td>\n",
    "      </tr>\n",
    "      <tr>\n",
    "          <td>데이터 분석 기획</td>\n",
    "          <td>8</td>\n",
    "          <td>2</td>\n",
    "      </tr>\n",
    "      <tr>\n",
    "          <td bgcolor=\"lightgrey\"><b>데이터 분석</b></td>\n",
    "          <td bgcolor=\"lightgrey\"><b>24</b></td>\n",
    "          <td bgcolor=\"lightgrey\"><b>6</b></td>\n",
    "      </tr>\n",
    "      <tr>\n",
    "          <td>계</td>\n",
    "          <td>40</td>\n",
    "          <td>10</td>\n",
    "          <td colspan=\"2\">100</td>\n",
    "      </tr>\n",
    "  </tbody>\n",
    "</table>"
   ]
  },
  {
   "cell_type": "markdown",
   "metadata": {},
   "source": [
    "<table  style=\"width:100%\">\n",
    "    <tbody>\n",
    "            <tr>\n",
    "              <th rowspan=\"11\", bgcolor=\"lightgrey\"><b>데이터 분석</b></th>\n",
    "              <td rowspan=\"3\", bgcolor=\"lightgrey\"><b>R기초와 데이터 마트</b></td>\n",
    "              <td bgcolor=\"lightgrey\"><b>R기초</b></td>\n",
    "            </tr>\n",
    "            <tr>\n",
    "              <td>데이터 마트</td>\n",
    "            </tr>\n",
    "            <tr>\n",
    "              <td>결측값 처리와 이상값 검색</td>\n",
    "            </tr>\n",
    "            <tr>\n",
    "              <td rowspan=\"4\">통계분석</td>\n",
    "              <td>통계학 개론</td>\n",
    "            </tr>\n",
    "            <tr>\n",
    "              <td>기초 통계분석</td>\n",
    "            </tr>\n",
    "            <tr>\n",
    "              <td>다변량 분석</td>\n",
    "            </tr>\n",
    "            <tr>\n",
    "              <td>시계열 예측</td>\n",
    "            </tr>\n",
    "            <tr>\n",
    "              <td rowspan=\"4\">정형 데이터 마이닝</td>\n",
    "              <td>데이터 마이닝 개요</td>\n",
    "            </tr>\n",
    "            <tr>\n",
    "              <td>분류분석(Classification)</td>\n",
    "            </tr>\n",
    "            <tr>\n",
    "              <td>군집분석(Clustering)</td>\n",
    "            </tr>\n",
    "            <tr>\n",
    "              <td>연관분석(Association Analysis)</td>\n",
    "            </tr>\n",
    "      </tbody>\n",
    "</table>"
   ]
  },
  {
   "cell_type": "markdown",
   "metadata": {},
   "source": [
    "# 과목 IV 데이터 분석"
   ]
  },
  {
   "cell_type": "markdown",
   "metadata": {},
   "source": [
    "## 제 1장 R기초와 데이터 마트"
   ]
  },
  {
   "cell_type": "markdown",
   "metadata": {},
   "source": [
    "### 제1절 R기초"
   ]
  },
  {
   "cell_type": "markdown",
   "metadata": {},
   "source": [
    "- R의 선택 기준 "
   ]
  },
  {
   "cell_type": "markdown",
   "metadata": {},
   "source": [
    "> <table width = '100%'>\n",
    "> <thead>\n",
    "        <tr>\n",
    "            <th></th>\n",
    "            <th>SAS</th>\n",
    "            <th>SPSS</th>\n",
    "            <th>R</th>\n",
    "        </tr>\n",
    "    </thead>\n",
    ">   <tbody>\n",
    "        <tr>\n",
    "             <td>프로그램 비용</td>\n",
    "             <td>유료, 고가</td>\n",
    "             <td>유료, 고가</td>\n",
    "             <td>오픈소스</td>\n",
    "        </tr>    \n",
    "        <tr>\n",
    "             <td>설치 용량</td>\n",
    "             <td>대용량</td>\n",
    "             <td>대용량</td>\n",
    "             <td>적음</td>\n",
    "        </tr>    \n",
    "        <tr>\n",
    "             <td>다양한 모듈지원 및 비용</td>\n",
    "             <td>별도 구매</td>\n",
    "             <td>별도 구매</td>\n",
    "             <td>오픈소스</td>\n",
    "        </tr>    \n",
    "        <tr>\n",
    "             <td>최근 알고리즘 및 기술반영</td>\n",
    "             <td>느림</td>\n",
    "             <td>다소느림</td>\n",
    "             <td>매우 빠름</td>\n",
    "        </tr>\n",
    "        <tr>\n",
    "             <td>학습자료 입수의 편의성</td>\n",
    "             <td>유료 도서 위주</td>\n",
    "             <td>유료 도서 위주</td>\n",
    "             <td>공개 논문 및 자료 많음</td>\n",
    "        </tr>    \n",
    "        <tr>\n",
    "             <td>질의를 위한 공개 커뮤니티</td>\n",
    "             <td>NA</td>\n",
    "             <td>NA</td>\n",
    "             <td>매우 활발</td>\n",
    "        </tr>    \n",
    "    </tbody>\n",
    "</table>\n",
    "출처: ECH Analytics, NA: No Answer <br>  p.288, 데이터 분석 전문가 가이드(개정판))"
   ]
  },
  {
   "cell_type": "markdown",
   "metadata": {},
   "source": [
    "#### 1. 분석 환경의 이해"
   ]
  },
  {
   "cell_type": "markdown",
   "metadata": {},
   "source": [
    "##### 가. 통계 패키지 R"
   ]
  },
  {
   "cell_type": "markdown",
   "metadata": {},
   "source": [
    "- R : 통계 분석 과정에서 수행되는 복잡한 계산이나 시각화 기법을 쉽게 사용할 수 있도록 설계된 무료 소프트웨어"
   ]
  },
  {
   "cell_type": "markdown",
   "metadata": {},
   "source": [
    "##### 나. R의 역사"
   ]
  },
  {
   "cell_type": "markdown",
   "metadata": {},
   "source": [
    "- S 통계 프로그래밍 언어\n",
    "    - 1976년, AT&T의 Bell Labs Statistis Group 에서 John Chamber, Rick Becker와 Allan Wiks가 자체 개발한 통계 프로그래밍 언어\n",
    "    - 이전에는 Fortran의 서브루틴을 통해 수행\n",
    "- 'S' =  Statistical computing \n",
    "    - 다른 프로그래밍 언어와의 연관성 강조\n",
    "    - 다른 프로그래밍 언어 = C언어\n",
    "- 1988년 객체 개념 도입\n",
    "    - \"New S\"의 이주가 부정적이던 중에 'R' 탄생\n",
    "- 'R' = 1993년 뉴질랜드 University if Acukland, Ross Inaka와 Robert Hentleman 에 의해 개발 <br> 'Schema'로 부터 렉시컬 스코프(정적 스코프)를 도입한 또 다른 'S 언어'\n",
    "    - 외에도 1988년, TIBCO Software Inc. 에서 출시 'S-plus'  등 'S3', 'S4' 등 후속 프로그램 출시, 모두 상용\n",
    "    - 모두 상용 프로그램\n",
    "- 1995년, R이 자유 소프트웨어 재단(Free Software Foundation)의 GNU 일반 공증 사용허가서(GPL, GNU Public General License)로 인해 무료 공개\n",
    "    - R은 S 로 작성된 코드 구동 가능\n",
    "    - 다양한 OS 지원\n",
    "    - 2016년 4월 3.2.5 버전 이후로 계속 업그레이드 중"
   ]
  },
  {
   "cell_type": "markdown",
   "metadata": {},
   "source": [
    "##### 다. R의 특징"
   ]
  },
  {
   "cell_type": "markdown",
   "metadata": {},
   "source": [
    "1) 그래픽 처리\n",
    "- 수준급의 그래픽 및 그림 작성 가능\n",
    "- 처리 시간이 매우 빠름"
   ]
  },
  {
   "cell_type": "markdown",
   "metadata": {},
   "source": [
    "2) 데터 처리 및 계산 능력\n",
    "\n",
    "- 다양한 형태의 데이터 구조 지원\n",
    "    - 벡터(Vector)\n",
    "    - 행렬(Matrix)\n",
    "    - 배열(Array)\n",
    "    - 데이터 프레임(Dataframe)\n",
    "    - 리스트(list)\n",
    "- 복잡한 구조의 개별 데이터 접근 용이\n",
    "- 대용량 데이터 핸들링 간편"
   ]
  },
  {
   "cell_type": "markdown",
   "metadata": {},
   "source": [
    "3) 패키지\n",
    "- 패키지(package)\n",
    "    - 사용자들이 스스로 개발하는 새로운 함수들을 패키지의 형태로 받아 사용\n",
    "    - 하나의 목적으로 제작되어 특정 분석 기법을 사용\n",
    "    - 확장석 이점으로 최신 이론, 기법의 사용 가능"
   ]
  },
  {
   "cell_type": "markdown",
   "metadata": {},
   "source": [
    "##### 라. R Studio"
   ]
  },
  {
   "cell_type": "markdown",
   "metadata": {},
   "source": [
    "- R을 사용하는 통합 개발 환경(IDE)\n",
    "- 메모리 상의 변수의 정보 접근, 편집 용이\n",
    "- 스크립트 관리 및 문서화 수월\n",
    "- 다양한 운영체제 지원"
   ]
  },
  {
   "cell_type": "markdown",
   "metadata": {},
   "source": [
    "#### 2. 기본 사용법"
   ]
  },
  {
   "cell_type": "markdown",
   "metadata": {},
   "source": [
    "##### 가. R과 R Studio의 구성"
   ]
  },
  {
   "cell_type": "markdown",
   "metadata": {},
   "source": [
    "1) R의 구성  "
   ]
  },
  {
   "cell_type": "markdown",
   "metadata": {},
   "source": [
    "2) R Studio의 구성"
   ]
  },
  {
   "cell_type": "markdown",
   "metadata": {},
   "source": [
    "##### 나. R 패키지 설치하기 "
   ]
  },
  {
   "cell_type": "markdown",
   "metadata": {},
   "source": [
    "package 설치 : ```install.package(\"package_name\") ```"
   ]
  },
  {
   "cell_type": "markdown",
   "metadata": {},
   "source": [
    "설치된 package 확인 : ```library package_name```"
   ]
  },
  {
   "cell_type": "markdown",
   "metadata": {},
   "source": [
    "##### 다. R 도움말(help)"
   ]
  },
  {
   "cell_type": "markdown",
   "metadata": {},
   "source": [
    "```?par```"
   ]
  },
  {
   "cell_type": "markdown",
   "metadata": {},
   "source": [
    "```help(par)```"
   ]
  },
  {
   "cell_type": "markdown",
   "metadata": {},
   "source": [
    "##### 라. R 언어와 문법"
   ]
  },
  {
   "cell_type": "markdown",
   "metadata": {},
   "source": [
    "1)  R의 데이터 구조"
   ]
  },
  {
   "cell_type": "markdown",
   "metadata": {},
   "source": [
    "(1) 백터 \n",
    "- 하나의 스칼라값, 혹은 하나 이상의 스칼라 원소들을 갖는 단순한 형태의 집합\n",
    "- 벡터 데이터 내에 들어갈 수 있는 원소 : 숫자, 문자, 논리 연산자 등\n",
    "- 명령어 : c\n",
    "- c = concentration (연결)"
   ]
  },
  {
   "cell_type": "code",
   "execution_count": 5,
   "metadata": {},
   "outputs": [],
   "source": [
    "x = c(1, 20, 24, 40)\n",
    "y = c(\"사과\", \"바나나\", '오렌지')\n",
    "z = c(TRUE, FALSE, TRUE) "
   ]
  },
  {
   "cell_type": "markdown",
   "metadata": {},
   "source": [
    "- TRUE = 1 \n",
    "- FALSE = 0\n",
    "- 대소문자 구분 필\n",
    "- 논리연산자는 반드시 모든 글자를 대문자로 기입\n",
    "- 등호 ```=``` : 좌측 변수에 할당, ```<-``` 으로 사용 가능"
   ]
  },
  {
   "cell_type": "code",
   "execution_count": 6,
   "metadata": {},
   "outputs": [],
   "source": [
    "x <- c(1, 20, 24, 40)\n",
    "y <- c(\"사과\", \"바나나\", '오렌지')\n",
    "z <- c(TRUE, FALSE, TRUE) "
   ]
  },
  {
   "cell_type": "code",
   "execution_count": 8,
   "metadata": {},
   "outputs": [
    {
     "data": {
      "text/html": [
       "<ol class=list-inline>\n",
       "\t<li>'1'</li>\n",
       "\t<li>'20'</li>\n",
       "\t<li>'24'</li>\n",
       "\t<li>'40'</li>\n",
       "\t<li>'사과'</li>\n",
       "\t<li>'바나나'</li>\n",
       "\t<li>'오렌지'</li>\n",
       "</ol>\n"
      ],
      "text/latex": [
       "\\begin{enumerate*}\n",
       "\\item '1'\n",
       "\\item '20'\n",
       "\\item '24'\n",
       "\\item '40'\n",
       "\\item '사과'\n",
       "\\item '바나나'\n",
       "\\item '오렌지'\n",
       "\\end{enumerate*}\n"
      ],
      "text/markdown": [
       "1. '1'\n",
       "2. '20'\n",
       "3. '24'\n",
       "4. '40'\n",
       "5. '사과'\n",
       "6. '바나나'\n",
       "7. '오렌지'\n",
       "\n",
       "\n"
      ],
      "text/plain": [
       "[1] \"1\"      \"20\"     \"24\"     \"40\"     \"사과\"   \"바나나\" \"오렌지\""
      ]
     },
     "metadata": {},
     "output_type": "display_data"
    }
   ],
   "source": [
    "xy <- c(x, y)\n",
    "xy # 숫자형 벡터와 문자형 벡터가 합쳐지면서 모두 문자형 벡터로 인식"
   ]
  },
  {
   "cell_type": "markdown",
   "metadata": {},
   "source": [
    "(1) 행렬"
   ]
  },
  {
   "cell_type": "markdown",
   "metadata": {},
   "source": [
    "- 행과 열을 갖는 m x n 형태의 직사각형 데이터를 나열한 데이터 구조\n",
    "- 명령어 : matrix\n",
    "- 첫번째 인수는 행렬에 들어가는 데이터들을 묶어 놓은 벡터가 할당\n",
    "- ```ncol``` 옵션 : 열(column)의 수를 정함\n",
    "- ```nrow``` 옵션 : 행(row)의 수를 정함\n",
    "- 열(column)을 먼저 입력하는 방식으로 진행\n",
    "- 행(row)을 먼저 체우려면, ```byrow=T``` 옵션을 사용"
   ]
  },
  {
   "cell_type": "code",
   "execution_count": 12,
   "metadata": {},
   "outputs": [
    {
     "data": {
      "text/html": [
       "<table>\n",
       "<tbody>\n",
       "\t<tr><td>1</td><td>4</td></tr>\n",
       "\t<tr><td>2</td><td>5</td></tr>\n",
       "\t<tr><td>3</td><td>6</td></tr>\n",
       "</tbody>\n",
       "</table>\n"
      ],
      "text/latex": [
       "\\begin{tabular}{ll}\n",
       "\t 1 & 4\\\\\n",
       "\t 2 & 5\\\\\n",
       "\t 3 & 6\\\\\n",
       "\\end{tabular}\n"
      ],
      "text/markdown": [
       "\n",
       "| 1 | 4 | \n",
       "| 2 | 5 | \n",
       "| 3 | 6 | \n",
       "\n",
       "\n"
      ],
      "text/plain": [
       "     [,1] [,2]\n",
       "[1,] 1    4   \n",
       "[2,] 2    5   \n",
       "[3,] 3    6   "
      ]
     },
     "metadata": {},
     "output_type": "display_data"
    }
   ],
   "source": [
    "mx = matrix(c(1,2,3,4,5,6), ncol = 2)\n",
    "mx"
   ]
  },
  {
   "cell_type": "markdown",
   "metadata": {},
   "source": [
    "- 명령어 ```rbind``` : 기존의 행렬에 row를 추가하는 명령어\n",
    "- 명령어 ```cbind``` : 기존의 행렬에 column 추가하는 명령어"
   ]
  },
  {
   "cell_type": "code",
   "execution_count": 13,
   "metadata": {},
   "outputs": [
    {
     "data": {
      "text/html": [
       "<table>\n",
       "<tbody>\n",
       "\t<tr><td>1</td><td>4</td></tr>\n",
       "\t<tr><td>2</td><td>5</td></tr>\n",
       "\t<tr><td>3</td><td>6</td></tr>\n",
       "</tbody>\n",
       "</table>\n"
      ],
      "text/latex": [
       "\\begin{tabular}{ll}\n",
       "\t 1 & 4\\\\\n",
       "\t 2 & 5\\\\\n",
       "\t 3 & 6\\\\\n",
       "\\end{tabular}\n"
      ],
      "text/markdown": [
       "\n",
       "| 1 | 4 | \n",
       "| 2 | 5 | \n",
       "| 3 | 6 | \n",
       "\n",
       "\n"
      ],
      "text/plain": [
       "     [,1] [,2]\n",
       "[1,] 1    4   \n",
       "[2,] 2    5   \n",
       "[3,] 3    6   "
      ]
     },
     "metadata": {},
     "output_type": "display_data"
    }
   ],
   "source": [
    "mx "
   ]
  },
  {
   "cell_type": "code",
   "execution_count": 14,
   "metadata": {},
   "outputs": [],
   "source": [
    "r1 = c(10,10)\n",
    "c1=c(20, 20, 20)"
   ]
  },
  {
   "cell_type": "code",
   "execution_count": 17,
   "metadata": {},
   "outputs": [
    {
     "data": {
      "text/html": [
       "<table>\n",
       "<tbody>\n",
       "\t<tr><th scope=row></th><td> 1</td><td> 4</td></tr>\n",
       "\t<tr><th scope=row></th><td> 2</td><td> 5</td></tr>\n",
       "\t<tr><th scope=row></th><td> 3</td><td> 6</td></tr>\n",
       "\t<tr><th scope=row>r1</th><td>10</td><td>10</td></tr>\n",
       "</tbody>\n",
       "</table>\n"
      ],
      "text/latex": [
       "\\begin{tabular}{r|ll}\n",
       "\t &  1 &  4\\\\\n",
       "\t &  2 &  5\\\\\n",
       "\t &  3 &  6\\\\\n",
       "\tr1 & 10 & 10\\\\\n",
       "\\end{tabular}\n"
      ],
      "text/markdown": [
       "\n",
       "|  |  1 |  4 | \n",
       "|  |  2 |  5 | \n",
       "|  |  3 |  6 | \n",
       "| r1 | 10 | 10 | \n",
       "\n",
       "\n"
      ],
      "text/plain": [
       "   [,1] [,2]\n",
       "    1    4  \n",
       "    2    5  \n",
       "    3    6  \n",
       "r1 10   10  "
      ]
     },
     "metadata": {},
     "output_type": "display_data"
    },
    {
     "data": {
      "text/html": [
       "<table>\n",
       "<thead><tr><th scope=col></th><th scope=col></th><th scope=col>c1</th></tr></thead>\n",
       "<tbody>\n",
       "\t<tr><td>1 </td><td>4 </td><td>20</td></tr>\n",
       "\t<tr><td>2 </td><td>5 </td><td>20</td></tr>\n",
       "\t<tr><td>3 </td><td>6 </td><td>20</td></tr>\n",
       "</tbody>\n",
       "</table>\n"
      ],
      "text/latex": [
       "\\begin{tabular}{lll}\n",
       "  &  & c1\\\\\n",
       "\\hline\n",
       "\t 1  & 4  & 20\\\\\n",
       "\t 2  & 5  & 20\\\\\n",
       "\t 3  & 6  & 20\\\\\n",
       "\\end{tabular}\n"
      ],
      "text/markdown": [
       "\n",
       " |  | c1 | \n",
       "|---|---|---|\n",
       "| 1  | 4  | 20 | \n",
       "| 2  | 5  | 20 | \n",
       "| 3  | 6  | 20 | \n",
       "\n",
       "\n"
      ],
      "text/plain": [
       "         c1\n",
       "[1,] 1 4 20\n",
       "[2,] 2 5 20\n",
       "[3,] 3 6 20"
      ]
     },
     "metadata": {},
     "output_type": "display_data"
    }
   ],
   "source": [
    "rbind(mx, r1)\n",
    "cbind(mx, c1)"
   ]
  },
  {
   "cell_type": "markdown",
   "metadata": {},
   "source": [
    "(3) 데이터 프레임"
   ]
  },
  {
   "cell_type": "markdown",
   "metadata": {},
   "source": [
    "- 행렬과 유사한 2차원 목록 데이터 구조\n",
    "- R에서 가장 많이 사용\n",
    "- 각 열이 서로 다른 데이터 타입을 가질수 있음\n",
    "- 명령어 : ```data.frame```\n",
    "- 여러 개의 벡터를 하나의 데이터 프레임으로 합쳐 입력 가능"
   ]
  },
  {
   "cell_type": "code",
   "execution_count": 18,
   "metadata": {},
   "outputs": [
    {
     "data": {
      "text/html": [
       "<table>\n",
       "<thead><tr><th scope=col>income</th><th scope=col>car</th><th scope=col>marriage</th></tr></thead>\n",
       "<tbody>\n",
       "\t<tr><td>100    </td><td>kia    </td><td>FALSE  </td></tr>\n",
       "\t<tr><td>200    </td><td>hyundai</td><td>FALSE  </td></tr>\n",
       "\t<tr><td>150    </td><td>kia    </td><td>FALSE  </td></tr>\n",
       "\t<tr><td>300    </td><td>toyota </td><td> TRUE  </td></tr>\n",
       "\t<tr><td>900    </td><td>lexus  </td><td> TRUE  </td></tr>\n",
       "</tbody>\n",
       "</table>\n"
      ],
      "text/latex": [
       "\\begin{tabular}{r|lll}\n",
       " income & car & marriage\\\\\n",
       "\\hline\n",
       "\t 100     & kia     & FALSE  \\\\\n",
       "\t 200     & hyundai & FALSE  \\\\\n",
       "\t 150     & kia     & FALSE  \\\\\n",
       "\t 300     & toyota  &  TRUE  \\\\\n",
       "\t 900     & lexus   &  TRUE  \\\\\n",
       "\\end{tabular}\n"
      ],
      "text/markdown": [
       "\n",
       "income | car | marriage | \n",
       "|---|---|---|---|---|\n",
       "| 100     | kia     | FALSE   | \n",
       "| 200     | hyundai | FALSE   | \n",
       "| 150     | kia     | FALSE   | \n",
       "| 300     | toyota  |  TRUE   | \n",
       "| 900     | lexus   |  TRUE   | \n",
       "\n",
       "\n"
      ],
      "text/plain": [
       "  income car     marriage\n",
       "1 100    kia     FALSE   \n",
       "2 200    hyundai FALSE   \n",
       "3 150    kia     FALSE   \n",
       "4 300    toyota   TRUE   \n",
       "5 900    lexus    TRUE   "
      ]
     },
     "metadata": {},
     "output_type": "display_data"
    }
   ],
   "source": [
    "income = c(100, 200, 150, 300, 900)\n",
    "car = c(\"kia\", \"hyundai\", \"kia\", \"toyota\", 'lexus')\n",
    "marriage = c(FALSE, FALSE, FALSE, TRUE, TRUE)\n",
    "mydat = data.frame(income, car, marriage)\n",
    "mydat"
   ]
  },
  {
   "cell_type": "markdown",
   "metadata": {},
   "source": [
    "2) 외부 데이터 불러오기"
   ]
  },
  {
   "cell_type": "markdown",
   "metadata": {},
   "source": [
    "(1) CSV 파일 불러오기"
   ]
  },
  {
   "cell_type": "markdown",
   "metadata": {},
   "source": [
    "- 명령어 : ```read.table```\n",
    "- 옵션 ```header = 'T'``` 첫줄을 변수명으로 지정\n",
    "- 옵션 ```sep=','``` 옵션을 통해 데이터가 쉽표로 구분된 데이터 파일임을 지정\n",
    "- 파일 경로는 ```￦￦``` 를 사용 (```￦``` 1개만 사용하지 않음)\n",
    "- ```￦￦``` 대신 ```/``` 를 사용해도 무관"
   ]
  },
  {
   "cell_type": "code",
   "execution_count": 28,
   "metadata": {},
   "outputs": [
    {
     "data": {
      "text/plain": [
       "R version 3.5.1 (2018-07-02)\n",
       "Platform: x86_64-apple-darwin13.4.0 (64-bit)\n",
       "Running under: macOS High Sierra 10.13.6\n",
       "\n",
       "Matrix products: default\n",
       "BLAS/LAPACK: /anaconda3/lib/R/lib/libRblas.dylib\n",
       "\n",
       "locale:\n",
       "[1] ko_KR.UTF-8/ko_KR.UTF-8/ko_KR.UTF-8/C/ko_KR.UTF-8/ko_KR.UTF-8\n",
       "\n",
       "attached base packages:\n",
       "[1] stats     graphics  grDevices utils     datasets  methods   base     \n",
       "\n",
       "loaded via a namespace (and not attached):\n",
       " [1] compiler_3.5.1  magrittr_1.5    IRdisplay_0.5.0 pbdZMQ_0.3-3   \n",
       " [5] tools_3.5.1     htmltools_0.3.6 base64enc_0.1-3 crayon_1.3.4   \n",
       " [9] Rcpp_0.12.18    uuid_0.1-2      stringi_1.2.4   IRkernel_0.8.12\n",
       "[13] jsonlite_1.5    stringr_1.3.1   digest_0.6.15   repr_0.15.0    \n",
       "[17] evaluate_0.11  "
      ]
     },
     "metadata": {},
     "output_type": "display_data"
    },
    {
     "data": {
      "text/html": [
       "'ko_KR.UTF-8/ko_KR.UTF-8/ko_KR.UTF-8/C/ko_KR.UTF-8/ko_KR.UTF-8'"
      ],
      "text/latex": [
       "'ko\\_KR.UTF-8/ko\\_KR.UTF-8/ko\\_KR.UTF-8/C/ko\\_KR.UTF-8/ko\\_KR.UTF-8'"
      ],
      "text/markdown": [
       "'ko_KR.UTF-8/ko_KR.UTF-8/ko_KR.UTF-8/C/ko_KR.UTF-8/ko_KR.UTF-8'"
      ],
      "text/plain": [
       "[1] \"ko_KR.UTF-8/ko_KR.UTF-8/ko_KR.UTF-8/C/ko_KR.UTF-8/ko_KR.UTF-8\""
      ]
     },
     "metadata": {},
     "output_type": "display_data"
    },
    {
     "data": {
      "text/html": [
       "'ko_KR.UTF-8'"
      ],
      "text/latex": [
       "'ko\\_KR.UTF-8'"
      ],
      "text/markdown": [
       "'ko_KR.UTF-8'"
      ],
      "text/plain": [
       "[1] \"ko_KR.UTF-8\""
      ]
     },
     "metadata": {},
     "output_type": "display_data"
    },
    {
     "data": {
      "text/html": [
       "'ko_KR.UTF-8'"
      ],
      "text/latex": [
       "'ko\\_KR.UTF-8'"
      ],
      "text/markdown": [
       "'ko_KR.UTF-8'"
      ],
      "text/plain": [
       "[1] \"ko_KR.UTF-8\""
      ]
     },
     "metadata": {},
     "output_type": "display_data"
    },
    {
     "data": {
      "text/html": [
       "'ko_KR.UTF-8'"
      ],
      "text/latex": [
       "'ko\\_KR.UTF-8'"
      ],
      "text/markdown": [
       "'ko_KR.UTF-8'"
      ],
      "text/plain": [
       "[1] \"ko_KR.UTF-8\""
      ]
     },
     "metadata": {},
     "output_type": "display_data"
    },
    {
     "data": {
      "text/html": [
       "'ko_KR.UTF-8'"
      ],
      "text/latex": [
       "'ko\\_KR.UTF-8'"
      ],
      "text/markdown": [
       "'ko_KR.UTF-8'"
      ],
      "text/plain": [
       "[1] \"ko_KR.UTF-8\""
      ]
     },
     "metadata": {},
     "output_type": "display_data"
    },
    {
     "data": {
      "text/html": [
       "'ko_KR.UTF-8'"
      ],
      "text/latex": [
       "'ko\\_KR.UTF-8'"
      ],
      "text/markdown": [
       "'ko_KR.UTF-8'"
      ],
      "text/plain": [
       "[1] \"ko_KR.UTF-8\""
      ]
     },
     "metadata": {},
     "output_type": "display_data"
    }
   ],
   "source": [
    "sessionInfo()\n",
    "Sys.getlocale()\n",
    "Sys.setlocale(\"LC_TIME\", \"ko_KR.UTF-8\")\n",
    "Sys.setlocale(\"LC_CTYPE\", \"ko_KR.UTF-8\")\n",
    "Sys.setlocale(\"LC_COLLATE\", \"ko_KR.UTF-8\")\n",
    "Sys.setlocale(\"LC_MONETARY\", \"ko_KR.UTF-8\")\n",
    "Sys.setlocale(\"LC_MESSAGES\", \"ko_KR.UTF-8\")"
   ]
  },
  {
   "cell_type": "code",
   "execution_count": 33,
   "metadata": {},
   "outputs": [
    {
     "data": {
      "text/html": [
       "<table>\n",
       "<thead><tr><th scope=col>uid</th><th scope=col>series_id</th><th scope=col>title</th></tr></thead>\n",
       "<tbody>\n",
       "\t<tr><td>1          </td><td>123        </td><td>달빛조각사 </td></tr>\n",
       "\t<tr><td>2          </td><td>124        </td><td>열혈강호   </td></tr>\n",
       "\t<tr><td>3          </td><td>125        </td><td>닥터 최태수</td></tr>\n",
       "</tbody>\n",
       "</table>\n"
      ],
      "text/latex": [
       "\\begin{tabular}{r|lll}\n",
       " uid & series\\_id & title\\\\\n",
       "\\hline\n",
       "\t 1           & 123         & 달빛조각사 \\\\\n",
       "\t 2           & 124         & 열혈강호   \\\\\n",
       "\t 3           & 125         & 닥터 최태수\\\\\n",
       "\\end{tabular}\n"
      ],
      "text/markdown": [
       "\n",
       "uid | series_id | title | \n",
       "|---|---|---|\n",
       "| 1           | 123         | 달빛조각사  | \n",
       "| 2           | 124         | 열혈강호    | \n",
       "| 3           | 125         | 닥터 최태수 | \n",
       "\n",
       "\n"
      ],
      "text/plain": [
       "  uid series_id title      \n",
       "1 1   123       달빛조각사 \n",
       "2 2   124       열혈강호   \n",
       "3 3   125       닥터 최태수"
      ]
     },
     "metadata": {},
     "output_type": "display_data"
    }
   ],
   "source": [
    "data1 <- read.table(\"/Users/chosikc/Sites/ADP_ADsP/r_test.csv\",  header=T, sep=\",\")\n",
    "data1"
   ]
  },
  {
   "cell_type": "markdown",
   "metadata": {},
   "source": [
    "- ```read.table``` 대신 ```read.csv```를 사용해도 되며, ```sep=\",\"``` 는 사용하지 않아도 됨"
   ]
  },
  {
   "cell_type": "markdown",
   "metadata": {},
   "source": [
    "(2) txt 파일 불러오기"
   ]
  },
  {
   "cell_type": "code",
   "execution_count": 40,
   "metadata": {
    "scrolled": true
   },
   "outputs": [
    {
     "data": {
      "text/html": [
       "<table>\n",
       "<thead><tr><th scope=col>uid</th><th scope=col>series_id</th><th scope=col>title</th></tr></thead>\n",
       "<tbody>\n",
       "\t<tr><td>1          </td><td>123        </td><td>달빛조각사 </td></tr>\n",
       "\t<tr><td>2          </td><td>124        </td><td>열혈강호   </td></tr>\n",
       "\t<tr><td>3          </td><td>125        </td><td>닥터 최태수</td></tr>\n",
       "</tbody>\n",
       "</table>\n"
      ],
      "text/latex": [
       "\\begin{tabular}{r|lll}\n",
       " uid & series\\_id & title\\\\\n",
       "\\hline\n",
       "\t 1           & 123         & 달빛조각사 \\\\\n",
       "\t 2           & 124         & 열혈강호   \\\\\n",
       "\t 3           & 125         & 닥터 최태수\\\\\n",
       "\\end{tabular}\n"
      ],
      "text/markdown": [
       "\n",
       "uid | series_id | title | \n",
       "|---|---|---|\n",
       "| 1           | 123         | 달빛조각사  | \n",
       "| 2           | 124         | 열혈강호    | \n",
       "| 3           | 125         | 닥터 최태수 | \n",
       "\n",
       "\n"
      ],
      "text/plain": [
       "  uid series_id title      \n",
       "1 1   123       달빛조각사 \n",
       "2 2   124       열혈강호   \n",
       "3 3   125       닥터 최태수"
      ]
     },
     "metadata": {},
     "output_type": "display_data"
    }
   ],
   "source": [
    "data2 <- read.table(\"/Users/chosikc/Sites/ADP_ADsP/r_test.txt\",  header=T, sep=\",\")\n",
    "data2"
   ]
  },
  {
   "cell_type": "markdown",
   "metadata": {},
   "source": [
    "(3) 엑셀 파일 (xls/xlsx) 불러오기"
   ]
  },
  {
   "cell_type": "code",
   "execution_count": 74,
   "metadata": {},
   "outputs": [
    {
     "ename": "ERROR",
     "evalue": "Error in odbcConnectExcel(\"/Users/chosikc/Sites/ADP_ADsP/r_test.xlsx\"): 함수 \"odbcConnectExcel\"를 찾을 수 없습니다\n",
     "output_type": "error",
     "traceback": [
      "Error in odbcConnectExcel(\"/Users/chosikc/Sites/ADP_ADsP/r_test.xlsx\"): 함수 \"odbcConnectExcel\"를 찾을 수 없습니다\nTraceback:\n"
     ]
    }
   ],
   "source": [
    "library(RODBC) \n",
    "new <- odbcConnectExcel(\"/Users/chosikc/Sites/ADP_ADsP/r_test.xlsx\")       # 엑셀파일의 경로입력\n",
    "yourdata <- sqlFetch(new, \"S\")                            # 엑셀파일의 워크시트(sheet) 이름 입력\n",
    "close(new)                                                                # 불러온 뒤에는 닫아야 한다. 안닫으면 이후에 엑셀파일이 안열림.\n",
    "yourdata      "
   ]
  },
  {
   "cell_type": "markdown",
   "metadata": {},
   "source": [
    "* 위 예제는 동작하지 않음. "
   ]
  },
  {
   "cell_type": "markdown",
   "metadata": {},
   "source": [
    "3) R의 기초 함수"
   ]
  },
  {
   "cell_type": "markdown",
   "metadata": {},
   "source": [
    "(1) 수열 생성하기"
   ]
  },
  {
   "cell_type": "markdown",
   "metadata": {},
   "source": [
    "- 함수 ```rep``` :  첫 번째 인수를 두 번째만큼 반복"
   ]
  },
  {
   "cell_type": "code",
   "execution_count": 75,
   "metadata": {},
   "outputs": [
    {
     "data": {
      "text/html": [
       "<ol class=list-inline>\n",
       "\t<li>1</li>\n",
       "\t<li>1</li>\n",
       "\t<li>1</li>\n",
       "</ol>\n"
      ],
      "text/latex": [
       "\\begin{enumerate*}\n",
       "\\item 1\n",
       "\\item 1\n",
       "\\item 1\n",
       "\\end{enumerate*}\n"
      ],
      "text/markdown": [
       "1. 1\n",
       "2. 1\n",
       "3. 1\n",
       "\n",
       "\n"
      ],
      "text/plain": [
       "[1] 1 1 1"
      ]
     },
     "metadata": {},
     "output_type": "display_data"
    }
   ],
   "source": [
    "rep(1,3)"
   ]
  },
  {
   "cell_type": "markdown",
   "metadata": {},
   "source": [
    "- 함수 ```seq```: 첫 인수부터 두 번째 인수까지 1씩 증가"
   ]
  },
  {
   "cell_type": "code",
   "execution_count": 82,
   "metadata": {},
   "outputs": [
    {
     "data": {
      "text/html": [
       "<ol class=list-inline>\n",
       "\t<li>1</li>\n",
       "\t<li>2</li>\n",
       "\t<li>3</li>\n",
       "</ol>\n"
      ],
      "text/latex": [
       "\\begin{enumerate*}\n",
       "\\item 1\n",
       "\\item 2\n",
       "\\item 3\n",
       "\\end{enumerate*}\n"
      ],
      "text/markdown": [
       "1. 1\n",
       "2. 2\n",
       "3. 3\n",
       "\n",
       "\n"
      ],
      "text/plain": [
       "[1] 1 2 3"
      ]
     },
     "metadata": {},
     "output_type": "display_data"
    },
    {
     "data": {
      "text/html": [
       "<ol class=list-inline>\n",
       "\t<li>1</li>\n",
       "\t<li>2</li>\n",
       "\t<li>3</li>\n",
       "</ol>\n"
      ],
      "text/latex": [
       "\\begin{enumerate*}\n",
       "\\item 1\n",
       "\\item 2\n",
       "\\item 3\n",
       "\\end{enumerate*}\n"
      ],
      "text/markdown": [
       "1. 1\n",
       "2. 2\n",
       "3. 3\n",
       "\n",
       "\n"
      ],
      "text/plain": [
       "[1] 1 2 3"
      ]
     },
     "metadata": {},
     "output_type": "display_data"
    }
   ],
   "source": [
    "seq (1,3)\n",
    "1:3"
   ]
  },
  {
   "cell_type": "markdown",
   "metadata": {},
   "source": [
    "- ```seq``` 는 ```n:m``` 으로도 대체 가능"
   ]
  },
  {
   "cell_type": "code",
   "execution_count": 78,
   "metadata": {},
   "outputs": [
    {
     "data": {
      "text/html": [
       "<ol class=list-inline>\n",
       "\t<li>1</li>\n",
       "\t<li>3</li>\n",
       "\t<li>5</li>\n",
       "\t<li>7</li>\n",
       "\t<li>9</li>\n",
       "\t<li>11</li>\n",
       "</ol>\n"
      ],
      "text/latex": [
       "\\begin{enumerate*}\n",
       "\\item 1\n",
       "\\item 3\n",
       "\\item 5\n",
       "\\item 7\n",
       "\\item 9\n",
       "\\item 11\n",
       "\\end{enumerate*}\n"
      ],
      "text/markdown": [
       "1. 1\n",
       "2. 3\n",
       "3. 5\n",
       "4. 7\n",
       "5. 9\n",
       "6. 11\n",
       "\n",
       "\n"
      ],
      "text/plain": [
       "[1]  1  3  5  7  9 11"
      ]
     },
     "metadata": {},
     "output_type": "display_data"
    }
   ],
   "source": [
    "seq (1, 11, by = 2)"
   ]
  },
  {
   "cell_type": "code",
   "execution_count": 81,
   "metadata": {},
   "outputs": [
    {
     "data": {
      "text/html": [
       "<ol class=list-inline>\n",
       "\t<li>1</li>\n",
       "\t<li>3</li>\n",
       "\t<li>5</li>\n",
       "\t<li>7</li>\n",
       "\t<li>9</li>\n",
       "\t<li>11</li>\n",
       "</ol>\n"
      ],
      "text/latex": [
       "\\begin{enumerate*}\n",
       "\\item 1\n",
       "\\item 3\n",
       "\\item 5\n",
       "\\item 7\n",
       "\\item 9\n",
       "\\item 11\n",
       "\\end{enumerate*}\n"
      ],
      "text/markdown": [
       "1. 1\n",
       "2. 3\n",
       "3. 5\n",
       "4. 7\n",
       "5. 9\n",
       "6. 11\n",
       "\n",
       "\n"
      ],
      "text/plain": [
       "[1]  1  3  5  7  9 11"
      ]
     },
     "metadata": {},
     "output_type": "display_data"
    },
    {
     "data": {
      "text/html": [
       "<ol class=list-inline>\n",
       "\t<li>1</li>\n",
       "\t<li>2.42857142857143</li>\n",
       "\t<li>3.85714285714286</li>\n",
       "\t<li>5.28571428571429</li>\n",
       "\t<li>6.71428571428571</li>\n",
       "\t<li>8.14285714285714</li>\n",
       "\t<li>9.57142857142857</li>\n",
       "\t<li>11</li>\n",
       "</ol>\n"
      ],
      "text/latex": [
       "\\begin{enumerate*}\n",
       "\\item 1\n",
       "\\item 2.42857142857143\n",
       "\\item 3.85714285714286\n",
       "\\item 5.28571428571429\n",
       "\\item 6.71428571428571\n",
       "\\item 8.14285714285714\n",
       "\\item 9.57142857142857\n",
       "\\item 11\n",
       "\\end{enumerate*}\n"
      ],
      "text/markdown": [
       "1. 1\n",
       "2. 2.42857142857143\n",
       "3. 3.85714285714286\n",
       "4. 5.28571428571429\n",
       "5. 6.71428571428571\n",
       "6. 8.14285714285714\n",
       "7. 9.57142857142857\n",
       "8. 11\n",
       "\n",
       "\n"
      ],
      "text/plain": [
       "[1]  1.000000  2.428571  3.857143  5.285714  6.714286  8.142857  9.571429\n",
       "[8] 11.000000"
      ]
     },
     "metadata": {},
     "output_type": "display_data"
    }
   ],
   "source": [
    "seq(1, 11, length = 6)\n",
    "seq(1, 11, length = 8)"
   ]
  },
  {
   "cell_type": "code",
   "execution_count": 84,
   "metadata": {},
   "outputs": [
    {
     "data": {
      "text/html": [
       "<ol class=list-inline>\n",
       "\t<li>2</li>\n",
       "\t<li>3</li>\n",
       "\t<li>4</li>\n",
       "\t<li>5</li>\n",
       "\t<li>2</li>\n",
       "\t<li>3</li>\n",
       "\t<li>4</li>\n",
       "\t<li>5</li>\n",
       "\t<li>2</li>\n",
       "\t<li>3</li>\n",
       "\t<li>4</li>\n",
       "\t<li>5</li>\n",
       "</ol>\n"
      ],
      "text/latex": [
       "\\begin{enumerate*}\n",
       "\\item 2\n",
       "\\item 3\n",
       "\\item 4\n",
       "\\item 5\n",
       "\\item 2\n",
       "\\item 3\n",
       "\\item 4\n",
       "\\item 5\n",
       "\\item 2\n",
       "\\item 3\n",
       "\\item 4\n",
       "\\item 5\n",
       "\\end{enumerate*}\n"
      ],
      "text/markdown": [
       "1. 2\n",
       "2. 3\n",
       "3. 4\n",
       "4. 5\n",
       "5. 2\n",
       "6. 3\n",
       "7. 4\n",
       "8. 5\n",
       "9. 2\n",
       "10. 3\n",
       "11. 4\n",
       "12. 5\n",
       "\n",
       "\n"
      ],
      "text/plain": [
       " [1] 2 3 4 5 2 3 4 5 2 3 4 5"
      ]
     },
     "metadata": {},
     "output_type": "display_data"
    }
   ],
   "source": [
    "rep(2:5, 3)"
   ]
  },
  {
   "cell_type": "markdown",
   "metadata": {},
   "source": [
    "(2) 기초적인 수치 계산"
   ]
  },
  {
   "cell_type": "code",
   "execution_count": 93,
   "metadata": {},
   "outputs": [
    {
     "data": {
      "text/html": [
       "<ol class=list-inline>\n",
       "\t<li>1</li>\n",
       "\t<li>2</li>\n",
       "\t<li>3</li>\n",
       "\t<li>4</li>\n",
       "\t<li>5</li>\n",
       "\t<li>6</li>\n",
       "\t<li>7</li>\n",
       "\t<li>8</li>\n",
       "\t<li>9</li>\n",
       "\t<li>10</li>\n",
       "</ol>\n"
      ],
      "text/latex": [
       "\\begin{enumerate*}\n",
       "\\item 1\n",
       "\\item 2\n",
       "\\item 3\n",
       "\\item 4\n",
       "\\item 5\n",
       "\\item 6\n",
       "\\item 7\n",
       "\\item 8\n",
       "\\item 9\n",
       "\\item 10\n",
       "\\end{enumerate*}\n"
      ],
      "text/markdown": [
       "1. 1\n",
       "2. 2\n",
       "3. 3\n",
       "4. 4\n",
       "5. 5\n",
       "6. 6\n",
       "7. 7\n",
       "8. 8\n",
       "9. 9\n",
       "10. 10\n",
       "\n",
       "\n"
      ],
      "text/plain": [
       " [1]  1  2  3  4  5  6  7  8  9 10"
      ]
     },
     "metadata": {},
     "output_type": "display_data"
    }
   ],
   "source": [
    "a = 1:10\n",
    "a"
   ]
  },
  {
   "cell_type": "code",
   "execution_count": 94,
   "metadata": {},
   "outputs": [
    {
     "data": {
      "text/html": [
       "<ol class=list-inline>\n",
       "\t<li>2</li>\n",
       "\t<li>4</li>\n",
       "\t<li>6</li>\n",
       "\t<li>8</li>\n",
       "\t<li>10</li>\n",
       "\t<li>12</li>\n",
       "\t<li>14</li>\n",
       "\t<li>16</li>\n",
       "\t<li>18</li>\n",
       "\t<li>20</li>\n",
       "</ol>\n"
      ],
      "text/latex": [
       "\\begin{enumerate*}\n",
       "\\item 2\n",
       "\\item 4\n",
       "\\item 6\n",
       "\\item 8\n",
       "\\item 10\n",
       "\\item 12\n",
       "\\item 14\n",
       "\\item 16\n",
       "\\item 18\n",
       "\\item 20\n",
       "\\end{enumerate*}\n"
      ],
      "text/markdown": [
       "1. 2\n",
       "2. 4\n",
       "3. 6\n",
       "4. 8\n",
       "5. 10\n",
       "6. 12\n",
       "7. 14\n",
       "8. 16\n",
       "9. 18\n",
       "10. 20\n",
       "\n",
       "\n"
      ],
      "text/plain": [
       " [1]  2  4  6  8 10 12 14 16 18 20"
      ]
     },
     "metadata": {},
     "output_type": "display_data"
    }
   ],
   "source": [
    "a+a"
   ]
  },
  {
   "cell_type": "code",
   "execution_count": 95,
   "metadata": {},
   "outputs": [
    {
     "data": {
      "text/html": [
       "<ol class=list-inline>\n",
       "\t<li>0</li>\n",
       "\t<li>0</li>\n",
       "\t<li>0</li>\n",
       "\t<li>0</li>\n",
       "\t<li>0</li>\n",
       "\t<li>0</li>\n",
       "\t<li>0</li>\n",
       "\t<li>0</li>\n",
       "\t<li>0</li>\n",
       "\t<li>0</li>\n",
       "</ol>\n"
      ],
      "text/latex": [
       "\\begin{enumerate*}\n",
       "\\item 0\n",
       "\\item 0\n",
       "\\item 0\n",
       "\\item 0\n",
       "\\item 0\n",
       "\\item 0\n",
       "\\item 0\n",
       "\\item 0\n",
       "\\item 0\n",
       "\\item 0\n",
       "\\end{enumerate*}\n"
      ],
      "text/markdown": [
       "1. 0\n",
       "2. 0\n",
       "3. 0\n",
       "4. 0\n",
       "5. 0\n",
       "6. 0\n",
       "7. 0\n",
       "8. 0\n",
       "9. 0\n",
       "10. 0\n",
       "\n",
       "\n"
      ],
      "text/plain": [
       " [1] 0 0 0 0 0 0 0 0 0 0"
      ]
     },
     "metadata": {},
     "output_type": "display_data"
    }
   ],
   "source": [
    "a-a"
   ]
  },
  {
   "cell_type": "code",
   "execution_count": 96,
   "metadata": {},
   "outputs": [
    {
     "data": {
      "text/html": [
       "<ol class=list-inline>\n",
       "\t<li>1</li>\n",
       "\t<li>1</li>\n",
       "\t<li>1</li>\n",
       "\t<li>1</li>\n",
       "\t<li>1</li>\n",
       "\t<li>1</li>\n",
       "\t<li>1</li>\n",
       "\t<li>1</li>\n",
       "\t<li>1</li>\n",
       "\t<li>1</li>\n",
       "</ol>\n"
      ],
      "text/latex": [
       "\\begin{enumerate*}\n",
       "\\item 1\n",
       "\\item 1\n",
       "\\item 1\n",
       "\\item 1\n",
       "\\item 1\n",
       "\\item 1\n",
       "\\item 1\n",
       "\\item 1\n",
       "\\item 1\n",
       "\\item 1\n",
       "\\end{enumerate*}\n"
      ],
      "text/markdown": [
       "1. 1\n",
       "2. 1\n",
       "3. 1\n",
       "4. 1\n",
       "5. 1\n",
       "6. 1\n",
       "7. 1\n",
       "8. 1\n",
       "9. 1\n",
       "10. 1\n",
       "\n",
       "\n"
      ],
      "text/plain": [
       " [1] 1 1 1 1 1 1 1 1 1 1"
      ]
     },
     "metadata": {},
     "output_type": "display_data"
    }
   ],
   "source": [
    "a/a"
   ]
  },
  {
   "cell_type": "code",
   "execution_count": 97,
   "metadata": {},
   "outputs": [
    {
     "data": {
      "text/html": [
       "<ol class=list-inline>\n",
       "\t<li>2</li>\n",
       "\t<li>7</li>\n",
       "\t<li>3</li>\n",
       "</ol>\n"
      ],
      "text/latex": [
       "\\begin{enumerate*}\n",
       "\\item 2\n",
       "\\item 7\n",
       "\\item 3\n",
       "\\end{enumerate*}\n"
      ],
      "text/markdown": [
       "1. 2\n",
       "2. 7\n",
       "3. 3\n",
       "\n",
       "\n"
      ],
      "text/plain": [
       "[1] 2 7 3"
      ]
     },
     "metadata": {},
     "output_type": "display_data"
    }
   ],
   "source": [
    "a = c(2,7,3)\n",
    "a"
   ]
  },
  {
   "cell_type": "code",
   "execution_count": 98,
   "metadata": {},
   "outputs": [
    {
     "data": {
      "text/html": [
       "<table>\n",
       "<tbody>\n",
       "\t<tr><td>2</td><td>7</td><td>3</td></tr>\n",
       "</tbody>\n",
       "</table>\n"
      ],
      "text/latex": [
       "\\begin{tabular}{lll}\n",
       "\t 2 & 7 & 3\\\\\n",
       "\\end{tabular}\n"
      ],
      "text/markdown": [
       "\n",
       "| 2 | 7 | 3 | \n",
       "\n",
       "\n"
      ],
      "text/plain": [
       "     [,1] [,2] [,3]\n",
       "[1,] 2    7    3   "
      ]
     },
     "metadata": {},
     "output_type": "display_data"
    }
   ],
   "source": [
    "t(a)"
   ]
  },
  {
   "cell_type": "markdown",
   "metadata": {},
   "source": [
    "- ```t``` 명령어를 통해 행렬의 전치 행렬(transpose matrix)를 구할 수 있음"
   ]
  },
  {
   "cell_type": "code",
   "execution_count": 99,
   "metadata": {},
   "outputs": [
    {
     "data": {
      "text/html": [
       "<table>\n",
       "<tbody>\n",
       "\t<tr><td> 4</td><td>14</td><td> 6</td></tr>\n",
       "\t<tr><td>14</td><td>49</td><td>21</td></tr>\n",
       "\t<tr><td> 6</td><td>21</td><td> 9</td></tr>\n",
       "</tbody>\n",
       "</table>\n"
      ],
      "text/latex": [
       "\\begin{tabular}{lll}\n",
       "\t  4 & 14 &  6\\\\\n",
       "\t 14 & 49 & 21\\\\\n",
       "\t  6 & 21 &  9\\\\\n",
       "\\end{tabular}\n"
      ],
      "text/markdown": [
       "\n",
       "|  4 | 14 |  6 | \n",
       "| 14 | 49 | 21 | \n",
       "|  6 | 21 |  9 | \n",
       "\n",
       "\n"
      ],
      "text/plain": [
       "     [,1] [,2] [,3]\n",
       "[1,]  4   14    6  \n",
       "[2,] 14   49   21  \n",
       "[3,]  6   21    9  "
      ]
     },
     "metadata": {},
     "output_type": "display_data"
    }
   ],
   "source": [
    "A =a%*%t(a)\n",
    "A"
   ]
  },
  {
   "cell_type": "code",
   "execution_count": 100,
   "metadata": {},
   "outputs": [
    {
     "data": {
      "text/html": [
       "<table>\n",
       "<tbody>\n",
       "\t<tr><td>23</td><td>35</td><td>24</td></tr>\n",
       "\t<tr><td>41</td><td>67</td><td> 7</td></tr>\n",
       "\t<tr><td>12</td><td> 1</td><td>53</td></tr>\n",
       "</tbody>\n",
       "</table>\n"
      ],
      "text/latex": [
       "\\begin{tabular}{lll}\n",
       "\t 23 & 35 & 24\\\\\n",
       "\t 41 & 67 &  7\\\\\n",
       "\t 12 &  1 & 53\\\\\n",
       "\\end{tabular}\n"
      ],
      "text/markdown": [
       "\n",
       "| 23 | 35 | 24 | \n",
       "| 41 | 67 |  7 | \n",
       "| 12 |  1 | 53 | \n",
       "\n",
       "\n"
      ],
      "text/plain": [
       "     [,1] [,2] [,3]\n",
       "[1,] 23   35   24  \n",
       "[2,] 41   67    7  \n",
       "[3,] 12    1   53  "
      ]
     },
     "metadata": {},
     "output_type": "display_data"
    }
   ],
   "source": [
    "mx = matrix(c(23,41,12,35,67,1,24,7,53), nrow = 3)\n",
    "mx"
   ]
  },
  {
   "cell_type": "code",
   "execution_count": 101,
   "metadata": {},
   "outputs": [
    {
     "data": {
      "text/html": [
       "<table>\n",
       "<tbody>\n",
       "\t<tr><td>115</td><td>175</td><td>120</td></tr>\n",
       "\t<tr><td>205</td><td>335</td><td> 35</td></tr>\n",
       "\t<tr><td> 60</td><td>  5</td><td>265</td></tr>\n",
       "</tbody>\n",
       "</table>\n"
      ],
      "text/latex": [
       "\\begin{tabular}{lll}\n",
       "\t 115 & 175 & 120\\\\\n",
       "\t 205 & 335 &  35\\\\\n",
       "\t  60 &   5 & 265\\\\\n",
       "\\end{tabular}\n"
      ],
      "text/markdown": [
       "\n",
       "| 115 | 175 | 120 | \n",
       "| 205 | 335 |  35 | \n",
       "|  60 |   5 | 265 | \n",
       "\n",
       "\n"
      ],
      "text/plain": [
       "     [,1] [,2] [,3]\n",
       "[1,] 115  175  120 \n",
       "[2,] 205  335   35 \n",
       "[3,]  60    5  265 "
      ]
     },
     "metadata": {},
     "output_type": "display_data"
    }
   ],
   "source": [
    "5*mx"
   ]
  },
  {
   "cell_type": "code",
   "execution_count": 102,
   "metadata": {},
   "outputs": [
    {
     "data": {
      "text/html": [
       "<table>\n",
       "<tbody>\n",
       "\t<tr><td>-0.35743822</td><td> 0.18466969</td><td> 0.13746848</td></tr>\n",
       "\t<tr><td> 0.21069087</td><td>-0.09389813</td><td>-0.08300555</td></tr>\n",
       "\t<tr><td> 0.07695411</td><td>-0.04004034</td><td>-0.01069087</td></tr>\n",
       "</tbody>\n",
       "</table>\n"
      ],
      "text/latex": [
       "\\begin{tabular}{lll}\n",
       "\t -0.35743822 &  0.18466969 &  0.13746848\\\\\n",
       "\t  0.21069087 & -0.09389813 & -0.08300555\\\\\n",
       "\t  0.07695411 & -0.04004034 & -0.01069087\\\\\n",
       "\\end{tabular}\n"
      ],
      "text/markdown": [
       "\n",
       "| -0.35743822 |  0.18466969 |  0.13746848 | \n",
       "|  0.21069087 | -0.09389813 | -0.08300555 | \n",
       "|  0.07695411 | -0.04004034 | -0.01069087 | \n",
       "\n",
       "\n"
      ],
      "text/plain": [
       "     [,1]        [,2]        [,3]       \n",
       "[1,] -0.35743822  0.18466969  0.13746848\n",
       "[2,]  0.21069087 -0.09389813 -0.08300555\n",
       "[3,]  0.07695411 -0.04004034 -0.01069087"
      ]
     },
     "metadata": {},
     "output_type": "display_data"
    }
   ],
   "source": [
    "solve(mx)"
   ]
  },
  {
   "cell_type": "markdown",
   "metadata": {},
   "source": [
    "-  ```solve``` 명령어를 통해 행렬의 역행렬(inverse matrix)를 계산할 수 있음"
   ]
  },
  {
   "cell_type": "code",
   "execution_count": 103,
   "metadata": {},
   "outputs": [
    {
     "data": {
      "text/html": [
       "<ol class=list-inline>\n",
       "\t<li>1</li>\n",
       "\t<li>2</li>\n",
       "\t<li>3</li>\n",
       "\t<li>4</li>\n",
       "\t<li>5</li>\n",
       "\t<li>6</li>\n",
       "\t<li>7</li>\n",
       "\t<li>8</li>\n",
       "\t<li>9</li>\n",
       "\t<li>10</li>\n",
       "</ol>\n"
      ],
      "text/latex": [
       "\\begin{enumerate*}\n",
       "\\item 1\n",
       "\\item 2\n",
       "\\item 3\n",
       "\\item 4\n",
       "\\item 5\n",
       "\\item 6\n",
       "\\item 7\n",
       "\\item 8\n",
       "\\item 9\n",
       "\\item 10\n",
       "\\end{enumerate*}\n"
      ],
      "text/markdown": [
       "1. 1\n",
       "2. 2\n",
       "3. 3\n",
       "4. 4\n",
       "5. 5\n",
       "6. 6\n",
       "7. 7\n",
       "8. 8\n",
       "9. 9\n",
       "10. 10\n",
       "\n",
       "\n"
      ],
      "text/plain": [
       " [1]  1  2  3  4  5  6  7  8  9 10"
      ]
     },
     "metadata": {},
     "output_type": "display_data"
    }
   ],
   "source": [
    "a = 1:10\n",
    "a\n"
   ]
  },
  {
   "cell_type": "code",
   "execution_count": 104,
   "metadata": {},
   "outputs": [
    {
     "data": {
      "text/html": [
       "5.5"
      ],
      "text/latex": [
       "5.5"
      ],
      "text/markdown": [
       "5.5"
      ],
      "text/plain": [
       "[1] 5.5"
      ]
     },
     "metadata": {},
     "output_type": "display_data"
    },
    {
     "data": {
      "text/html": [
       "9.16666666666667"
      ],
      "text/latex": [
       "9.16666666666667"
      ],
      "text/markdown": [
       "9.16666666666667"
      ],
      "text/plain": [
       "[1] 9.166667"
      ]
     },
     "metadata": {},
     "output_type": "display_data"
    },
    {
     "data": {
      "text/html": [
       "3.02765035409749"
      ],
      "text/latex": [
       "3.02765035409749"
      ],
      "text/markdown": [
       "3.02765035409749"
      ],
      "text/plain": [
       "[1] 3.02765"
      ]
     },
     "metadata": {},
     "output_type": "display_data"
    }
   ],
   "source": [
    "mean(a)\n",
    "var(a)\n",
    "sd(a)"
   ]
  },
  {
   "cell_type": "code",
   "execution_count": 105,
   "metadata": {},
   "outputs": [
    {
     "data": {
      "text/html": [
       "55"
      ],
      "text/latex": [
       "55"
      ],
      "text/markdown": [
       "55"
      ],
      "text/plain": [
       "[1] 55"
      ]
     },
     "metadata": {},
     "output_type": "display_data"
    },
    {
     "data": {
      "text/html": [
       "5.5"
      ],
      "text/latex": [
       "5.5"
      ],
      "text/markdown": [
       "5.5"
      ],
      "text/plain": [
       "[1] 5.5"
      ]
     },
     "metadata": {},
     "output_type": "display_data"
    },
    {
     "data": {
      "text/html": [
       "<ol class=list-inline>\n",
       "\t<li>0</li>\n",
       "\t<li>0.693147180559945</li>\n",
       "\t<li>1.09861228866811</li>\n",
       "\t<li>1.38629436111989</li>\n",
       "\t<li>1.6094379124341</li>\n",
       "\t<li>1.79175946922805</li>\n",
       "\t<li>1.94591014905531</li>\n",
       "\t<li>2.07944154167984</li>\n",
       "\t<li>2.19722457733622</li>\n",
       "\t<li>2.30258509299405</li>\n",
       "</ol>\n"
      ],
      "text/latex": [
       "\\begin{enumerate*}\n",
       "\\item 0\n",
       "\\item 0.693147180559945\n",
       "\\item 1.09861228866811\n",
       "\\item 1.38629436111989\n",
       "\\item 1.6094379124341\n",
       "\\item 1.79175946922805\n",
       "\\item 1.94591014905531\n",
       "\\item 2.07944154167984\n",
       "\\item 2.19722457733622\n",
       "\\item 2.30258509299405\n",
       "\\end{enumerate*}\n"
      ],
      "text/markdown": [
       "1. 0\n",
       "2. 0.693147180559945\n",
       "3. 1.09861228866811\n",
       "4. 1.38629436111989\n",
       "5. 1.6094379124341\n",
       "6. 1.79175946922805\n",
       "7. 1.94591014905531\n",
       "8. 2.07944154167984\n",
       "9. 2.19722457733622\n",
       "10. 2.30258509299405\n",
       "\n",
       "\n"
      ],
      "text/plain": [
       " [1] 0.0000000 0.6931472 1.0986123 1.3862944 1.6094379 1.7917595 1.9459101\n",
       " [8] 2.0794415 2.1972246 2.3025851"
      ]
     },
     "metadata": {},
     "output_type": "display_data"
    }
   ],
   "source": [
    "sum(a)\n",
    "median(a)\n",
    "log(a)"
   ]
  },
  {
   "cell_type": "code",
   "execution_count": 106,
   "metadata": {},
   "outputs": [
    {
     "data": {
      "text/html": [
       "2.11206237777995"
      ],
      "text/latex": [
       "2.11206237777995"
      ],
      "text/markdown": [
       "2.11206237777995"
      ],
      "text/plain": [
       "[1] 2.112062"
      ]
     },
     "metadata": {},
     "output_type": "display_data"
    },
    {
     "data": {
      "text/html": [
       "0.951662390427133"
      ],
      "text/latex": [
       "0.951662390427133"
      ],
      "text/markdown": [
       "0.951662390427133"
      ],
      "text/plain": [
       "[1] 0.9516624"
      ]
     },
     "metadata": {},
     "output_type": "display_data"
    }
   ],
   "source": [
    "b=log(a)\n",
    "cov(a,b)\n",
    "cor(a,b)"
   ]
  },
  {
   "cell_type": "code",
   "execution_count": 107,
   "metadata": {},
   "outputs": [
    {
     "data": {
      "text/plain": [
       "   Min. 1st Qu.  Median    Mean 3rd Qu.    Max. \n",
       "   1.00    3.25    5.50    5.50    7.75   10.00 "
      ]
     },
     "metadata": {},
     "output_type": "display_data"
    }
   ],
   "source": [
    "summary(a)"
   ]
  },
  {
   "cell_type": "markdown",
   "metadata": {},
   "source": [
    "4) R 데이터 핸들링"
   ]
  },
  {
   "cell_type": "markdown",
   "metadata": {},
   "source": [
    "(1) 벡터형 변수"
   ]
  },
  {
   "cell_type": "code",
   "execution_count": 108,
   "metadata": {},
   "outputs": [
    {
     "data": {
      "text/html": [
       "<ol class=list-inline>\n",
       "\t<li>'a'</li>\n",
       "\t<li>'b'</li>\n",
       "\t<li>'c'</li>\n",
       "\t<li>'d'</li>\n",
       "\t<li>'e'</li>\n",
       "</ol>\n"
      ],
      "text/latex": [
       "\\begin{enumerate*}\n",
       "\\item 'a'\n",
       "\\item 'b'\n",
       "\\item 'c'\n",
       "\\item 'd'\n",
       "\\item 'e'\n",
       "\\end{enumerate*}\n"
      ],
      "text/markdown": [
       "1. 'a'\n",
       "2. 'b'\n",
       "3. 'c'\n",
       "4. 'd'\n",
       "5. 'e'\n",
       "\n",
       "\n"
      ],
      "text/plain": [
       "[1] \"a\" \"b\" \"c\" \"d\" \"e\""
      ]
     },
     "metadata": {},
     "output_type": "display_data"
    }
   ],
   "source": [
    "b = c(\"a\", \"b\", \"c\", \"d\", \"e\")\n",
    "b"
   ]
  },
  {
   "cell_type": "code",
   "execution_count": 109,
   "metadata": {},
   "outputs": [
    {
     "data": {
      "text/html": [
       "'b'"
      ],
      "text/latex": [
       "'b'"
      ],
      "text/markdown": [
       "'b'"
      ],
      "text/plain": [
       "[1] \"b\""
      ]
     },
     "metadata": {},
     "output_type": "display_data"
    },
    {
     "data": {
      "text/html": [
       "<ol class=list-inline>\n",
       "\t<li>'a'</li>\n",
       "\t<li>'b'</li>\n",
       "\t<li>'c'</li>\n",
       "\t<li>'e'</li>\n",
       "</ol>\n"
      ],
      "text/latex": [
       "\\begin{enumerate*}\n",
       "\\item 'a'\n",
       "\\item 'b'\n",
       "\\item 'c'\n",
       "\\item 'e'\n",
       "\\end{enumerate*}\n"
      ],
      "text/markdown": [
       "1. 'a'\n",
       "2. 'b'\n",
       "3. 'c'\n",
       "4. 'e'\n",
       "\n",
       "\n"
      ],
      "text/plain": [
       "[1] \"a\" \"b\" \"c\" \"e\""
      ]
     },
     "metadata": {},
     "output_type": "display_data"
    },
    {
     "data": {
      "text/html": [
       "<ol class=list-inline>\n",
       "\t<li>'b'</li>\n",
       "\t<li>'c'</li>\n",
       "</ol>\n"
      ],
      "text/latex": [
       "\\begin{enumerate*}\n",
       "\\item 'b'\n",
       "\\item 'c'\n",
       "\\end{enumerate*}\n"
      ],
      "text/markdown": [
       "1. 'b'\n",
       "2. 'c'\n",
       "\n",
       "\n"
      ],
      "text/plain": [
       "[1] \"b\" \"c\""
      ]
     },
     "metadata": {},
     "output_type": "display_data"
    },
    {
     "data": {
      "text/html": [
       "<ol class=list-inline>\n",
       "\t<li>'b'</li>\n",
       "\t<li>'c'</li>\n",
       "</ol>\n"
      ],
      "text/latex": [
       "\\begin{enumerate*}\n",
       "\\item 'b'\n",
       "\\item 'c'\n",
       "\\end{enumerate*}\n"
      ],
      "text/markdown": [
       "1. 'b'\n",
       "2. 'c'\n",
       "\n",
       "\n"
      ],
      "text/plain": [
       "[1] \"b\" \"c\""
      ]
     },
     "metadata": {},
     "output_type": "display_data"
    }
   ],
   "source": [
    "b[2]\n",
    "b[-4]\n",
    "b[c(2:3)]\n",
    "b[2:3]"
   ]
  },
  {
   "cell_type": "markdown",
   "metadata": {},
   "source": [
    "(2) 행렬/데이터 프레임 형태의 변수"
   ]
  },
  {
   "cell_type": "code",
   "execution_count": 110,
   "metadata": {},
   "outputs": [
    {
     "data": {
      "text/html": [
       "<table>\n",
       "<thead><tr><th scope=col>income</th><th scope=col>car</th><th scope=col>marriage</th></tr></thead>\n",
       "<tbody>\n",
       "\t<tr><td>100    </td><td>kia    </td><td>FALSE  </td></tr>\n",
       "\t<tr><td>200    </td><td>hyundai</td><td>FALSE  </td></tr>\n",
       "\t<tr><td>150    </td><td>kia    </td><td>FALSE  </td></tr>\n",
       "\t<tr><td>300    </td><td>toyota </td><td> TRUE  </td></tr>\n",
       "\t<tr><td>900    </td><td>lexus  </td><td> TRUE  </td></tr>\n",
       "</tbody>\n",
       "</table>\n"
      ],
      "text/latex": [
       "\\begin{tabular}{r|lll}\n",
       " income & car & marriage\\\\\n",
       "\\hline\n",
       "\t 100     & kia     & FALSE  \\\\\n",
       "\t 200     & hyundai & FALSE  \\\\\n",
       "\t 150     & kia     & FALSE  \\\\\n",
       "\t 300     & toyota  &  TRUE  \\\\\n",
       "\t 900     & lexus   &  TRUE  \\\\\n",
       "\\end{tabular}\n"
      ],
      "text/markdown": [
       "\n",
       "income | car | marriage | \n",
       "|---|---|---|---|---|\n",
       "| 100     | kia     | FALSE   | \n",
       "| 200     | hyundai | FALSE   | \n",
       "| 150     | kia     | FALSE   | \n",
       "| 300     | toyota  |  TRUE   | \n",
       "| 900     | lexus   |  TRUE   | \n",
       "\n",
       "\n"
      ],
      "text/plain": [
       "  income car     marriage\n",
       "1 100    kia     FALSE   \n",
       "2 200    hyundai FALSE   \n",
       "3 150    kia     FALSE   \n",
       "4 300    toyota   TRUE   \n",
       "5 900    lexus    TRUE   "
      ]
     },
     "metadata": {},
     "output_type": "display_data"
    }
   ],
   "source": [
    "income = c(100, 200, 150, 300, 900)\n",
    "car = c(\"kia\", \"hyundai\", \"kia\", \"toyota\", 'lexus')\n",
    "marriage = c(FALSE, FALSE, FALSE, TRUE, TRUE)\n",
    "mydat = data.frame(income, car, marriage)\n",
    "mydat"
   ]
  },
  {
   "cell_type": "code",
   "execution_count": 111,
   "metadata": {},
   "outputs": [
    {
     "data": {
      "text/html": [
       "kia\n",
       "<details>\n",
       "\t<summary style=display:list-item;cursor:pointer>\n",
       "\t\t<strong>Levels</strong>:\n",
       "\t</summary>\n",
       "\t<ol class=list-inline>\n",
       "\t\t<li>'hyundai'</li>\n",
       "\t\t<li>'kia'</li>\n",
       "\t\t<li>'lexus'</li>\n",
       "\t\t<li>'toyota'</li>\n",
       "\t</ol>\n",
       "</details>"
      ],
      "text/latex": [
       "kia\n",
       "\\emph{Levels}: \\begin{enumerate*}\n",
       "\\item 'hyundai'\n",
       "\\item 'kia'\n",
       "\\item 'lexus'\n",
       "\\item 'toyota'\n",
       "\\end{enumerate*}\n"
      ],
      "text/markdown": [
       "kia\n",
       "**Levels**: 1. 'hyundai'\n",
       "2. 'kia'\n",
       "3. 'lexus'\n",
       "4. 'toyota'\n",
       "\n",
       "\n"
      ],
      "text/plain": [
       "[1] kia\n",
       "Levels: hyundai kia lexus toyota"
      ]
     },
     "metadata": {},
     "output_type": "display_data"
    }
   ],
   "source": [
    "mydat[3,2] # DataFrame 의 3행 2열의 값을 불러온다"
   ]
  },
  {
   "cell_type": "code",
   "execution_count": 112,
   "metadata": {},
   "outputs": [
    {
     "data": {
      "text/html": [
       "<ol class=list-inline>\n",
       "\t<li>kia</li>\n",
       "\t<li>hyundai</li>\n",
       "\t<li>kia</li>\n",
       "\t<li>toyota</li>\n",
       "\t<li>lexus</li>\n",
       "</ol>\n",
       "\n",
       "<details>\n",
       "\t<summary style=display:list-item;cursor:pointer>\n",
       "\t\t<strong>Levels</strong>:\n",
       "\t</summary>\n",
       "\t<ol class=list-inline>\n",
       "\t\t<li>'hyundai'</li>\n",
       "\t\t<li>'kia'</li>\n",
       "\t\t<li>'lexus'</li>\n",
       "\t\t<li>'toyota'</li>\n",
       "\t</ol>\n",
       "</details>"
      ],
      "text/latex": [
       "\\begin{enumerate*}\n",
       "\\item kia\n",
       "\\item hyundai\n",
       "\\item kia\n",
       "\\item toyota\n",
       "\\item lexus\n",
       "\\end{enumerate*}\n",
       "\n",
       "\\emph{Levels}: \\begin{enumerate*}\n",
       "\\item 'hyundai'\n",
       "\\item 'kia'\n",
       "\\item 'lexus'\n",
       "\\item 'toyota'\n",
       "\\end{enumerate*}\n"
      ],
      "text/markdown": [
       "1. kia\n",
       "2. hyundai\n",
       "3. kia\n",
       "4. toyota\n",
       "5. lexus\n",
       "\n",
       "\n",
       "\n",
       "**Levels**: 1. 'hyundai'\n",
       "2. 'kia'\n",
       "3. 'lexus'\n",
       "4. 'toyota'\n",
       "\n",
       "\n"
      ],
      "text/plain": [
       "[1] kia     hyundai kia     toyota  lexus  \n",
       "Levels: hyundai kia lexus toyota"
      ]
     },
     "metadata": {},
     "output_type": "display_data"
    }
   ],
   "source": [
    "mydat[,2] # DataFrame의 2열의 값을 모두 불러온다"
   ]
  },
  {
   "cell_type": "code",
   "execution_count": 113,
   "metadata": {},
   "outputs": [
    {
     "data": {
      "text/html": [
       "<table>\n",
       "<thead><tr><th></th><th scope=col>income</th><th scope=col>car</th><th scope=col>marriage</th></tr></thead>\n",
       "<tbody>\n",
       "\t<tr><th scope=row>4</th><td>300   </td><td>toyota</td><td>TRUE  </td></tr>\n",
       "</tbody>\n",
       "</table>\n"
      ],
      "text/latex": [
       "\\begin{tabular}{r|lll}\n",
       "  & income & car & marriage\\\\\n",
       "\\hline\n",
       "\t4 & 300    & toyota & TRUE  \\\\\n",
       "\\end{tabular}\n"
      ],
      "text/markdown": [
       "\n",
       "| <!--/--> | income | car | marriage | \n",
       "|---|\n",
       "| 4 | 300    | toyota | TRUE   | \n",
       "\n",
       "\n"
      ],
      "text/plain": [
       "  income car    marriage\n",
       "4 300    toyota TRUE    "
      ]
     },
     "metadata": {},
     "output_type": "display_data"
    }
   ],
   "source": [
    "mydat[4,] # DataFrame의 4행의 값을 모두 불러온다"
   ]
  },
  {
   "cell_type": "markdown",
   "metadata": {},
   "source": [
    "5) 반복 구문과 조건문"
   ]
  },
  {
   "cell_type": "markdown",
   "metadata": {},
   "source": [
    "(1) for 반복 구문"
   ]
  },
  {
   "cell_type": "code",
   "execution_count": 123,
   "metadata": {},
   "outputs": [
    {
     "data": {
      "text/html": [
       "<ol class=list-inline>\n",
       "\t<li>1</li>\n",
       "\t<li>4</li>\n",
       "\t<li>9</li>\n",
       "\t<li>16</li>\n",
       "\t<li>25</li>\n",
       "\t<li>36</li>\n",
       "\t<li>49</li>\n",
       "\t<li>64</li>\n",
       "\t<li>81</li>\n",
       "</ol>\n"
      ],
      "text/latex": [
       "\\begin{enumerate*}\n",
       "\\item 1\n",
       "\\item 4\n",
       "\\item 9\n",
       "\\item 16\n",
       "\\item 25\n",
       "\\item 36\n",
       "\\item 49\n",
       "\\item 64\n",
       "\\item 81\n",
       "\\end{enumerate*}\n"
      ],
      "text/markdown": [
       "1. 1\n",
       "2. 4\n",
       "3. 9\n",
       "4. 16\n",
       "5. 25\n",
       "6. 36\n",
       "7. 49\n",
       "8. 64\n",
       "9. 81\n",
       "\n",
       "\n"
      ],
      "text/plain": [
       "[1]  1  4  9 16 25 36 49 64 81"
      ]
     },
     "metadata": {},
     "output_type": "display_data"
    }
   ],
   "source": [
    "a = c( )\n",
    "for (i in 1:9) {\n",
    "    a[i] = i * i\n",
    "    }\n",
    "a"
   ]
  },
  {
   "cell_type": "code",
   "execution_count": 127,
   "metadata": {},
   "outputs": [
    {
     "name": "stdout",
     "output_type": "stream",
     "text": [
      "1부터 100까지의 합= 5050 입니다 \n"
     ]
    }
   ],
   "source": [
    "isum = 0\n",
    "for (i in 1:100) {\n",
    "    isum = isum + i\n",
    "}\n",
    "cat(\"1부터 100까지의 합=\",  isum, \"입니다\", \"\\n\")"
   ]
  },
  {
   "cell_type": "markdown",
   "metadata": {},
   "source": [
    "(2) whlie 반복 구문"
   ]
  },
  {
   "cell_type": "code",
   "execution_count": 128,
   "metadata": {},
   "outputs": [
    {
     "name": "stdout",
     "output_type": "stream",
     "text": [
      "[1] 2\n",
      "[1] 3\n",
      "[1] 4\n",
      "[1] 5\n"
     ]
    }
   ],
   "source": [
    "x = 1\n",
    "while (x<5) {\n",
    "    x=x+1\n",
    "    print (x)\n",
    "}"
   ]
  },
  {
   "cell_type": "markdown",
   "metadata": {},
   "source": [
    "(3) if ~ else 조건문"
   ]
  },
  {
   "cell_type": "code",
   "execution_count": 138,
   "metadata": {},
   "outputs": [
    {
     "name": "stdout",
     "output_type": "stream",
     "text": [
      " [1] 18 80 67 20 98 25 40 76 42 72 83 54 48 95 23 35 49 69 88 58 57 31 45 99 70\n",
      "[26] 71 12 64 38 52 22 96 86 97 47 36 53 90 26 62\n"
     ]
    },
    {
     "data": {
      "text/html": [
       "<ol class=list-inline>\n",
       "\t<li>0</li>\n",
       "\t<li>1</li>\n",
       "\t<li>0</li>\n",
       "\t<li>0</li>\n",
       "\t<li>1</li>\n",
       "\t<li>0</li>\n",
       "\t<li>0</li>\n",
       "\t<li>1</li>\n",
       "\t<li>0</li>\n",
       "\t<li>1</li>\n",
       "\t<li>1</li>\n",
       "\t<li>0</li>\n",
       "\t<li>0</li>\n",
       "\t<li>1</li>\n",
       "\t<li>0</li>\n",
       "\t<li>0</li>\n",
       "\t<li>0</li>\n",
       "\t<li>0</li>\n",
       "\t<li>1</li>\n",
       "\t<li>0</li>\n",
       "\t<li>0</li>\n",
       "\t<li>0</li>\n",
       "\t<li>0</li>\n",
       "\t<li>1</li>\n",
       "\t<li>1</li>\n",
       "\t<li>1</li>\n",
       "\t<li>0</li>\n",
       "\t<li>0</li>\n",
       "\t<li>0</li>\n",
       "\t<li>0</li>\n",
       "\t<li>0</li>\n",
       "\t<li>1</li>\n",
       "\t<li>1</li>\n",
       "\t<li>1</li>\n",
       "\t<li>0</li>\n",
       "\t<li>0</li>\n",
       "\t<li>0</li>\n",
       "\t<li>1</li>\n",
       "\t<li>0</li>\n",
       "\t<li>0</li>\n",
       "</ol>\n"
      ],
      "text/latex": [
       "\\begin{enumerate*}\n",
       "\\item 0\n",
       "\\item 1\n",
       "\\item 0\n",
       "\\item 0\n",
       "\\item 1\n",
       "\\item 0\n",
       "\\item 0\n",
       "\\item 1\n",
       "\\item 0\n",
       "\\item 1\n",
       "\\item 1\n",
       "\\item 0\n",
       "\\item 0\n",
       "\\item 1\n",
       "\\item 0\n",
       "\\item 0\n",
       "\\item 0\n",
       "\\item 0\n",
       "\\item 1\n",
       "\\item 0\n",
       "\\item 0\n",
       "\\item 0\n",
       "\\item 0\n",
       "\\item 1\n",
       "\\item 1\n",
       "\\item 1\n",
       "\\item 0\n",
       "\\item 0\n",
       "\\item 0\n",
       "\\item 0\n",
       "\\item 0\n",
       "\\item 1\n",
       "\\item 1\n",
       "\\item 1\n",
       "\\item 0\n",
       "\\item 0\n",
       "\\item 0\n",
       "\\item 1\n",
       "\\item 0\n",
       "\\item 0\n",
       "\\end{enumerate*}\n"
      ],
      "text/markdown": [
       "1. 0\n",
       "2. 1\n",
       "3. 0\n",
       "4. 0\n",
       "5. 1\n",
       "6. 0\n",
       "7. 0\n",
       "8. 1\n",
       "9. 0\n",
       "10. 1\n",
       "11. 1\n",
       "12. 0\n",
       "13. 0\n",
       "14. 1\n",
       "15. 0\n",
       "16. 0\n",
       "17. 0\n",
       "18. 0\n",
       "19. 1\n",
       "20. 0\n",
       "21. 0\n",
       "22. 0\n",
       "23. 0\n",
       "24. 1\n",
       "25. 1\n",
       "26. 1\n",
       "27. 0\n",
       "28. 0\n",
       "29. 0\n",
       "30. 0\n",
       "31. 0\n",
       "32. 1\n",
       "33. 1\n",
       "34. 1\n",
       "35. 0\n",
       "36. 0\n",
       "37. 0\n",
       "38. 1\n",
       "39. 0\n",
       "40. 0\n",
       "\n",
       "\n"
      ],
      "text/plain": [
       " [1] 0 1 0 0 1 0 0 1 0 1 1 0 0 1 0 0 0 0 1 0 0 0 0 1 1 1 0 0 0 0 0 1 1 1 0 0 0 1\n",
       "[39] 0 0"
      ]
     },
     "metadata": {},
     "output_type": "display_data"
    },
    {
     "data": {
      "text/html": [
       "14"
      ],
      "text/latex": [
       "14"
      ],
      "text/markdown": [
       "14"
      ],
      "text/plain": [
       "[1] 14"
      ]
     },
     "metadata": {},
     "output_type": "display_data"
    }
   ],
   "source": [
    "StatScore <- c(sample(10:99, 40))\n",
    "print(StatScore)\n",
    "\n",
    "over70 = rep(0, 40)\n",
    "\n",
    "for (i in 1:40) {\n",
    "    if (StatScore[i] >= 70) over70[i] = 1\n",
    "    else over70[i] = 0\n",
    "}\n",
    "\n",
    "over70\n",
    "\n",
    "sum(over70)"
   ]
  },
  {
   "cell_type": "markdown",
   "metadata": {},
   "source": [
    "6) 사용자 정의 함수"
   ]
  },
  {
   "cell_type": "code",
   "execution_count": 140,
   "metadata": {},
   "outputs": [
    {
     "name": "stdout",
     "output_type": "stream",
     "text": [
      "[1] 5050\n",
      "[1] 1275\n"
     ]
    }
   ],
   "source": [
    "addto = function(a) {\n",
    "    isum = 0\n",
    "    for (i in 1:a) {\n",
    "        isum = isum + i\n",
    "        }\n",
    "print(isum)\n",
    "    }\n",
    "\n",
    "addto (100)\n",
    "addto(50)"
   ]
  },
  {
   "cell_type": "markdown",
   "metadata": {},
   "source": [
    "7) 기타 유용한 기능들"
   ]
  },
  {
   "cell_type": "markdown",
   "metadata": {},
   "source": [
    "(1) paste"
   ]
  },
  {
   "cell_type": "code",
   "execution_count": 144,
   "metadata": {},
   "outputs": [
    {
     "data": {
      "text/html": [
       "<ol class=list-inline>\n",
       "\t<li>'1 a'</li>\n",
       "\t<li>'2 b'</li>\n",
       "\t<li>'3 c'</li>\n",
       "\t<li>'4 a'</li>\n",
       "\t<li>'5 b'</li>\n",
       "\t<li>'6 c'</li>\n",
       "\t<li>'7 a'</li>\n",
       "\t<li>'8 b'</li>\n",
       "\t<li>'9 c'</li>\n",
       "\t<li>'10 a'</li>\n",
       "</ol>\n"
      ],
      "text/latex": [
       "\\begin{enumerate*}\n",
       "\\item '1 a'\n",
       "\\item '2 b'\n",
       "\\item '3 c'\n",
       "\\item '4 a'\n",
       "\\item '5 b'\n",
       "\\item '6 c'\n",
       "\\item '7 a'\n",
       "\\item '8 b'\n",
       "\\item '9 c'\n",
       "\\item '10 a'\n",
       "\\end{enumerate*}\n"
      ],
      "text/markdown": [
       "1. '1 a'\n",
       "2. '2 b'\n",
       "3. '3 c'\n",
       "4. '4 a'\n",
       "5. '5 b'\n",
       "6. '6 c'\n",
       "7. '7 a'\n",
       "8. '8 b'\n",
       "9. '9 c'\n",
       "10. '10 a'\n",
       "\n",
       "\n"
      ],
      "text/plain": [
       " [1] \"1 a\"  \"2 b\"  \"3 c\"  \"4 a\"  \"5 b\"  \"6 c\"  \"7 a\"  \"8 b\"  \"9 c\"  \"10 a\""
      ]
     },
     "metadata": {},
     "output_type": "display_data"
    },
    {
     "data": {
      "text/html": [
       "<ol class=list-inline>\n",
       "\t<li>'1 to the a'</li>\n",
       "\t<li>'2 to the b'</li>\n",
       "\t<li>'3 to the c'</li>\n",
       "\t<li>'4 to the a'</li>\n",
       "\t<li>'5 to the b'</li>\n",
       "\t<li>'6 to the c'</li>\n",
       "\t<li>'7 to the a'</li>\n",
       "\t<li>'8 to the b'</li>\n",
       "\t<li>'9 to the c'</li>\n",
       "\t<li>'10 to the a'</li>\n",
       "</ol>\n"
      ],
      "text/latex": [
       "\\begin{enumerate*}\n",
       "\\item '1 to the a'\n",
       "\\item '2 to the b'\n",
       "\\item '3 to the c'\n",
       "\\item '4 to the a'\n",
       "\\item '5 to the b'\n",
       "\\item '6 to the c'\n",
       "\\item '7 to the a'\n",
       "\\item '8 to the b'\n",
       "\\item '9 to the c'\n",
       "\\item '10 to the a'\n",
       "\\end{enumerate*}\n"
      ],
      "text/markdown": [
       "1. '1 to the a'\n",
       "2. '2 to the b'\n",
       "3. '3 to the c'\n",
       "4. '4 to the a'\n",
       "5. '5 to the b'\n",
       "6. '6 to the c'\n",
       "7. '7 to the a'\n",
       "8. '8 to the b'\n",
       "9. '9 to the c'\n",
       "10. '10 to the a'\n",
       "\n",
       "\n"
      ],
      "text/plain": [
       " [1] \"1 to the a\"  \"2 to the b\"  \"3 to the c\"  \"4 to the a\"  \"5 to the b\" \n",
       " [6] \"6 to the c\"  \"7 to the a\"  \"8 to the b\"  \"9 to the c\"  \"10 to the a\""
      ]
     },
     "metadata": {},
     "output_type": "display_data"
    }
   ],
   "source": [
    "number = 1:10\n",
    "alphabet = c(\"a\", \"b\", \"c\")\n",
    "paste(number, alphabet)\n",
    "paste(number, alphabet, sep=\" to the \")"
   ]
  },
  {
   "cell_type": "markdown",
   "metadata": {},
   "source": [
    "(2) substr"
   ]
  },
  {
   "cell_type": "code",
   "execution_count": 145,
   "metadata": {},
   "outputs": [
    {
     "data": {
      "text/html": [
       "'BigD'"
      ],
      "text/latex": [
       "'BigD'"
      ],
      "text/markdown": [
       "'BigD'"
      ],
      "text/plain": [
       "[1] \"BigD\""
      ]
     },
     "metadata": {},
     "output_type": "display_data"
    }
   ],
   "source": [
    "substr(\"BigDataAnalysis\", 1, 4)"
   ]
  },
  {
   "cell_type": "code",
   "execution_count": 146,
   "metadata": {},
   "outputs": [
    {
     "data": {
      "text/html": [
       "<ol class=list-inline>\n",
       "\t<li>'Kor'</li>\n",
       "\t<li>'Jap'</li>\n",
       "\t<li>'Chi'</li>\n",
       "\t<li>'Sin'</li>\n",
       "\t<li>'Rus'</li>\n",
       "</ol>\n"
      ],
      "text/latex": [
       "\\begin{enumerate*}\n",
       "\\item 'Kor'\n",
       "\\item 'Jap'\n",
       "\\item 'Chi'\n",
       "\\item 'Sin'\n",
       "\\item 'Rus'\n",
       "\\end{enumerate*}\n"
      ],
      "text/markdown": [
       "1. 'Kor'\n",
       "2. 'Jap'\n",
       "3. 'Chi'\n",
       "4. 'Sin'\n",
       "5. 'Rus'\n",
       "\n",
       "\n"
      ],
      "text/plain": [
       "[1] \"Kor\" \"Jap\" \"Chi\" \"Sin\" \"Rus\""
      ]
     },
     "metadata": {},
     "output_type": "display_data"
    }
   ],
   "source": [
    "country = c(\"Korea\", \"Japan\", \"China\", \"Singapore\", \"Russia\")\n",
    "substr(country, 1, 3)"
   ]
  },
  {
   "cell_type": "markdown",
   "metadata": {},
   "source": [
    "(3) 자료형 데이터 구조 변환"
   ]
  },
  {
   "cell_type": "markdown",
   "metadata": {},
   "source": [
    "-  as.data.frame(x) : 데이터 프레임 형식으로 변환\n",
    "- as.list(x) : 리스트 형식으로 변환\n",
    "- as.matrix(x) : 행렬 형식으로 변환\n",
    "- as.vector(x) : 벡터 형식으로 변환\n",
    "- as.factor(x) : 팩터(factor) 형식으로 변환"
   ]
  },
  {
   "cell_type": "code",
   "execution_count": 147,
   "metadata": {},
   "outputs": [
    {
     "data": {
      "text/html": [
       "3"
      ],
      "text/latex": [
       "3"
      ],
      "text/markdown": [
       "3"
      ],
      "text/plain": [
       "[1] 3"
      ]
     },
     "metadata": {},
     "output_type": "display_data"
    },
    {
     "name": "stderr",
     "output_type": "stream",
     "text": [
      "Warning message in eval(expr, envir, enclos):\n",
      "“강제형변환에 의해 생성된 NA 입니다”"
     ]
    },
    {
     "data": {
      "text/html": [
       "&lt;NA&gt;"
      ],
      "text/latex": [
       "<NA>"
      ],
      "text/markdown": [
       "&lt;NA&gt;"
      ],
      "text/plain": [
       "[1] NA"
      ]
     },
     "metadata": {},
     "output_type": "display_data"
    }
   ],
   "source": [
    "as.integer(3.14)\n",
    "as.numeric(\"foo\")"
   ]
  },
  {
   "cell_type": "code",
   "execution_count": 148,
   "metadata": {},
   "outputs": [
    {
     "data": {
      "text/html": [
       "'101'"
      ],
      "text/latex": [
       "'101'"
      ],
      "text/markdown": [
       "'101'"
      ],
      "text/plain": [
       "[1] \"101\""
      ]
     },
     "metadata": {},
     "output_type": "display_data"
    },
    {
     "data": {
      "text/html": [
       "0"
      ],
      "text/latex": [
       "0"
      ],
      "text/markdown": [
       "0"
      ],
      "text/plain": [
       "[1] 0"
      ]
     },
     "metadata": {},
     "output_type": "display_data"
    },
    {
     "data": {
      "text/html": [
       "TRUE"
      ],
      "text/latex": [
       "TRUE"
      ],
      "text/markdown": [
       "TRUE"
      ],
      "text/plain": [
       "[1] TRUE"
      ]
     },
     "metadata": {},
     "output_type": "display_data"
    }
   ],
   "source": [
    "as.character(101)\n",
    "as.numeric(FALSE)\n",
    "as.logical(0.45)"
   ]
  },
  {
   "cell_type": "code",
   "execution_count": 149,
   "metadata": {},
   "outputs": [
    {
     "data": {
      "text/html": [
       "<table>\n",
       "<thead><tr><th scope=col>income</th><th scope=col>car</th><th scope=col>marriage</th></tr></thead>\n",
       "<tbody>\n",
       "\t<tr><td>100    </td><td>kia    </td><td>FALSE  </td></tr>\n",
       "\t<tr><td>200    </td><td>hyundai</td><td>FALSE  </td></tr>\n",
       "\t<tr><td>150    </td><td>kia    </td><td>FALSE  </td></tr>\n",
       "\t<tr><td>300    </td><td>toyota </td><td> TRUE  </td></tr>\n",
       "\t<tr><td>900    </td><td>lexus  </td><td> TRUE  </td></tr>\n",
       "</tbody>\n",
       "</table>\n"
      ],
      "text/latex": [
       "\\begin{tabular}{r|lll}\n",
       " income & car & marriage\\\\\n",
       "\\hline\n",
       "\t 100     & kia     & FALSE  \\\\\n",
       "\t 200     & hyundai & FALSE  \\\\\n",
       "\t 150     & kia     & FALSE  \\\\\n",
       "\t 300     & toyota  &  TRUE  \\\\\n",
       "\t 900     & lexus   &  TRUE  \\\\\n",
       "\\end{tabular}\n"
      ],
      "text/markdown": [
       "\n",
       "income | car | marriage | \n",
       "|---|---|---|---|---|\n",
       "| 100     | kia     | FALSE   | \n",
       "| 200     | hyundai | FALSE   | \n",
       "| 150     | kia     | FALSE   | \n",
       "| 300     | toyota  |  TRUE   | \n",
       "| 900     | lexus   |  TRUE   | \n",
       "\n",
       "\n"
      ],
      "text/plain": [
       "  income car     marriage\n",
       "1 100    kia     FALSE   \n",
       "2 200    hyundai FALSE   \n",
       "3 150    kia     FALSE   \n",
       "4 300    toyota   TRUE   \n",
       "5 900    lexus    TRUE   "
      ]
     },
     "metadata": {},
     "output_type": "display_data"
    }
   ],
   "source": [
    "mydat"
   ]
  },
  {
   "cell_type": "code",
   "execution_count": 150,
   "metadata": {},
   "outputs": [
    {
     "data": {
      "text/html": [
       "<table>\n",
       "<thead><tr><th scope=col>income</th><th scope=col>car</th><th scope=col>marriage</th></tr></thead>\n",
       "<tbody>\n",
       "\t<tr><td>100    </td><td>kia    </td><td>FALSE  </td></tr>\n",
       "\t<tr><td>200    </td><td>hyundai</td><td>FALSE  </td></tr>\n",
       "\t<tr><td>150    </td><td>kia    </td><td>FALSE  </td></tr>\n",
       "\t<tr><td>300    </td><td>toyota </td><td> TRUE  </td></tr>\n",
       "\t<tr><td>900    </td><td>lexus  </td><td> TRUE  </td></tr>\n",
       "</tbody>\n",
       "</table>\n"
      ],
      "text/latex": [
       "\\begin{tabular}{lll}\n",
       " income & car & marriage\\\\\n",
       "\\hline\n",
       "\t 100     & kia     & FALSE  \\\\\n",
       "\t 200     & hyundai & FALSE  \\\\\n",
       "\t 150     & kia     & FALSE  \\\\\n",
       "\t 300     & toyota  &  TRUE  \\\\\n",
       "\t 900     & lexus   &  TRUE  \\\\\n",
       "\\end{tabular}\n"
      ],
      "text/markdown": [
       "\n",
       "income | car | marriage | \n",
       "|---|---|---|---|---|\n",
       "| 100     | kia     | FALSE   | \n",
       "| 200     | hyundai | FALSE   | \n",
       "| 150     | kia     | FALSE   | \n",
       "| 300     | toyota  |  TRUE   | \n",
       "| 900     | lexus   |  TRUE   | \n",
       "\n",
       "\n"
      ],
      "text/plain": [
       "     income car     marriage\n",
       "[1,] 100    kia     FALSE   \n",
       "[2,] 200    hyundai FALSE   \n",
       "[3,] 150    kia     FALSE   \n",
       "[4,] 300    toyota   TRUE   \n",
       "[5,] 900    lexus    TRUE   "
      ]
     },
     "metadata": {},
     "output_type": "display_data"
    }
   ],
   "source": [
    "as.matrix(mydat)"
   ]
  },
  {
   "cell_type": "code",
   "execution_count": 151,
   "metadata": {},
   "outputs": [
    {
     "data": {
      "text/html": [
       "<table>\n",
       "<thead><tr><th scope=col>income</th><th scope=col>car</th><th scope=col>marriage</th></tr></thead>\n",
       "<tbody>\n",
       "\t<tr><td>TRUE </td><td>TRUE </td><td> TRUE</td></tr>\n",
       "\t<tr><td>TRUE </td><td>TRUE </td><td> TRUE</td></tr>\n",
       "\t<tr><td>TRUE </td><td>TRUE </td><td> TRUE</td></tr>\n",
       "\t<tr><td>TRUE </td><td>TRUE </td><td>FALSE</td></tr>\n",
       "\t<tr><td>TRUE </td><td>TRUE </td><td>FALSE</td></tr>\n",
       "</tbody>\n",
       "</table>\n"
      ],
      "text/latex": [
       "\\begin{tabular}{lll}\n",
       " income & car & marriage\\\\\n",
       "\\hline\n",
       "\t TRUE  & TRUE  &  TRUE\\\\\n",
       "\t TRUE  & TRUE  &  TRUE\\\\\n",
       "\t TRUE  & TRUE  &  TRUE\\\\\n",
       "\t TRUE  & TRUE  & FALSE\\\\\n",
       "\t TRUE  & TRUE  & FALSE\\\\\n",
       "\\end{tabular}\n"
      ],
      "text/markdown": [
       "\n",
       "income | car | marriage | \n",
       "|---|---|---|---|---|\n",
       "| TRUE  | TRUE  |  TRUE | \n",
       "| TRUE  | TRUE  |  TRUE | \n",
       "| TRUE  | TRUE  |  TRUE | \n",
       "| TRUE  | TRUE  | FALSE | \n",
       "| TRUE  | TRUE  | FALSE | \n",
       "\n",
       "\n"
      ],
      "text/plain": [
       "     income car  marriage\n",
       "[1,] TRUE   TRUE  TRUE   \n",
       "[2,] TRUE   TRUE  TRUE   \n",
       "[3,] TRUE   TRUE  TRUE   \n",
       "[4,] TRUE   TRUE FALSE   \n",
       "[5,] TRUE   TRUE FALSE   "
      ]
     },
     "metadata": {},
     "output_type": "display_data"
    }
   ],
   "source": [
    "mydat == as.matrix(mydat)"
   ]
  },
  {
   "cell_type": "markdown",
   "metadata": {},
   "source": [
    "(4) 문자열을 날짜로 변환"
   ]
  },
  {
   "cell_type": "markdown",
   "metadata": {},
   "source": [
    "- Sys.Date() : 현재 날짜를 변환\n",
    "- as.Date() : 날짜 객체로 변환"
   ]
  },
  {
   "cell_type": "code",
   "execution_count": 156,
   "metadata": {},
   "outputs": [
    {
     "data": {
      "text/html": [
       "<time datetime=\"2018-01-13\">2018-01-13</time>"
      ],
      "text/latex": [
       "2018-01-13"
      ],
      "text/markdown": [
       "2018-01-13"
      ],
      "text/plain": [
       "[1] \"2018-01-13\""
      ]
     },
     "metadata": {},
     "output_type": "display_data"
    }
   ],
   "source": [
    "as.Date(\"2018-01-13\")"
   ]
  },
  {
   "cell_type": "code",
   "execution_count": 157,
   "metadata": {},
   "outputs": [
    {
     "ename": "ERROR",
     "evalue": "Error in charToDate(x): character string is not in a standard unambiguous format\n",
     "output_type": "error",
     "traceback": [
      "Error in charToDate(x): character string is not in a standard unambiguous format\nTraceback:\n",
      "1. as.Date(\"01/13/2018\")",
      "2. as.Date.character(\"01/13/2018\")",
      "3. charToDate(x)",
      "4. stop(\"character string is not in a standard unambiguous format\")"
     ]
    }
   ],
   "source": [
    "as.Date(\"01/13/2018\")"
   ]
  },
  {
   "cell_type": "code",
   "execution_count": 158,
   "metadata": {},
   "outputs": [
    {
     "data": {
      "text/html": [
       "<time datetime=\"2018-01-13\">2018-01-13</time>"
      ],
      "text/latex": [
       "2018-01-13"
      ],
      "text/markdown": [
       "2018-01-13"
      ],
      "text/plain": [
       "[1] \"2018-01-13\""
      ]
     },
     "metadata": {},
     "output_type": "display_data"
    }
   ],
   "source": [
    "as.Date(\"01/13/2018\", format = \"%m/%d/%Y\")"
   ]
  },
  {
   "cell_type": "markdown",
   "metadata": {},
   "source": [
    "(5) 날짜를 문자열로 변환"
   ]
  },
  {
   "cell_type": "markdown",
   "metadata": {},
   "source": [
    "- format(데이터, 포멧)\n",
    "- as.character()"
   ]
  },
  {
   "cell_type": "code",
   "execution_count": 161,
   "metadata": {},
   "outputs": [
    {
     "data": {
      "text/html": [
       "<time datetime=\"2018-08-13\">2018-08-13</time>"
      ],
      "text/latex": [
       "2018-08-13"
      ],
      "text/markdown": [
       "2018-08-13"
      ],
      "text/plain": [
       "[1] \"2018-08-13\""
      ]
     },
     "metadata": {},
     "output_type": "display_data"
    },
    {
     "data": {
      "text/html": [
       "'2018-10-04'"
      ],
      "text/latex": [
       "'2018-10-04'"
      ],
      "text/markdown": [
       "'2018-10-04'"
      ],
      "text/plain": [
       "[1] \"2018-10-04\""
      ]
     },
     "metadata": {},
     "output_type": "display_data"
    },
    {
     "data": {
      "text/html": [
       "'2018-10-04'"
      ],
      "text/latex": [
       "'2018-10-04'"
      ],
      "text/markdown": [
       "'2018-10-04'"
      ],
      "text/plain": [
       "[1] \"2018-10-04\""
      ]
     },
     "metadata": {},
     "output_type": "display_data"
    },
    {
     "data": {
      "text/html": [
       "'10/04/2018'"
      ],
      "text/latex": [
       "'10/04/2018'"
      ],
      "text/markdown": [
       "'10/04/2018'"
      ],
      "text/plain": [
       "[1] \"10/04/2018\""
      ]
     },
     "metadata": {},
     "output_type": "display_data"
    }
   ],
   "source": [
    "as.Date(\"08/13/2018\", format=\"%m/%d/%Y\")\n",
    "format(Sys.Date())\n",
    "as.character(Sys.Date())\n",
    "format(Sys.Date(), format=\"%m/%d/%Y\")"
   ]
  },
  {
   "cell_type": "code",
   "execution_count": 162,
   "metadata": {},
   "outputs": [
    {
     "data": {
      "text/html": [
       "'목'"
      ],
      "text/latex": [
       "'목'"
      ],
      "text/markdown": [
       "'목'"
      ],
      "text/plain": [
       "[1] \"목\""
      ]
     },
     "metadata": {},
     "output_type": "display_data"
    },
    {
     "data": {
      "text/html": [
       "'10'"
      ],
      "text/latex": [
       "'10'"
      ],
      "text/markdown": [
       "'10'"
      ],
      "text/plain": [
       "[1] \"10\""
      ]
     },
     "metadata": {},
     "output_type": "display_data"
    },
    {
     "data": {
      "text/html": [
       "'10'"
      ],
      "text/latex": [
       "'10'"
      ],
      "text/markdown": [
       "'10'"
      ],
      "text/plain": [
       "[1] \"10\""
      ]
     },
     "metadata": {},
     "output_type": "display_data"
    },
    {
     "data": {
      "text/html": [
       "'04'"
      ],
      "text/latex": [
       "'04'"
      ],
      "text/markdown": [
       "'04'"
      ],
      "text/plain": [
       "[1] \"04\""
      ]
     },
     "metadata": {},
     "output_type": "display_data"
    },
    {
     "data": {
      "text/html": [
       "'18'"
      ],
      "text/latex": [
       "'18'"
      ],
      "text/markdown": [
       "'18'"
      ],
      "text/plain": [
       "[1] \"18\""
      ]
     },
     "metadata": {},
     "output_type": "display_data"
    },
    {
     "data": {
      "text/html": [
       "'2018'"
      ],
      "text/latex": [
       "'2018'"
      ],
      "text/markdown": [
       "'2018'"
      ],
      "text/plain": [
       "[1] \"2018\""
      ]
     },
     "metadata": {},
     "output_type": "display_data"
    }
   ],
   "source": [
    "format(Sys.Date(), '%a') # '%a'는 요일을 출력\n",
    "format(Sys.Date(), '%b') # '%b'는 월을 출력\n",
    "format(Sys.Date(), '%m') # '%m'는 두자리 숫자로 월을 출력\n",
    "format(Sys.Date(), '%d') # '%d'는 두자리 숫자로 일을 출력\n",
    "format(Sys.Date(), '%y') # '%y'는 두 자리 연도를 출력\n",
    "format(Sys.Date(), '%Y') # '%Y'는 네 자리 연도를 출력"
   ]
  },
  {
   "cell_type": "markdown",
   "metadata": {},
   "source": [
    "##### 마. R 그래픽 기능"
   ]
  },
  {
   "cell_type": "markdown",
   "metadata": {},
   "source": [
    "1) 산점도 그래프"
   ]
  },
  {
   "cell_type": "code",
   "execution_count": 168,
   "metadata": {},
   "outputs": [
    {
     "data": {
      "image/png": "[encoded data removed]",
      "text/plain": [
       "plot without title"
      ]
     },
     "metadata": {},
     "output_type": "display_data"
    }
   ],
   "source": [
    "height = c(sample(159:190, 15))\n",
    "weight = c(sample(55:95, 15))\n",
    "plot(height, weight)"
   ]
  },
  {
   "cell_type": "markdown",
   "metadata": {},
   "source": [
    "2) 산점도 행렬"
   ]
  },
  {
   "cell_type": "code",
   "execution_count": 170,
   "metadata": {},
   "outputs": [
    {
     "data": {
      "image/png": "[encoded data removed]",
      "text/plain": [
       "plot without title"
      ]
     },
     "metadata": {},
     "output_type": "display_data"
    }
   ],
   "source": [
    "pairs(iris[1:4], main = \"Anderson's Iris Data -- 3 species\", \n",
    "     pch = 21, bg = c(\"red\", \"green3\", \"blue\")[unclass(iris$Species)])\n"
   ]
  },
  {
   "cell_type": "markdown",
   "metadata": {},
   "source": [
    "3) 히스토그램과 상자 그림"
   ]
  },
  {
   "cell_type": "code",
   "execution_count": 171,
   "metadata": {},
   "outputs": [
    {
     "data": {
      "image/png": "[encoded data removed]",
      "text/plain": [
       "Plot with title “Histogram of StatScore”"
      ]
     },
     "metadata": {},
     "output_type": "display_data"
    },
    {
     "data": {
      "image/png": "[encoded data removed]",
      "text/plain": [
       "plot without title"
      ]
     },
     "metadata": {},
     "output_type": "display_data"
    }
   ],
   "source": [
    "StatScore = c(sample(10:99, 50))\n",
    "hist(StatScore, prob=T)\n",
    "boxplot(StatScore)"
   ]
  }
 ],
 "metadata": {
  "kernelspec": {
   "display_name": "R",
   "language": "R",
   "name": "ir"
  },
  "language_info": {
   "codemirror_mode": "r",
   "file_extension": ".r",
   "mimetype": "text/x-r-source",
   "name": "R",
   "pygments_lexer": "r",
   "version": "3.5.1"
  }
 },
 "nbformat": 4,
 "nbformat_minor": 2
}
